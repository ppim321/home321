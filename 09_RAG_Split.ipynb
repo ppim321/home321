{
 "cells": [
  {
   "cell_type": "markdown",
   "id": "254f3232-d997-46b1-a5f8-b29265dcf42f",
   "metadata": {},
   "source": [
    "# Split (분할)\n",
    "![rag_split](figures/rag_split.png)\n",
    "\n",
    "- Load 한 문서를 지정한 기준의 덩어리(chunk)로 나눈다.\n",
    "- LLM에 전체 내용을 다보는 것은 비효율 적이다. 그래서 문서를 적당한 size로 나눈 뒤 질문과 연관있는 chunk만 전송하도록 한다.\n",
    "  - 로딩한 문서에서 질문과 관련되어 참조할 내용들을 찾아서 LLM 모델에 전송하는 것이 목적이다. 그런데 내용이 너무 크면 질문과 관련없는 내용들도 같이 전송되게 된다. 또한 OpenAI와 같은 폐쇄형 LLM에 요청할 경우 비용이 증가의 원인이 된다. \n",
    "\n",
    "## 주요 Spliter\n",
    "- https://api.python.langchain.com/en/latest/text_splitters_api_reference.html"
   ]
  },
  {
   "cell_type": "markdown",
   "id": "d73cb601",
   "metadata": {},
   "source": [
    "### CharacterTextSplitter\n",
    "가장  기본적은 Text spliter\n",
    "- 한 개의 구분자를 기준으로 분리한다.\n",
    "- chunk size: 분리된 chunk의 최대 글자수를 지정한다.\n",
    "- overlap 기능이 있어 이전 chunk의 뒷부분이 시작 부분에 겹쳐 나오도록해서 context가 애매하게 끝나지 않게 한다.  \n",
    "- 주요 파라미터\n",
    "    - chunk_size: chunk 최대 길이를 지정.\n",
    "    - chunk_overlap: chunk 간의 겹치는 문자 수를 설정\n",
    "    - seperator: 구분 문자열을 지정. 기본값: \"\\n\\n\"\n",
    "- 구분자를 기준으로 문서를 나눈다. (나뉜 것을 chunk라고 함) 나뉜 문서의 글자수가 chunk_size 보다 적으면 다음 나뉜 문서와 합친다. (단, 합친 글자수가 chunk_size이하 여야함.)\n",
    "- 구분자로 나뉜 문서의 글자수가 chunk_size 보다 큰 경우는 chunk_size 는 무시된다."
   ]
  },
  {
   "cell_type": "markdown",
   "id": "420dff58",
   "metadata": {},
   "source": [
    "### RecursiveCharacterTextSplitter\n",
    "- RecursiveCharacterTextSplitter는 긴 텍스트를 가장 효율적으로 분할한다.\n",
    "- 여러 구분자를 순차적으로 적용하여 각 chunk가 지정된 최대 길이를 초과하지 않도록 분할한다.\n",
    "- 분할 기준 문자\n",
    "    1. 두 개의 줄바꿈 문자 (\"\\n\\n\")\n",
    "    2. 한 개의 줄바꿈 문자 (\"\\n\")\n",
    "    3. 공백 문자 (\" \")\n",
    "    4. 빈 문자열 (\"\")\n",
    "- 방식\n",
    "    1. '\\n\\n' (엔터두개) 를 기준으로 분할 한다.\n",
    "    2. 분할 된 조각(chunk)이 지정한  chunk 크기보다 클 경우 다음 분할 구분 문자인 '\\n' 으로 다시 분할 한다.\n",
    "    3. 그래도 chunk size를 초과하면 공백문자로 분할하고 그래도 크면 다음 기준 문자인 빈문자로 분할 해 지정한 chunk size를 넘지 않도록 한다.       \n",
    "- 주요 파라미터\n",
    "    - chunk_size: chunk 최대 길이를 지정.\n",
    "    - chunk_overlap: chunk 간의 겹치는 문자 수를 설정 이를 통해 문맥이 중간에 끊기지 않도록 한다.\n",
    "    - separator**s**: 기본 분할 구분 문자 이외의 것들을 추가적으로 지정할 수있다."
   ]
  },
  {
   "cell_type": "code",
   "execution_count": 1,
   "id": "71f90f4e-179a-402a-bfff-9b4647048dc3",
   "metadata": {},
   "outputs": [],
   "source": [
    "from langchain_community.document_loaders import TextLoader, PyMuPDFLoader\n",
    "from langchain_text_splitters import CharacterTextSplitter, RecursiveCharacterTextSplitter"
   ]
  },
  {
   "cell_type": "code",
   "execution_count": 2,
   "id": "28539e48-8ee5-434f-9124-fc6a9363f008",
   "metadata": {},
   "outputs": [
    {
     "name": "stdout",
     "output_type": "stream",
     "text": [
      "<class 'list'> 1 <class 'langchain_core.documents.base.Document'>\n",
      "올림픽\n",
      "올림픽(영어: Olympic Games, 프랑스어: Jeux olympiques)은 전 세계 각 대륙 각국에서 모인 수천 명의 선수가 참가해 여름과 겨울에 스포츠 경기를 하는 국제적인 대회이다. 전 세계에서 가장 큰 지구촌 최대의 스포츠 축제인 올림픽은 세계에서 가장 인지도있는 국제 행사이다. 올림픽은 2년마다 하계 올림픽과 동계 올림픽이 번갈아 열\n",
      "{'source': 'data/olympic.txt'}\n"
     ]
    }
   ],
   "source": [
    "path = \"data/olympic.txt\"\n",
    "loader = TextLoader(path, encoding=\"utf-8\")\n",
    "docs = loader.load()\n",
    "print(type(docs), len(docs), type(docs[0]))\n",
    "print(docs[0].page_content[:200])\n",
    "print(docs[0].metadata)"
   ]
  },
  {
   "cell_type": "code",
   "execution_count": 3,
   "id": "35c10cc0-3865-433b-b078-dd5a795671fe",
   "metadata": {},
   "outputs": [
    {
     "name": "stderr",
     "output_type": "stream",
     "text": [
      "Created a chunk of size 1726, which is longer than the specified 200\n",
      "Created a chunk of size 1556, which is longer than the specified 200\n",
      "Created a chunk of size 1391, which is longer than the specified 200\n",
      "Created a chunk of size 990, which is longer than the specified 200\n",
      "Created a chunk of size 413, which is longer than the specified 200\n",
      "Created a chunk of size 530, which is longer than the specified 200\n",
      "Created a chunk of size 590, which is longer than the specified 200\n",
      "Created a chunk of size 793, which is longer than the specified 200\n",
      "Created a chunk of size 1159, which is longer than the specified 200\n",
      "Created a chunk of size 428, which is longer than the specified 200\n",
      "Created a chunk of size 362, which is longer than the specified 200\n",
      "Created a chunk of size 1376, which is longer than the specified 200\n",
      "Created a chunk of size 674, which is longer than the specified 200\n",
      "Created a chunk of size 1401, which is longer than the specified 200\n",
      "Created a chunk of size 1105, which is longer than the specified 200\n",
      "Created a chunk of size 2045, which is longer than the specified 200\n",
      "Created a chunk of size 1776, which is longer than the specified 200\n"
     ]
    },
    {
     "name": "stdout",
     "output_type": "stream",
     "text": [
      "1 18\n",
      "올림픽\n",
      "올림픽(영어: Olympic Games, 프랑스어: Jeux olympiques)은 전 세계 각 대륙 각국에서 모인 수천 명의 선수가 참가해 여름과 겨울에 스포츠 경기를 하는 국제적인 대회이다. 전 세계에서 가장 큰 지구촌 최대의 스포츠 축제인 올림픽은 세계에서 가장 인지도있는 국제 행사이다. 올림픽은 2년마다 하계 올림픽과 동계 올림픽이 번갈아 열리며, 국제 올림픽 위원회(IOC)가 감독하고 있다. 또한 오늘날의 올림픽은 기원전 8세기부터 서기 5세기에 이르기까지 고대 그리스 올림피아에서 열렸던 올림피아 제전에서 비롯되었다. 그리고 19세기 말에 피에르 드 쿠베르탱 남작이 고대 올림피아 제전에서 영감을 얻어, 근대 올림픽을 부활시켰다. 이를 위해 쿠베르탱 남작은 1894년에 IOC를 창설했으며, 2년 뒤인 1896년에 그리스 아테네에서 제 1회 올림픽이 열렸다. 이때부터 IOC는 올림픽 운동의 감독 기구가 되었으며, 조직과 활동은 올림픽 헌장을 따른다. 오늘날 전 세계 대부분의 국가에서 올림픽 메달은 매우 큰 영예이며, 특히 올림픽 금메달리스트는 국가 영웅급의 대우를 받으며 스포츠 스타가 된다. 국가별로 올림픽 메달리스트들에게 지급하는 포상금도 크다. 대부분의 인기있는 종목들이나 일상에서 쉽게 접하고 즐길 수 있는 생활스포츠 종목들이 올림픽이라는 한 대회에서 동시에 열리고, 전 세계 대부분의 국가 출신의 선수들이 참여하는 만큼 전 세계 스포츠 팬들이 가장 많이 시청하는 이벤트이다. 2008 베이징 올림픽의 모든 종목 누적 시청자 수만 47억 명에 달하며, 이는 인류 역사상 가장 많은 수의 인구가 시청한 이벤트였다.\n",
      "또한 20세기에 올림픽 운동이 발전함에 따라, IOC는 변화하는 세계의 사회 환경에 적응해야 했다. 이러한 변화의 예로는 얼음과 눈을 이용한 경기 종목을 다루는 동계 올림픽, 장애인이 참여하는 패럴림픽, 스페셜 올림픽, 데플림픽, 10대 선수들이 참여하는 유스 올림픽 등을 들 수 있다. 그 뿐만 아니라 IOC는 20세기의 변화하는 경제, 정치, 기술 환경에도 적응해야 했다. 그리하여 올림픽은 피에르 드 쿠베르탱이 기대했던 순수한 아마추어 정신에서 벗어나서, 프로 선수도 참가할 수 있게 되었다. 올림픽은 점차 대중 매체의 중요성이 커짐에 따라 올림픽의 상업화와 기업 후원을 놓고도 논란이 생겨났다. 또한 올림픽을 치르며 발생한 보이콧, 도핑, 심판 매수, 테러와 같은 수많은 일들은 올림픽이 더욱 굳건히 성장할 수 있는 원동력이 되었다.\n",
      "올림픽은 국제경기연맹(IF), 국가 올림픽 위원회(NOC), 각 올림픽의 위원회(예-벤쿠버동계올림픽조직위원회)로 구성된다. 의사 결정 기구인 IOC는 올림픽 개최 도시를 선정하며, 각 올림픽 대회마다 열리는 올림픽 종목도 IOC에서 결정한다. 올림픽 경기 개최 도시는 경기 축하 의식이 올림픽 헌장에 부합하도록 조직하고 기금을 마련해야 한다. 올림픽 축하 행사로는 여러 의식과 상징을 들 수 있는데 올림픽기나 성화가 그 예이다.\n",
      "올림픽은 거의 모든 국가가 참여할 정도로 규모가 커졌다. 하계 올림픽은 33개의 종목과 약 400개의 세부종목에서 13,000명이 넘는 선수들이 겨루고 그중 각 종목별 1, 2, 3위는 각각 금/은/동을 수여받는다. 전 세계 언론에서 각각 4년마다 열리는 올림픽 경기를 중계하기 때문에 이름 없는 선수가 개인적, 국가적, 세계적으로 명성을 얻을 수 있는 기회가 된다. 이와 더불어 올림픽 경기는 개최지와 개최국에게도 전 세계에 그 이름을 널리 알리는 좋은 기회가 된다.\n"
     ]
    }
   ],
   "source": [
    "# 1. splitter 생성\n",
    "splitter = CharacterTextSplitter(\n",
    "    chunk_size=200,\n",
    "    chunk_overlap=50, # 겹치는 글자수 (default: 0)\n",
    "    # length_functon=len, # chunk size 를 계산할 떄 사용할 함수 : default: len()\n",
    "    # separator=\"\", # chunk를 나눌때 사용할 구분 문자열(default:\\n\\n)\n",
    ")\n",
    "\n",
    "# 2. chunk로 나누기\n",
    "## split_text(str) -> list[str] : string 문자열로 넣어서 나눔.\n",
    "## split_documents(list[Document]) -> list[Document] : Document를 받아서 나눔.\n",
    "split_docs = splitter.split_documents(docs)\n",
    "\n",
    "splitter = RecursiveCharacterTextSplitter(chunk_size=100, chunk_overlap=0)\n",
    "\n",
    "print(len(docs), len(split_docs))\n",
    "print(split_docs[0].page_content)"
   ]
  },
  {
   "cell_type": "code",
   "execution_count": 4,
   "id": "cbd61ba1-45c7-4cb9-a39c-904e85ce3b6f",
   "metadata": {},
   "outputs": [
    {
     "name": "stdout",
     "output_type": "stream",
     "text": [
      "28\n",
      "올림픽\n",
      "올림픽(영어: Olympic Games, 프랑스어: Jeux olympiques)은 전 세계 각 대륙 각국에서 모인 수천 명의 선수가 참가해 여름과 겨울에 스포츠 경기를 하는 국제적인 대회이다. 전 세계에서 가장 큰 지구촌 최대의 스포츠 축제인 올림픽은 세계에서 가장 인지도있는 국제 행사이다. 올림픽은 2년마다 하계 올림픽과 동계 올림픽이 번갈아 열리며, 국제 올림픽 위원회(IOC)가 감독하고 있다. 또한 오늘날의 올림픽은 기원전 8세기부터 서기 5세기에 이르기까지 고대 그리스 올림피아에서 열렸던 올림피아 제전에서 비롯되었다. 그리고 19세기 말에 피에르 드 쿠베르탱 남작이 고대 올림피아 제전에서 영감을 얻어, 근대 올림픽을 부활시켰다. 이를 위해 쿠베르탱 남작은 1894년에 IOC를 창설했으며, 2년 뒤인 1896년에 그리스 아테네에서 제 1회 올림픽이 열렸다. 이때부터 IOC는 올림픽 운동의 감독 기구가 되었으며, 조직과 활동은 올림픽 헌장을 따른다. 오늘날 전 세계 대부분의 국가에서 올림픽 메달은 매우 큰 영예이며, 특히 올림픽 금메달리스트는 국가 영웅급의 대우를 받으며 스포츠 스타가 된다. 국가별로 올림픽 메달리스트들에게 지급하는 포상금도 크다. 대부분의 인기있는 종목들이나 일상에서 쉽게 접하고 즐길 수 있는 생활스포츠 종목들이 올림픽이라는 한 대회에서 동시에 열리고, 전 세계 대부분의 국가 출신의 선수들이 참여하는 만큼 전 세계 스포츠 팬들이 가장 많이 시청하는 이벤트이다. 2008 베이징 올림픽의 모든 종목 누적 시청자 수만 47억 명에 달하며, 이는 인류 역사상 가장 많은 수의 인구가 시청한 이벤트였다.\n"
     ]
    }
   ],
   "source": [
    "# RecursiveCharacterTextSplitter\n",
    "splitter = RecursiveCharacterTextSplitter(\n",
    "    chunk_size=1000,\n",
    "    chunk_overlap=100,\n",
    "    # separators=[\"\\n\\n\", \"\\n\", \" \", \"|\", ...], \n",
    "    ## 구분자들을 순서대로 지정. 중국어/일본어 처럼 공백을 구분자로 쓰지 않는 언어들은 그에 맞는 구분자를 지정해준다.\n",
    ")\n",
    "\n",
    "split_docs = splitter.split_documents(docs)\n",
    "print(len(split_docs))\n",
    "len(split_docs[0].page_content)\n",
    "print(split_docs[0].page_content)"
   ]
  },
  {
   "cell_type": "markdown",
   "id": "e1cd6887-c1d8-454f-ab9b-2c165e43a4c6",
   "metadata": {},
   "source": [
    "## Token 수 기준으로 나누기\n",
    "\n",
    "- LLM 언어 모델들은 입력 토큰 수 제한이 있어서 요청시 제한 토큰수 이상의 프롬프트는 전송할 수 없다.\n",
    "- 따라서 텍스트를 chunk로 분할할 때는 글자수 보다 **토큰 수를 기준으로 크기를 지정하는 것**이 좋다.  \n",
    "- 토큰기반 분할은 텍스트의 의미를 유지하면서 분할하는 방식이므로 문자 기반 분할과 같이 단어가 중간잘리는 것들을 방지할 수 있다. \n",
    "- 토큰 수 계산할 때는 사용하는 언어 모델에 사용된 것과 동일한 tokenizer를 사용하는 것이 좋다.\n",
    "  - 예를 들어 OpenAI의 GPT 모델을 사용할 경우 tiktoken 라이브러리를 활용하여 토큰 수를 정확하게 계산할 수 있다.\n",
    "\n",
    "### [tiktoken](https://github.com/openai/tiktoken) tokenizer 기반 분할\n",
    "- OpenAI에서 GPT 모델을 학습할 때 사용한 `BPE` 방식의 tokenizer. **OpenAI 언어모델을 사용할 경우 이것을 사용하는 것이 좀 더 정확하게 토큰계산할 수있다.**\n",
    "- Splitter.from_tiktoken_encoder() 메소드를 이용해 생성\n",
    "  - `RecursiveCharacterTextSplitter.from_tiktoken_encoder()`\n",
    "  - `CharacterTextSplitter.from_tiktoken_encoder()`\n",
    "- 파라미터\n",
    "  - encode_name: 인코딩 방식(토큰화 규칙)을 지정. OpenAI는 GPT 모델들 마다 다른 방식을 사용했다. 그래서 사용하려는 모델에 맞는 인코딩 방식을 지정해야 한다.\n",
    "    - `cl100k_base`: GPT-4 및 GPT-3.5-Turbo 모델에서 사용된 방식.\n",
    "    - `r50k_base:` GPT-3 모델에서 사용된 방식 \n",
    "  - chunk_size, chunk_overlap, separators 파라미터 (위와 동일)\n",
    "- tiktoken 설치\n",
    "  - `pip install tiktoken`"
   ]
  },
  {
   "cell_type": "code",
   "execution_count": null,
   "id": "afcb3b18-52e8-440c-91a7-e7962e65beb9",
   "metadata": {},
   "outputs": [
    {
     "name": "stdout",
     "output_type": "stream",
     "text": [
      "Name: tiktoken\n",
      "Version: 0.8.0\n",
      "Summary: tiktoken is a fast BPE tokeniser for use with OpenAI's models\n",
      "Home-page: https://github.com/openai/tiktoken\n",
      "Author: Shantanu Jain\n",
      "Author-email: shantanu@openai.com\n",
      "License: MIT License\n",
      "\n",
      "Copyright (c) 2022 OpenAI, Shantanu Jain\n",
      "\n",
      "Permission is hereby granted, free of charge, to any person obtaining a copy\n",
      "of this software and associated documentation files (the \"Software\"), to deal\n",
      "in the Software without restriction, including without limitation the rights\n",
      "to use, copy, modify, merge, publish, distribute, sublicense, and/or sell\n",
      "copies of the Software, and to permit persons to whom the Software is\n",
      "furnished to do so, subject to the following conditions:\n",
      "\n",
      "The above copyright notice and this permission notice shall be included in all\n",
      "copies or substantial portions of the Software.\n",
      "\n",
      "THE SOFTWARE IS PROVIDED \"AS IS\", WITHOUT WARRANTY OF ANY KIND, EXPRESS OR\n",
      "IMPLIED, INCLUDING BUT NOT LIMITED TO THE WARRANTIES OF MERCHANTABILITY,\n",
      "FITNESS FOR A PARTICULAR PURPOSE AND NONINFRINGEMENT. IN NO EVENT SHALL THE\n",
      "AUTHORS OR COPYRIGHT HOLDERS BE LIABLE FOR ANY CLAIM, DAMAGES OR OTHER\n",
      "LIABILITY, WHETHER IN AN ACTION OF CONTRACT, TORT OR OTHERWISE, ARISING FROM,\n",
      "OUT OF OR IN CONNECTION WITH THE SOFTWARE OR THE USE OR OTHER DEALINGS IN THE\n",
      "SOFTWARE.\n",
      "\n",
      "Location: C:\\Users\\Playdata\\AppData\\Local\\miniconda3\\envs\\langchain\\Lib\\site-packages\n",
      "Requires: regex, requests\n",
      "Required-by: langchain-openai\n"
     ]
    }
   ],
   "source": [
    "# !pip show tiktoken"
   ]
  },
  {
   "cell_type": "code",
   "execution_count": 5,
   "id": "bdf3b6a6",
   "metadata": {},
   "outputs": [
    {
     "data": {
      "text/plain": [
       "True"
      ]
     },
     "execution_count": 5,
     "metadata": {},
     "output_type": "execute_result"
    }
   ],
   "source": [
    "from dotenv import load_dotenv\n",
    "\n",
    "load_dotenv()"
   ]
  },
  {
   "cell_type": "code",
   "execution_count": 6,
   "id": "16ecf677-e0d9-4b80-bfca-07fe921eff04",
   "metadata": {},
   "outputs": [
    {
     "name": "stdout",
     "output_type": "stream",
     "text": [
      "28 18\n"
     ]
    }
   ],
   "source": [
    "splitter = RecursiveCharacterTextSplitter.from_tiktoken_encoder(\n",
    "    model_name=\"gpt-4o-mini\",  # OpenAI 모델 학습시 사용한 titoken 토크나이가 다름. 그래서 gpt 모델을 지정함.\n",
    "    chunk_size=1000,   # token 수(글자수가 아님) -> 토큰계산은 tiktoken 토크나이저를 이용.\n",
    "    chunk_overlap=100,\n",
    ")\n",
    "split_docs2= splitter.split_documents(docs)\n",
    "print(len(split_docs), len(split_docs2))"
   ]
  },
  {
   "cell_type": "code",
   "execution_count": 7,
   "id": "19152b69-cde9-4e3d-b7cf-1be126e055d7",
   "metadata": {},
   "outputs": [
    {
     "name": "stdout",
     "output_type": "stream",
     "text": [
      "1463\n",
      "808\n"
     ]
    }
   ],
   "source": [
    "print(len(split_docs2[0].page_content)) # 토큰수 기준\n",
    "print(len(split_docs[0].page_content))  # 글자수 갯수"
   ]
  },
  {
   "cell_type": "markdown",
   "id": "f88d679d-f7d6-4a06-b9c4-f1e1a305f89b",
   "metadata": {},
   "source": [
    "### HuggingFace Tokenizer\n",
    "- HuggingFace 모델을 사용할 경우 그 모델이 사용한 tokenizer를 이용해 토큰 기반으로 분할 할 수있다.\n",
    "- `from_huggingface_tokenizer()` 메소드를 이용해 생성\n",
    "- 파라미터\n",
    "  - tokenizer: HuggingFace tokenizer 객체\n",
    "  - chunk_size, chunk_overlap, separators 파라미터 (위와 동일)\n",
    "- `transformers` 라이브러리를 설치해야 한다.\n",
    "  - `pip install transformers` "
   ]
  },
  {
   "cell_type": "code",
   "execution_count": null,
   "id": "bc3fe924-6f4e-4f35-9fad-1ed3cc7ab0e0",
   "metadata": {},
   "outputs": [],
   "source": [
    "# !pip show transformers"
   ]
  },
  {
   "cell_type": "code",
   "execution_count": 8,
   "id": "7edce5d4-651e-4ea2-b26e-a0de0395d428",
   "metadata": {},
   "outputs": [
    {
     "name": "stdout",
     "output_type": "stream",
     "text": [
      "<class 'transformers.models.bert.tokenization_bert_fast.BertTokenizerFast'>\n"
     ]
    }
   ],
   "source": [
    "from transformers import AutoTokenizer\n",
    "model_id = \"beomi/kcbert-base\" # Huggingace 모델로 사용할 llm모델 tokenizer를 지정함.\n",
    "\n",
    "# 토크나이저를  HuggingFace 모델 허브에서 받아 생성함.\n",
    "tokenizer = AutoTokenizer.from_pretrained(model_id)\n",
    "print(type(tokenizer))\n"
   ]
  },
  {
   "cell_type": "code",
   "execution_count": 20,
   "id": "280f43a5-d5b7-4118-9bd5-e4ee6284e258",
   "metadata": {},
   "outputs": [
    {
     "name": "stdout",
     "output_type": "stream",
     "text": [
      "12 18 28\n",
      "1726\n",
      "올림픽\n",
      "올림픽(영어: Olympic Games, 프랑스어: Jeux olympiques)은 전 세계 각 대륙 각국에서 모인 수천 명의 선수가 참가해 여름과 겨울에 스포츠 경기를 하는 국제적인 대회이다. 전 세계에서 가장 큰 지구촌 최대의 스포츠 축제인 올림픽은 세계에서 가장 인지도있는 국제 행사이다. 올림픽은 2년마다 하계 올림픽과 동계 올림픽이 번갈아 열리며, 국제 올림픽 위원회(IOC)가 감독하고 있다. 또한 오늘날의 올림픽은 기원전 8세기부터 서기 5세기에 이르기까지 고대 그리스 올림피아에서 열렸던 올림피아 제전에서 비롯되었다. 그리고 19세기 말에 피에르 드 쿠베르탱 남작이 고대 올림피아 제전에서 영감을 얻어, 근대 올림픽을 부활시켰다. 이를 위해 쿠베르탱 남작은 1894년에 IOC를 창설했으며, 2년 뒤인 1896년에 그리스 아테네에서 제 1회 올림픽이 열렸다. 이때부터 IOC는 올림픽 운동의 감독 기구가 되었으며, 조직과 활동은 올림픽 헌장을 따른다. 오늘날 전 세계 대부분의 국가에서 올림픽 메달은 매우 큰 영예이며, 특히 올림픽 금메달리스트는 국가 영웅급의 대우를 받으며 스포츠 스타가 된다. 국가별로 올림픽 메달리스트들에게 지급하는 포상금도 크다. 대부분의 인기있는 종목들이나 일상에서 쉽게 접하고 즐길 수 있는 생활스포츠 종목들이 올림픽이라는 한 대회에서 동시에 열리고, 전 세계 대부분의 국가 출신의 선수들이 참여하는 만큼 전 세계 스포츠 팬들이 가장 많이 시청하는 이벤트이다. 2008 베이징 올림픽의 모든 종목 누적 시청자 수만 47억 명에 달하며, 이는 인류 역사상 가장 많은 수의 인구가 시청한 이벤트였다.\n",
      "또한 20세기에 올림픽 운동이 발전함에 따라, IOC는 변화하는 세계의 사회 환경에 적응해야 했다. 이러한 변화의 예로는 얼음과 눈을 이용한 경기 종목을 다루는 동계 올림픽, 장애인이 참여하는 패럴림픽, 스페셜 올림픽, 데플림픽, 10대 선수들이 참여하는 유스 올림픽 등을 들 수 있다. 그 뿐만 아니라 IOC는 20세기의 변화하는 경제, 정치, 기술 환경에도 적응해야 했다. 그리하여 올림픽은 피에르 드 쿠베르탱이 기대했던 순수한 아마추어 정신에서 벗어나서, 프로 선수도 참가할 수 있게 되었다. 올림픽은 점차 대중 매체의 중요성이 커짐에 따라 올림픽의 상업화와 기업 후원을 놓고도 논란이 생겨났다. 또한 올림픽을 치르며 발생한 보이콧, 도핑, 심판 매수, 테러와 같은 수많은 일들은 올림픽이 더욱 굳건히 성장할 수 있는 원동력이 되었다.\n",
      "올림픽은 국제경기연맹(IF), 국가 올림픽 위원회(NOC), 각 올림픽의 위원회(예-벤쿠버동계올림픽조직위원회)로 구성된다. 의사 결정 기구인 IOC는 올림픽 개최 도시를 선정하며, 각 올림픽 대회마다 열리는 올림픽 종목도 IOC에서 결정한다. 올림픽 경기 개최 도시는 경기 축하 의식이 올림픽 헌장에 부합하도록 조직하고 기금을 마련해야 한다. 올림픽 축하 행사로는 여러 의식과 상징을 들 수 있는데 올림픽기나 성화가 그 예이다.\n",
      "올림픽은 거의 모든 국가가 참여할 정도로 규모가 커졌다. 하계 올림픽은 33개의 종목과 약 400개의 세부종목에서 13,000명이 넘는 선수들이 겨루고 그중 각 종목별 1, 2, 3위는 각각 금/은/동을 수여받는다. 전 세계 언론에서 각각 4년마다 열리는 올림픽 경기를 중계하기 때문에 이름 없는 선수가 개인적, 국가적, 세계적으로 명성을 얻을 수 있는 기회가 된다. 이와 더불어 올림픽 경기는 개최지와 개최국에게도 전 세계에 그 이름을 널리 알리는 좋은 기회가 된다.\n"
     ]
    }
   ],
   "source": [
    "splitter_hf = RecursiveCharacterTextSplitter.from_huggingface_tokenizer(\n",
    "    tokenizer=tokenizer,\n",
    "    chunk_size=1000,\n",
    "    chunk_overlap=100\n",
    ")\n",
    "split_docs3 = splitter_hf.split_documents(docs)\n",
    "print(len(split_docs3), len(split_docs2), len(split_docs))\n",
    "print(len(split_docs3[0].page_content))\n",
    "print(split_docs3[0].page_content)"
   ]
  }
 ],
 "metadata": {
  "kernelspec": {
   "display_name": "langchain",
   "language": "python",
   "name": "python3"
  },
  "language_info": {
   "codemirror_mode": {
    "name": "ipython",
    "version": 3
   },
   "file_extension": ".py",
   "mimetype": "text/x-python",
   "name": "python",
   "nbconvert_exporter": "python",
   "pygments_lexer": "ipython3",
   "version": "3.12.7"
  }
 },
 "nbformat": 4,
 "nbformat_minor": 5
}
