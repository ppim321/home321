{
 "cells": [
  {
   "cell_type": "markdown",
   "metadata": {
    "slideshow": {
     "slide_type": "slide"
    }
   },
   "source": [
    "# Pytorch 개발 Process"
   ]
  },
  {
   "cell_type": "markdown",
   "metadata": {
    "slideshow": {
     "slide_type": "fragment"
    }
   },
   "source": [
    "1. **데이터 준비**\n",
    "    - Dataset 준비\n",
    "    - Dataloader 생성"
   ]
  },
  {
   "cell_type": "markdown",
   "metadata": {
    "slideshow": {
     "slide_type": "fragment"
    }
   },
   "source": [
    "2. **입력과 출력을 연결하는 Layer(층)으로 이뤄진 네트워크(모델)을 정의**\n",
    "    - **Sequential 방식**: 순서대로 쌓아올린 네트워크로 이뤄진 모델을 생성하는 방식\n",
    "        - layer를 순서대로 쌓은 모델을 구현할때 간단히 모델을 정의할 수 있다.\n",
    "        - layer block을 정의하는데 사용할 수 있다.\n",
    "    - **Subclass 방식**: 네트워크를 정의하는 클래스를 구현.\n",
    "        - 다양한 구조의 모델을 정의할 수 있다.\n",
    "        - inializer에서 필요한 layer들을 생성한다.\n",
    "        - forward(self, X) 메소드에 forward propagation 계산을 구현한다.\n",
    "    "
   ]
  },
  {
   "cell_type": "markdown",
   "metadata": {
    "slideshow": {
     "slide_type": "fragment"
    }
   },
   "source": [
    "3. **train**\n",
    "    - train 함수, test 함수 정의"
   ]
  },
  {
   "cell_type": "markdown",
   "metadata": {
    "slideshow": {
     "slide_type": "fragment"
    }
   },
   "source": [
    "4. test set 최종평가"
   ]
  },
  {
   "cell_type": "markdown",
   "metadata": {
    "slideshow": {
     "slide_type": "slide"
    }
   },
   "source": [
    "# MNIST 이미지 분류 \n",
    "- **[MNIST](https://ko.wikipedia.org/wiki/MNIST_%EB%8D%B0%EC%9D%B4%ED%84%B0%EB%B2%A0%EC%9D%B4%EC%8A%A4) (Modified National Institute of Standards and Technology) database**\n",
    "- 흑백 손글씨 숫자 0-9까지 10개의 범주로 구분해놓은 데이터셋\n",
    "- 하나의 이미지는 28 * 28 pixel 의 크기\n",
    "- 6만개의 Train 이미지와 1만개의 Test 이미지로 구성됨."
   ]
  },
  {
   "cell_type": "markdown",
   "metadata": {},
   "source": [
    "## import"
   ]
  },
  {
   "cell_type": "code",
   "execution_count": null,
   "metadata": {},
   "outputs": [],
   "source": []
  },
  {
   "cell_type": "code",
   "execution_count": 36,
   "metadata": {},
   "outputs": [],
   "source": [
    "import torch\n",
    "import torch.nn as nn   # 다양한 Layer / model 들이 정의된 패키지. (Neural Network)\n",
    "from torch.utils.data import DataLoader  # DataLoader 클래스 -> 모델에 데이터들을 제공하는 역할.\n",
    "from torchvision import datasets, transforms\n",
    "# torchvision 패키지(라이브러리):pytorch의 image 전용 sub package\n",
    "### datasets(모듈): vision(영상) 데이터셋들을 제공하는 모듈\n",
    "### transformers: 이미지(영상) 전처리 기능들을 제공하는 모듈\n",
    "import matplotlib.pyplot as plt\n"
   ]
  },
  {
   "cell_type": "code",
   "execution_count": 37,
   "metadata": {},
   "outputs": [
    {
     "data": {
      "text/plain": [
       "'2.5.1+cpu'"
      ]
     },
     "execution_count": 37,
     "metadata": {},
     "output_type": "execute_result"
    }
   ],
   "source": [
    "torch.__version__"
   ]
  },
  {
   "cell_type": "markdown",
   "metadata": {},
   "source": [
    "### device 설정"
   ]
  },
  {
   "cell_type": "code",
   "execution_count": 38,
   "metadata": {},
   "outputs": [
    {
     "name": "stdout",
     "output_type": "stream",
     "text": [
      "False\n",
      "cpu\n"
     ]
    }
   ],
   "source": [
    "# 어느 Device 에서 연산처리 할지 지정. (cpu, cuda(GPU))\n",
    "# device = \"cpu\"\n",
    "print(torch.cuda.is_available())  # cuda를 사용할 수 있는 환경인지 조회\n",
    "device = \"cuda\" if torch.cuda.is_available() else \"cpu\"  # 2.0이전: torch.Device(\"cuda\")\n",
    "print(device)"
   ]
  },
  {
   "cell_type": "code",
   "execution_count": 39,
   "metadata": {},
   "outputs": [
    {
     "name": "stdout",
     "output_type": "stream",
     "text": [
      "cpu\n"
     ]
    }
   ],
   "source": [
    "# MAC OS (\"cpu\", \"mps\")\n",
    "device = \"mps\" if torch.backends.mps.is_available() else \"cpu\"\n",
    "print(device)"
   ]
  },
  {
   "cell_type": "markdown",
   "metadata": {},
   "source": [
    "### 하이퍼파라미터, 변수 설정"
   ]
  },
  {
   "cell_type": "code",
   "execution_count": 40,
   "metadata": {},
   "outputs": [],
   "source": [
    "lr = 0.001  # 학습률. 0 ~ 1 실수.\n",
    "batch_size = 256  # 모델로 학습할 떄 한번에 몇개의 데이터를 제공할 지 개수.\n",
    "# step: 모델의 파라미터들을 update 하는 단위. (1 step: batch_size(256)만큼의 데이터로 parameter update)\n",
    "# epoch: train set 전체를 학습하는 단위. (1 epoch: 총 데이터 개수(60,000개)를 한번 다 학습한 것.)\n",
    "epochs = 20"
   ]
  },
  {
   "cell_type": "code",
   "execution_count": 41,
   "metadata": {},
   "outputs": [
    {
     "data": {
      "text/plain": [
       "4687.5"
      ]
     },
     "execution_count": 41,
     "metadata": {},
     "output_type": "execute_result"
    }
   ],
   "source": [
    "60000 / 256 * 20"
   ]
  },
  {
   "cell_type": "code",
   "execution_count": 42,
   "metadata": {},
   "outputs": [],
   "source": [
    "import os\n",
    "# 학습이 끝난 모델을 저장할 디렉토리.\n",
    "model_dir = \"models\"\n",
    "os.makedirs(model_dir, exist_ok=True)\n",
    "\n",
    "# Dataset을 저장할 디렉토리\n",
    "dataset_dir = \"datasets/mnist\"\n",
    "os.makedirs(dataset_dir, exist_ok=True)"
   ]
  },
  {
   "cell_type": "code",
   "execution_count": 43,
   "metadata": {},
   "outputs": [],
   "source": [
    "# git에 업로드 되지 않게 하는 방법.\n",
    "# datasets/, models/ .so/  --> git ignore 파일에 작성해주면, 업로드를 안되게 할 수 있음."
   ]
  },
  {
   "cell_type": "markdown",
   "metadata": {
    "ExecuteTime": {
     "end_time": "2021-08-30T05:02:52.852140Z",
     "start_time": "2021-08-30T05:02:52.563117Z"
    },
    "slideshow": {
     "slide_type": "slide"
    }
   },
   "source": [
    "### MNIST dataset Loading\n",
    "\n",
    "#### Dataset"
   ]
  },
  {
   "cell_type": "code",
   "execution_count": 44,
   "metadata": {},
   "outputs": [],
   "source": [
    "trainset = datasets.MNIST(\n",
    "    root=dataset_dir, # dataset을 읽어올 디렉토리. \n",
    "    download=True,    # root 에 dataset이 없을 경우 다운로드 받으지 여부.\n",
    "    transform=transforms.ToTensor()\n",
    "\n",
    ")  # torchvision 에서 import 한 것.\n",
    "testset = datasets.MNIST(\n",
    "    root=dataset_dir,\n",
    "    download=True,\n",
    "    train=False,       # Trainset 인지 여부. True(default): train set,  False: test set\n",
    "    transform=transforms.ToTensor()\n",
    ")\n",
    "\n",
    "# transform=함수 -> input data를 전처리 하는 함수를 전달. \n",
    "# transform.ToTensor. class 객체를 전달함.\n",
    "## ndarray, PIL.Image 객체를 torch.Tensor 로 변환.\n",
    "## (height, width, channel) 순서를 channel first (channel, height, width) 형태로 변환.\n",
    "## pixcel값( 0~ 255정수) 들을 0 ~ 1 로 정규화. (Feature Scaling - MinMaxScaling)"
   ]
  },
  {
   "cell_type": "code",
   "execution_count": 45,
   "metadata": {},
   "outputs": [
    {
     "data": {
      "text/plain": [
       "Dataset MNIST\n",
       "    Number of datapoints: 10000\n",
       "    Root location: datasets/mnist\n",
       "    Split: Test\n",
       "    StandardTransform\n",
       "Transform: ToTensor()"
      ]
     },
     "execution_count": 45,
     "metadata": {},
     "output_type": "execute_result"
    }
   ],
   "source": [
    "testset"
   ]
  },
  {
   "cell_type": "code",
   "execution_count": 46,
   "metadata": {},
   "outputs": [
    {
     "data": {
      "text/plain": [
       "(tensor([[[0.0000, 0.0000, 0.0000, 0.0000, 0.0000, 0.0000, 0.0000, 0.0000,\n",
       "           0.0000, 0.0000, 0.0000, 0.0000, 0.0000, 0.0000, 0.0000, 0.0000,\n",
       "           0.0000, 0.0000, 0.0000, 0.0000, 0.0000, 0.0000, 0.0000, 0.0000,\n",
       "           0.0000, 0.0000, 0.0000, 0.0000],\n",
       "          [0.0000, 0.0000, 0.0000, 0.0000, 0.0000, 0.0000, 0.0000, 0.0000,\n",
       "           0.0000, 0.0000, 0.0000, 0.0000, 0.0000, 0.0000, 0.0000, 0.0000,\n",
       "           0.0000, 0.0000, 0.0000, 0.0000, 0.0000, 0.0000, 0.0000, 0.0000,\n",
       "           0.0000, 0.0000, 0.0000, 0.0000],\n",
       "          [0.0000, 0.0000, 0.0000, 0.0000, 0.0000, 0.0000, 0.0000, 0.0000,\n",
       "           0.0000, 0.0000, 0.0000, 0.0000, 0.0000, 0.0000, 0.0000, 0.0000,\n",
       "           0.0000, 0.0000, 0.0000, 0.0000, 0.0000, 0.0000, 0.0000, 0.0000,\n",
       "           0.0000, 0.0000, 0.0000, 0.0000],\n",
       "          [0.0000, 0.0000, 0.0000, 0.0000, 0.0000, 0.0000, 0.0000, 0.0000,\n",
       "           0.0000, 0.0000, 0.0000, 0.0000, 0.0000, 0.0000, 0.0000, 0.0000,\n",
       "           0.0000, 0.0000, 0.0000, 0.0000, 0.0000, 0.0000, 0.0000, 0.0000,\n",
       "           0.0000, 0.0000, 0.0000, 0.0000],\n",
       "          [0.0000, 0.0000, 0.0000, 0.0000, 0.0000, 0.0000, 0.0000, 0.0000,\n",
       "           0.0000, 0.0000, 0.0000, 0.0000, 0.0000, 0.0000, 0.0000, 0.0000,\n",
       "           0.0000, 0.0000, 0.0000, 0.0000, 0.0000, 0.0000, 0.0000, 0.0000,\n",
       "           0.0000, 0.0000, 0.0000, 0.0000],\n",
       "          [0.0000, 0.0000, 0.0000, 0.0000, 0.0000, 0.0000, 0.0000, 0.0000,\n",
       "           0.0000, 0.0000, 0.0000, 0.0000, 0.0118, 0.0706, 0.0706, 0.0706,\n",
       "           0.4941, 0.5333, 0.6863, 0.1020, 0.6510, 1.0000, 0.9686, 0.4980,\n",
       "           0.0000, 0.0000, 0.0000, 0.0000],\n",
       "          [0.0000, 0.0000, 0.0000, 0.0000, 0.0000, 0.0000, 0.0000, 0.0000,\n",
       "           0.1176, 0.1412, 0.3686, 0.6039, 0.6667, 0.9922, 0.9922, 0.9922,\n",
       "           0.9922, 0.9922, 0.8824, 0.6745, 0.9922, 0.9490, 0.7647, 0.2510,\n",
       "           0.0000, 0.0000, 0.0000, 0.0000],\n",
       "          [0.0000, 0.0000, 0.0000, 0.0000, 0.0000, 0.0000, 0.0000, 0.1922,\n",
       "           0.9333, 0.9922, 0.9922, 0.9922, 0.9922, 0.9922, 0.9922, 0.9922,\n",
       "           0.9922, 0.9843, 0.3647, 0.3216, 0.3216, 0.2196, 0.1529, 0.0000,\n",
       "           0.0000, 0.0000, 0.0000, 0.0000],\n",
       "          [0.0000, 0.0000, 0.0000, 0.0000, 0.0000, 0.0000, 0.0000, 0.0706,\n",
       "           0.8588, 0.9922, 0.9922, 0.9922, 0.9922, 0.9922, 0.7765, 0.7137,\n",
       "           0.9686, 0.9451, 0.0000, 0.0000, 0.0000, 0.0000, 0.0000, 0.0000,\n",
       "           0.0000, 0.0000, 0.0000, 0.0000],\n",
       "          [0.0000, 0.0000, 0.0000, 0.0000, 0.0000, 0.0000, 0.0000, 0.0000,\n",
       "           0.3137, 0.6118, 0.4196, 0.9922, 0.9922, 0.8039, 0.0431, 0.0000,\n",
       "           0.1686, 0.6039, 0.0000, 0.0000, 0.0000, 0.0000, 0.0000, 0.0000,\n",
       "           0.0000, 0.0000, 0.0000, 0.0000],\n",
       "          [0.0000, 0.0000, 0.0000, 0.0000, 0.0000, 0.0000, 0.0000, 0.0000,\n",
       "           0.0000, 0.0549, 0.0039, 0.6039, 0.9922, 0.3529, 0.0000, 0.0000,\n",
       "           0.0000, 0.0000, 0.0000, 0.0000, 0.0000, 0.0000, 0.0000, 0.0000,\n",
       "           0.0000, 0.0000, 0.0000, 0.0000],\n",
       "          [0.0000, 0.0000, 0.0000, 0.0000, 0.0000, 0.0000, 0.0000, 0.0000,\n",
       "           0.0000, 0.0000, 0.0000, 0.5451, 0.9922, 0.7451, 0.0078, 0.0000,\n",
       "           0.0000, 0.0000, 0.0000, 0.0000, 0.0000, 0.0000, 0.0000, 0.0000,\n",
       "           0.0000, 0.0000, 0.0000, 0.0000],\n",
       "          [0.0000, 0.0000, 0.0000, 0.0000, 0.0000, 0.0000, 0.0000, 0.0000,\n",
       "           0.0000, 0.0000, 0.0000, 0.0431, 0.7451, 0.9922, 0.2745, 0.0000,\n",
       "           0.0000, 0.0000, 0.0000, 0.0000, 0.0000, 0.0000, 0.0000, 0.0000,\n",
       "           0.0000, 0.0000, 0.0000, 0.0000],\n",
       "          [0.0000, 0.0000, 0.0000, 0.0000, 0.0000, 0.0000, 0.0000, 0.0000,\n",
       "           0.0000, 0.0000, 0.0000, 0.0000, 0.1373, 0.9451, 0.8824, 0.6275,\n",
       "           0.4235, 0.0039, 0.0000, 0.0000, 0.0000, 0.0000, 0.0000, 0.0000,\n",
       "           0.0000, 0.0000, 0.0000, 0.0000],\n",
       "          [0.0000, 0.0000, 0.0000, 0.0000, 0.0000, 0.0000, 0.0000, 0.0000,\n",
       "           0.0000, 0.0000, 0.0000, 0.0000, 0.0000, 0.3176, 0.9412, 0.9922,\n",
       "           0.9922, 0.4667, 0.0980, 0.0000, 0.0000, 0.0000, 0.0000, 0.0000,\n",
       "           0.0000, 0.0000, 0.0000, 0.0000],\n",
       "          [0.0000, 0.0000, 0.0000, 0.0000, 0.0000, 0.0000, 0.0000, 0.0000,\n",
       "           0.0000, 0.0000, 0.0000, 0.0000, 0.0000, 0.0000, 0.1765, 0.7294,\n",
       "           0.9922, 0.9922, 0.5882, 0.1059, 0.0000, 0.0000, 0.0000, 0.0000,\n",
       "           0.0000, 0.0000, 0.0000, 0.0000],\n",
       "          [0.0000, 0.0000, 0.0000, 0.0000, 0.0000, 0.0000, 0.0000, 0.0000,\n",
       "           0.0000, 0.0000, 0.0000, 0.0000, 0.0000, 0.0000, 0.0000, 0.0627,\n",
       "           0.3647, 0.9882, 0.9922, 0.7333, 0.0000, 0.0000, 0.0000, 0.0000,\n",
       "           0.0000, 0.0000, 0.0000, 0.0000],\n",
       "          [0.0000, 0.0000, 0.0000, 0.0000, 0.0000, 0.0000, 0.0000, 0.0000,\n",
       "           0.0000, 0.0000, 0.0000, 0.0000, 0.0000, 0.0000, 0.0000, 0.0000,\n",
       "           0.0000, 0.9765, 0.9922, 0.9765, 0.2510, 0.0000, 0.0000, 0.0000,\n",
       "           0.0000, 0.0000, 0.0000, 0.0000],\n",
       "          [0.0000, 0.0000, 0.0000, 0.0000, 0.0000, 0.0000, 0.0000, 0.0000,\n",
       "           0.0000, 0.0000, 0.0000, 0.0000, 0.0000, 0.0000, 0.1804, 0.5098,\n",
       "           0.7176, 0.9922, 0.9922, 0.8118, 0.0078, 0.0000, 0.0000, 0.0000,\n",
       "           0.0000, 0.0000, 0.0000, 0.0000],\n",
       "          [0.0000, 0.0000, 0.0000, 0.0000, 0.0000, 0.0000, 0.0000, 0.0000,\n",
       "           0.0000, 0.0000, 0.0000, 0.0000, 0.1529, 0.5804, 0.8980, 0.9922,\n",
       "           0.9922, 0.9922, 0.9804, 0.7137, 0.0000, 0.0000, 0.0000, 0.0000,\n",
       "           0.0000, 0.0000, 0.0000, 0.0000],\n",
       "          [0.0000, 0.0000, 0.0000, 0.0000, 0.0000, 0.0000, 0.0000, 0.0000,\n",
       "           0.0000, 0.0000, 0.0941, 0.4471, 0.8667, 0.9922, 0.9922, 0.9922,\n",
       "           0.9922, 0.7882, 0.3059, 0.0000, 0.0000, 0.0000, 0.0000, 0.0000,\n",
       "           0.0000, 0.0000, 0.0000, 0.0000],\n",
       "          [0.0000, 0.0000, 0.0000, 0.0000, 0.0000, 0.0000, 0.0000, 0.0000,\n",
       "           0.0902, 0.2588, 0.8353, 0.9922, 0.9922, 0.9922, 0.9922, 0.7765,\n",
       "           0.3176, 0.0078, 0.0000, 0.0000, 0.0000, 0.0000, 0.0000, 0.0000,\n",
       "           0.0000, 0.0000, 0.0000, 0.0000],\n",
       "          [0.0000, 0.0000, 0.0000, 0.0000, 0.0000, 0.0000, 0.0706, 0.6706,\n",
       "           0.8588, 0.9922, 0.9922, 0.9922, 0.9922, 0.7647, 0.3137, 0.0353,\n",
       "           0.0000, 0.0000, 0.0000, 0.0000, 0.0000, 0.0000, 0.0000, 0.0000,\n",
       "           0.0000, 0.0000, 0.0000, 0.0000],\n",
       "          [0.0000, 0.0000, 0.0000, 0.0000, 0.2157, 0.6745, 0.8863, 0.9922,\n",
       "           0.9922, 0.9922, 0.9922, 0.9569, 0.5216, 0.0431, 0.0000, 0.0000,\n",
       "           0.0000, 0.0000, 0.0000, 0.0000, 0.0000, 0.0000, 0.0000, 0.0000,\n",
       "           0.0000, 0.0000, 0.0000, 0.0000],\n",
       "          [0.0000, 0.0000, 0.0000, 0.0000, 0.5333, 0.9922, 0.9922, 0.9922,\n",
       "           0.8314, 0.5294, 0.5176, 0.0627, 0.0000, 0.0000, 0.0000, 0.0000,\n",
       "           0.0000, 0.0000, 0.0000, 0.0000, 0.0000, 0.0000, 0.0000, 0.0000,\n",
       "           0.0000, 0.0000, 0.0000, 0.0000],\n",
       "          [0.0000, 0.0000, 0.0000, 0.0000, 0.0000, 0.0000, 0.0000, 0.0000,\n",
       "           0.0000, 0.0000, 0.0000, 0.0000, 0.0000, 0.0000, 0.0000, 0.0000,\n",
       "           0.0000, 0.0000, 0.0000, 0.0000, 0.0000, 0.0000, 0.0000, 0.0000,\n",
       "           0.0000, 0.0000, 0.0000, 0.0000],\n",
       "          [0.0000, 0.0000, 0.0000, 0.0000, 0.0000, 0.0000, 0.0000, 0.0000,\n",
       "           0.0000, 0.0000, 0.0000, 0.0000, 0.0000, 0.0000, 0.0000, 0.0000,\n",
       "           0.0000, 0.0000, 0.0000, 0.0000, 0.0000, 0.0000, 0.0000, 0.0000,\n",
       "           0.0000, 0.0000, 0.0000, 0.0000],\n",
       "          [0.0000, 0.0000, 0.0000, 0.0000, 0.0000, 0.0000, 0.0000, 0.0000,\n",
       "           0.0000, 0.0000, 0.0000, 0.0000, 0.0000, 0.0000, 0.0000, 0.0000,\n",
       "           0.0000, 0.0000, 0.0000, 0.0000, 0.0000, 0.0000, 0.0000, 0.0000,\n",
       "           0.0000, 0.0000, 0.0000, 0.0000]]]),\n",
       " 5)"
      ]
     },
     "execution_count": 46,
     "metadata": {},
     "output_type": "execute_result"
    }
   ],
   "source": [
    "# 개별데이터 조회\n",
    "trainset[0]  # tuple: (X, y)"
   ]
  },
  {
   "cell_type": "code",
   "execution_count": 47,
   "metadata": {},
   "outputs": [
    {
     "data": {
      "text/plain": [
       "tensor([[[0.0000, 0.0000, 0.0000, 0.0000, 0.0000, 0.0000, 0.0000, 0.0000,\n",
       "          0.0000, 0.0000, 0.0000, 0.0000, 0.0000, 0.0000, 0.0000, 0.0000,\n",
       "          0.0000, 0.0000, 0.0000, 0.0000, 0.0000, 0.0000, 0.0000, 0.0000,\n",
       "          0.0000, 0.0000, 0.0000, 0.0000],\n",
       "         [0.0000, 0.0000, 0.0000, 0.0000, 0.0000, 0.0000, 0.0000, 0.0000,\n",
       "          0.0000, 0.0000, 0.0000, 0.0000, 0.0000, 0.0000, 0.0000, 0.0000,\n",
       "          0.0000, 0.0000, 0.0000, 0.0000, 0.0000, 0.0000, 0.0000, 0.0000,\n",
       "          0.0000, 0.0000, 0.0000, 0.0000],\n",
       "         [0.0000, 0.0000, 0.0000, 0.0000, 0.0000, 0.0000, 0.0000, 0.0000,\n",
       "          0.0000, 0.0000, 0.0000, 0.0000, 0.0000, 0.0000, 0.0000, 0.0000,\n",
       "          0.0000, 0.0000, 0.0000, 0.0000, 0.0000, 0.0000, 0.0000, 0.0000,\n",
       "          0.0000, 0.0000, 0.0000, 0.0000],\n",
       "         [0.0000, 0.0000, 0.0000, 0.0000, 0.0000, 0.0000, 0.0000, 0.0000,\n",
       "          0.0000, 0.0000, 0.0000, 0.0000, 0.0000, 0.0000, 0.0000, 0.0000,\n",
       "          0.0000, 0.0000, 0.0000, 0.0000, 0.0000, 0.0000, 0.0000, 0.0000,\n",
       "          0.0000, 0.0000, 0.0000, 0.0000],\n",
       "         [0.0000, 0.0000, 0.0000, 0.0000, 0.0000, 0.0000, 0.0000, 0.0000,\n",
       "          0.0000, 0.0000, 0.0000, 0.0000, 0.0000, 0.0000, 0.0000, 0.0000,\n",
       "          0.0000, 0.0000, 0.0000, 0.0000, 0.0000, 0.0000, 0.0000, 0.0000,\n",
       "          0.0000, 0.0000, 0.0000, 0.0000],\n",
       "         [0.0000, 0.0000, 0.0000, 0.0000, 0.0000, 0.0000, 0.0000, 0.0000,\n",
       "          0.0000, 0.0000, 0.0000, 0.0000, 0.0118, 0.0706, 0.0706, 0.0706,\n",
       "          0.4941, 0.5333, 0.6863, 0.1020, 0.6510, 1.0000, 0.9686, 0.4980,\n",
       "          0.0000, 0.0000, 0.0000, 0.0000],\n",
       "         [0.0000, 0.0000, 0.0000, 0.0000, 0.0000, 0.0000, 0.0000, 0.0000,\n",
       "          0.1176, 0.1412, 0.3686, 0.6039, 0.6667, 0.9922, 0.9922, 0.9922,\n",
       "          0.9922, 0.9922, 0.8824, 0.6745, 0.9922, 0.9490, 0.7647, 0.2510,\n",
       "          0.0000, 0.0000, 0.0000, 0.0000],\n",
       "         [0.0000, 0.0000, 0.0000, 0.0000, 0.0000, 0.0000, 0.0000, 0.1922,\n",
       "          0.9333, 0.9922, 0.9922, 0.9922, 0.9922, 0.9922, 0.9922, 0.9922,\n",
       "          0.9922, 0.9843, 0.3647, 0.3216, 0.3216, 0.2196, 0.1529, 0.0000,\n",
       "          0.0000, 0.0000, 0.0000, 0.0000],\n",
       "         [0.0000, 0.0000, 0.0000, 0.0000, 0.0000, 0.0000, 0.0000, 0.0706,\n",
       "          0.8588, 0.9922, 0.9922, 0.9922, 0.9922, 0.9922, 0.7765, 0.7137,\n",
       "          0.9686, 0.9451, 0.0000, 0.0000, 0.0000, 0.0000, 0.0000, 0.0000,\n",
       "          0.0000, 0.0000, 0.0000, 0.0000],\n",
       "         [0.0000, 0.0000, 0.0000, 0.0000, 0.0000, 0.0000, 0.0000, 0.0000,\n",
       "          0.3137, 0.6118, 0.4196, 0.9922, 0.9922, 0.8039, 0.0431, 0.0000,\n",
       "          0.1686, 0.6039, 0.0000, 0.0000, 0.0000, 0.0000, 0.0000, 0.0000,\n",
       "          0.0000, 0.0000, 0.0000, 0.0000],\n",
       "         [0.0000, 0.0000, 0.0000, 0.0000, 0.0000, 0.0000, 0.0000, 0.0000,\n",
       "          0.0000, 0.0549, 0.0039, 0.6039, 0.9922, 0.3529, 0.0000, 0.0000,\n",
       "          0.0000, 0.0000, 0.0000, 0.0000, 0.0000, 0.0000, 0.0000, 0.0000,\n",
       "          0.0000, 0.0000, 0.0000, 0.0000],\n",
       "         [0.0000, 0.0000, 0.0000, 0.0000, 0.0000, 0.0000, 0.0000, 0.0000,\n",
       "          0.0000, 0.0000, 0.0000, 0.5451, 0.9922, 0.7451, 0.0078, 0.0000,\n",
       "          0.0000, 0.0000, 0.0000, 0.0000, 0.0000, 0.0000, 0.0000, 0.0000,\n",
       "          0.0000, 0.0000, 0.0000, 0.0000],\n",
       "         [0.0000, 0.0000, 0.0000, 0.0000, 0.0000, 0.0000, 0.0000, 0.0000,\n",
       "          0.0000, 0.0000, 0.0000, 0.0431, 0.7451, 0.9922, 0.2745, 0.0000,\n",
       "          0.0000, 0.0000, 0.0000, 0.0000, 0.0000, 0.0000, 0.0000, 0.0000,\n",
       "          0.0000, 0.0000, 0.0000, 0.0000],\n",
       "         [0.0000, 0.0000, 0.0000, 0.0000, 0.0000, 0.0000, 0.0000, 0.0000,\n",
       "          0.0000, 0.0000, 0.0000, 0.0000, 0.1373, 0.9451, 0.8824, 0.6275,\n",
       "          0.4235, 0.0039, 0.0000, 0.0000, 0.0000, 0.0000, 0.0000, 0.0000,\n",
       "          0.0000, 0.0000, 0.0000, 0.0000],\n",
       "         [0.0000, 0.0000, 0.0000, 0.0000, 0.0000, 0.0000, 0.0000, 0.0000,\n",
       "          0.0000, 0.0000, 0.0000, 0.0000, 0.0000, 0.3176, 0.9412, 0.9922,\n",
       "          0.9922, 0.4667, 0.0980, 0.0000, 0.0000, 0.0000, 0.0000, 0.0000,\n",
       "          0.0000, 0.0000, 0.0000, 0.0000],\n",
       "         [0.0000, 0.0000, 0.0000, 0.0000, 0.0000, 0.0000, 0.0000, 0.0000,\n",
       "          0.0000, 0.0000, 0.0000, 0.0000, 0.0000, 0.0000, 0.1765, 0.7294,\n",
       "          0.9922, 0.9922, 0.5882, 0.1059, 0.0000, 0.0000, 0.0000, 0.0000,\n",
       "          0.0000, 0.0000, 0.0000, 0.0000],\n",
       "         [0.0000, 0.0000, 0.0000, 0.0000, 0.0000, 0.0000, 0.0000, 0.0000,\n",
       "          0.0000, 0.0000, 0.0000, 0.0000, 0.0000, 0.0000, 0.0000, 0.0627,\n",
       "          0.3647, 0.9882, 0.9922, 0.7333, 0.0000, 0.0000, 0.0000, 0.0000,\n",
       "          0.0000, 0.0000, 0.0000, 0.0000],\n",
       "         [0.0000, 0.0000, 0.0000, 0.0000, 0.0000, 0.0000, 0.0000, 0.0000,\n",
       "          0.0000, 0.0000, 0.0000, 0.0000, 0.0000, 0.0000, 0.0000, 0.0000,\n",
       "          0.0000, 0.9765, 0.9922, 0.9765, 0.2510, 0.0000, 0.0000, 0.0000,\n",
       "          0.0000, 0.0000, 0.0000, 0.0000],\n",
       "         [0.0000, 0.0000, 0.0000, 0.0000, 0.0000, 0.0000, 0.0000, 0.0000,\n",
       "          0.0000, 0.0000, 0.0000, 0.0000, 0.0000, 0.0000, 0.1804, 0.5098,\n",
       "          0.7176, 0.9922, 0.9922, 0.8118, 0.0078, 0.0000, 0.0000, 0.0000,\n",
       "          0.0000, 0.0000, 0.0000, 0.0000],\n",
       "         [0.0000, 0.0000, 0.0000, 0.0000, 0.0000, 0.0000, 0.0000, 0.0000,\n",
       "          0.0000, 0.0000, 0.0000, 0.0000, 0.1529, 0.5804, 0.8980, 0.9922,\n",
       "          0.9922, 0.9922, 0.9804, 0.7137, 0.0000, 0.0000, 0.0000, 0.0000,\n",
       "          0.0000, 0.0000, 0.0000, 0.0000],\n",
       "         [0.0000, 0.0000, 0.0000, 0.0000, 0.0000, 0.0000, 0.0000, 0.0000,\n",
       "          0.0000, 0.0000, 0.0941, 0.4471, 0.8667, 0.9922, 0.9922, 0.9922,\n",
       "          0.9922, 0.7882, 0.3059, 0.0000, 0.0000, 0.0000, 0.0000, 0.0000,\n",
       "          0.0000, 0.0000, 0.0000, 0.0000],\n",
       "         [0.0000, 0.0000, 0.0000, 0.0000, 0.0000, 0.0000, 0.0000, 0.0000,\n",
       "          0.0902, 0.2588, 0.8353, 0.9922, 0.9922, 0.9922, 0.9922, 0.7765,\n",
       "          0.3176, 0.0078, 0.0000, 0.0000, 0.0000, 0.0000, 0.0000, 0.0000,\n",
       "          0.0000, 0.0000, 0.0000, 0.0000],\n",
       "         [0.0000, 0.0000, 0.0000, 0.0000, 0.0000, 0.0000, 0.0706, 0.6706,\n",
       "          0.8588, 0.9922, 0.9922, 0.9922, 0.9922, 0.7647, 0.3137, 0.0353,\n",
       "          0.0000, 0.0000, 0.0000, 0.0000, 0.0000, 0.0000, 0.0000, 0.0000,\n",
       "          0.0000, 0.0000, 0.0000, 0.0000],\n",
       "         [0.0000, 0.0000, 0.0000, 0.0000, 0.2157, 0.6745, 0.8863, 0.9922,\n",
       "          0.9922, 0.9922, 0.9922, 0.9569, 0.5216, 0.0431, 0.0000, 0.0000,\n",
       "          0.0000, 0.0000, 0.0000, 0.0000, 0.0000, 0.0000, 0.0000, 0.0000,\n",
       "          0.0000, 0.0000, 0.0000, 0.0000],\n",
       "         [0.0000, 0.0000, 0.0000, 0.0000, 0.5333, 0.9922, 0.9922, 0.9922,\n",
       "          0.8314, 0.5294, 0.5176, 0.0627, 0.0000, 0.0000, 0.0000, 0.0000,\n",
       "          0.0000, 0.0000, 0.0000, 0.0000, 0.0000, 0.0000, 0.0000, 0.0000,\n",
       "          0.0000, 0.0000, 0.0000, 0.0000],\n",
       "         [0.0000, 0.0000, 0.0000, 0.0000, 0.0000, 0.0000, 0.0000, 0.0000,\n",
       "          0.0000, 0.0000, 0.0000, 0.0000, 0.0000, 0.0000, 0.0000, 0.0000,\n",
       "          0.0000, 0.0000, 0.0000, 0.0000, 0.0000, 0.0000, 0.0000, 0.0000,\n",
       "          0.0000, 0.0000, 0.0000, 0.0000],\n",
       "         [0.0000, 0.0000, 0.0000, 0.0000, 0.0000, 0.0000, 0.0000, 0.0000,\n",
       "          0.0000, 0.0000, 0.0000, 0.0000, 0.0000, 0.0000, 0.0000, 0.0000,\n",
       "          0.0000, 0.0000, 0.0000, 0.0000, 0.0000, 0.0000, 0.0000, 0.0000,\n",
       "          0.0000, 0.0000, 0.0000, 0.0000],\n",
       "         [0.0000, 0.0000, 0.0000, 0.0000, 0.0000, 0.0000, 0.0000, 0.0000,\n",
       "          0.0000, 0.0000, 0.0000, 0.0000, 0.0000, 0.0000, 0.0000, 0.0000,\n",
       "          0.0000, 0.0000, 0.0000, 0.0000, 0.0000, 0.0000, 0.0000, 0.0000,\n",
       "          0.0000, 0.0000, 0.0000, 0.0000]]])"
      ]
     },
     "execution_count": 47,
     "metadata": {},
     "output_type": "execute_result"
    }
   ],
   "source": [
    "trainset[0][0]"
   ]
  },
  {
   "cell_type": "code",
   "execution_count": 48,
   "metadata": {},
   "outputs": [
    {
     "name": "stdout",
     "output_type": "stream",
     "text": [
      "(1, 28, 28)\n"
     ]
    },
    {
     "name": "stderr",
     "output_type": "stream",
     "text": [
      "C:\\Users\\Playdata\\AppData\\Local\\Temp\\ipykernel_15608\\3670598540.py:2: DeprecationWarning: __array__ implementation doesn't accept a copy keyword, so passing copy=False failed. __array__ must implement 'dtype' and 'copy' keyword arguments.\n",
      "  a = np.array(trainset[0][0])  # PIL.Image -> ndarray\n"
     ]
    },
    {
     "data": {
      "text/plain": [
       "(<function ndarray.min>, np.float32(1.0))"
      ]
     },
     "execution_count": 48,
     "metadata": {},
     "output_type": "execute_result"
    }
   ],
   "source": [
    "import numpy as np\n",
    "a = np.array(trainset[0][0])  # PIL.Image -> ndarray\n",
    "print(a.shape)\n",
    "a.min, a.max() "
   ]
  },
  {
   "cell_type": "code",
   "execution_count": 49,
   "metadata": {},
   "outputs": [
    {
     "name": "stdout",
     "output_type": "stream",
     "text": [
      "torch.Size([1, 28, 28])\n",
      "torch.float32 torch.FloatTensor\n",
      "tensor(0.) tensor(1.)\n"
     ]
    }
   ],
   "source": [
    "#######################3 transforms.ToTensor() 적용 후##############################\n",
    "\n",
    "f1 = trainset[0][0]\n",
    "print(f1.shape)    # ( 1: channel- grayscale,  28: height, 28:width)\n",
    "print(f1.dtype, f1.type())\n",
    "print(f1.min(), f1.max())"
   ]
  },
  {
   "cell_type": "code",
   "execution_count": 50,
   "metadata": {},
   "outputs": [
    {
     "name": "stdout",
     "output_type": "stream",
     "text": [
      "60000\n"
     ]
    },
    {
     "data": {
      "image/png": "[encoded data removed]",
      "text/plain": [
       "<Figure size 200x200 with 1 Axes>"
      ]
     },
     "metadata": {},
     "output_type": "display_data"
    }
   ],
   "source": [
    "# 시각화\n",
    "import random\n",
    "print(len(trainset))\n",
    "idx = random.randint(0, len(trainset))  # 0 ~ 60,000 사이 랜덤 정수를 반환.\n",
    "img, label = trainset[idx]\n",
    "\n",
    "plt.figure(figsize=(2, 2))\n",
    "plt.imshow(img.squeeze(), cmap=\"gray\") # (1, 28, 28) -> (28, 28) . # matplotlib 은 이미지를 (h, w, c) 로 전달해야함.\n",
    "plt.title(f\"{idx}\\n{label}\")\n",
    "plt.show()\n"
   ]
  },
  {
   "cell_type": "code",
   "execution_count": 51,
   "metadata": {},
   "outputs": [
    {
     "name": "stdout",
     "output_type": "stream",
     "text": [
      "Test객체.test()\n"
     ]
    }
   ],
   "source": [
    "# 객체를 함수처럼 사용.\n",
    "class Test:\n",
    "\n",
    "    def test(self):\n",
    "        print(\"Test객체.test()\")\n",
    "\n",
    "\n",
    "t = Test()\n",
    "t.test()"
   ]
  },
  {
   "cell_type": "code",
   "execution_count": 52,
   "metadata": {},
   "outputs": [
    {
     "name": "stdout",
     "output_type": "stream",
     "text": [
      "Test객체.test()\n"
     ]
    }
   ],
   "source": [
    "# 객체를 함수처럼 사용.\n",
    "class Test:\n",
    "\n",
    "    def __call__(self):\n",
    "        print(\"Test객체.test()\")\n",
    "\n",
    "\n",
    "t = Test()\n",
    "t()   # t.__call__():  --> callable (함수, 메소드, __call__() 정의한 객체)"
   ]
  },
  {
   "cell_type": "markdown",
   "metadata": {},
   "source": [
    "#### DataLoader"
   ]
  },
  {
   "cell_type": "code",
   "execution_count": 53,
   "metadata": {},
   "outputs": [],
   "source": [
    "# DataLoader : Dataset 의 데이터들을 모델에 제공하는 역할. 데이터들을 모델에 어떻게 제공할지 설정해서 생성.\n",
    "## Dataset: 데이터들을 가지고 있는 역할. 하나씩 조회하는 기능을 제공. \n",
    "train_loader = DataLoader(\n",
    "    trainset,  # Dataset\n",
    "    batch_size=batch_size, # batch size(256)\n",
    "    shuffle=True , # 모델에 데이터를 제공하기 전에 섞을지 여부. (default: False) True: 한 epoch 학습전에 섞는다.\n",
    "    drop_last=True,  # 모델에 제공할 데이터의 개수가 batch_size 보다 적으면 제공하지 않는다.(학습에 사용안함.)\n",
    ")\n",
    "\n",
    "test_loader = DataLoader(testset, batch_size=batch_size)\n"
   ]
  },
  {
   "cell_type": "code",
   "execution_count": 54,
   "metadata": {},
   "outputs": [
    {
     "data": {
      "text/plain": [
       "(234, 40)"
      ]
     },
     "execution_count": 54,
     "metadata": {},
     "output_type": "execute_result"
    }
   ],
   "source": [
    "# 1 epoch 당 step수\n",
    "len(train_loader), len(test_loader)"
   ]
  },
  {
   "cell_type": "code",
   "execution_count": 55,
   "metadata": {},
   "outputs": [
    {
     "data": {
      "text/plain": [
       "(60000, 10000)"
      ]
     },
     "execution_count": 55,
     "metadata": {},
     "output_type": "execute_result"
    }
   ],
   "source": [
    "# 데이터 개수.\n",
    "len(trainset), len(testset)"
   ]
  },
  {
   "cell_type": "markdown",
   "metadata": {
    "slideshow": {
     "slide_type": "slide"
    }
   },
   "source": [
    "### 모델 정의"
   ]
  },
  {
   "cell_type": "code",
   "execution_count": 56,
   "metadata": {},
   "outputs": [],
   "source": [
    "# subclass(상속) 방식\n",
    "## nn.Module 상속한 클래스를 정의\n",
    "## __init__(): 순전파 연산(추론)에 필요한 layer들을 생성.\n",
    "## forward(): 연산 로직을 정의"
   ]
  },
  {
   "cell_type": "code",
   "execution_count": 57,
   "metadata": {},
   "outputs": [],
   "source": [
    "class MNISTModel(nn.Module):\n",
    "    def __init__(self):\n",
    "        super().__init__() # 상위 클래스의 nn.Module을 초기화.\n",
    "        # 입력 input feature 개수, 출력 output \n",
    "        # 첫번째 Linear() : 입력데이터(X_train)을 입력. (input- 입력데이터 feature 수에 맞춘다.)\n",
    "        self.lr1 = nn.Linear(784, 128)  # (784: image의 pixcel 수, 출력: 128)  출력은 찾은 특징으로, 차원을 축소한 값? 이라고 보면 된다.\n",
    "        self.lr2 = nn.Linear(128, 64)   # (128: lr1 의 출력개수, 출력: 64)\n",
    "        self.lr3 = nn.Linear(64, 32)    # (64: lr2 의 출력개수, 출력: 32)\n",
    "        self.lr4 = nn.Linear(32, 10)    # (32: lr3 의 출력개수, 출력: 10 -> y의 class 개수.)\n",
    "    # 마지막 Linear(): 출력 크기(10 - )\n",
    "    def forward(self, X):\n",
    "        \"\"\"X를 입력 받아서 y를 추론하는 계산로직을 정의\n",
    "        initializer에서 정의한 Linear들을 이용해서 계산.\n",
    "        parameter:\n",
    "            X: torch.FloatTensor - 추론할 MNIST 이미지들.\n",
    "                                   Shape: (batch_size, 1, 28, 28) - batch_size 개수의 이미를 받아서 추론.\n",
    "        \"\"\"\n",
    "        # (batch_size, 1, 28, 28) 를 (batch_size, 784) Feature들을 1차원으로 변환.\n",
    "        X = torch.flatten(X, start_dim=1) # 다차원 배열을 1차원 배열로 변환. (start_dim=1, 0축은 놔두고 1축 부터 flatten 시킨다.)\n",
    "        X = self.lr1(X)   # 정의된 선형 변환 레이어\n",
    "        X = nn.ReLU()(X)  # 객체를 호출, 비선형 함수. 선형 레이어의 출력에 ReLU(Rectified Linear Unit) Activation(활성화) 함수를 적용\n",
    "        X = self.lr2(X)\n",
    "        X = nn.ReLU()(X)  # 비선형성을 추가하여 네트워크의 표현력을 높힘. 비선형함수.ReLU(x) - max(x, 0)\n",
    "        X = self.lr3(X)\n",
    "        X = nn.ReLU()(X)\n",
    "        output = self.lr4(X)\n",
    "        return output\n"
   ]
  },
  {
   "cell_type": "markdown",
   "metadata": {},
   "source": [
    "#### ReLU: rectified linear unit (렐루, 정류 선형 유닛, 정류 선형 단위)\n",
    "        # ReLU(렐루)는 인공신경망에서 사용되는 활성화 함수의 일종이다. ReLU의 수학적 표현은 f(x) = max(0, x)로, \n",
    "        # 입력값이 0보다 크면 그 값을 그대로 출력하고, 0 이하면 0을 출력한다. \n",
    "        # 이 단순한 비선형성 때문에, ReLU는 신경망의 학습 속도를 개선하고, \n",
    "        # 이전에 많이 사용되던 시그모이드 함수나 하이퍼볼릭 탄젠트 함수보다 효율적으로 깊은 네트워크를 학습시킬 수 있다.\n",
    "\n",
    "        # ReLU의 주된 장점은 계산 효율성과 비선형적 특성 때문에 더 복잡한 함수를 모델링할 수 있다는 것이다. \n",
    "        # 그러나 ReLU는 '죽은 뉴런' 문제를 가지고 있는데, 이는 네트워크의 일부 뉴런이 학습 과정에서 더 이상 활성화되지 않는 현상을 말한다. \n",
    "        # 이를 해결하기 위해 Leaky ReLU, Parametric ReLU 등의 변형된 ReLU 함수들이 개발되었다."
   ]
  },
  {
   "cell_type": "code",
   "execution_count": 58,
   "metadata": {},
   "outputs": [
    {
     "name": "stdout",
     "output_type": "stream",
     "text": [
      "torch.Size([5, 2, 3])\n"
     ]
    },
    {
     "data": {
      "text/plain": [
       "torch.Size([5, 6])"
      ]
     },
     "execution_count": 58,
     "metadata": {},
     "output_type": "execute_result"
    }
   ],
   "source": [
    "##### flatten() 함수 테스트\n",
    "v = torch.arange(30).reshape(5, 2, 3)\n",
    "print(v.shape)\n",
    "v2 = torch.flatten(v, start_dim=1)\n",
    "v2.shape"
   ]
  },
  {
   "cell_type": "code",
   "execution_count": 59,
   "metadata": {},
   "outputs": [
    {
     "data": {
      "text/plain": [
       "tensor([[ 0,  1,  2,  3,  4,  5],\n",
       "        [ 6,  7,  8,  9, 10, 11],\n",
       "        [12, 13, 14, 15, 16, 17],\n",
       "        [18, 19, 20, 21, 22, 23],\n",
       "        [24, 25, 26, 27, 28, 29]])"
      ]
     },
     "execution_count": 59,
     "metadata": {},
     "output_type": "execute_result"
    }
   ],
   "source": [
    "v2"
   ]
  },
  {
   "cell_type": "markdown",
   "metadata": {},
   "source": [
    "### Train"
   ]
  },
  {
   "cell_type": "markdown",
   "metadata": {},
   "source": [
    "#### 모델, loss function, optimizer 생성"
   ]
  },
  {
   "cell_type": "code",
   "execution_count": 60,
   "metadata": {},
   "outputs": [
    {
     "name": "stdout",
     "output_type": "stream",
     "text": [
      "MNISTModel(\n",
      "  (lr1): Linear(in_features=784, out_features=128, bias=True)\n",
      "  (lr2): Linear(in_features=128, out_features=64, bias=True)\n",
      "  (lr3): Linear(in_features=64, out_features=32, bias=True)\n",
      "  (lr4): Linear(in_features=32, out_features=10, bias=True)\n",
      ")\n"
     ]
    }
   ],
   "source": [
    "# 모델 객체 생성. device로 옮김.\n",
    "model = MNISTModel().to(device) # 이 모델(의 파라미터들)의 연산을 처리할 device(cpu, cuda)로 이동.\n",
    "print(model)"
   ]
  },
  {
   "cell_type": "code",
   "execution_count": 61,
   "metadata": {},
   "outputs": [
    {
     "ename": "TypeError",
     "evalue": "Linear.__init__() missing 2 required positional arguments: 'in_features' and 'out_features'",
     "output_type": "error",
     "traceback": [
      "\u001b[1;31m---------------------------------------------------------------------------\u001b[0m",
      "\u001b[1;31mTypeError\u001b[0m                                 Traceback (most recent call last)",
      "Cell \u001b[1;32mIn[61], line 1\u001b[0m\n\u001b[1;32m----> 1\u001b[0m \u001b[43mnn\u001b[49m\u001b[38;5;241;43m.\u001b[39;49m\u001b[43mLinear\u001b[49m\u001b[43m(\u001b[49m\u001b[43m)\u001b[49m\n\u001b[0;32m      2\u001b[0m W \u001b[38;5;241m=\u001b[39m torch\u001b[38;5;241m.\u001b[39mtensor(r_g\u001b[38;5;241m=\u001b[39m\u001b[38;5;28;01mTrue\u001b[39;00m, device\u001b[38;5;241m=\u001b[39m\u001b[38;5;124m\"\u001b[39m\u001b[38;5;124mcpu\u001b[39m\u001b[38;5;124m\"\u001b[39m)\n\u001b[0;32m      3\u001b[0m X \u001b[38;5;241m@\u001b[39m W \u001b[38;5;241m+\u001b[39m B\n",
      "\u001b[1;31mTypeError\u001b[0m: Linear.__init__() missing 2 required positional arguments: 'in_features' and 'out_features'"
     ]
    }
   ],
   "source": [
    "nn.Linear()\n",
    "W = torch.tensor(r_g=True, device=\"cpu\")\n",
    "X @ W + B"
   ]
  },
  {
   "cell_type": "code",
   "execution_count": 62,
   "metadata": {},
   "outputs": [],
   "source": [
    "# loss 함수\n",
    "## 다중 분류 문제 -> crossentropy loss 함수를 이용. (이진분류: binary crossentropy, 회귀: mse)\n",
    "loss_fn = nn.CrossEntropyLoss() # torch.nn.functional.cross_entropy 함수."
   ]
  },
  {
   "cell_type": "code",
   "execution_count": 63,
   "metadata": {},
   "outputs": [],
   "source": [
    "# optimizer 정의 -> 파라미터 업데이트, 파라미터의 gradient 값을 초기화.\n",
    "optimizer = torch.optim.Adam(model.parameters(), lr=lr) # (모델의 파라미터들, 학습률)"
   ]
  },
  {
   "cell_type": "code",
   "execution_count": 64,
   "metadata": {},
   "outputs": [
    {
     "data": {
      "text/plain": [
       "(torch.Size([256, 1, 28, 28]), torch.Size([256]))"
      ]
     },
     "execution_count": 64,
     "metadata": {},
     "output_type": "execute_result"
    }
   ],
   "source": [
    "########### 생성한 모델로 학습전 추론.###########\n",
    "# Data\n",
    "X_batch, y_batch = next(iter(train_loader))  # batch_size 만큼 데이터를 추출, (X, y)\n",
    "X_batch.shape, y_batch.shape"
   ]
  },
  {
   "cell_type": "code",
   "execution_count": 65,
   "metadata": {},
   "outputs": [],
   "source": [
    "# X, y를 model과 같은 device로 이동.\n",
    "X_batch, y_batch = X_batch.to(device), y_batch.to(device)"
   ]
  },
  {
   "cell_type": "code",
   "execution_count": 66,
   "metadata": {},
   "outputs": [],
   "source": [
    "y_pred = model(X_batch)"
   ]
  },
  {
   "cell_type": "code",
   "execution_count": null,
   "metadata": {},
   "outputs": [],
   "source": []
  },
  {
   "cell_type": "code",
   "execution_count": 67,
   "metadata": {},
   "outputs": [
    {
     "data": {
      "text/plain": [
       "tensor([-0.0743,  0.1555, -0.1143, -0.0282, -0.1155, -0.1220,  0.0166, -0.0582,\n",
       "         0.0727, -0.2422], grad_fn=<SelectBackward0>)"
      ]
     },
     "execution_count": 67,
     "metadata": {},
     "output_type": "execute_result"
    }
   ],
   "source": [
    "# 첫번째 데이터의 예측결과\n",
    "y_pred[0]  # 가장 큰값을 가진 index가 예측 class 가 된다."
   ]
  },
  {
   "cell_type": "code",
   "execution_count": 68,
   "metadata": {},
   "outputs": [
    {
     "data": {
      "text/plain": [
       "tensor(1)"
      ]
     },
     "execution_count": 68,
     "metadata": {},
     "output_type": "execute_result"
    }
   ],
   "source": [
    "y_pred[0].argmax()"
   ]
  },
  {
   "cell_type": "code",
   "execution_count": 69,
   "metadata": {},
   "outputs": [
    {
     "data": {
      "text/plain": [
       "tensor([1, 1, 1, 1, 1, 1, 1, 1, 1, 1, 1, 1, 1, 1, 1, 1, 1, 1, 1, 1, 1, 1, 1, 1,\n",
       "        1, 1, 1, 1, 1, 1, 1, 1, 1, 1, 1, 1, 1, 1, 1, 1, 1, 1, 1, 1, 1, 1, 1, 1,\n",
       "        1, 1, 1, 1, 1, 1, 1, 1, 1, 1, 1, 1, 1, 1, 1, 1, 1, 1, 1, 1, 1, 1, 1, 1,\n",
       "        1, 1, 1, 1, 1, 1, 1, 1, 1, 1, 1, 1, 1, 1, 1, 1, 1, 1, 1, 1, 1, 1, 1, 1,\n",
       "        1, 1, 1, 1, 1, 1, 1, 1, 1, 1, 1, 1, 1, 1, 1, 1, 1, 1, 1, 1, 1, 1, 1, 1,\n",
       "        1, 1, 1, 1, 1, 1, 1, 1, 1, 1, 1, 1, 1, 1, 1, 1, 1, 1, 1, 1, 1, 1, 1, 1,\n",
       "        1, 1, 1, 1, 1, 1, 1, 1, 1, 1, 1, 1, 1, 1, 1, 1, 1, 1, 1, 1, 1, 1, 1, 1,\n",
       "        1, 1, 1, 1, 1, 1, 1, 1, 1, 1, 1, 1, 1, 1, 1, 1, 1, 1, 1, 1, 1, 1, 1, 1,\n",
       "        1, 1, 1, 1, 1, 1, 1, 1, 1, 1, 1, 1, 1, 1, 1, 1, 1, 1, 1, 1, 1, 1, 1, 1,\n",
       "        1, 1, 1, 1, 1, 1, 1, 1, 1, 1, 1, 1, 1, 1, 1, 1, 1, 1, 1, 1, 1, 1, 1, 1,\n",
       "        1, 1, 1, 1, 1, 1, 1, 1, 1, 1, 1, 1, 1, 1, 1, 1])"
      ]
     },
     "execution_count": 69,
     "metadata": {},
     "output_type": "execute_result"
    }
   ],
   "source": [
    "y_pred.argmax(dim=-1)"
   ]
  },
  {
   "cell_type": "code",
   "execution_count": 70,
   "metadata": {},
   "outputs": [
    {
     "data": {
      "text/plain": [
       "tensor([2, 3, 1, 0, 7, 6, 3, 0, 9, 3, 4, 2, 9, 8, 9, 1, 3, 4, 6, 0, 8, 2, 5, 4,\n",
       "        5, 6, 7, 6, 2, 8, 7, 9, 6, 3, 3, 8, 5, 8, 7, 4, 8, 2, 8, 6, 7, 1, 9, 6,\n",
       "        3, 8, 7, 6, 7, 3, 8, 7, 2, 2, 2, 7, 2, 0, 4, 6, 5, 8, 5, 5, 1, 7, 0, 0,\n",
       "        9, 5, 3, 9, 3, 8, 1, 5, 9, 1, 1, 3, 2, 3, 8, 9, 4, 8, 1, 8, 3, 6, 8, 5,\n",
       "        6, 6, 1, 4, 2, 4, 8, 9, 0, 0, 6, 8, 6, 4, 8, 9, 4, 9, 0, 1, 8, 2, 3, 2,\n",
       "        0, 2, 8, 8, 4, 9, 2, 5, 7, 8, 1, 0, 9, 8, 8, 1, 9, 6, 3, 1, 7, 9, 6, 3,\n",
       "        2, 8, 3, 9, 3, 2, 0, 3, 6, 8, 0, 9, 6, 4, 2, 1, 1, 7, 8, 0, 7, 0, 0, 6,\n",
       "        6, 4, 1, 1, 1, 2, 4, 3, 0, 9, 6, 4, 1, 9, 6, 2, 4, 8, 6, 7, 1, 4, 8, 2,\n",
       "        7, 2, 8, 1, 0, 8, 2, 2, 5, 4, 6, 3, 2, 5, 0, 6, 6, 9, 5, 2, 0, 5, 9, 7,\n",
       "        7, 4, 9, 3, 6, 4, 1, 4, 7, 3, 3, 8, 9, 4, 4, 9, 2, 4, 7, 3, 9, 1, 5, 9,\n",
       "        9, 2, 2, 6, 3, 7, 9, 1, 7, 0, 8, 2, 6, 0, 4, 6])"
      ]
     },
     "execution_count": 70,
     "metadata": {},
     "output_type": "execute_result"
    }
   ],
   "source": [
    "y_batch"
   ]
  },
  {
   "cell_type": "code",
   "execution_count": 71,
   "metadata": {},
   "outputs": [
    {
     "data": {
      "text/plain": [
       "tensor(2.3041, grad_fn=<NllLossBackward0>)"
      ]
     },
     "execution_count": 71,
     "metadata": {},
     "output_type": "execute_result"
    }
   ],
   "source": [
    "# 오차 계산\n",
    "loss = loss_fn(y_pred, y_batch)\n",
    "loss"
   ]
  },
  {
   "cell_type": "code",
   "execution_count": 72,
   "metadata": {},
   "outputs": [],
   "source": [
    "# 모델 파라미터 업데이트\n",
    "## gradient\n",
    "loss.backward()\n",
    "## 업데이트\n",
    "optimizer.step()"
   ]
  },
  {
   "cell_type": "code",
   "execution_count": 73,
   "metadata": {},
   "outputs": [],
   "source": [
    "## 파라미터 gradient 초기화\n",
    "optimizer.zero_grad()\n",
    "################################################ 1 step 학습."
   ]
  },
  {
   "cell_type": "markdown",
   "metadata": {},
   "source": [
    "#### 학습(훈련-train) 및 검증"
   ]
  },
  {
   "cell_type": "code",
   "execution_count": 74,
   "metadata": {},
   "outputs": [],
   "source": [
    "# device 로 이동할 대상: Model객체, X(input), y(output) => 항상 같은 device에 위치해야함."
   ]
  },
  {
   "cell_type": "code",
   "execution_count": 75,
   "metadata": {},
   "outputs": [],
   "source": [
    "model = MNISTModel().to(device)\n",
    "loss_fn = nn.CrossEntropyLoss()\n",
    "oprtimizer = torch.optim.Adam(model.parameters(), lr=lr)"
   ]
  },
  {
   "cell_type": "code",
   "execution_count": 76,
   "metadata": {},
   "outputs": [
    {
     "name": "stdout",
     "output_type": "stream",
     "text": [
      "[01/20] train_loss: 2.314736825788123, valid_loss: 0.05774564146995544, valid_acc: 0.0982\n",
      "[02/20] train_loss: 2.3147159152560763, valid_loss: 0.05774564146995544, valid_acc: 0.0982\n",
      "[03/20] train_loss: 2.3147035419431505, valid_loss: 0.05774564146995544, valid_acc: 0.0982\n",
      "[04/20] train_loss: 2.314720408529298, valid_loss: 0.05774564146995544, valid_acc: 0.0982\n",
      "[05/20] train_loss: 2.314693041336842, valid_loss: 0.05774564146995544, valid_acc: 0.0982\n",
      "[06/20] train_loss: 2.314666099018521, valid_loss: 0.05774564146995544, valid_acc: 0.0982\n",
      "[07/20] train_loss: 2.3147189668101125, valid_loss: 0.05774564146995544, valid_acc: 0.0982\n",
      "[08/20] train_loss: 2.3146791743417072, valid_loss: 0.05774564146995544, valid_acc: 0.0982\n",
      "[09/20] train_loss: 2.3146693339714637, valid_loss: 0.05774564146995544, valid_acc: 0.0982\n",
      "[10/20] train_loss: 2.314687546501812, valid_loss: 0.05774564146995544, valid_acc: 0.0982\n",
      "[11/20] train_loss: 2.314682244235634, valid_loss: 0.05774564146995544, valid_acc: 0.0982\n",
      "[12/20] train_loss: 2.3147247673099876, valid_loss: 0.05774564146995544, valid_acc: 0.0982\n",
      "[13/20] train_loss: 2.3147014369312515, valid_loss: 0.05774564146995544, valid_acc: 0.0982\n",
      "[14/20] train_loss: 2.3147083337490377, valid_loss: 0.05774564146995544, valid_acc: 0.0982\n",
      "[15/20] train_loss: 2.3147217942099285, valid_loss: 0.05774564146995544, valid_acc: 0.0982\n",
      "[16/20] train_loss: 2.3147255345287485, valid_loss: 0.05774564146995544, valid_acc: 0.0982\n",
      "[17/20] train_loss: 2.314678009758648, valid_loss: 0.05774564146995544, valid_acc: 0.0982\n",
      "[18/20] train_loss: 2.3146931228474674, valid_loss: 0.05774564146995544, valid_acc: 0.0982\n",
      "[19/20] train_loss: 2.3146840924890633, valid_loss: 0.05774564146995544, valid_acc: 0.0982\n",
      "[20/20] train_loss: 2.314705347403502, valid_loss: 0.05774564146995544, valid_acc: 0.0982\n",
      "학습에 걸린 시간(초): 63.98121905326843\n"
     ]
    }
   ],
   "source": [
    "import time\n",
    "# 학습\n",
    "## epoch별 검즘결과들을 저장할 리스트.\n",
    "train_loss_list = []\n",
    "valid_loss_list = []\n",
    "valid_acc_list = []\n",
    "s = time.time()\n",
    "\n",
    "# 학습-중첩 반복문: epoch 반복 -> step(batch_size) 에 대한 반복\n",
    "for epoch in range(epochs):\n",
    "    #########################################\n",
    "    # 모델 Train - 1 epoch : Trainset\n",
    "    #########################################\n",
    "    model.train() # 모델을 train 모드로 변환.\n",
    "    train_loss = 0 # 현재 epoch의 train loss 를 저장할 변수.\n",
    "\n",
    "    # batch 단위로 학습 -> 1 step: 1개 batch의 데이터로 학습.\n",
    "    for X_train, y_train in train_loader: # 한번 반복할 때마다 1개 batch 데이터를 순서대로 제공.\n",
    "        # 1. device로 이동\n",
    "        X_train, y_train = X_train.to(device), y_train.to(device)\n",
    "        # 2. 모델을 이용해 추론\n",
    "        pred = model(X_train)  # Model.forward(X_train) 메소드 호출\n",
    "        # 3. loss 계산\n",
    "        loss = loss_fn(pred, y_train)\n",
    "        # 4. gradient 계산\n",
    "        loss.backward()\n",
    "        # 5. 모델의 파라미터들(weight, bias) update\n",
    "        optimizer.step()\n",
    "        # 6. gradient 초기화\n",
    "        optimizer.zero_grad()\n",
    "        #-----------------------1 step 학습 \n",
    "        train_loss = train_loss + loss.item() # 학습 결과 저장 및 출력을 위해  loss 저장.\n",
    "       \n",
    "    train_loss = train_loss / len(train_loader)  # 1 epoch 학습한 loss 평균 계산.\n",
    "    train_loss_list.append(train_loss)\n",
    " # 1 epoch 끝남.\n",
    "\n",
    "\n",
    "    ########################################\n",
    "    # 1 epoch 학습한 결과 검증 : Testsets\n",
    "    ########################################\n",
    "    model.eval()  # 모델을 evaluaton() (추론, 검증) 모드로 변환.\n",
    "    valid_loss = 0\n",
    "    valid_acc = 0\n",
    "    with torch.no_grad(): # 추론만 함 -> gradient 계산할 필요가 없음. -> grad_fn 구할 필요없음.\n",
    "        for X_valid, y_valid in test_loader:\n",
    "            # 1. device 로 이동\n",
    "            X_valid, y_valid = X_valid.to(device), y_valid.to(device)\n",
    "            # 2. 추론\n",
    "            pred_valid = model(X_valid)\n",
    "            # 3-1. 검증 -> loss\n",
    "            valid_loss = valid_loss = loss_fn(pred_valid, y_valid).item()\n",
    "            # 3-2. 검증 -> accuracy\n",
    "            ## pred_valid shape: (256, 10: class별 확률) -> 정답 class 추출\n",
    "            pred_valid_class = pred_valid.argmax(dim=-1)\n",
    "            valid_acc = valid_acc + torch.sum(y_valid == pred_valid_class).item()\n",
    "        # 검증결과 누적갑의 평균\n",
    "        valid_loss = valid_loss / len(test_loader) # step수 나눔.\n",
    "        valid_acc = valid_acc / len(testset)       # data 개수로 나눔.\n",
    "        valid_loss_list.append(valid_loss)\n",
    "        valid_acc_list.append(valid_acc)\n",
    "\n",
    "\n",
    "        # 검증 결과 출력\n",
    "        print(f\"[{epoch+1:02d}/{epochs}] train_loss: {train_loss}, valid_loss: {valid_loss}, valid_acc: {valid_acc}\")\n",
    "            \n",
    "e = time.time()\n",
    "print('학습에 걸린 시간(초):', e-s)"
   ]
  },
  {
   "cell_type": "markdown",
   "metadata": {},
   "source": [
    "#### 학습 로그 시각화"
   ]
  },
  {
   "cell_type": "code",
   "execution_count": 141,
   "metadata": {},
   "outputs": [
    {
     "data": {
      "image/png": "[encoded data removed]",
      "text/plain": [
       "<Figure size 1000x500 with 2 Axes>"
      ]
     },
     "metadata": {},
     "output_type": "display_data"
    }
   ],
   "source": [
    "# train loss, valid loss, valid acc를 epoch별로 어떻게 변하는지 시각화\n",
    "plt.figure(figsize=(10, 5))\n",
    "plt.subplot(1, 2, 1)\n",
    "plt.plot(range(1, epochs+1), train_loss_list, label=\"train loss\")\n",
    "plt.plot(range(1, epochs+1), valid_loss_list, label=\"valid loss\")\n",
    "plt.title(\"Loss\")\n",
    "plt.grid(True, linestyle=\":\")\n",
    "plt.legend()\n",
    "\n",
    "plt.subplot(1,2,2)\n",
    "plt.plot(range(1, epochs+1), valid_acc_list)\n",
    "plt.title(\"valid accuracy\")\n",
    "\n",
    "plt.tight_layout()\n",
    "plt.grid(True, linestyle=\":\")\n",
    "plt.show()"
   ]
  },
  {
   "cell_type": "markdown",
   "metadata": {},
   "source": [
    "### 학습된 모델 저장 및 불러오기"
   ]
  },
  {
   "cell_type": "code",
   "execution_count": 79,
   "metadata": {},
   "outputs": [
    {
     "data": {
      "text/plain": [
       "'models\\\\mnist_model.pt'"
      ]
     },
     "execution_count": 79,
     "metadata": {},
     "output_type": "execute_result"
    }
   ],
   "source": [
    "import os\n",
    "model_dir = \"models\"\n",
    "save_path = os.path.join(model_dir, \"mnist_model.pt\")\n",
    "save_path"
   ]
  },
  {
   "cell_type": "code",
   "execution_count": 80,
   "metadata": {},
   "outputs": [],
   "source": [
    "# 모델 저장 : 파일 확장자 -pt, pth\n",
    "torch.save(model, save_path) # (저장할모델, 파일명_저장경로)"
   ]
  },
  {
   "cell_type": "code",
   "execution_count": 81,
   "metadata": {},
   "outputs": [
    {
     "name": "stdout",
     "output_type": "stream",
     "text": [
      "MNISTModel(\n",
      "  (lr1): Linear(in_features=784, out_features=128, bias=True)\n",
      "  (lr2): Linear(in_features=128, out_features=64, bias=True)\n",
      "  (lr3): Linear(in_features=64, out_features=32, bias=True)\n",
      "  (lr4): Linear(in_features=32, out_features=10, bias=True)\n",
      ")\n"
     ]
    },
    {
     "name": "stderr",
     "output_type": "stream",
     "text": [
      "C:\\Users\\Playdata\\AppData\\Local\\Temp\\ipykernel_15608\\1575572777.py:2: FutureWarning: You are using `torch.load` with `weights_only=False` (the current default value), which uses the default pickle module implicitly. It is possible to construct malicious pickle data which will execute arbitrary code during unpickling (See https://github.com/pytorch/pytorch/blob/main/SECURITY.md#untrusted-models for more details). In a future release, the default value for `weights_only` will be flipped to `True`. This limits the functions that could be executed during unpickling. Arbitrary objects will no longer be allowed to be loaded via this mode unless they are explicitly allowlisted by the user via `torch.serialization.add_safe_globals`. We recommend you start setting `weights_only=True` for any use case where you don't have full control of the loaded file. Please open an issue on GitHub for any issues related to this experimental feature.\n",
      "  load_model = torch.load(save_path)\n"
     ]
    }
   ],
   "source": [
    "# 저장된 모델 load(불러오기)\n",
    "load_model = torch.load(save_path)\n",
    "print(load_model)"
   ]
  },
  {
   "cell_type": "code",
   "execution_count": null,
   "metadata": {},
   "outputs": [],
   "source": []
  },
  {
   "cell_type": "markdown",
   "metadata": {},
   "source": [
    "## 모델 성능 최종 평가"
   ]
  },
  {
   "cell_type": "code",
   "execution_count": 82,
   "metadata": {},
   "outputs": [],
   "source": [
    "load_model = load_model.to(device)\n",
    "load_model.eval() # 평가모드\n",
    "\n",
    "\n",
    "test_loss = test_acc = 0\n",
    "with torch.no_grad():\n",
    "    for X_test, y_test in test_loader:\n",
    "        \n",
    "        # device 이동\n",
    "        X_test, y_test = X_test.to(device), y_test.to(device)\n",
    "\n",
    "        # 추론\n",
    "        pred_test = load_model(X_test)\n",
    "\n",
    "        # 검증 - loss\n",
    "        loss_test = loss_fn(pred_test, y_test)\n",
    "        test_loss += loss_test.item()\n",
    "        \n",
    "        # 검증 - accuracy\n",
    "        ## class\n",
    "        pred_test_class = pred_test.argmax(dim=-1)\n",
    "        test_acc += torch.sum(pred_test_class == y_test).item()\n",
    "\n",
    "    test_loss = test_loss / len(test_loader)\n",
    "    test_acc = test_acc / len(testset)"
   ]
  },
  {
   "cell_type": "code",
   "execution_count": 83,
   "metadata": {},
   "outputs": [
    {
     "name": "stdout",
     "output_type": "stream",
     "text": [
      "2.315518283843994 0.0982\n"
     ]
    }
   ],
   "source": [
    "print(test_loss, test_acc)"
   ]
  },
  {
   "cell_type": "code",
   "execution_count": 84,
   "metadata": {},
   "outputs": [
    {
     "name": "stdout",
     "output_type": "stream",
     "text": [
      "torch.Size([16])\n"
     ]
    },
    {
     "data": {
      "text/plain": [
       "tensor([1, 2, 3, 4, 5, 6, 7, 8, 9, 0, 1, 2, 3, 4, 5, 6])"
      ]
     },
     "execution_count": 84,
     "metadata": {},
     "output_type": "execute_result"
    }
   ],
   "source": [
    "print(y_test.shape)\n",
    "y_test"
   ]
  },
  {
   "cell_type": "code",
   "execution_count": 85,
   "metadata": {},
   "outputs": [
    {
     "data": {
      "text/plain": [
       "torch.Size([16, 10])"
      ]
     },
     "execution_count": 85,
     "metadata": {},
     "output_type": "execute_result"
    }
   ],
   "source": [
    "p = load_model(X_test)\n",
    "p.shape"
   ]
  },
  {
   "cell_type": "code",
   "execution_count": 86,
   "metadata": {},
   "outputs": [],
   "source": [
    "p_class = p.argmax(dim=-1)"
   ]
  },
  {
   "cell_type": "code",
   "execution_count": 87,
   "metadata": {},
   "outputs": [
    {
     "data": {
      "text/plain": [
       "2"
      ]
     },
     "execution_count": 87,
     "metadata": {},
     "output_type": "execute_result"
    }
   ],
   "source": [
    "torch.sum(y_test == p_class).item()  # 맞은 것의 갯수."
   ]
  },
  {
   "cell_type": "markdown",
   "metadata": {
    "slideshow": {
     "slide_type": "slide"
    }
   },
   "source": [
    "## 새로운 데이터 추론"
   ]
  },
  {
   "cell_type": "code",
   "execution_count": 116,
   "metadata": {},
   "outputs": [],
   "source": [
    "from PIL import Image\n",
    "\n",
    "def load_data(device=\"cpu\", *path): # *path(가변인자) -  경로를 받는데 여러개의 인자를 받기 위해 지정.\n",
    "    \"\"\"\n",
    "    1. 전달 받은 경로의 이미지 파일들을 읽는다.\n",
    "    2. 28 x 28 로 resize\n",
    "    3. totch.tensor로 변화 + 전처리\n",
    "    4. device로 이동시킨 뒤 리턴\n",
    "    \"\"\"\n",
    "    input_tensors = []\n",
    "    for p in path:\n",
    "        img = Image.open(p)\n",
    "        img = img.convert(\"L\")  # grayscale로 변환.\n",
    "        img = img.resize((28, 28))  # 모델이 학습한 데이터 size(28, 28)로 변환.\n",
    "        img = transforms.ToTensor()(img) # ToTensor()(img) class 객체를 생성하고 콜함수를 작성해야함.\n",
    "        input_tensors.append(img)\n",
    "    \n",
    "    return torch.stack(input_tensors).to(device)\n"
   ]
  },
  {
   "cell_type": "code",
   "execution_count": null,
   "metadata": {},
   "outputs": [
    {
     "name": "stdout",
     "output_type": "stream",
     "text": [
      "<class 'PIL.Image.Image'>\n",
      "<class 'torch.Tensor'>\n"
     ]
    },
    {
     "data": {
      "text/plain": [
       "(tensor(1.), tensor(0.))"
      ]
     },
     "execution_count": 103,
     "metadata": {},
     "output_type": "execute_result"
    }
   ],
   "source": [
    "# 위 코드 작성의 테스트용\n",
    "# from PIL import Image\n",
    "# import numpy as np\n",
    "\n",
    "\n",
    "# a = Image.open(\"test_img/num/five.png\") # 이미지를 읽어서 PIL.Image 객체로 반환\n",
    "# a = a.convert(\"L\")  # rgba => grayscale(L)\n",
    "# a = a.resize((28, 28))\n",
    "# print(type(a))\n",
    "# a = transforms.ToTensor()(a)\n",
    "# print(type(a))\n",
    "\n",
    "# # an = np.array(a)\n",
    "# a.shape   # (48: height, 51: width, 4: channel) -> (48, 51)\n",
    "# a.max(), a.min()"
   ]
  },
  {
   "cell_type": "code",
   "execution_count": 125,
   "metadata": {},
   "outputs": [],
   "source": [
    "def predict(model, inputs, device=\"cpu\"):\n",
    "    \"\"\"\n",
    "    받은 model로 받은 inputsfmf 추론한 결과를 반환.\n",
    "    결과를 class들을 반환.\n",
    "    \"\"\"\n",
    "    with torch.no_grad():\n",
    "        model = model.to(device)\n",
    "        model.eval()\n",
    "        pred = model(inputs)\n",
    "        pred_class = pred.argmax(dim=-1)\n",
    "        return pred_class\n",
    "\n",
    "        # print(pred.shape)\n",
    "        # print(pred)\n",
    "        # print(pred.argmax(dim=-1))"
   ]
  },
  {
   "cell_type": "code",
   "execution_count": null,
   "metadata": {},
   "outputs": [
    {
     "data": {
      "text/plain": [
       "['test_img\\\\num\\\\eight.png',\n",
       " 'test_img\\\\num\\\\eight2.png',\n",
       " 'test_img\\\\num\\\\five.png',\n",
       " 'test_img\\\\num\\\\four.png',\n",
       " 'test_img\\\\num\\\\one.png',\n",
       " 'test_img\\\\num\\\\seven.png',\n",
       " 'test_img\\\\num\\\\seven2.png',\n",
       " 'test_img\\\\num\\\\seven3.png',\n",
       " 'test_img\\\\num\\\\three.png',\n",
       " 'test_img\\\\num\\\\three2.png',\n",
       " 'test_img\\\\num\\\\two.png',\n",
       " 'test_img\\\\num\\\\two2.png']"
      ]
     },
     "execution_count": 130,
     "metadata": {},
     "output_type": "execute_result"
    }
   ],
   "source": [
    "# glob을 이용해 테스트 이미지들의 경로 조회.\n",
    "from glob import glob\n",
    "file_list = glob(\"test_img/**/*.png\")  # 하위 디렉토리는 다 찾으려 할때는 **   # (\"test_img/num/eight.png\")\n",
    "file_list"
   ]
  },
  {
   "cell_type": "code",
   "execution_count": 131,
   "metadata": {},
   "outputs": [
    {
     "data": {
      "text/plain": [
       "tensor([4, 4, 4, 4, 4, 4, 4, 4, 4, 4, 4, 4])"
      ]
     },
     "execution_count": 131,
     "metadata": {},
     "output_type": "execute_result"
    }
   ],
   "source": [
    "r = load_data(device, *file_list)  # (device, \"test_img/num/eight.png\", \"test_img/num/eight2.png\")\n",
    "# r.shape, r.min(), r.max()\n",
    "result_pred = predict(load_model, r)\n",
    "result_pred"
   ]
  },
  {
   "cell_type": "code",
   "execution_count": null,
   "metadata": {},
   "outputs": [
    {
     "data": {
      "text/plain": [
       "0.0"
      ]
     },
     "execution_count": 128,
     "metadata": {},
     "output_type": "execute_result"
    }
   ],
   "source": [
    "# from sklearn.metrics import accuracy_score\n",
    "# accuracy_score([8, 8], result_pred)   # 정답을 모르고 모델을 예측하기 떄문에 의미가 없는 결과임."
   ]
  },
  {
   "cell_type": "code",
   "execution_count": 139,
   "metadata": {},
   "outputs": [
    {
     "data": {
      "image/png": "[encoded data removed]",
      "text/plain": [
       "<Figure size 1000x500 with 12 Axes>"
      ]
     },
     "metadata": {},
     "output_type": "display_data"
    }
   ],
   "source": [
    "plt.figure(figsize=(10, 5))\n",
    "for idx, (path, label) in enumerate(zip(file_list, result_pred)):\n",
    "    # print(idx, path, label, sep=\" , \")\n",
    "    img = Image.open(path).convert('L')\n",
    "    plt.subplot(3, 5, idx+1)  # 3, 4\n",
    "    plt.imshow(img, cmap=\"gray\")\n",
    "    plt.title(f\"예측결과: {label}\")\n",
    "    plt.axis(\"off\")\n",
    "\n",
    "plt.tight_layout()\n",
    "plt.show()"
   ]
  },
  {
   "cell_type": "code",
   "execution_count": null,
   "metadata": {},
   "outputs": [],
   "source": [
    "# a(w(a(w(a(w X + b)))))"
   ]
  },
  {
   "cell_type": "code",
   "execution_count": null,
   "metadata": {},
   "outputs": [],
   "source": []
  }
 ],
 "metadata": {
  "kernelspec": {
   "display_name": "Python 3 (ipykernel)",
   "language": "python",
   "name": "python3"
  },
  "language_info": {
   "codemirror_mode": {
    "name": "ipython",
    "version": 3
   },
   "file_extension": ".py",
   "mimetype": "text/x-python",
   "name": "python",
   "nbconvert_exporter": "python",
   "pygments_lexer": "ipython3",
   "version": "3.12.7"
  },
  "toc": {
   "base_numbering": 1,
   "nav_menu": {},
   "number_sections": false,
   "sideBar": true,
   "skip_h1_title": false,
   "title_cell": "Table of Contents",
   "title_sidebar": "Contents",
   "toc_cell": false,
   "toc_position": {},
   "toc_section_display": true,
   "toc_window_display": false
  },
  "varInspector": {
   "cols": {
    "lenName": 16,
    "lenType": 16,
    "lenVar": 40
   },
   "kernels_config": {
    "python": {
     "delete_cmd_postfix": "",
     "delete_cmd_prefix": "del ",
     "library": "var_list.py",
     "varRefreshCmd": "print(var_dic_list())"
    },
    "r": {
     "delete_cmd_postfix": ") ",
     "delete_cmd_prefix": "rm(",
     "library": "var_list.r",
     "varRefreshCmd": "cat(var_dic_list()) "
    }
   },
   "position": {
    "height": "347.844px",
    "left": "1891px",
    "right": "20px",
    "top": "361px",
    "width": "486px"
   },
   "types_to_exclude": [
    "module",
    "function",
    "builtin_function_or_method",
    "instance",
    "_Feature"
   ],
   "window_display": false
  }
 },
 "nbformat": 4,
 "nbformat_minor": 4
}
