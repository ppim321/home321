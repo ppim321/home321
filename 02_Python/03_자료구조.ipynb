{
 "cells": [
  {
   "cell_type": "code",
   "execution_count": null,
   "id": "6d38c38d-bbad-47b8-94f8-52d590b0ea52",
   "metadata": {},
   "outputs": [],
   "source": [
    "# 인사말 관련 모듈.\n",
    "__version__ = 1.0\n",
    "\n",
    "def print_greeting(name):\n",
    "    print(f\"{name}님 안녕하세요.\")\n",
    "\n",
    "def print_welcome(name):\n",
    "    print(f\"{name}님 환영합니다.\")\n",
    "\n",
    "def get_greeting(name):\n",
    "    return f\"{name}님 안녕하세요.\"\n",
    "\n",
    "class Hello:\n",
    "\n",
    "    def __init__(self, name):\n",
    "        self.name = name\n",
    "\n",
    "    def kor_greet(self):\n",
    "        return f\"{name}님 안녕하세요.\"\n",
    "\n",
    "    def eng_greet(self):\n",
    "         return f\"Hello {name}~!\"\n"
   ]
  },
  {
   "cell_type": "markdown",
   "id": "da193321",
   "metadata": {
    "jp-MarkdownHeadingCollapsed": true,
    "slideshow": {
     "slide_type": "slide"
    }
   },
   "source": [
    "# 자료구조란\n",
    "\n",
    "-   **여러 개의 값들을 모아서 관리**하는 데이터 타입.\n",
    "    -   한 개의 변수는 한 개의 값 밖에는 가지지 못한다. 그러나 하나의 변수로 여러 개의 값 관리해야 할 경우가 있다.\n",
    "    -   하나의 값이 여러개의 값들로 구성된 경우\n",
    "        -   한명의 고객 정보의 경우 이름, 나이, 주소, 전화번호 등 여러개의 값이 모여서 하나의 값이 된다.\n",
    "        -   한 반의 학생들의 이름들은 여러개의 이름들로 구성된다.\n",
    "-   파이썬은 데이터를 모으는 방식에 따라 다음과 같이 4개의 타입을 제공한다.\n",
    "    -   **List:** 순서가 있으며 중복된 값들을 모으는 것을 허용하고 구성하는 값들(원소)을 변경할 수 있다.\n",
    "    -   **Tuple:** 순서가 있으며 중복된 값들을 모으는 것을 허용하는데 구성하는 값들을 변경할 수 없다.\n",
    "    -   **Dictionary:** key-value 형태로 값들을 저장해 관리한다.\n",
    "    -   **Set:** 중복을 허용하지 않고 값들의 순서가 없다.\n",
    "-   **원소, 성분, 요소, element**\n",
    "    -   자료구조의 값들을 구성하는 개별 값들을 말한다.\n",
    "    -   len(자료구조) 함수\n",
    "        -   자료구조 내의 원소의 개수를 반환한다.\n"
   ]
  },
  {
   "cell_type": "markdown",
   "id": "84431cfd",
   "metadata": {
    "slideshow": {
     "slide_type": "slide"
    }
   },
   "source": [
    "# List (리스트)\n",
    "\n",
    "-   값들을 순서대로 모아서 관리하는 자료구조. 원소(element)들을 순번을 이용해 식별한다.\n",
    "    -   각각의 원소가 어떤 값인지를 index(순번)을 가지고 식별하기 때문에 **순서가 있고 그 순서가 매우 중요하다.** 즉 같은 값에 대해 순서가 바뀌면 안된다.\n",
    "-   각각의 원소들은 index를 이용해 식별한다.\n",
    "    -   index는 문자열과 마찮가지로 양수 index와 음수 index 두개가 각 값에 생긴다.\n",
    "    -   양수 index는 앞에서부터 음수 index는 뒤에서 부터 값을 식별할 때 사용하는 것이 편리하다.\n",
    "    -   **index를 가지고 각 원소값의 의미를 식별할 수 있으면 List나 Tuple을 사용한다.**\n",
    "-   중복된 값들을 저장할 수 있다.\n",
    "-   각 원소들의 데이터 타입은 달라도 상관없다.\n",
    "    -   보통은 같은 타입의 데이터를 모은다.\n",
    "-   리스트를 구성하는 **원소들을 변경할 수 있다.** (추가, 삭제, 변경이 가능)\n",
    "    -   원소 변경 여부가 List와 Tuple의 차이이다.\n",
    "\n",
    "## List 생성 구문\n",
    "\n",
    "```python\n",
    "[값, 값, 값, ..]\n",
    "```\n"
   ]
  },
  {
   "cell_type": "code",
   "execution_count": 1,
   "id": "193c294e-298e-4c47-a90b-709f207df953",
   "metadata": {},
   "outputs": [
    {
     "data": {
      "text/plain": [
       "[10, 20, 30, 10, 20, 50, 100, 200, -20]"
      ]
     },
     "execution_count": 1,
     "metadata": {},
     "output_type": "execute_result"
    }
   ],
   "source": [
    "l1 = [10, 20, 30, 10, 20, 50, 100, 200, -20]\n",
    "l1"
   ]
  },
  {
   "cell_type": "code",
   "execution_count": 2,
   "id": "fa045f0a-937f-4c83-a398-93716f28bd42",
   "metadata": {},
   "outputs": [
    {
     "data": {
      "text/plain": [
       "[1000, '가나다라마', True, 302.1, False]"
      ]
     },
     "execution_count": 2,
     "metadata": {},
     "output_type": "execute_result"
    }
   ],
   "source": [
    "# 모으는 값의 타입은 달라도 된다.\n",
    "l2 = [1000, \"가나다라마\" , True, 302.1, False]\n",
    "l2"
   ]
  },
  {
   "cell_type": "code",
   "execution_count": 6,
   "id": "a8c6f79f-ee7f-4098-a494-d1b6d26976dd",
   "metadata": {},
   "outputs": [
    {
     "name": "stdout",
     "output_type": "stream",
     "text": [
      "[1000, '가나다라마', True, 302.1, False]\n"
     ]
    }
   ],
   "source": [
    "print(l2)"
   ]
  },
  {
   "cell_type": "code",
   "execution_count": 3,
   "id": "efc59691",
   "metadata": {
    "ExecuteTime": {
     "end_time": "2022-12-18T00:22:24.071490Z",
     "start_time": "2022-12-18T00:22:23.651455Z"
    },
    "slideshow": {
     "slide_type": "fragment"
    }
   },
   "outputs": [
    {
     "data": {
      "text/plain": [
       "list"
      ]
     },
     "execution_count": 3,
     "metadata": {},
     "output_type": "execute_result"
    }
   ],
   "source": [
    "type(l1)"
   ]
  },
  {
   "cell_type": "code",
   "execution_count": 4,
   "id": "ecdbd30e-cdd9-4aac-828c-94605d262ae9",
   "metadata": {},
   "outputs": [
    {
     "data": {
      "text/plain": [
       "9"
      ]
     },
     "execution_count": 4,
     "metadata": {},
     "output_type": "execute_result"
    }
   ],
   "source": [
    "# 원소 개수\n",
    "len(l1)"
   ]
  },
  {
   "cell_type": "code",
   "execution_count": 5,
   "id": "942768a0-a872-42b0-892d-eb7c15f682b7",
   "metadata": {},
   "outputs": [
    {
     "data": {
      "text/plain": [
       "5"
      ]
     },
     "execution_count": 5,
     "metadata": {},
     "output_type": "execute_result"
    }
   ],
   "source": [
    "len(l2)"
   ]
  },
  {
   "cell_type": "markdown",
   "id": "08d634bf",
   "metadata": {
    "slideshow": {
     "slide_type": "subslide"
    }
   },
   "source": [
    "## Indexing과 Slicing을 이용한 원소(element) 조회 및 변경\n",
    "\n",
    "### Indexing\n",
    "\n",
    "-   하나의 원소를 조회하거나 변경할 때 사용\n",
    "-   리스트\\[index\\]\n",
    "    -   index의 원소를 조회\n",
    "-   리스트\\[index\\] = 값\n",
    "    -   index의 원소를 변경\n"
   ]
  },
  {
   "cell_type": "code",
   "execution_count": 10,
   "id": "05e11a26-236b-444a-a66a-3fb9115a8b42",
   "metadata": {},
   "outputs": [
    {
     "name": "stdout",
     "output_type": "stream",
     "text": [
      "0 5\n",
      "8 6\n"
     ]
    }
   ],
   "source": [
    "l = [0, 1, 2, 3, 4, 5, 6, 7, 8]\n",
    "print(l[0], l[5])\n",
    "print(l[-1], l[-3])"
   ]
  },
  {
   "cell_type": "code",
   "execution_count": 11,
   "id": "b63e58f2-f3f3-446e-94c6-4ffa1b721874",
   "metadata": {},
   "outputs": [
    {
     "name": "stdout",
     "output_type": "stream",
     "text": [
      "[0, 1, 2, 3, 4, 5, 6, 7, 8]\n"
     ]
    }
   ],
   "source": [
    "print(l)"
   ]
  },
  {
   "cell_type": "code",
   "execution_count": 12,
   "id": "d6fd5acb-d79c-4591-818e-71755ef492cd",
   "metadata": {},
   "outputs": [
    {
     "name": "stdout",
     "output_type": "stream",
     "text": [
      "[10000, 1, 2, 3, 4, 5, 6, 7, 8]\n"
     ]
    }
   ],
   "source": [
    "l[0] = 10000  # 변경(수정)\n",
    "print(l)"
   ]
  },
  {
   "cell_type": "code",
   "execution_count": 15,
   "id": "8ad99c5a-27b6-4fac-9950-e3dec805f2a8",
   "metadata": {},
   "outputs": [],
   "source": [
    "# s = \"aaaa\"\n",
    "# s[0] = \"가\""
   ]
  },
  {
   "cell_type": "code",
   "execution_count": 16,
   "id": "d3794cd2-afb0-4b7a-8491-05d01c6fd926",
   "metadata": {},
   "outputs": [
    {
     "name": "stdout",
     "output_type": "stream",
     "text": [
      "[10000, 1, 2, 3, 4, 5, 6, 7, 800000]\n"
     ]
    }
   ],
   "source": [
    "l[-1] = 800000\n",
    "print(l)"
   ]
  },
  {
   "cell_type": "markdown",
   "id": "ab5a40cb",
   "metadata": {
    "slideshow": {
     "slide_type": "fragment"
    }
   },
   "source": [
    "### Slicing\n",
    "\n",
    "-   범위로 조회하거나 그 범위의 값들을 변경한다.\n",
    "-   기본구문: **리스트\\[ 시작 index : 종료 index : 간격\\]**\n",
    "    -   시작 index ~ (종료 index – 1)\n",
    "    -   간격을 지정하면 간격만큼 index를 증/감한다. (생략 시 1이 기본 간격)\n",
    "-   **0번 index 부터 조회 할 경우 시작 index는 생략가능**\n",
    "    -   리스트 \\[ : 5\\] => 0 ~ 4 까지 조회\n",
    "-   **마지막 index까지 (끝까지) 조회 할 경우 종료 index는 생략 가능**\n",
    "    -   리스트\\[2 : \\] => 2번 index 에서 끝까지\n",
    "-   **명시적으로 간격을 줄 경우**\n",
    "    -   리스트\\[ : : 3 \\] => 0, 3, 6, 9.. index의 값 조회\n",
    "    -   리스트\\[1 : 9 : 2\\] => 1, 3, 5, 7 index의 값 조회\n",
    "-   **시작 index > 종료 index, 간격을 음수로 하면 역으로 반환한다.(Reverse)**\n",
    "    -   리스트\\[5: 1: -1\\] => 5, 4, 3, 2 index의 값 조회\n",
    "    -   리스트\\[: : -1\\] => 마지막 index ~ 0번 index 까지 의미. Reverse 한다.\n",
    "\n",
    "#### slicing을 이용한 값 변경\n",
    "\n",
    "-   slicing 을 이용할 경우 slicing된 원소 개수와 동일한 개수의 값들을 대입한다.\n",
    "    -   `리스트[1:5] = 10,20,30,40` : index 1, 2, 3, 4의 값을 각각 10, 20, 30, 40 으로 변경\n"
   ]
  },
  {
   "cell_type": "code",
   "execution_count": 17,
   "id": "14dd0950-f52e-40da-9e37-e4d8551565ee",
   "metadata": {},
   "outputs": [
    {
     "data": {
      "text/plain": [
       "[10000, 1, 2, 3, 4, 5, 6, 7, 800000]"
      ]
     },
     "execution_count": 17,
     "metadata": {},
     "output_type": "execute_result"
    }
   ],
   "source": [
    "l"
   ]
  },
  {
   "cell_type": "code",
   "execution_count": 18,
   "id": "bb107892-475d-42f0-8a3a-a0f9fbd715c0",
   "metadata": {},
   "outputs": [
    {
     "data": {
      "text/plain": [
       "[10000, 1, 2, 3, 4, 5, 6, 7, 800000]"
      ]
     },
     "execution_count": 18,
     "metadata": {},
     "output_type": "execute_result"
    }
   ],
   "source": [
    "# 전체 조회 - 리스트를 복사한 새로운 리스트를 반환.\n",
    "l[:]"
   ]
  },
  {
   "cell_type": "code",
   "execution_count": 19,
   "id": "3ad2a1e7-a1ec-4766-8355-483500af6c18",
   "metadata": {},
   "outputs": [
    {
     "data": {
      "text/plain": [
       "[3, 4, 5, 6, 7, 800000]"
      ]
     },
     "execution_count": 19,
     "metadata": {},
     "output_type": "execute_result"
    }
   ],
   "source": [
    "l[3:] # 3 ~"
   ]
  },
  {
   "cell_type": "code",
   "execution_count": 20,
   "id": "a758ab6d",
   "metadata": {},
   "outputs": [
    {
     "data": {
      "text/plain": [
       "[10000, 1, 2, 3, 4, 5]"
      ]
     },
     "execution_count": 20,
     "metadata": {},
     "output_type": "execute_result"
    }
   ],
   "source": [
    "l[:-3]  "
   ]
  },
  {
   "cell_type": "code",
   "execution_count": 21,
   "id": "3f3a96a1-071f-45c9-86cf-567c70f95180",
   "metadata": {},
   "outputs": [
    {
     "data": {
      "text/plain": [
       "[1, 3, 5]"
      ]
     },
     "execution_count": 21,
     "metadata": {},
     "output_type": "execute_result"
    }
   ],
   "source": [
    "l[1:7:2]"
   ]
  },
  {
   "cell_type": "code",
   "execution_count": 23,
   "id": "436ea84d-578b-4267-b2d7-2d11f0bcd27a",
   "metadata": {},
   "outputs": [
    {
     "data": {
      "text/plain": [
       "[800000, 6, 4, 2, 10000]"
      ]
     },
     "execution_count": 23,
     "metadata": {},
     "output_type": "execute_result"
    }
   ],
   "source": [
    "l[::-1]\n",
    "l[::-2]"
   ]
  },
  {
   "cell_type": "code",
   "execution_count": 27,
   "id": "8b15eb63-b784-4c0d-8aa1-a61dac3f3000",
   "metadata": {},
   "outputs": [
    {
     "name": "stdout",
     "output_type": "stream",
     "text": [
      "[10000, 1, 2, 3, 4, 5, 6, 7, 800000]\n"
     ]
    }
   ],
   "source": [
    "# 변경\n",
    "print(l)\n",
    "l[1:5] = 10, 20, 30, 40 #slicing한 원소 개수와 대입하는 값 개수가 같아야 한다."
   ]
  },
  {
   "cell_type": "code",
   "execution_count": 28,
   "id": "5d462776",
   "metadata": {
    "slideshow": {
     "slide_type": "fragment"
    }
   },
   "outputs": [
    {
     "name": "stdout",
     "output_type": "stream",
     "text": [
      "[10000, 10, 20, 30, 40, 5, 6, 7, 800000]\n"
     ]
    }
   ],
   "source": [
    "print(l)"
   ]
  },
  {
   "cell_type": "markdown",
   "id": "a4f9fe12",
   "metadata": {
    "slideshow": {
     "slide_type": "slide"
    }
   },
   "source": [
    "## List 연산자\n",
    "\n",
    "-   **리스트 + 리스트**\n",
    "    -   두 리스트의 원소들을 합친 리스트를 반환한다.\n",
    "-   **리스트 \\* 정수**\n",
    "    -   같은 리스트의 원소들을 정수번 합친 리스트를 반환한다.\n",
    "-   **in, not in 연산자**\n",
    "    -   값 in 리스트\n",
    "        -   리스트의 원소로 값이 **있으면** True, 없으면 False 반환\n",
    "    -   값 not in 리스트\n",
    "        -   리스트의 원소로 값이 **없으면** True, 있으면 False 반환\n",
    "-   **len(리스트)**\n",
    "    -   리스트 내의 원소수를 반환.\n"
   ]
  },
  {
   "cell_type": "code",
   "execution_count": 29,
   "id": "db069ee7",
   "metadata": {},
   "outputs": [
    {
     "name": "stdout",
     "output_type": "stream",
     "text": [
      "[1, 2, 3]\n",
      "['가', '나']\n",
      "[1, 2, 3, '가', '나']\n"
     ]
    }
   ],
   "source": [
    "a = [1, 2, 3]\n",
    "b = ['가', '나']\n",
    "c = a + b\n",
    "print(a)\n",
    "print(b)\n",
    "print(c)"
   ]
  },
  {
   "cell_type": "code",
   "execution_count": 31,
   "id": "2ab48e50-980c-43d5-98f7-9a2f23156b12",
   "metadata": {},
   "outputs": [
    {
     "name": "stdout",
     "output_type": "stream",
     "text": [
      "[1, 2, 3]\n",
      "[1, 2, 3, 1, 2, 3, 1, 2, 3]\n"
     ]
    }
   ],
   "source": [
    "d = a * 3\n",
    "print(a)\n",
    "print(d)"
   ]
  },
  {
   "cell_type": "code",
   "execution_count": 34,
   "id": "38aaea74-6a1e-4824-abd0-288767ac4dd6",
   "metadata": {},
   "outputs": [
    {
     "data": {
      "text/plain": [
       "False"
      ]
     },
     "execution_count": 34,
     "metadata": {},
     "output_type": "execute_result"
    }
   ],
   "source": [
    "2 in c\n",
    "2 not in c"
   ]
  },
  {
   "cell_type": "code",
   "execution_count": 36,
   "id": "6863fe7a-a343-4a05-849c-406ab96602c2",
   "metadata": {},
   "outputs": [
    {
     "data": {
      "text/plain": [
       "True"
      ]
     },
     "execution_count": 36,
     "metadata": {},
     "output_type": "execute_result"
    }
   ],
   "source": [
    "20 in c\n",
    "20 not in c"
   ]
  },
  {
   "cell_type": "code",
   "execution_count": 38,
   "id": "f085e817",
   "metadata": {
    "ExecuteTime": {
     "end_time": "2022-12-17T14:17:03.293505Z",
     "start_time": "2022-12-17T14:17:03.285501Z"
    },
    "slideshow": {
     "slide_type": "fragment"
    }
   },
   "outputs": [
    {
     "data": {
      "text/plain": [
       "True"
      ]
     },
     "execution_count": 38,
     "metadata": {},
     "output_type": "execute_result"
    }
   ],
   "source": [
    "1 in c and 3 in c"
   ]
  },
  {
   "cell_type": "markdown",
   "id": "f90af754",
   "metadata": {
    "slideshow": {
     "slide_type": "slide"
    }
   },
   "source": [
    "## 중첩 리스트 (Nested List)\n",
    "\n",
    "-   List가 원소로 List를 가지는 것을 말한다.\n",
    "    -   List를 포함한 모든 자료구조 타입들도 다 값이므로 다른 자료구조의 원소로 들어갈 수 있다.\n"
   ]
  },
  {
   "cell_type": "code",
   "execution_count": 39,
   "id": "4f52b717",
   "metadata": {},
   "outputs": [],
   "source": [
    "l = [\n",
    "    [1, 2, 3,],\n",
    "    [10, 20, 30],\n",
    "    [100, 200, 300]\n",
    "]"
   ]
  },
  {
   "cell_type": "code",
   "execution_count": 40,
   "id": "01bede57",
   "metadata": {
    "slideshow": {
     "slide_type": "fragment"
    }
   },
   "outputs": [
    {
     "data": {
      "text/plain": [
       "[1, 2, 3]"
      ]
     },
     "execution_count": 40,
     "metadata": {},
     "output_type": "execute_result"
    }
   ],
   "source": [
    "l[0]"
   ]
  },
  {
   "cell_type": "code",
   "execution_count": 41,
   "id": "2dfd6c46",
   "metadata": {
    "slideshow": {
     "slide_type": "fragment"
    }
   },
   "outputs": [
    {
     "data": {
      "text/plain": [
       "2"
      ]
     },
     "execution_count": 41,
     "metadata": {},
     "output_type": "execute_result"
    }
   ],
   "source": [
    "l[0][1]"
   ]
  },
  {
   "cell_type": "code",
   "execution_count": 44,
   "id": "f113df00-6865-4f70-b796-2c2fe11964b4",
   "metadata": {},
   "outputs": [
    {
     "data": {
      "text/plain": [
       "300"
      ]
     },
     "execution_count": 44,
     "metadata": {},
     "output_type": "execute_result"
    }
   ],
   "source": [
    "l[2][2]"
   ]
  },
  {
   "cell_type": "code",
   "execution_count": 45,
   "id": "455ffcb4-b087-496a-8b6a-af157dd2d9e3",
   "metadata": {},
   "outputs": [
    {
     "data": {
      "text/plain": [
       "[[1, 2, 3], [10, 20, 30], [100, 200, 5000]]"
      ]
     },
     "execution_count": 45,
     "metadata": {},
     "output_type": "execute_result"
    }
   ],
   "source": [
    "l[2][2] = 5000\n",
    "l"
   ]
  },
  {
   "cell_type": "markdown",
   "id": "004a5ebc-08a5-4dc6-8e96-ecea0a2982b7",
   "metadata": {},
   "source": [
    "## 리스트 대입\n",
    "1. 리스트안의 원소들을 개별 변수에 할당하는 표현식.\n",
    "1. 변수의 개수와 리스트 원소의 개수가 같아야 한다.\n",
    "\n",
    "> 대부분의 자료구조가 이런 형태의 대입을 지원한다."
   ]
  },
  {
   "cell_type": "code",
   "execution_count": 46,
   "id": "e8dfaf0e-76c8-4019-bd4c-977d35c2c72f",
   "metadata": {},
   "outputs": [
    {
     "name": "stdout",
     "output_type": "stream",
     "text": [
      "10 20 30\n"
     ]
    }
   ],
   "source": [
    "# control + / 주석 자동완성\n",
    "# a = 10\n",
    "# b = 20\n",
    "# c = 30\n",
    "a, b, c = [10, 20, 30]\n",
    "print(a, b, c)"
   ]
  },
  {
   "cell_type": "code",
   "execution_count": 49,
   "id": "a4e74dc9-7c99-4be0-8928-68867a3fa70a",
   "metadata": {},
   "outputs": [
    {
     "name": "stdout",
     "output_type": "stream",
     "text": [
      "1 2 3 4\n"
     ]
    }
   ],
   "source": [
    "l = [1, 2, 3, 4]\n",
    "n1, n2, n3, n4 = l\n",
    "print(n1, n2, n3, n4)"
   ]
  },
  {
   "cell_type": "code",
   "execution_count": 52,
   "id": "3318bf62-6c53-42e6-9bae-df41328658b4",
   "metadata": {},
   "outputs": [],
   "source": [
    "# l = [1, 2, 3]\n",
    "# n1, n2, n3, n4 = l"
   ]
  },
  {
   "cell_type": "code",
   "execution_count": 53,
   "id": "96be1b0a-0b4a-4f6d-a544-1b3ed1859709",
   "metadata": {},
   "outputs": [],
   "source": [
    "a, b, c  = 1, 2, 3"
   ]
  },
  {
   "cell_type": "code",
   "execution_count": null,
   "id": "528028a4-d031-4518-b1de-5107f4b54fc2",
   "metadata": {},
   "outputs": [],
   "source": []
  },
  {
   "cell_type": "markdown",
   "id": "826b8780",
   "metadata": {
    "slideshow": {
     "slide_type": "slide"
    }
   },
   "source": [
    "## List 주요 메소드\n",
    "\n",
    "| 메소드                       | 설명                                                                                 |\n",
    "| :--------------------------- | ------------------------------------------------------------------------------------ |\n",
    "| append(value)                | value를 추가한다.                                                                    |\n",
    "| extend(List)                 | List의 원소들을 추가한다.                                                            |\n",
    "| sort(\\[reverse=False\\])      | 원소들을 오름차순 정렬한다. reverse=True로 하면 내림차순정렬 한다.                   |\n",
    "| insert(index, 삽입할값)      | 지정한 index에 '삽입할값'을 삽입한다.                                                |\n",
    "| remove(삭제할값)             | '삭제할값' 값과 같은 원소를 삭제한다.                                                |\n",
    "| index(찾을값\\[, 시작index\\]) | '찾을값'의 index를 반환한다.                                                         |\n",
    "| pop(\\[index\\])               | index의 값을 반환하면서 삭제한다. index 생략하면 가장 마지막 값을 반환하며 삭제한다. |\n",
    "| count(값)                    | '값'이 리스트의 원소로 몇개 있는지 반환한다.                                         |\n",
    "| clear()                      | 리스트 안의 모든 원소들을 삭제한다.                                                  |\n"
   ]
  },
  {
   "cell_type": "code",
   "execution_count": 56,
   "id": "9a1a4cac-85ab-4804-8b33-0d36448867a0",
   "metadata": {},
   "outputs": [
    {
     "name": "stdout",
     "output_type": "stream",
     "text": [
      "[1, 2, 3]\n",
      "[1, 2, 3, 10]\n"
     ]
    }
   ],
   "source": [
    "l = [ 1, 2, 3]\n",
    "print(l)\n",
    "l.append(10)  # list(의 마지막 index)에 값을 추가 \n",
    "print(l)"
   ]
  },
  {
   "cell_type": "code",
   "execution_count": 57,
   "id": "5fa1d608-5e6c-473a-afe3-d4b50ddbddfb",
   "metadata": {},
   "outputs": [
    {
     "name": "stdout",
     "output_type": "stream",
     "text": [
      "['첫번째 결과', '두번째 결과']\n"
     ]
    }
   ],
   "source": [
    "# 처리 결과들을 저장할 리스트\n",
    "results = []\n",
    "# 처리1\n",
    "results.append(\"첫번째 결과\")\n",
    "# 처리2\n",
    "results.append(\"두번째 결과\")\n",
    "print(results)"
   ]
  },
  {
   "cell_type": "code",
   "execution_count": 59,
   "id": "c34a066f-7ba6-4e89-9e2a-fa7aa8bb5df5",
   "metadata": {},
   "outputs": [
    {
     "name": "stdout",
     "output_type": "stream",
     "text": [
      "[1, 2, 3, 10, 100, 200, 300, 400]\n"
     ]
    }
   ],
   "source": [
    "l.extend([100, 200, 300, 400])  #다른 리스트의 원소들을 대상리스트에 추가.\n",
    "print(l)"
   ]
  },
  {
   "cell_type": "code",
   "execution_count": 60,
   "id": "ab51eb0d-01c2-4dca-816c-95086925399a",
   "metadata": {},
   "outputs": [
    {
     "data": {
      "text/plain": [
       "[1, 2, 10, 20]"
      ]
     },
     "execution_count": 60,
     "metadata": {},
     "output_type": "execute_result"
    }
   ],
   "source": [
    "l1 = [1, 2]\n",
    "l2 = [10, 20]\n",
    "l1 + l2"
   ]
  },
  {
   "cell_type": "code",
   "execution_count": 62,
   "id": "eb0f7c38-00eb-482b-a9ce-e2d568f31e31",
   "metadata": {},
   "outputs": [],
   "source": [
    "# 정렬 - 오름차순(default), 내림차순\n",
    "l = [10, 5, -30, 1000, 200]\n",
    "l.sort() # 오름차순"
   ]
  },
  {
   "cell_type": "code",
   "execution_count": 63,
   "id": "041be1da",
   "metadata": {},
   "outputs": [
    {
     "data": {
      "text/plain": [
       "[-30, 5, 10, 200, 1000]"
      ]
     },
     "execution_count": 63,
     "metadata": {},
     "output_type": "execute_result"
    }
   ],
   "source": [
    "l"
   ]
  },
  {
   "cell_type": "code",
   "execution_count": 65,
   "id": "4b14d8e8",
   "metadata": {
    "slideshow": {
     "slide_type": "fragment"
    }
   },
   "outputs": [
    {
     "data": {
      "text/plain": [
       "[1000, 200, 10, 5, -30]"
      ]
     },
     "execution_count": 65,
     "metadata": {},
     "output_type": "execute_result"
    }
   ],
   "source": [
    "l.sort(reverse=True) # 내림차순\n",
    "l"
   ]
  },
  {
   "cell_type": "code",
   "execution_count": 66,
   "id": "eb0445a6-4710-4745-ac73-6fd8c68cfcc1",
   "metadata": {},
   "outputs": [
    {
     "name": "stdout",
     "output_type": "stream",
     "text": [
      "[-30, 5, 10, 200, 1000]\n"
     ]
    }
   ],
   "source": [
    "# sorted(모든타입자료구조) 함수 - 자료구조를 정렬한 결과를 리스트로 반환.\n",
    "l = [10, 5, -30, 1000, 200]\n",
    "result = sorted(l)\n",
    "print(result)"
   ]
  },
  {
   "cell_type": "code",
   "execution_count": 67,
   "id": "cfdfeda5-3efa-4e7b-905e-1b5f94860ad3",
   "metadata": {},
   "outputs": [
    {
     "data": {
      "text/plain": [
       "[10, 5, -30, 1000, 200]"
      ]
     },
     "execution_count": 67,
     "metadata": {},
     "output_type": "execute_result"
    }
   ],
   "source": [
    "l"
   ]
  },
  {
   "cell_type": "code",
   "execution_count": 69,
   "id": "6619b96b-5e9e-4d39-8312-c606cdd19e15",
   "metadata": {},
   "outputs": [],
   "source": [
    "# 삭제\n",
    "## 같은 값을 찾아서 삭제\n",
    "l.remove(-30)"
   ]
  },
  {
   "cell_type": "code",
   "execution_count": 70,
   "id": "d9b13948-f2a1-4d40-8dbe-7890ec1184d3",
   "metadata": {},
   "outputs": [
    {
     "data": {
      "text/plain": [
       "[10, 5, 1000, 200]"
      ]
     },
     "execution_count": 70,
     "metadata": {},
     "output_type": "execute_result"
    }
   ],
   "source": [
    "l"
   ]
  },
  {
   "cell_type": "code",
   "execution_count": 72,
   "id": "2c70be21-11a3-437d-9160-6903c26478c2",
   "metadata": {},
   "outputs": [
    {
     "ename": "ValueError",
     "evalue": "list.remove(x): x not in list",
     "output_type": "error",
     "traceback": [
      "\u001b[1;31m---------------------------------------------------------------------------\u001b[0m",
      "\u001b[1;31mValueError\u001b[0m                                Traceback (most recent call last)",
      "Cell \u001b[1;32mIn[72], line 1\u001b[0m\n\u001b[1;32m----> 1\u001b[0m \u001b[43ml\u001b[49m\u001b[38;5;241;43m.\u001b[39;49m\u001b[43mremove\u001b[49m\u001b[43m(\u001b[49m\u001b[38;5;241;43m-\u001b[39;49m\u001b[38;5;241;43m30\u001b[39;49m\u001b[43m)\u001b[49m\n",
      "\u001b[1;31mValueError\u001b[0m: list.remove(x): x not in list"
     ]
    }
   ],
   "source": [
    "l.remove(-30)  #  없는 값을 삭제할 경우 ValueError 발생."
   ]
  },
  {
   "cell_type": "code",
   "execution_count": 74,
   "id": "221bff3a-b009-4420-b715-5f4b929d8f05",
   "metadata": {},
   "outputs": [
    {
     "data": {
      "text/plain": [
       "5"
      ]
     },
     "execution_count": 74,
     "metadata": {},
     "output_type": "execute_result"
    }
   ],
   "source": [
    "# index로 삭제\n",
    "l.pop(1) # 삭제하면서 그 index의 값을 반환."
   ]
  },
  {
   "cell_type": "code",
   "execution_count": 76,
   "id": "66252c4a-dbf6-426c-80cc-bc0db7141182",
   "metadata": {},
   "outputs": [
    {
     "data": {
      "text/plain": [
       "[10, 1000, 200]"
      ]
     },
     "execution_count": 76,
     "metadata": {},
     "output_type": "execute_result"
    }
   ],
   "source": [
    "l"
   ]
  },
  {
   "cell_type": "code",
   "execution_count": 78,
   "id": "fcd61231-16fa-40c5-b063-1358f8bf7974",
   "metadata": {},
   "outputs": [
    {
     "name": "stdout",
     "output_type": "stream",
     "text": [
      "1000\n"
     ]
    },
    {
     "data": {
      "text/plain": [
       "[200]"
      ]
     },
     "execution_count": 78,
     "metadata": {},
     "output_type": "execute_result"
    }
   ],
   "source": [
    "a = l.pop(0)\n",
    "print(a)\n",
    "l"
   ]
  },
  {
   "cell_type": "code",
   "execution_count": 79,
   "id": "8e8e2319-1e3b-4e3c-a397-ce04f8fb14a3",
   "metadata": {},
   "outputs": [
    {
     "name": "stdout",
     "output_type": "stream",
     "text": [
      "[10, 2, 30, 40]\n"
     ]
    }
   ],
   "source": [
    "l = [10, 2, 30, 40, 500]\n",
    "l.pop() # index를 안주면 마지막 값을 삭제\n",
    "print(l)"
   ]
  },
  {
   "cell_type": "code",
   "execution_count": 80,
   "id": "6887e233-a375-402a-a920-269865a2aa54",
   "metadata": {},
   "outputs": [],
   "source": [
    "# 모두 삭제\n",
    "l.clear()"
   ]
  },
  {
   "cell_type": "code",
   "execution_count": 81,
   "id": "07a3c843-0c2e-46dc-9391-bcc6be5b321f",
   "metadata": {},
   "outputs": [
    {
     "data": {
      "text/plain": [
       "[]"
      ]
     },
     "execution_count": 81,
     "metadata": {},
     "output_type": "execute_result"
    }
   ],
   "source": [
    "l"
   ]
  },
  {
   "cell_type": "code",
   "execution_count": 82,
   "id": "17acc6f2-f01d-4cf9-b623-f3910b8a6957",
   "metadata": {},
   "outputs": [
    {
     "data": {
      "text/plain": [
       "0"
      ]
     },
     "execution_count": 82,
     "metadata": {},
     "output_type": "execute_result"
    }
   ],
   "source": [
    "len(l)"
   ]
  },
  {
   "cell_type": "code",
   "execution_count": 83,
   "id": "cb5f5fdf-5870-41bc-9d61-bb0ec603bc4a",
   "metadata": {},
   "outputs": [
    {
     "data": {
      "text/plain": [
       "False"
      ]
     },
     "execution_count": 83,
     "metadata": {},
     "output_type": "execute_result"
    }
   ],
   "source": [
    "# 빈 리스트(자료구조)은 bool 로 변환시 False\n",
    "bool(l)"
   ]
  },
  {
   "cell_type": "code",
   "execution_count": 84,
   "id": "9915a69c-13a7-4e2d-96c4-616e5e29ba81",
   "metadata": {},
   "outputs": [
    {
     "data": {
      "text/plain": [
       "True"
      ]
     },
     "execution_count": 84,
     "metadata": {},
     "output_type": "execute_result"
    }
   ],
   "source": [
    "bool([1,2])"
   ]
  },
  {
   "cell_type": "markdown",
   "id": "5b28f033",
   "metadata": {
    "slideshow": {
     "slide_type": "slide"
    }
   },
   "source": [
    "# Tuple (튜플)\n",
    "\n",
    "-   List와 같이 순서대로 원소들을 관리한다. 단 저장된 원소를 변경할 수 없다.\n",
    "-   Tuple 은 각 위치(Index) 마다 정해진 의미가 있고 그 값이 한번 설정되면 바뀌지 않는 경우에 사용한다.\n",
    "    -   Tuple은 값의 변경되지 않으므로 안전하다.\n",
    "\n",
    "## Tuple 생성\n",
    "\n",
    "-   `(value, value, value, ...)`\n",
    "-   소괄호를 생략할 수 있다.\n",
    "-   원소가 하나인 Tuple 표현식\n",
    "    -   `(value,)` 또는 `value,`\n",
    "        -   값 뒤에 `,` 를 붙여준다. `,`를 붙이지 않으면 ( )가 연산자 우선순위 괄호가 된다.\n"
   ]
  },
  {
   "cell_type": "code",
   "execution_count": 89,
   "id": "35a4abf6-4c3e-4df2-826a-91697055472c",
   "metadata": {},
   "outputs": [
    {
     "data": {
      "text/plain": [
       "tuple"
      ]
     },
     "execution_count": 89,
     "metadata": {},
     "output_type": "execute_result"
    }
   ],
   "source": [
    "t1 = (1, 2, 3, 4, 5, 6)\n",
    "type(t1)"
   ]
  },
  {
   "cell_type": "code",
   "execution_count": 91,
   "id": "9f1fe342-c45d-41a3-9b47-f60d4ed3ad31",
   "metadata": {},
   "outputs": [
    {
     "name": "stdout",
     "output_type": "stream",
     "text": [
      "(1, 2, 3, 4, 5, 6)\n"
     ]
    },
    {
     "data": {
      "text/plain": [
       "(1, 2, 3, 4, 5, 6)"
      ]
     },
     "execution_count": 91,
     "metadata": {},
     "output_type": "execute_result"
    }
   ],
   "source": [
    "print(t1)\n",
    "t1"
   ]
  },
  {
   "cell_type": "code",
   "execution_count": 96,
   "id": "f7f96391",
   "metadata": {},
   "outputs": [
    {
     "name": "stdout",
     "output_type": "stream",
     "text": [
      "(10, 20, 30, 40)\n"
     ]
    }
   ],
   "source": [
    "t2 = 10, 20, 30, 40\n",
    "print(t2)"
   ]
  },
  {
   "cell_type": "code",
   "execution_count": 97,
   "id": "bd9afb96-b0f2-4279-a241-fc751b95fedd",
   "metadata": {},
   "outputs": [
    {
     "data": {
      "text/plain": [
       "(10, '안녕', True, 3.22)"
      ]
     },
     "execution_count": 97,
     "metadata": {},
     "output_type": "execute_result"
    }
   ],
   "source": [
    "t2 = 10, \"안녕\", True, 3.22\n",
    "t2"
   ]
  },
  {
   "cell_type": "code",
   "execution_count": 99,
   "id": "0b9474e3-ad9e-4dfa-a8a3-9e6d2c9f1e9d",
   "metadata": {},
   "outputs": [
    {
     "name": "stdout",
     "output_type": "stream",
     "text": [
      "(100,)\n"
     ]
    },
    {
     "data": {
      "text/plain": [
       "tuple"
      ]
     },
     "execution_count": 99,
     "metadata": {},
     "output_type": "execute_result"
    }
   ],
   "source": [
    "# 원소가 1개인 튜플\n",
    "t3 = (100,)  #값 뒤에 , 를 붙인다.\n",
    "print(t3)\n",
    "type(t3)"
   ]
  },
  {
   "cell_type": "code",
   "execution_count": 101,
   "id": "833460b4-002f-467f-8a50-11aa978d0f50",
   "metadata": {},
   "outputs": [
    {
     "data": {
      "text/plain": [
       "tuple"
      ]
     },
     "execution_count": 101,
     "metadata": {},
     "output_type": "execute_result"
    }
   ],
   "source": [
    "t4 = \"가\",\n",
    "type(t4)"
   ]
  },
  {
   "cell_type": "code",
   "execution_count": null,
   "id": "b78b5fe7-64ed-4dd2-9ce9-5568a2b41eb1",
   "metadata": {},
   "outputs": [],
   "source": [
    "## 튜플대입\n",
    "a, b, c = 10, 20, 30"
   ]
  },
  {
   "cell_type": "code",
   "execution_count": null,
   "id": "17099a9e",
   "metadata": {
    "slideshow": {
     "slide_type": "fragment"
    }
   },
   "outputs": [],
   "source": []
  },
  {
   "cell_type": "markdown",
   "id": "16954356",
   "metadata": {
    "slideshow": {
     "slide_type": "slide"
    }
   },
   "source": [
    "## Indexing과 Slicing을 이용한 원소(element) 조회\n",
    "\n",
    "-   리스트와 동일하다.\n",
    "-   단 튜플은 조회만 가능하고 원소를 변경할 수 없다.\n"
   ]
  },
  {
   "cell_type": "code",
   "execution_count": 110,
   "id": "fb7fef14-cebd-4a80-b8b4-1cc86856055f",
   "metadata": {},
   "outputs": [
    {
     "data": {
      "text/plain": [
       "(5, 8, 9)"
      ]
     },
     "execution_count": 110,
     "metadata": {},
     "output_type": "execute_result"
    }
   ],
   "source": [
    "t = (0, 1, 2, 3, 4, 5, 6, 7, 8, 9)\n",
    "t2 = t[5], t[8], t[-1]\n",
    "t2"
   ]
  },
  {
   "cell_type": "code",
   "execution_count": 111,
   "id": "daa7c1bb-ac1c-4591-b097-6624d32ebefc",
   "metadata": {},
   "outputs": [
    {
     "ename": "TypeError",
     "evalue": "'tuple' object does not support item assignment",
     "output_type": "error",
     "traceback": [
      "\u001b[1;31m---------------------------------------------------------------------------\u001b[0m",
      "\u001b[1;31mTypeError\u001b[0m                                 Traceback (most recent call last)",
      "Cell \u001b[1;32mIn[111], line 1\u001b[0m\n\u001b[1;32m----> 1\u001b[0m \u001b[43mt\u001b[49m\u001b[43m[\u001b[49m\u001b[38;5;241;43m0\u001b[39;49m\u001b[43m]\u001b[49m \u001b[38;5;241m=\u001b[39m \u001b[38;5;241m100\u001b[39m \u001b[38;5;66;03m# 값 변경을 못한다.\u001b[39;00m\n",
      "\u001b[1;31mTypeError\u001b[0m: 'tuple' object does not support item assignment"
     ]
    }
   ],
   "source": [
    "t[0] = 100 # 값 변경을 못한다."
   ]
  },
  {
   "cell_type": "code",
   "execution_count": 112,
   "id": "2b9f94ab-5d6d-4db4-9158-437664a8ded0",
   "metadata": {},
   "outputs": [
    {
     "data": {
      "text/plain": [
       "(1, 3, 5)"
      ]
     },
     "execution_count": 112,
     "metadata": {},
     "output_type": "execute_result"
    }
   ],
   "source": [
    "t[1:7:2]"
   ]
  },
  {
   "cell_type": "code",
   "execution_count": 113,
   "id": "fa92bc45",
   "metadata": {},
   "outputs": [
    {
     "data": {
      "text/plain": [
       "(1, 2, 3, 4, 5, 6)"
      ]
     },
     "execution_count": 113,
     "metadata": {},
     "output_type": "execute_result"
    }
   ],
   "source": [
    "t[1:7]"
   ]
  },
  {
   "cell_type": "code",
   "execution_count": 114,
   "id": "6c5b9b2c",
   "metadata": {
    "slideshow": {
     "slide_type": "fragment"
    }
   },
   "outputs": [
    {
     "data": {
      "text/plain": [
       "(0, 1, 2, 3, 4, 5, 6)"
      ]
     },
     "execution_count": 114,
     "metadata": {},
     "output_type": "execute_result"
    }
   ],
   "source": [
    "t[:7]"
   ]
  },
  {
   "cell_type": "code",
   "execution_count": 115,
   "id": "a8534db4-2099-490f-b607-621a78bd1dac",
   "metadata": {},
   "outputs": [
    {
     "data": {
      "text/plain": [
       "(5, 6, 7, 8, 9)"
      ]
     },
     "execution_count": 115,
     "metadata": {},
     "output_type": "execute_result"
    }
   ],
   "source": [
    "t[5:]"
   ]
  },
  {
   "cell_type": "code",
   "execution_count": 116,
   "id": "e62abd50-2b0f-45ec-b852-31c310dca06e",
   "metadata": {},
   "outputs": [
    {
     "data": {
      "text/plain": [
       "(9, 8, 7, 6, 5, 4, 3, 2, 1, 0)"
      ]
     },
     "execution_count": 116,
     "metadata": {},
     "output_type": "execute_result"
    }
   ],
   "source": [
    "t[::-1]"
   ]
  },
  {
   "cell_type": "markdown",
   "id": "135101f3",
   "metadata": {
    "slideshow": {
     "slide_type": "slide"
    }
   },
   "source": [
    "## Tuple 연산자\n",
    "\n",
    "-   **tuple + tuple**\n",
    "    -   두 tuple의 원소들을 합친 tuple을 반환한다.\n",
    "-   **tuple \\* 정수**\n",
    "    -   같은 tuple의 원소들을 정수번 합친 tuple를 반환한다.\n",
    "-   **in, not in 연산자**\n",
    "    -   값 in tuple\n",
    "        -   tuple의 원소로 값이 **있으면** True, 없으면 False 반환\n",
    "    -   값 not in tuple\n",
    "        -   tuple의 원소로 값이 **없으면** True, 있으면 False 반환\n",
    "-   **len(tuple)**\n",
    "    -   tuple의 원소 개수 반환\n"
   ]
  },
  {
   "cell_type": "code",
   "execution_count": 118,
   "id": "c39c878c",
   "metadata": {},
   "outputs": [
    {
     "name": "stdout",
     "output_type": "stream",
     "text": [
      "(1, 2, 3, 100, 200, 300, 400)\n",
      "(1, 2, 3)\n",
      "(100, 200, 300, 400)\n"
     ]
    }
   ],
   "source": [
    "t1 = 1, 2, 3\n",
    "t2 = 100, 200, 300, 400\n",
    "t3 = t1 + t2\n",
    "print(t3)\n",
    "print(t1)\n",
    "print(t2)"
   ]
  },
  {
   "cell_type": "code",
   "execution_count": 119,
   "id": "5903e00f",
   "metadata": {
    "slideshow": {
     "slide_type": "fragment"
    }
   },
   "outputs": [
    {
     "data": {
      "text/plain": [
       "(1, 2, 3, 1, 2, 3, 1, 2, 3, 1, 2, 3, 1, 2, 3)"
      ]
     },
     "execution_count": 119,
     "metadata": {},
     "output_type": "execute_result"
    }
   ],
   "source": [
    "t1 * 5"
   ]
  },
  {
   "cell_type": "code",
   "execution_count": 122,
   "id": "3346408f-a4ae-4f41-b47b-dd333ba6425d",
   "metadata": {},
   "outputs": [
    {
     "data": {
      "text/plain": [
       "False"
      ]
     },
     "execution_count": 122,
     "metadata": {},
     "output_type": "execute_result"
    }
   ],
   "source": [
    "300 in t3\n",
    "10000 in t3"
   ]
  },
  {
   "cell_type": "code",
   "execution_count": 123,
   "id": "2b80ab70-2875-4a50-9f16-48e1b03806e2",
   "metadata": {},
   "outputs": [
    {
     "data": {
      "text/plain": [
       "True"
      ]
     },
     "execution_count": 123,
     "metadata": {},
     "output_type": "execute_result"
    }
   ],
   "source": [
    "300 not in t3\n",
    "10000 not in t3"
   ]
  },
  {
   "cell_type": "code",
   "execution_count": 124,
   "id": "8d6b59e6-3b0c-4c36-8a4b-a4304165378f",
   "metadata": {},
   "outputs": [
    {
     "data": {
      "text/plain": [
       "7"
      ]
     },
     "execution_count": 124,
     "metadata": {},
     "output_type": "execute_result"
    }
   ],
   "source": [
    "len(t3)"
   ]
  },
  {
   "cell_type": "markdown",
   "id": "89803fdd",
   "metadata": {
    "slideshow": {
     "slide_type": "subslide"
    }
   },
   "source": [
    "## Tuple의 주요 메소드\n",
    "\n",
    "| 메소드                        | 설명                                |\n",
    "| :---------------------------- | ----------------------------------- |\n",
    "| index(찾을값 \\[, 시작index\\]) | '찾을값'이 몇번 index인지 반환한다. |\n",
    "| count(값)                     | 원소로 '값'이 몇개 있는지 반환한다. |\n"
   ]
  },
  {
   "cell_type": "code",
   "execution_count": 130,
   "id": "e8e4d78e",
   "metadata": {},
   "outputs": [
    {
     "data": {
      "text/plain": [
       "5"
      ]
     },
     "execution_count": 130,
     "metadata": {},
     "output_type": "execute_result"
    }
   ],
   "source": [
    "t = 100,200, 300, 400, 500, 400, 400\n",
    "t.index(400, 4)"
   ]
  },
  {
   "cell_type": "code",
   "execution_count": 131,
   "id": "93a527af",
   "metadata": {
    "slideshow": {
     "slide_type": "fragment"
    }
   },
   "outputs": [
    {
     "data": {
      "text/plain": [
       "3"
      ]
     },
     "execution_count": 131,
     "metadata": {},
     "output_type": "execute_result"
    }
   ],
   "source": [
    "t.count(400)"
   ]
  },
  {
   "cell_type": "markdown",
   "id": "e6c196f5",
   "metadata": {
    "slideshow": {
     "slide_type": "slide"
    }
   },
   "source": [
    "# Dictionary\n",
    "\n",
    "-   값을 키(key)-값(value) 쌍으로 묶어서 저장하는 자료구조이다.\n",
    "    -   리스트나 튜플의 index의 역할을 하는 key를 직접 지정한다.\n",
    "    -   서로 의미가 다른 값들을 하나로 묶을 때 그 값의 의미를 key로 가질 수 있는 dictionary를 사용한다.\n",
    "        -   cf) 값의 의미가 같을 경우 List나 Tuple을 사용한다.\n",
    "    -   key-value 쌍으로 묶은 데이터 한개를 **item 또는 entry**라고 한다.\n",
    "    -   key는 중복을 허용하지 않고 value는 중복을 허용한다.\n",
    "\n",
    "## Dictionary 생성\n",
    "\n",
    "-   구문\n",
    "    1. `{ 키 : 값, 키 : 값, 키 : 값 }`\n",
    "    2. dict(key=value, key=value) 함수 이용\n",
    "    -   키(key)는 불변(Immutable)의 값들만 사용 가능하다. (숫자, 문자열, 튜플) 일반적으로 문자열을 사용한다.\n",
    "    -   dict() 함수를 사용할 경우 key는 변수로 정의한다\n"
   ]
  },
  {
   "cell_type": "code",
   "execution_count": 8,
   "id": "b1d0b07a-e92b-4498-9751-df17d2590bbc",
   "metadata": {},
   "outputs": [],
   "source": [
    "d = {\n",
    "    \"이름\":\"홍길동\",\n",
    "    \"나이\":30,\n",
    "    \"별명\":[\"도사\", \"의적\",],\n",
    "    \"주소\":{\"시\":\"서울시\", \"구\":\"금천구\", \"동\":\"독산동\"},\n",
    "}"
   ]
  },
  {
   "cell_type": "code",
   "execution_count": null,
   "id": "27fab94f-dad3-485e-a942-2ae5350b9d92",
   "metadata": {},
   "outputs": [],
   "source": [
    "d['키'] = 160"
   ]
  },
  {
   "cell_type": "code",
   "execution_count": 5,
   "id": "25ad5a08-6603-45f4-830c-e9bef25683a5",
   "metadata": {},
   "outputs": [
    {
     "data": {
      "text/plain": [
       "'금천구'"
      ]
     },
     "execution_count": 5,
     "metadata": {},
     "output_type": "execute_result"
    }
   ],
   "source": [
    "d[\"주소\"][\"구\"]"
   ]
  },
  {
   "cell_type": "code",
   "execution_count": 7,
   "id": "44ed3e0d-ddd7-4adc-92e0-09aca3237e4c",
   "metadata": {},
   "outputs": [
    {
     "data": {
      "text/plain": [
       "'도사'"
      ]
     },
     "execution_count": 7,
     "metadata": {},
     "output_type": "execute_result"
    }
   ],
   "source": [
    "d[\"별명\"][0]"
   ]
  },
  {
   "cell_type": "code",
   "execution_count": 3,
   "id": "c6947310-ff19-4f4d-85df-bc2353e14814",
   "metadata": {},
   "outputs": [
    {
     "data": {
      "text/plain": [
       "'홍길동'"
      ]
     },
     "execution_count": 3,
     "metadata": {},
     "output_type": "execute_result"
    }
   ],
   "source": [
    "d[\"이름\"]"
   ]
  },
  {
   "cell_type": "code",
   "execution_count": 132,
   "id": "1a27213c-32b9-446d-aa17-a34299cfca77",
   "metadata": {},
   "outputs": [
    {
     "data": {
      "text/plain": [
       "('홍길동', ['도사', '의적'])"
      ]
     },
     "execution_count": 132,
     "metadata": {},
     "output_type": "execute_result"
    }
   ],
   "source": [
    "l = [\"홍길동\", 30, [\"도사\", \"의적\"]]\n",
    "l[0], l[2]"
   ]
  },
  {
   "cell_type": "code",
   "execution_count": 136,
   "id": "e4bb2b29-516a-47cc-b03b-fce638300bde",
   "metadata": {},
   "outputs": [
    {
     "data": {
      "text/plain": [
       "(10, 70)"
      ]
     },
     "execution_count": 136,
     "metadata": {},
     "output_type": "execute_result"
    }
   ],
   "source": [
    "d2 = {\n",
    "    1:10, 2:20, 3:100, 4:70\n",
    "}\n",
    "d2[1], d2[4]"
   ]
  },
  {
   "cell_type": "code",
   "execution_count": 137,
   "id": "18611386",
   "metadata": {},
   "outputs": [
    {
     "data": {
      "text/plain": [
       "10"
      ]
     },
     "execution_count": 137,
     "metadata": {},
     "output_type": "execute_result"
    }
   ],
   "source": [
    "l2 = [10, 20, 100, 70]\n",
    "num = 1\n",
    "l2[num-1]"
   ]
  },
  {
   "cell_type": "markdown",
   "id": "f8c87bd3",
   "metadata": {
    "slideshow": {
     "slide_type": "subslide"
    }
   },
   "source": [
    "## Dictionary 원소 조회 및 변경\n",
    "\n",
    "-   조회: index에 key값을 식별자로 지정한다.\n",
    "    -   dictionary\\[ key \\]\n",
    "    -   없는 키로 조회 시 KeyError 발생\n",
    "-   변경\n",
    "    -   dictionary\\[ key \\] = 값\n",
    "    -   있는 key값에 값을 대입하면 변경이고 없는 key 일 경우는 새로운 item을 추가하는 것이다.\n"
   ]
  },
  {
   "cell_type": "code",
   "execution_count": 139,
   "id": "659ad3d5-c58d-419b-b256-f76eabf3a53f",
   "metadata": {},
   "outputs": [
    {
     "data": {
      "text/plain": [
       "30"
      ]
     },
     "execution_count": 139,
     "metadata": {},
     "output_type": "execute_result"
    }
   ],
   "source": [
    "d[\"나이\"]"
   ]
  },
  {
   "cell_type": "code",
   "execution_count": 141,
   "id": "b1fac12b-90a6-4665-a194-1abdada9eb64",
   "metadata": {},
   "outputs": [
    {
     "data": {
      "text/plain": [
       "['도사', '의적']"
      ]
     },
     "execution_count": 141,
     "metadata": {},
     "output_type": "execute_result"
    }
   ],
   "source": [
    "d[\"별명\"]"
   ]
  },
  {
   "cell_type": "code",
   "execution_count": 143,
   "id": "8b7493fe-52af-46a0-baea-f1a3a4a1df27",
   "metadata": {},
   "outputs": [
    {
     "data": {
      "text/plain": [
       "'의적'"
      ]
     },
     "execution_count": 143,
     "metadata": {},
     "output_type": "execute_result"
    }
   ],
   "source": [
    "d[\"별명\"][1]"
   ]
  },
  {
   "cell_type": "code",
   "execution_count": 145,
   "id": "5c8cec2f",
   "metadata": {},
   "outputs": [
    {
     "ename": "KeyError",
     "evalue": "'주소'",
     "output_type": "error",
     "traceback": [
      "\u001b[1;31m---------------------------------------------------------------------------\u001b[0m",
      "\u001b[1;31mKeyError\u001b[0m                                  Traceback (most recent call last)",
      "Cell \u001b[1;32mIn[145], line 1\u001b[0m\n\u001b[1;32m----> 1\u001b[0m \u001b[43md\u001b[49m\u001b[43m[\u001b[49m\u001b[38;5;124;43m'\u001b[39;49m\u001b[38;5;124;43m주소\u001b[39;49m\u001b[38;5;124;43m'\u001b[39;49m\u001b[43m]\u001b[49m \u001b[38;5;66;03m#없는 키로 조회->Error발생\u001b[39;00m\n",
      "\u001b[1;31mKeyError\u001b[0m: '주소'"
     ]
    }
   ],
   "source": [
    "d['주소'] #없는 키로 조회->KeyError발생"
   ]
  },
  {
   "cell_type": "code",
   "execution_count": 148,
   "id": "995a9396-ad20-45da-a4e7-1c206cec2054",
   "metadata": {},
   "outputs": [
    {
     "data": {
      "text/plain": [
       "{'이름': '홍길동', '나이': 34, '별명': ['도사', '의적']}"
      ]
     },
     "execution_count": 148,
     "metadata": {},
     "output_type": "execute_result"
    }
   ],
   "source": [
    "# 있는 key에 대입 -> 변경(수정)\n",
    "d['나이'] = 34\n",
    "d"
   ]
  },
  {
   "cell_type": "code",
   "execution_count": 150,
   "id": "68616dde-8961-49a5-8871-3fd4006e318c",
   "metadata": {},
   "outputs": [],
   "source": [
    "# 없는 key로 대입 -> 추가.\n",
    "d['전화번호'] = \"010-5555-2233\""
   ]
  },
  {
   "cell_type": "code",
   "execution_count": 151,
   "id": "5ae7f8c7-0719-4690-a36a-2b7d551b9a3e",
   "metadata": {},
   "outputs": [
    {
     "data": {
      "text/plain": [
       "{'이름': '홍길동', '나이': 34, '별명': ['도사', '의적'], '전화번호': '010-5555-2233'}"
      ]
     },
     "execution_count": 151,
     "metadata": {},
     "output_type": "execute_result"
    }
   ],
   "source": [
    "d"
   ]
  },
  {
   "cell_type": "code",
   "execution_count": 152,
   "id": "4fb2fa39-7ebe-4729-8c71-304ef3fa28b5",
   "metadata": {},
   "outputs": [
    {
     "data": {
      "text/plain": [
       "{'a': 50}"
      ]
     },
     "execution_count": 152,
     "metadata": {},
     "output_type": "execute_result"
    }
   ],
   "source": [
    "d = {\n",
    "    \"a\":10,\n",
    "    \"a\":30,\n",
    "    \"a\":40,\n",
    "    \"a\":50,\n",
    "}\n",
    "d"
   ]
  },
  {
   "cell_type": "code",
   "execution_count": 154,
   "id": "366a7079-c572-4c4a-959b-d9e4c1623528",
   "metadata": {},
   "outputs": [
    {
     "data": {
      "text/plain": [
       "{'이름': '이순신', 'age': 30, 'address': '서울'}"
      ]
     },
     "execution_count": 154,
     "metadata": {},
     "output_type": "execute_result"
    }
   ],
   "source": [
    "# 딕셔너리 생성 함수\n",
    "d3 = dict(이름=\"이순신\", age=30, address=\"서울\") # key=value, key=value   key: 변수\n",
    "d3"
   ]
  },
  {
   "cell_type": "markdown",
   "id": "d5aade1e",
   "metadata": {
    "slideshow": {
     "slide_type": "slide"
    }
   },
   "source": [
    "## Dictionary 연산자\n",
    "\n",
    "-   **in, not in 연산자**\n",
    "    -   값 in dictionary\n",
    "        -   dictionary의 **Key**로 값이 **있으면** True, 없으면 False 반환\n",
    "    -   값 not in dictionary\n",
    "        -   dictionary의 **Key**로 값이 **없으면** True, 있으면 False 반환\n",
    "-   **len(dictionary)**\n",
    "    -   dictionary의 **Item의 개수** 반환\n"
   ]
  },
  {
   "cell_type": "code",
   "execution_count": 157,
   "id": "71449891",
   "metadata": {},
   "outputs": [
    {
     "data": {
      "text/plain": [
       "3"
      ]
     },
     "execution_count": 157,
     "metadata": {},
     "output_type": "execute_result"
    }
   ],
   "source": [
    "len(d3)"
   ]
  },
  {
   "cell_type": "code",
   "execution_count": 158,
   "id": "4a7c9061",
   "metadata": {
    "slideshow": {
     "slide_type": "fragment"
    }
   },
   "outputs": [
    {
     "data": {
      "text/plain": [
       "{'이름': '이순신', 'age': 30, 'address': '서울'}"
      ]
     },
     "execution_count": 158,
     "metadata": {},
     "output_type": "execute_result"
    }
   ],
   "source": [
    "d3"
   ]
  },
  {
   "cell_type": "code",
   "execution_count": 161,
   "id": "fffb2607-7172-4288-aa38-a97bb162fe4e",
   "metadata": {},
   "outputs": [
    {
     "data": {
      "text/plain": [
       "False"
      ]
     },
     "execution_count": 161,
     "metadata": {},
     "output_type": "execute_result"
    }
   ],
   "source": [
    "\"이름\" in d3  \n",
    "\"이름\" not in d3"
   ]
  },
  {
   "cell_type": "code",
   "execution_count": 162,
   "id": "ad86c4d1-bd78-4bd4-8746-a4b543160b41",
   "metadata": {},
   "outputs": [
    {
     "data": {
      "text/plain": [
       "True"
      ]
     },
     "execution_count": 162,
     "metadata": {},
     "output_type": "execute_result"
    }
   ],
   "source": [
    "\"이순신\" in d3\n",
    "\"이순신\"  not in d3"
   ]
  },
  {
   "cell_type": "markdown",
   "id": "9f620ec1",
   "metadata": {
    "slideshow": {
     "slide_type": "slide"
    }
   },
   "source": [
    "## Dictionary 주요 메소드\n",
    "\n",
    "| 메소드               | 설명                                                                               |\n",
    "| :------------------- | ---------------------------------------------------------------------------------- |\n",
    "| get(key\\[, 기본값\\]) | key의 item의 값을 반환한다. 단 key가 없을 경우 None또는 기본값을 반환한다.         |\n",
    "| pop(key)             | key의 item의 값을 반환하면서 dictionary에서 삭제한다. 없는 key일 경우 KeyError발생 |\n",
    "| clear()              | dictionary의 모든 item들을 삭제한다.                                               |\n",
    "| del dict\\[key\\]      | key의 item을 제거한다.                                                             |\n",
    "| items()              | item의 key, value를 튜플로 묶어 모아 반환한다.                                     |\n",
    "| keys()               | key값들만 모아 반환한다.                                                           |\n",
    "| values()             | value값들만 모아 반환한다.                                                         |\n"
   ]
  },
  {
   "cell_type": "code",
   "execution_count": 163,
   "id": "95ca3aad-21de-4e7c-951d-359d2066751d",
   "metadata": {},
   "outputs": [
    {
     "data": {
      "text/plain": [
       "{'이름': '이순신', 'age': 30, 'address': '서울'}"
      ]
     },
     "execution_count": 163,
     "metadata": {},
     "output_type": "execute_result"
    }
   ],
   "source": [
    "d3"
   ]
  },
  {
   "cell_type": "code",
   "execution_count": 166,
   "id": "efbe9da7-aa19-44af-b37b-587748886257",
   "metadata": {},
   "outputs": [
    {
     "data": {
      "text/plain": [
       "'이순신'"
      ]
     },
     "execution_count": 166,
     "metadata": {},
     "output_type": "execute_result"
    }
   ],
   "source": [
    "d3.get(\"이름\")"
   ]
  },
  {
   "cell_type": "code",
   "execution_count": 168,
   "id": "94dcf625-c2f0-4b4c-9dd6-02899e32a382",
   "metadata": {},
   "outputs": [
    {
     "name": "stdout",
     "output_type": "stream",
     "text": [
      "None\n"
     ]
    }
   ],
   "source": [
    "a = d3.get(\"전화번호\") # 없는 key 로 조회하면 기본값을 반환. (default기본값: None)\n",
    "print(a)"
   ]
  },
  {
   "cell_type": "code",
   "execution_count": 171,
   "id": "343b7222-1181-40a0-a810-f351af90d4c6",
   "metadata": {},
   "outputs": [
    {
     "data": {
      "text/plain": [
       "'없음-ㅁㅁㅁㅁ'"
      ]
     },
     "execution_count": 171,
     "metadata": {},
     "output_type": "execute_result"
    }
   ],
   "source": [
    "d3.get(\"전화번호\", \"없음\")"
   ]
  },
  {
   "cell_type": "code",
   "execution_count": 173,
   "id": "55f208b6",
   "metadata": {},
   "outputs": [
    {
     "data": {
      "text/plain": [
       "'서울'"
      ]
     },
     "execution_count": 173,
     "metadata": {},
     "output_type": "execute_result"
    }
   ],
   "source": [
    "# item 삭제\n",
    "d3.pop(\"address\") #value를 반환하면서 삭제"
   ]
  },
  {
   "cell_type": "code",
   "execution_count": 174,
   "id": "350e7ad5",
   "metadata": {
    "slideshow": {
     "slide_type": "fragment"
    }
   },
   "outputs": [
    {
     "data": {
      "text/plain": [
       "{'이름': '이순신', 'age': 30}"
      ]
     },
     "execution_count": 174,
     "metadata": {},
     "output_type": "execute_result"
    }
   ],
   "source": [
    "d3"
   ]
  },
  {
   "cell_type": "code",
   "execution_count": 175,
   "id": "f67bf2b1-80ad-4c4e-a65e-fb922d652b0c",
   "metadata": {},
   "outputs": [
    {
     "data": {
      "text/plain": [
       "{'이름': '이순신'}"
      ]
     },
     "execution_count": 175,
     "metadata": {},
     "output_type": "execute_result"
    }
   ],
   "source": [
    "del d3['age']\n",
    "d3"
   ]
  },
  {
   "cell_type": "code",
   "execution_count": 176,
   "id": "f18f3507-b73e-4de4-a86d-64b81bc8c159",
   "metadata": {},
   "outputs": [
    {
     "data": {
      "text/plain": [
       "{'a': 10, 'b': 30, 'c': 100, 'd': 45}"
      ]
     },
     "execution_count": 176,
     "metadata": {},
     "output_type": "execute_result"
    }
   ],
   "source": [
    "d = {'a':10, 'b':30, 'c':100, 'd':45}\n",
    "d"
   ]
  },
  {
   "cell_type": "code",
   "execution_count": 178,
   "id": "dfa3a4b3-2852-44da-99fb-177a0e4e4423",
   "metadata": {},
   "outputs": [
    {
     "data": {
      "text/plain": [
       "dict_values([10, 30, 100, 45])"
      ]
     },
     "execution_count": 178,
     "metadata": {},
     "output_type": "execute_result"
    }
   ],
   "source": [
    "d.values() # 값만 리스트에 모아서 반환 "
   ]
  },
  {
   "cell_type": "code",
   "execution_count": 180,
   "id": "135a98c8-9b51-464e-abd8-142a0792c9b3",
   "metadata": {},
   "outputs": [
    {
     "data": {
      "text/plain": [
       "dict_keys(['a', 'b', 'c', 'd'])"
      ]
     },
     "execution_count": 180,
     "metadata": {},
     "output_type": "execute_result"
    }
   ],
   "source": [
    "d.keys()   # key만 리스트에 모아서 반환"
   ]
  },
  {
   "cell_type": "code",
   "execution_count": 181,
   "id": "e0069670-8224-4efa-851a-015f40efc2b1",
   "metadata": {},
   "outputs": [
    {
     "data": {
      "text/plain": [
       "dict_items([('a', 10), ('b', 30), ('c', 100), ('d', 45)])"
      ]
     },
     "execution_count": 181,
     "metadata": {},
     "output_type": "execute_result"
    }
   ],
   "source": [
    "d.items()  # item - key:value -> 튜플로 만들어서 반환\n"
   ]
  },
  {
   "cell_type": "code",
   "execution_count": null,
   "id": "02d0b878-d0fd-4a4a-bee1-c6af3682aad4",
   "metadata": {},
   "outputs": [],
   "source": []
  },
  {
   "cell_type": "markdown",
   "id": "d97869af",
   "metadata": {
    "slideshow": {
     "slide_type": "slide"
    }
   },
   "source": [
    "# Set\n",
    "\n",
    "-   Set은 중복되는 값을 허용하지 않고 순서를 신경 쓰지 않는다.\n",
    "    -   원소를 식별할 수 있는 식별자가 없기 때문에 Set은 indexing과 slicing을 지원하지 않는다\n",
    "\n",
    "## Set 생성\n",
    "\n",
    "-   구문\n",
    "    -   {값, 값, 값 }\n",
    "\n",
    "> -   빈 Dictionary 만들기\n",
    ">     -   info = {}\n",
    ">     -   중괄호만 사용하면 빈 set이 아니라 빈 dictionary를 생성하는 것임.\n"
   ]
  },
  {
   "cell_type": "code",
   "execution_count": 182,
   "id": "9b2606dc-9a18-4af5-88e4-65604b442d36",
   "metadata": {},
   "outputs": [
    {
     "data": {
      "text/plain": [
       "{1, 2, 3, 4, 5}"
      ]
     },
     "execution_count": 182,
     "metadata": {},
     "output_type": "execute_result"
    }
   ],
   "source": [
    "s = {1, 2, 3, 4, 5}\n",
    "s"
   ]
  },
  {
   "cell_type": "code",
   "execution_count": 183,
   "id": "9c47d479-79e7-461c-a2a7-4d870f3c6f81",
   "metadata": {},
   "outputs": [
    {
     "data": {
      "text/plain": [
       "{1, 2, 3}"
      ]
     },
     "execution_count": 183,
     "metadata": {},
     "output_type": "execute_result"
    }
   ],
   "source": [
    "s = {1, 1, 1, 1, 1, 2, 2, 2, 3, 3, 3, 2, 2, 1, 2, 3, 2, 1, 2, 3}\n",
    "s"
   ]
  },
  {
   "cell_type": "code",
   "execution_count": 184,
   "id": "304f16ea",
   "metadata": {},
   "outputs": [
    {
     "data": {
      "text/plain": [
       "{10, 2.3, True, '가'}"
      ]
     },
     "execution_count": 184,
     "metadata": {},
     "output_type": "execute_result"
    }
   ],
   "source": [
    "s = {'가', 10, '가', 10, 2.3, True, 2.3}\n",
    "s"
   ]
  },
  {
   "cell_type": "code",
   "execution_count": 185,
   "id": "7c928e6c-0dcd-4f33-addc-c7ee175d5311",
   "metadata": {},
   "outputs": [
    {
     "data": {
      "text/plain": [
       "set"
      ]
     },
     "execution_count": 185,
     "metadata": {},
     "output_type": "execute_result"
    }
   ],
   "source": [
    "type(s)"
   ]
  },
  {
   "cell_type": "code",
   "execution_count": 186,
   "id": "c5cc0114-b681-426e-a2a1-5bb9a2a7f283",
   "metadata": {
    "collapsed": true,
    "jupyter": {
     "outputs_hidden": true
    }
   },
   "outputs": [
    {
     "ename": "TypeError",
     "evalue": "'set' object is not subscriptable",
     "output_type": "error",
     "traceback": [
      "\u001b[1;31m---------------------------------------------------------------------------\u001b[0m",
      "\u001b[1;31mTypeError\u001b[0m                                 Traceback (most recent call last)",
      "Cell \u001b[1;32mIn[186], line 1\u001b[0m\n\u001b[1;32m----> 1\u001b[0m \u001b[43ms\u001b[49m\u001b[43m[\u001b[49m\u001b[38;5;241;43m0\u001b[39;49m\u001b[43m]\u001b[49m\n",
      "\u001b[1;31mTypeError\u001b[0m: 'set' object is not subscriptable"
     ]
    }
   ],
   "source": [
    "s[0] # 'set' object is not subscriptable"
   ]
  },
  {
   "cell_type": "code",
   "execution_count": 187,
   "id": "73adf8bb-82be-45d7-b7d8-00f6e0d8d958",
   "metadata": {},
   "outputs": [
    {
     "name": "stdout",
     "output_type": "stream",
     "text": [
      "True\n",
      "가\n",
      "10\n",
      "2.3\n"
     ]
    }
   ],
   "source": [
    "# 반복문을 이용해서 하나씩 모두 조회하는 것만 가능.\n",
    "for v in s:\n",
    "    print(v)"
   ]
  },
  {
   "cell_type": "code",
   "execution_count": null,
   "id": "5c88480a",
   "metadata": {
    "slideshow": {
     "slide_type": "fragment"
    }
   },
   "outputs": [],
   "source": []
  },
  {
   "cell_type": "markdown",
   "id": "79cf0f20",
   "metadata": {
    "slideshow": {
     "slide_type": "slide"
    }
   },
   "source": [
    "## Set 연산자\n",
    "\n",
    "-   **in, not in 연산자**\n",
    "    -   값 in Set\n",
    "        -   Set의 원소로 값이 **있으면** True, 없으면 False 반환\n",
    "    -   값 not in Set\n",
    "        -   Set의 원소로 값이 **없으면** True, 있으면 False 반환\n",
    "-   **len(Set)**\n",
    "    -   Set의 **원소의 개수** 반환\n",
    "-   **[집합연산자](#Set의-집합연산-연산자-및-메소드)**\n"
   ]
  },
  {
   "cell_type": "code",
   "execution_count": 188,
   "id": "1c530013",
   "metadata": {},
   "outputs": [
    {
     "data": {
      "text/plain": [
       "4"
      ]
     },
     "execution_count": 188,
     "metadata": {},
     "output_type": "execute_result"
    }
   ],
   "source": [
    "len(s)"
   ]
  },
  {
   "cell_type": "code",
   "execution_count": 190,
   "id": "80be18ad",
   "metadata": {
    "slideshow": {
     "slide_type": "fragment"
    }
   },
   "outputs": [
    {
     "data": {
      "text/plain": [
       "False"
      ]
     },
     "execution_count": 190,
     "metadata": {},
     "output_type": "execute_result"
    }
   ],
   "source": [
    "10 in s\n",
    "False in s"
   ]
  },
  {
   "cell_type": "markdown",
   "id": "080c2a17",
   "metadata": {
    "slideshow": {
     "slide_type": "slide"
    }
   },
   "source": [
    "## Set의 주요 메소드\n",
    "\n",
    "| 메소드           | 설명                                   |\n",
    "| ---------------- | -------------------------------------- |\n",
    "| add(값)          | 집합에 값 추가                         |\n",
    "| update(자료구조) | 자료구조내의 원소들을 모두 집합에 추가 |\n",
    "| pop()            | 원소를 반환하고 Set에서 삭제한다.      |\n",
    "| remove(값)       | 값을 찾아서 Set에서 삭제한다.          |\n"
   ]
  },
  {
   "cell_type": "code",
   "execution_count": 192,
   "id": "6ec0eee0",
   "metadata": {},
   "outputs": [
    {
     "data": {
      "text/plain": [
       "{10, 100, 2.3, True, '가'}"
      ]
     },
     "execution_count": 192,
     "metadata": {},
     "output_type": "execute_result"
    }
   ],
   "source": [
    "s.add(100)\n",
    "s"
   ]
  },
  {
   "cell_type": "code",
   "execution_count": 193,
   "id": "b12f08b0",
   "metadata": {
    "slideshow": {
     "slide_type": "fragment"
    }
   },
   "outputs": [
    {
     "data": {
      "text/plain": [
       "{10, 100, 2.3, True, '가'}"
      ]
     },
     "execution_count": 193,
     "metadata": {},
     "output_type": "execute_result"
    }
   ],
   "source": [
    "s.add(100)\n",
    "s.add(100)\n",
    "s.add(100)\n",
    "s"
   ]
  },
  {
   "cell_type": "code",
   "execution_count": 194,
   "id": "b75f9e03-c8d2-43f2-b36d-edd452ee0978",
   "metadata": {},
   "outputs": [
    {
     "data": {
      "text/plain": [
       "{10, 100, 2, 2.3, 3, 4, 5, True, '가'}"
      ]
     },
     "execution_count": 194,
     "metadata": {},
     "output_type": "execute_result"
    }
   ],
   "source": [
    "s.update([1, 2, 3, 4, 5, 10])  \n",
    "# True가 내부적으로 1로 저장됨. 1은 추가가 안됨. False는 0으로 저장됨.\n",
    "s"
   ]
  },
  {
   "cell_type": "code",
   "execution_count": 195,
   "id": "39fe1c94-2a72-4ad2-9d95-ccec2e5741f0",
   "metadata": {},
   "outputs": [
    {
     "data": {
      "text/plain": [
       "{100, 2, 2.3, 3, 4, 5, True, '가'}"
      ]
     },
     "execution_count": 195,
     "metadata": {},
     "output_type": "execute_result"
    }
   ],
   "source": [
    "s.remove(10) # 동일한 값을 찾아서 삭제\n",
    "s"
   ]
  },
  {
   "cell_type": "code",
   "execution_count": 196,
   "id": "70c60449-8e80-4fa7-ba52-227e4a1e8a80",
   "metadata": {},
   "outputs": [
    {
     "ename": "KeyError",
     "evalue": "'dkloajodflk'",
     "output_type": "error",
     "traceback": [
      "\u001b[1;31m---------------------------------------------------------------------------\u001b[0m",
      "\u001b[1;31mKeyError\u001b[0m                                  Traceback (most recent call last)",
      "Cell \u001b[1;32mIn[196], line 1\u001b[0m\n\u001b[1;32m----> 1\u001b[0m \u001b[43ms\u001b[49m\u001b[38;5;241;43m.\u001b[39;49m\u001b[43mremove\u001b[49m\u001b[43m(\u001b[49m\u001b[38;5;124;43m\"\u001b[39;49m\u001b[38;5;124;43mdkloajodflk\u001b[39;49m\u001b[38;5;124;43m\"\u001b[39;49m\u001b[43m)\u001b[49m\n",
      "\u001b[1;31mKeyError\u001b[0m: 'dkloajodflk'"
     ]
    }
   ],
   "source": [
    "s.remove(\"dkloajodflk\")"
   ]
  },
  {
   "cell_type": "code",
   "execution_count": 197,
   "id": "e19dc0e7-7a06-48bb-a5a6-8f5749264d1b",
   "metadata": {},
   "outputs": [
    {
     "data": {
      "text/plain": [
       "True"
      ]
     },
     "execution_count": 197,
     "metadata": {},
     "output_type": "execute_result"
    }
   ],
   "source": [
    "s.pop()"
   ]
  },
  {
   "cell_type": "code",
   "execution_count": null,
   "id": "1df0e9b5-dce8-4f03-ab8b-82f16124fc3a",
   "metadata": {},
   "outputs": [],
   "source": []
  },
  {
   "cell_type": "markdown",
   "id": "33d115cd",
   "metadata": {
    "slideshow": {
     "slide_type": "subslide"
    }
   },
   "source": [
    "## Set의 집합연산 연산자 및 메소드\n",
    "\n",
    "-   합집합\n",
    "    -   집합A | 집합B\n",
    "    -   집합A.union(집합B)\n",
    "-   교집합\n",
    "    -   집합A & 집합B\n",
    "    -   집합A.intersection(집합B)\n",
    "-   차집합\n",
    "    -   집합A - 집합B\n",
    "    -   집합A.difference(집합B)\n"
   ]
  },
  {
   "cell_type": "code",
   "execution_count": 198,
   "id": "d2a32b55",
   "metadata": {},
   "outputs": [
    {
     "data": {
      "text/plain": [
       "{1, 2, 3, 4, 5, 6, 7}"
      ]
     },
     "execution_count": 198,
     "metadata": {},
     "output_type": "execute_result"
    }
   ],
   "source": [
    "s1 = {1, 2, 3, 4, 5}\n",
    "s2 = {4, 5, 6, 7}\n",
    "s3 = s1 | s2\n",
    "s3"
   ]
  },
  {
   "cell_type": "code",
   "execution_count": 200,
   "id": "e2d43f89",
   "metadata": {},
   "outputs": [
    {
     "data": {
      "text/plain": [
       "{1, 2, 3, 4, 5, 6, 7}"
      ]
     },
     "execution_count": 200,
     "metadata": {},
     "output_type": "execute_result"
    }
   ],
   "source": [
    "s1.union(s2)"
   ]
  },
  {
   "cell_type": "code",
   "execution_count": 201,
   "id": "df62d35f-5363-45a3-a6ed-de07b9d20f53",
   "metadata": {},
   "outputs": [
    {
     "data": {
      "text/plain": [
       "{4, 5}"
      ]
     },
     "execution_count": 201,
     "metadata": {},
     "output_type": "execute_result"
    }
   ],
   "source": [
    "s4 = s1 & s2 \n",
    "s4"
   ]
  },
  {
   "cell_type": "code",
   "execution_count": 202,
   "id": "2959daf0-4388-4016-9640-8db18caa47f0",
   "metadata": {},
   "outputs": [
    {
     "data": {
      "text/plain": [
       "{4, 5}"
      ]
     },
     "execution_count": 202,
     "metadata": {},
     "output_type": "execute_result"
    }
   ],
   "source": [
    "s1.intersection(s2)"
   ]
  },
  {
   "cell_type": "code",
   "execution_count": 203,
   "id": "b8ffe9ff-4e61-476e-8eee-52e1d11d8f93",
   "metadata": {},
   "outputs": [
    {
     "data": {
      "text/plain": [
       "{1, 2, 3}"
      ]
     },
     "execution_count": 203,
     "metadata": {},
     "output_type": "execute_result"
    }
   ],
   "source": [
    "s5 = s1 - s2\n",
    "s5"
   ]
  },
  {
   "cell_type": "code",
   "execution_count": 204,
   "id": "514bc57e-5725-45eb-95c7-0a6c5207ee15",
   "metadata": {},
   "outputs": [
    {
     "data": {
      "text/plain": [
       "{1, 2, 3}"
      ]
     },
     "execution_count": 204,
     "metadata": {},
     "output_type": "execute_result"
    }
   ],
   "source": [
    "s1.difference(s2)"
   ]
  },
  {
   "cell_type": "code",
   "execution_count": null,
   "id": "69400a93-fe28-453f-8dd5-5e63a76a78f1",
   "metadata": {},
   "outputs": [],
   "source": []
  },
  {
   "cell_type": "markdown",
   "id": "17bf4f71",
   "metadata": {},
   "source": [
    "# 자료구조를 이용한 대입\n",
    "\n",
    "-   리스트, 튜플, 셋의 원소들을 개별 변수에 대입한다. 어느 자료구조에 적용하느냐에 따라 **리스트 대입, 튜플 대입, 셋 대입** 이라고 한다. 이중 리스트대입이나 튜플대입은 많이 사용된다.\n",
    "-   변수의 개수와 리스트 원소의 개수는 동일해야 한다.\n"
   ]
  },
  {
   "cell_type": "code",
   "execution_count": 10,
   "id": "b5c61de1-d996-4c08-8f6b-842321dd0b4f",
   "metadata": {},
   "outputs": [
    {
     "name": "stdout",
     "output_type": "stream",
     "text": [
      "귤\n",
      "사과\n"
     ]
    }
   ],
   "source": [
    "f1, f2 = \"귤,사과\".split(\",\")\n",
    "print(f1)\n",
    "print(f2)"
   ]
  },
  {
   "cell_type": "code",
   "execution_count": 208,
   "id": "17fecd90-4de7-4036-aa36-e0ad072fe018",
   "metadata": {},
   "outputs": [
    {
     "name": "stdout",
     "output_type": "stream",
     "text": [
      "10 가aaa\n"
     ]
    }
   ],
   "source": [
    "a, b = [10, '가aaa']\n",
    "print(a, b)"
   ]
  },
  {
   "cell_type": "code",
   "execution_count": 210,
   "id": "73b925bb",
   "metadata": {},
   "outputs": [
    {
     "name": "stdout",
     "output_type": "stream",
     "text": [
      "100 200 300\n"
     ]
    }
   ],
   "source": [
    "a, b, c = (1, 10, 100)\n",
    "a, b, c = 100, 200, 300\n",
    "print(a, b, c)"
   ]
  },
  {
   "cell_type": "code",
   "execution_count": 211,
   "id": "eb7ea5f7-2081-4088-9899-7cc8329ca67c",
   "metadata": {},
   "outputs": [
    {
     "name": "stdout",
     "output_type": "stream",
     "text": [
      "b c a\n"
     ]
    }
   ],
   "source": [
    "a, b, c = {'a', 'b', 'c'}\n",
    "print(a, b, c)"
   ]
  },
  {
   "cell_type": "code",
   "execution_count": 212,
   "id": "dd5393b7-9828-4d82-827b-19f2e1521f02",
   "metadata": {},
   "outputs": [
    {
     "name": "stdout",
     "output_type": "stream",
     "text": [
      "name age address\n"
     ]
    }
   ],
   "source": [
    "a, b, c = {'name':\"홍길동\", \"age\":20, \"address\":\"서울\"}\n",
    "print(a, b, c) # key 값들이 변수에 대입."
   ]
  },
  {
   "cell_type": "markdown",
   "id": "a3778f41",
   "metadata": {
    "slideshow": {
     "slide_type": "slide"
    }
   },
   "source": [
    "# 자료구조 변환 함수\n",
    "\n",
    "-   **list(자료구조)**\n",
    "    -   대상 자료구조/Iterable을 List로 변환한다.\n",
    "-   **tuple(자료구조)**\n",
    "    -   대상 자료구조/Iterable을 Tuple로 변환\n",
    "-   **set(자료구조)**\n",
    "    -   대상 자료구조/Iterable을 Set으로 변환\n",
    "    -   다른 자료구조의 원소 중 중복을 빼고 조회할 때 set()를 이용해 Set으로 변환한다.\n",
    "-   Dictionary로 변환하는 함수는 없다.\n",
    "    -   dict(key=value, ..) 는 딕셔너리 생성하는 함수이다.\n",
    "-   변경 대상이 Dictionary 일 경우에는 key값들만 모아서 변환한다.\n",
    "\n",
    "> -   **Iterable**\n",
    ">     -   반복가능한 객체.\n",
    ">     -   여러개의 값을 요청을 받을 때마다 하나씩 제공해주는 타입을 iterable 이라고 함.\n",
    ">         -   Iterable이 제공하는 값을 반복문을 이용해 조회할 경우 **for in문**을 사용한다.\n",
    ">     -   대표적으로 자료구조, 문자열 등이 있다.\n"
   ]
  },
  {
   "cell_type": "code",
   "execution_count": 218,
   "id": "6e1d0f71-35fa-49ca-ade0-f77cb50df924",
   "metadata": {},
   "outputs": [
    {
     "name": "stdout",
     "output_type": "stream",
     "text": [
      "{1, 2, 3}\n",
      "[1, 2, 3]\n",
      "(1, 2, 3)\n"
     ]
    }
   ],
   "source": [
    "l = [1, 1, 2, 2, 3, 2, 2, 1, 3, 3]\n",
    "# l의 중복값들을 제거\n",
    "s = set(l)\n",
    "l2 = list(s)\n",
    "t = tuple(s)\n",
    "print(s)\n",
    "print(l2)\n",
    "print(t)"
   ]
  },
  {
   "cell_type": "code",
   "execution_count": 219,
   "id": "b54c78f5-6a88-4544-b662-5c03f07e9029",
   "metadata": {},
   "outputs": [
    {
     "data": {
      "text/plain": [
       "['가', '나', '다', '라', '마']"
      ]
     },
     "execution_count": 219,
     "metadata": {},
     "output_type": "execute_result"
    }
   ],
   "source": [
    "list(\"가나다라마\")"
   ]
  },
  {
   "cell_type": "code",
   "execution_count": 220,
   "id": "81ef8577-d22a-4347-ba5e-b23d61adefd9",
   "metadata": {},
   "outputs": [
    {
     "data": {
      "text/plain": [
       "{'가', '나', '다', '라'}"
      ]
     },
     "execution_count": 220,
     "metadata": {},
     "output_type": "execute_result"
    }
   ],
   "source": [
    "set(\"가나다라가나다라\")"
   ]
  },
  {
   "cell_type": "code",
   "execution_count": 221,
   "id": "42345863-6a08-4db5-977a-4b3feeb965f3",
   "metadata": {},
   "outputs": [
    {
     "data": {
      "text/plain": [
       "('안', '녕', '하', '세', '요', '.', 'a', 'b', 'c', 'd', 'e')"
      ]
     },
     "execution_count": 221,
     "metadata": {},
     "output_type": "execute_result"
    }
   ],
   "source": [
    "tuple(\"안녕하세요.abcde\")"
   ]
  },
  {
   "cell_type": "code",
   "execution_count": null,
   "id": "07fd6373",
   "metadata": {
    "slideshow": {
     "slide_type": "fragment"
    }
   },
   "outputs": [],
   "source": []
  },
  {
   "cell_type": "markdown",
   "id": "b4671a5d",
   "metadata": {
    "slideshow": {
     "slide_type": "skip"
    }
   },
   "source": [
    "# TODO\n"
   ]
  },
  {
   "cell_type": "code",
   "execution_count": 222,
   "id": "a2f51172-b229-4fef-b348-6333218bf02b",
   "metadata": {
    "slideshow": {
     "slide_type": "skip"
    }
   },
   "outputs": [
    {
     "data": {
      "text/plain": [
       "10"
      ]
     },
     "execution_count": 222,
     "metadata": {},
     "output_type": "execute_result"
    }
   ],
   "source": [
    "# \"control + shift + -\"  : 셀 나기기\n",
    "# 문제 1 ~ 7\n",
    "jumsu = [100, 90, 100, 80, 70, 100, 80, 90, 95, 85] \n",
    "# 위 리스트는 학생번호 1번 ~ 10번까지 10명의 시험 점수이다.\n",
    "len(jumsu)"
   ]
  },
  {
   "cell_type": "code",
   "execution_count": 224,
   "id": "d4ae5fdd-d774-4315-9951-8e5fa06d7562",
   "metadata": {
    "slideshow": {
     "slide_type": "skip"
    }
   },
   "outputs": [
    {
     "data": {
      "text/plain": [
       "80"
      ]
     },
     "execution_count": 224,
     "metadata": {},
     "output_type": "execute_result"
    }
   ],
   "source": [
    "#(1)  7번의 점수를 출력하세요\n",
    "jumsu[6]"
   ]
  },
  {
   "cell_type": "code",
   "execution_count": 225,
   "id": "58160453-7861-4724-a15f-7648a6714891",
   "metadata": {
    "slideshow": {
     "slide_type": "skip"
    }
   },
   "outputs": [
    {
     "data": {
      "text/plain": [
       "[100, 90, 100, 80, 70]"
      ]
     },
     "execution_count": 225,
     "metadata": {},
     "output_type": "execute_result"
    }
   ],
   "source": [
    "#(2)  1번부터 5번까지의 점수를 출력하세요.\n",
    "jumsu[:5]"
   ]
  },
  {
   "cell_type": "code",
   "execution_count": 226,
   "id": "ee152c30-6b39-42d6-b9be-f12237e9a868",
   "metadata": {
    "slideshow": {
     "slide_type": "skip"
    }
   },
   "outputs": [
    {
     "data": {
      "text/plain": [
       "[80, 70, 100, 80]"
      ]
     },
     "execution_count": 226,
     "metadata": {},
     "output_type": "execute_result"
    }
   ],
   "source": [
    "#(3)  4, 5, 6, 7번의 점수를 출력하세요.\n",
    "jumsu[3:7]"
   ]
  },
  {
   "cell_type": "code",
   "execution_count": 228,
   "id": "0cffece8-7ba3-4009-9a67-2a68aee21eb6",
   "metadata": {
    "slideshow": {
     "slide_type": "skip"
    }
   },
   "outputs": [
    {
     "data": {
      "text/plain": [
       "[90, 80, 100, 90, 85]"
      ]
     },
     "execution_count": 228,
     "metadata": {},
     "output_type": "execute_result"
    }
   ],
   "source": [
    "#(4) 짝수번째 점수를 출력하세요.\n",
    "jumsu[1::2]"
   ]
  },
  {
   "cell_type": "code",
   "execution_count": 229,
   "id": "930fa8e4-00d9-4609-8393-e9968ccfb974",
   "metadata": {
    "slideshow": {
     "slide_type": "skip"
    }
   },
   "outputs": [
    {
     "data": {
      "text/plain": [
       "[100, 100, 70, 80, 95]"
      ]
     },
     "execution_count": 229,
     "metadata": {},
     "output_type": "execute_result"
    }
   ],
   "source": [
    "#(5) 홀수번째 점수를 출력하세요.\n",
    "jumsu[::2]"
   ]
  },
  {
   "cell_type": "code",
   "execution_count": 230,
   "id": "d4b5380f-6824-4ba0-9ad8-0b3de795e456",
   "metadata": {},
   "outputs": [
    {
     "data": {
      "text/plain": [
       "[100, 90, 100, 80, 70, 100, 80, 90, 95, 85]"
      ]
     },
     "execution_count": 230,
     "metadata": {},
     "output_type": "execute_result"
    }
   ],
   "source": [
    "jumsu"
   ]
  },
  {
   "cell_type": "code",
   "execution_count": 234,
   "id": "0e8bfa2d-dbf6-4288-96c0-b2bc49de6d56",
   "metadata": {
    "slideshow": {
     "slide_type": "skip"
    }
   },
   "outputs": [
    {
     "data": {
      "text/plain": [
       "[100, 90, 100, 80, 70, 100, 80, 90, 20, 85]"
      ]
     },
     "execution_count": 234,
     "metadata": {},
     "output_type": "execute_result"
    }
   ],
   "source": [
    "#(6) 9번의 점수를 20으로 변경하고 전체 출력하세요.\n",
    "jumsu[8] = 20\n",
    "jumsu"
   ]
  },
  {
   "cell_type": "code",
   "execution_count": 235,
   "id": "10f77170-6dcf-4527-904f-f98e568b0a86",
   "metadata": {},
   "outputs": [
    {
     "data": {
      "text/plain": [
       "[100, 90, 100, 80, 70, 100, 80, 90, 50, 85]"
      ]
     },
     "execution_count": 235,
     "metadata": {},
     "output_type": "execute_result"
    }
   ],
   "source": [
    "jumsu[-2] = 50\n",
    "jumsu"
   ]
  },
  {
   "cell_type": "code",
   "execution_count": 237,
   "id": "a99e5388-4857-4e0b-abfe-0b3c79d3c042",
   "metadata": {
    "slideshow": {
     "slide_type": "skip"
    }
   },
   "outputs": [
    {
     "data": {
      "text/plain": [
       "[100, 70, 80, 50, 85, 90]"
      ]
     },
     "execution_count": 237,
     "metadata": {},
     "output_type": "execute_result"
    }
   ],
   "source": [
    "#(7) 중복된 점수는 제거하고 하나씩만 나오도록 출력하세요.\n",
    "list(set(jumsu))"
   ]
  },
  {
   "cell_type": "code",
   "execution_count": 239,
   "id": "bf447c91-0512-4595-b76c-fbb86de9208e",
   "metadata": {},
   "outputs": [
    {
     "data": {
      "text/plain": [
       "[100, 90, 85, 80, 70, 50]"
      ]
     },
     "execution_count": 239,
     "metadata": {},
     "output_type": "execute_result"
    }
   ],
   "source": [
    "sorted(set(jumsu), reverse=True)"
   ]
  },
  {
   "cell_type": "code",
   "execution_count": 240,
   "id": "fe719735-b23d-452a-9f62-c018d86a686d",
   "metadata": {
    "slideshow": {
     "slide_type": "skip"
    }
   },
   "outputs": [
    {
     "name": "stdout",
     "output_type": "stream",
     "text": [
      "['복숭아', '수박', '딸기', '사과', '귤']\n"
     ]
    }
   ],
   "source": [
    "#(8) fruits 리스트에 마지막 원소로 \"사과\", \"귤\"을 추가하세요.\n",
    "# 문제 8 ~ 9\n",
    "fruits = [\"복숭아\", \"수박\", \"딸기\"]\n",
    "f = fruits[:]  # 리스트 복사\n",
    "f.append(\"사과\")\n",
    "f.append('귤')\n",
    "print(f)"
   ]
  },
  {
   "cell_type": "code",
   "execution_count": 242,
   "id": "f580a648-7a20-4fc4-a418-ca652b48eab6",
   "metadata": {},
   "outputs": [
    {
     "name": "stdout",
     "output_type": "stream",
     "text": [
      "['복숭아', '수박', '딸기', '사과', '귤']\n"
     ]
    }
   ],
   "source": [
    "f2 = fruits[:]\n",
    "f2.extend(['사과', '귤'])\n",
    "print(f2)"
   ]
  },
  {
   "cell_type": "code",
   "execution_count": 244,
   "id": "6c04de33-c429-4bea-9222-5263785f48af",
   "metadata": {},
   "outputs": [
    {
     "data": {
      "text/plain": [
       "['복숭아', '수박', '딸기', '사과', '귤']"
      ]
     },
     "execution_count": 244,
     "metadata": {},
     "output_type": "execute_result"
    }
   ],
   "source": [
    "fruits = fruits + ['사과', '귤']"
   ]
  },
  {
   "cell_type": "code",
   "execution_count": 245,
   "id": "134e4697-6f2b-4ff9-81e4-5567317a1e9b",
   "metadata": {},
   "outputs": [
    {
     "data": {
      "text/plain": [
       "['복숭아', '수박', '딸기']"
      ]
     },
     "execution_count": 245,
     "metadata": {},
     "output_type": "execute_result"
    }
   ],
   "source": [
    "fruits"
   ]
  },
  {
   "cell_type": "code",
   "execution_count": 247,
   "id": "17799065-cd64-437c-a56d-7a5b03c6a874",
   "metadata": {
    "slideshow": {
     "slide_type": "skip"
    }
   },
   "outputs": [],
   "source": [
    "#(9) fruits 리스트에서 \"복숭아\"를 제거하세요.\n",
    "# f.pop(0)\n",
    "f.remove(\"복숭아\")"
   ]
  },
  {
   "cell_type": "code",
   "execution_count": 248,
   "id": "be5d2438-2951-411a-bd4f-d07f7b6bcebe",
   "metadata": {},
   "outputs": [
    {
     "data": {
      "text/plain": [
       "['수박', '딸기', '사과', '귤']"
      ]
     },
     "execution_count": 248,
     "metadata": {},
     "output_type": "execute_result"
    }
   ],
   "source": [
    "f"
   ]
  },
  {
   "cell_type": "code",
   "execution_count": 250,
   "id": "7f446efd-935d-4092-bb82-7a3fde5eaf51",
   "metadata": {
    "slideshow": {
     "slide_type": "skip"
    }
   },
   "outputs": [
    {
     "name": "stdout",
     "output_type": "stream",
     "text": [
      "{'이름': '이순신', '나이': 30, 'email주소': 'lee@a.com', '취미': ['독서', '게임', '영화감상'], '결혼여부': True}\n",
      "{'이름': '강감찬', '나이': 40, '취미': ['독서', '게임']}\n"
     ]
    }
   ],
   "source": [
    "# 문제 10 ~ 15\n",
    "#(10)본인의 이름, 나이, email주소, 취미, 결혼유무를 사전(딕셔너리)으로 생성. \n",
    "# 취미는 2개 이상의 값을 넣는다.\n",
    "info = {\n",
    "    \"이름\":\"이순신\",\n",
    "    \"나이\":30,\n",
    "    \"email주소\":\"lee@a.com\",\n",
    "    # \"취미\":\"독서,게임\"\n",
    "    \"취미\":[\"독서\", \"게임\", \"영화감상\"],\n",
    "    # \"결혼여부\":\"기혼\"\n",
    "    \"결혼여부\":True\n",
    "}\n",
    "info2 = dict(이름=\"강감찬\", 나이=40, 취미=['독서', '게임'])\n",
    "print(info)\n",
    "print(info2)"
   ]
  },
  {
   "cell_type": "code",
   "execution_count": 251,
   "id": "5aa4f960-982d-4b89-b586-f9d336354568",
   "metadata": {
    "slideshow": {
     "slide_type": "skip"
    }
   },
   "outputs": [
    {
     "data": {
      "text/plain": [
       "'lee@a.com'"
      ]
     },
     "execution_count": 251,
     "metadata": {},
     "output_type": "execute_result"
    }
   ],
   "source": [
    "#(11) 위 딕셔너리에서 이름과 email주소를 조회해서 출력하세요.\n",
    "info['email주소']"
   ]
  },
  {
   "cell_type": "code",
   "execution_count": 253,
   "id": "26a951d9-5eb0-4a5d-a353-f427231c6226",
   "metadata": {
    "slideshow": {
     "slide_type": "skip"
    }
   },
   "outputs": [
    {
     "data": {
      "text/plain": [
       "'게임'"
      ]
     },
     "execution_count": 253,
     "metadata": {},
     "output_type": "execute_result"
    }
   ],
   "source": [
    "#(12) 위 딕셔너리에서 취미중 두번째 취미를 조회해서 출력하세요.\n",
    "hobby = info['취미']\n",
    "hobby[1]"
   ]
  },
  {
   "cell_type": "code",
   "execution_count": 254,
   "id": "8c877d05-0244-4f4f-abbe-078d60818824",
   "metadata": {},
   "outputs": [
    {
     "data": {
      "text/plain": [
       "'게임'"
      ]
     },
     "execution_count": 254,
     "metadata": {},
     "output_type": "execute_result"
    }
   ],
   "source": [
    "info['취미'][1]"
   ]
  },
  {
   "cell_type": "code",
   "execution_count": 257,
   "id": "0ec14c95-61db-44e1-a405-351e563fa215",
   "metadata": {
    "slideshow": {
     "slide_type": "skip"
    }
   },
   "outputs": [
    {
     "data": {
      "text/plain": [
       "{'이름': '이순신',\n",
       " '나이': 30,\n",
       " 'email주소': 'lee@a.com',\n",
       " '취미': ['독서', '게임', '영화감상'],\n",
       " '결혼여부': True,\n",
       " '키': 186.32,\n",
       " '몸무게': 78.44}"
      ]
     },
     "execution_count": 257,
     "metadata": {},
     "output_type": "execute_result"
    }
   ],
   "source": [
    "#(13) 위 딕셔너리에 몸무게와 키 항목을 추가하세요.\n",
    "info['키'] = 186.32\n",
    "info['몸무게'] = 78.44\n",
    "info"
   ]
  },
  {
   "cell_type": "code",
   "execution_count": 261,
   "id": "1f5bc843-ea01-4bda-8fe8-bde319977710",
   "metadata": {
    "slideshow": {
     "slide_type": "skip"
    }
   },
   "outputs": [
    {
     "data": {
      "text/plain": [
       "{'이름': '이순신',\n",
       " '나이': 30,\n",
       " 'email주소': 'lee@naver.com',\n",
       " '취미': ['독서', '게임', '영화감상'],\n",
       " '결혼여부': True,\n",
       " '키': 186.32,\n",
       " '몸무게': 78.44}"
      ]
     },
     "execution_count": 261,
     "metadata": {},
     "output_type": "execute_result"
    }
   ],
   "source": [
    "#(14) 위 딕셔너리에서 email 주소를 다른 값으로 변경하세요.\n",
    "info['email주소'] = 'lee@naver.com'\n",
    "info"
   ]
  },
  {
   "cell_type": "code",
   "execution_count": 263,
   "id": "5344d161-1e13-4f62-93be-3f75a484a136",
   "metadata": {
    "collapsed": true,
    "jupyter": {
     "outputs_hidden": true
    },
    "scrolled": true,
    "slideshow": {
     "slide_type": "skip"
    }
   },
   "outputs": [
    {
     "ename": "KeyError",
     "evalue": "'나이'",
     "output_type": "error",
     "traceback": [
      "\u001b[1;31m---------------------------------------------------------------------------\u001b[0m",
      "\u001b[1;31mKeyError\u001b[0m                                  Traceback (most recent call last)",
      "Cell \u001b[1;32mIn[263], line 2\u001b[0m\n\u001b[0;32m      1\u001b[0m \u001b[38;5;66;03m#(15) 위 딕셔너리에서 나이를 제거하세요.\u001b[39;00m\n\u001b[1;32m----> 2\u001b[0m \u001b[43minfo\u001b[49m\u001b[38;5;241;43m.\u001b[39;49m\u001b[43mpop\u001b[49m\u001b[43m(\u001b[49m\u001b[38;5;124;43m'\u001b[39;49m\u001b[38;5;124;43m나이\u001b[39;49m\u001b[38;5;124;43m'\u001b[39;49m\u001b[43m)\u001b[49m\n\u001b[0;32m      3\u001b[0m info\n",
      "\u001b[1;31mKeyError\u001b[0m: '나이'"
     ]
    }
   ],
   "source": [
    "#(15) 위 딕셔너리에서 나이를 제거하세요.\n",
    "info.pop('나이')\n",
    "info"
   ]
  },
  {
   "cell_type": "code",
   "execution_count": 266,
   "id": "da3f60d3-5505-4535-af81-462acaa6f323",
   "metadata": {},
   "outputs": [],
   "source": [
    "del info[\"결혼여부\"]"
   ]
  },
  {
   "cell_type": "code",
   "execution_count": 268,
   "id": "db4ef2e2-8191-4e5d-9545-bb2f1bb93552",
   "metadata": {},
   "outputs": [
    {
     "data": {
      "text/plain": [
       "{'이름': '이순신',\n",
       " 'email주소': 'lee@naver.com',\n",
       " '취미': ['독서', '게임', '영화감상'],\n",
       " '키': 186.32,\n",
       " '몸무게': 78.44}"
      ]
     },
     "execution_count": 268,
     "metadata": {},
     "output_type": "execute_result"
    }
   ],
   "source": [
    "info"
   ]
  },
  {
   "cell_type": "code",
   "execution_count": null,
   "id": "a9d46776-4152-400e-b82d-9af9f0f54f77",
   "metadata": {},
   "outputs": [],
   "source": []
  },
  {
   "cell_type": "code",
   "execution_count": 269,
   "id": "2689e4be-8d6a-4edf-ae04-53d9f6a1453b",
   "metadata": {},
   "outputs": [
    {
     "name": "stdout",
     "output_type": "stream",
     "text": [
      "[1, 2002, 3203, 101, 20, 30, 1, 2, 32, 32, 23, 3, 43, 5, 65, 65, 56, 56, 546, 56, 65, 56]\n"
     ]
    }
   ],
   "source": [
    "l = [1, 2002, 3203, 101, 20, 30, 1, 2, 32, 32, 23,3 ,43,5,65,65,56 ,56,546,56,65,56]\n",
    "print(l)"
   ]
  },
  {
   "cell_type": "code",
   "execution_count": 271,
   "id": "eb9b4d37-fd71-4468-b9db-431fdad6046c",
   "metadata": {},
   "outputs": [
    {
     "name": "stdout",
     "output_type": "stream",
     "text": [
      "{'이름': '이순신', 'email주소': 'lee@naver.com', '취미': ['독서', '게임', '영화감상'], '키': 186.32, '몸무게': 78.44}\n"
     ]
    }
   ],
   "source": [
    "print(info)"
   ]
  },
  {
   "cell_type": "code",
   "execution_count": 272,
   "id": "eefb9321-4dcc-46c4-ad5b-43f3aefaf552",
   "metadata": {
    "collapsed": true,
    "jupyter": {
     "outputs_hidden": true
    }
   },
   "outputs": [
    {
     "name": "stdout",
     "output_type": "stream",
     "text": [
      "{'email주소': 'lee@naver.com',\n",
      " '몸무게': 78.44,\n",
      " '이름': '이순신',\n",
      " '취미': ['독서', '게임', '영화감상'],\n",
      " '키': 186.32}\n"
     ]
    }
   ],
   "source": [
    "from pprint import pprint\n",
    "\n",
    "pprint(info)"
   ]
  },
  {
   "cell_type": "code",
   "execution_count": 275,
   "id": "821faa14-8137-4d3c-bddf-f05c11401c3e",
   "metadata": {
    "collapsed": true,
    "jupyter": {
     "outputs_hidden": true
    }
   },
   "outputs": [
    {
     "name": "stdout",
     "output_type": "stream",
     "text": [
      "[1,\n",
      " 2002,\n",
      " 3203,\n",
      " 101,\n",
      " 20,\n",
      " 30,\n",
      " 1,\n",
      " 2,\n",
      " 32,\n",
      " 32,\n",
      " 23,\n",
      " 3,\n",
      " 43,\n",
      " 5,\n",
      " 65,\n",
      " 65,\n",
      " 56,\n",
      " 56,\n",
      " 546,\n",
      " 56,\n",
      " 65,\n",
      " 56]\n"
     ]
    }
   ],
   "source": [
    "pprint(l)"
   ]
  },
  {
   "cell_type": "code",
   "execution_count": 277,
   "id": "44f7e32b-51b3-4589-a319-38b106392e51",
   "metadata": {},
   "outputs": [
    {
     "data": {
      "text/plain": [
       "{'이름': '이순신',\n",
       " 'email주소': 'lee@naver.com',\n",
       " '취미': ['독서', '게임', '영화감상'],\n",
       " '키': 186.32,\n",
       " '몸무게': 78.44}"
      ]
     },
     "execution_count": 277,
     "metadata": {},
     "output_type": "execute_result"
    }
   ],
   "source": [
    "info"
   ]
  }
 ],
 "metadata": {
  "kernelspec": {
   "display_name": "Python 3 (ipykernel)",
   "language": "python",
   "name": "python3"
  },
  "language_info": {
   "codemirror_mode": {
    "name": "ipython",
    "version": 3
   },
   "file_extension": ".py",
   "mimetype": "text/x-python",
   "name": "python",
   "nbconvert_exporter": "python",
   "pygments_lexer": "ipython3",
   "version": "3.12.5"
  },
  "toc": {
   "base_numbering": 1,
   "nav_menu": {},
   "number_sections": true,
   "sideBar": true,
   "skip_h1_title": false,
   "title_cell": "Table of Contents",
   "title_sidebar": "Contents",
   "toc_cell": false,
   "toc_position": {
    "height": "calc(100% - 180px)",
    "left": "10px",
    "top": "150px",
    "width": "512px"
   },
   "toc_section_display": true,
   "toc_window_display": true
  },
  "varInspector": {
   "cols": {
    "lenName": 16,
    "lenType": 16,
    "lenVar": 40
   },
   "kernels_config": {
    "python": {
     "delete_cmd_postfix": "",
     "delete_cmd_prefix": "del ",
     "library": "var_list.py",
     "varRefreshCmd": "print(var_dic_list())"
    },
    "r": {
     "delete_cmd_postfix": ") ",
     "delete_cmd_prefix": "rm(",
     "library": "var_list.r",
     "varRefreshCmd": "cat(var_dic_list()) "
    }
   },
   "types_to_exclude": [
    "module",
    "function",
    "builtin_function_or_method",
    "instance",
    "_Feature"
   ],
   "window_display": false
  }
 },
 "nbformat": 4,
 "nbformat_minor": 5
}
