{
 "cells": [
  {
   "cell_type": "code",
   "execution_count": 6,
   "id": "bf7de2c5-eb0c-4a7b-87bc-c365f144d5a8",
   "metadata": {},
   "outputs": [
    {
     "data": {
      "text/plain": [
       "2"
      ]
     },
     "execution_count": 6,
     "metadata": {},
     "output_type": "execute_result"
    }
   ],
   "source": [
    "1 + 1"
   ]
  },
  {
   "cell_type": "code",
   "execution_count": 2,
   "id": "f40b3a4c-acc4-4c9f-9c30-8e558de14015",
   "metadata": {},
   "outputs": [
    {
     "data": {
      "text/plain": [
       "-100"
      ]
     },
     "execution_count": 2,
     "metadata": {},
     "output_type": "execute_result"
    }
   ],
   "source": [
    "100 - 200"
   ]
  },
  {
   "cell_type": "code",
   "execution_count": 5,
   "id": "841e7671-bc2c-4056-8ccb-24226238180b",
   "metadata": {},
   "outputs": [
    {
     "data": {
      "text/plain": [
       "5.0"
      ]
     },
     "execution_count": 5,
     "metadata": {},
     "output_type": "execute_result"
    }
   ],
   "source": [
    "10 / 2  # shift + enter, control + enter"
   ]
  },
  {
   "cell_type": "code",
   "execution_count": 7,
   "id": "72be3677-07f6-417b-9a80-b5e0d5e83d7e",
   "metadata": {},
   "outputs": [
    {
     "name": "stdout",
     "output_type": "stream",
     "text": [
      "20\n"
     ]
    }
   ],
   "source": [
    "if True:\n",
    "    print(20)"
   ]
  },
  {
   "cell_type": "markdown",
   "id": "cfcc794f-5357-4d6f-914f-82137d77318f",
   "metadata": {},
   "source": [
    "# 제목\n",
    "\n",
    "## 소제목\n",
    "\n",
    "- 일번\n",
    "- 이번\n",
    "- 삼번"
   ]
  },
  {
   "cell_type": "code",
   "execution_count": null,
   "id": "02911963-ff2f-4110-bb41-bc333c022d46",
   "metadata": {},
   "outputs": [],
   "source": []
  }
 ],
 "metadata": {
  "kernelspec": {
   "display_name": "Python 3 (ipykernel)",
   "language": "python",
   "name": "python3"
  },
  "language_info": {
   "codemirror_mode": {
    "name": "ipython",
    "version": 3
   },
   "file_extension": ".py",
   "mimetype": "text/x-python",
   "name": "python",
   "nbconvert_exporter": "python",
   "pygments_lexer": "ipython3",
   "version": "3.12.5"
  }
 },
 "nbformat": 4,
 "nbformat_minor": 5
}
