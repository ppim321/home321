{
 "cells": [
  {
   "cell_type": "markdown",
   "metadata": {
    "slideshow": {
     "slide_type": "slide"
    }
   },
   "source": [
    "# 객체지향 프로그래밍 (Object Oriented Programming)\n",
    "\n",
    "데이터를 객체(object)로 취급하며, 이러한 객체가 바로 프로그래밍의 구현의 중심인 프로그래밍 개발 방식.\n"
   ]
  },
  {
   "cell_type": "markdown",
   "metadata": {},
   "source": [
    "## Class(클래스) 정의\n",
    "\n",
    "-   객체지향 언어에서 데이터인 **객체(instance)** 를 어떻게 구성할지 정의한 설계도/템플릿을 **클래스** 라고 한다.\n",
    "-   Class에는 다음 두가지를 정의한다.\n",
    "    1. **Attribute/State**\n",
    "        - 객체의 속성, 상태 값을 저장할 변수\n",
    "        - 보통 class로 정의하는 data는 여러개의 값들로 구성된다. 이 값들을 저장하는 변수를 attribute/state 라고 한다.\n",
    "            - **고객**: 고객ID, 패스워드, 이름, email, 주소, 전화번호, point ...\n",
    "            - **제품**: 제품번호, 이름, 제조사, 가격, 재고량\n",
    "        - Instance 변수라고 한다.\n",
    "        - 개별 객체는 각각의 instance변수를 가진다.\n",
    "    2. **behavior**\n",
    "        - 객체의 state 값을 처리하는 함수.\n",
    "        - instance method 라고 한다.\n",
    "        - 개별 객체(instance)들은 동일한 instance 메소드를 이용해 자신의 instance 변수의 값들을 처리한다.\n",
    "-   객체지향 프로그래밍이란 Data와 Data를 처리하는 함수를 분리하지 않고 하나로 묶어 모듈로 개발하는 방식이다. 그래서 어떤 값들과 어떤 함수를 묶을 것인지를 class로 정의한다. 그리고 그 class로 부터 **객체(instance)** 를 생성(instantiate)해서 사용한다.\n",
    "-   **class는 Data type이고 instance는 value 이다.**\n",
    "    > 파이썬에서는 class에 정의된 instance변수와 method를 합쳐 **Attribute** 라고 표현한다.\n",
    "\n",
    "### class 정의\n",
    "\n",
    "```python\n",
    "class 클래스이름:  #선언부\n",
    "    #클래스 구현\n",
    "    #메소드들을 정의\n",
    "```\n",
    "\n",
    "-   **클래스 이름의 관례**\n",
    "    -   **파스칼 표기법** 사용-각 단어의 첫글자는 대문자 나머진 소문자로 정의한다.\n",
    "    -   ex) Person, Student, HighSchoolStudent\n"
   ]
  },
  {
   "cell_type": "code",
   "execution_count": 15,
   "metadata": {},
   "outputs": [],
   "source": [
    "class Person:\n",
    "    pass"
   ]
  },
  {
   "cell_type": "code",
   "execution_count": 6,
   "metadata": {},
   "outputs": [],
   "source": [
    "class Student:\n",
    "    pass"
   ]
  },
  {
   "cell_type": "code",
   "execution_count": null,
   "metadata": {},
   "outputs": [],
   "source": [
    "# class: 사용자 정의 데이터 타입. str,             int\n",
    "# instance: 값                   \"aaaa\", \"bhbbb\", 30, 20"
   ]
  },
  {
   "cell_type": "markdown",
   "metadata": {
    "slideshow": {
     "slide_type": "fragment"
    }
   },
   "source": [
    "## Instance(객체)\n",
    "\n",
    "-   class로 부터 생성된 값(value)로 클래스에서 정의한 attribute를 behavior를 이용해 처리한다.\n",
    "\n",
    "### 클래스로부터 객체(Instance) 생성\n",
    "\n",
    "```python\n",
    "변수 = 클래스이름()\n",
    "```\n"
   ]
  },
  {
   "cell_type": "code",
   "execution_count": 8,
   "metadata": {},
   "outputs": [],
   "source": [
    "p1 = Person()\n",
    "p2 = Person()\n",
    "p3 = Person()"
   ]
  },
  {
   "cell_type": "code",
   "execution_count": 12,
   "metadata": {},
   "outputs": [],
   "source": [
    "s1 = Student()"
   ]
  },
  {
   "cell_type": "code",
   "execution_count": null,
   "metadata": {},
   "outputs": [],
   "source": []
  },
  {
   "cell_type": "markdown",
   "metadata": {
    "slideshow": {
     "slide_type": "subslide"
    }
   },
   "source": [
    "## Attribute(속성) - instance 변수\n",
    "\n",
    "-   attribute는 객체의 데이터, 객체를 구성하는 값들, 객체의 상태값들을 말한다.\n",
    "-   값을 저장하므로 변수로 정의한다. 그래서 **instance 변수** 라고 한다.\n",
    "\n",
    "### 객체에 속성을 추가, 조회\n",
    "\n",
    "-   **객체의 속성 추가(값 변경)**\n",
    "    1. Initializer(생성자)를 통한 추가\n",
    "        - 객체에 처음 attribute를 정의한다. 이것을 **초기화** 라고 한다.\n",
    "    2. 객체.속성명 = 값 (추가/변경)\n",
    "    3. 메소드를 통한 추가/변경\n",
    "        - 2, 3번 방식은 initializer에서 초기화한 attribute를 변경한다.\n",
    "-   **속성 값 조회**\n",
    "    -   `객체.속성명`\n",
    "-   `객체.___dict__`\n",
    "    -   객체가 가지고 있는 Attribute들을 dictionary로 반환한다.\n"
   ]
  },
  {
   "cell_type": "code",
   "execution_count": 21,
   "metadata": {},
   "outputs": [
    {
     "name": "stdout",
     "output_type": "stream",
     "text": [
      "이순신\n",
      "이순신2\n"
     ]
    }
   ],
   "source": [
    "class Person:\n",
    "    pass\n",
    "\n",
    "p1 = Person()\n",
    "# p1에 attribute(instance 변수)를 추가. \n",
    "p1.name = \"이순신\"  # p1객체의 name 변수에 값을 대입\n",
    "p1.age = 30\n",
    "p1.address = \"서울\"\n",
    "print(p1.name)\n",
    "p1.name = \"이순신2\"\n",
    "print(p1.name)"
   ]
  },
  {
   "cell_type": "code",
   "execution_count": 20,
   "metadata": {},
   "outputs": [
    {
     "name": "stdout",
     "output_type": "stream",
     "text": [
      "유관순\n"
     ]
    }
   ],
   "source": [
    "p2 = Person()\n",
    "p2.name = \"유관순\"\n",
    "p2.weight = 80\n",
    "print(p2.name)"
   ]
  },
  {
   "cell_type": "markdown",
   "metadata": {
    "slideshow": {
     "slide_type": "subslide"
    }
   },
   "source": [
    "### 생성자(Initializer)\n",
    "\n",
    "-   객체를 생성할 때 호출되는 특수메소드로 attribute들 초기화에 하는 코드를 구현한다.\n",
    "    -   Initializer를 이용해 초기화하는 Attribute들이 그 클래스에서 생성된 객체들이 가지는 Attribute가 된다.\n",
    "    -   객체 생성후 새로운 attribute들을 추가 할 수 있지만 하지 않는 것이 좋다.\n",
    "-   구문\n",
    "\n",
    "```python\n",
    "def __init__(self [,매개변수들 선언]):  #[ ] 옵션.\n",
    "    # 구현 -> attribute(instance변수) 초기화\n",
    "    self.속성명 = 값\n",
    "```\n",
    "\n",
    "> 변수 초기화: 처음 변수 만들어서 처음 값 대입하는 것.\n"
   ]
  },
  {
   "cell_type": "code",
   "execution_count": 1,
   "metadata": {},
   "outputs": [],
   "source": [
    "# Person attribute: name, age, address\n",
    "class Person2:\n",
    "    # initializer(생성자) -> instance 생성시 자동으로 호출되는 메소드.\n",
    "    def __init__(self, name, age, address=None):\n",
    "        # attribute(instance변수) 에 값을 대입하는 코드: self.변수명 = 값\n",
    "        self.name = name\n",
    "        self.age = age\n",
    "        self.address = address\n",
    "        # self.tel = \"010\"\n",
    "        print(\"생성됨.\")"
   ]
  },
  {
   "cell_type": "code",
   "execution_count": 3,
   "metadata": {},
   "outputs": [
    {
     "name": "stdout",
     "output_type": "stream",
     "text": [
      "생성됨.\n"
     ]
    }
   ],
   "source": [
    "p1 = Person2(\"홍길동\", 20, \"서울\")\n",
    "# 1. 메모리에 객체 attribute를 저장할 공간이 생성.\\\n",
    "# 2. __init__() 호출해서 실행시킨다.\n",
    "#     1에서 생성된 공간(instance)를 __init__()의 self 파라미터에 전달.\n",
    "# 3. __init__() 종료. 생성된 객체를 반환."
   ]
  },
  {
   "cell_type": "code",
   "execution_count": 4,
   "metadata": {},
   "outputs": [
    {
     "name": "stdout",
     "output_type": "stream",
     "text": [
      "홍길동\n",
      "20\n",
      "서울\n"
     ]
    }
   ],
   "source": [
    "print(p1.name)\n",
    "print(p1.age)\n",
    "print(p1.address)"
   ]
  },
  {
   "cell_type": "code",
   "execution_count": 35,
   "metadata": {},
   "outputs": [
    {
     "name": "stdout",
     "output_type": "stream",
     "text": [
      "22\n"
     ]
    }
   ],
   "source": [
    "p1.age = 22\n",
    "print(p1.age)"
   ]
  },
  {
   "cell_type": "code",
   "execution_count": 6,
   "metadata": {},
   "outputs": [
    {
     "name": "stdout",
     "output_type": "stream",
     "text": [
      "생성됨.\n",
      "이순신 30 부산\n"
     ]
    }
   ],
   "source": [
    "p2 = Person2(\"이순신\", 30, \"부산\")\n",
    "print(p2.name, p2.age, p2.address)"
   ]
  },
  {
   "cell_type": "code",
   "execution_count": 7,
   "metadata": {},
   "outputs": [
    {
     "name": "stdout",
     "output_type": "stream",
     "text": [
      "홍길동 20 서울\n"
     ]
    }
   ],
   "source": [
    "print(p1.name, p1.age, p1.address)"
   ]
  },
  {
   "cell_type": "code",
   "execution_count": 8,
   "metadata": {},
   "outputs": [
    {
     "data": {
      "text/plain": [
       "(50, 30)"
      ]
     },
     "execution_count": 8,
     "metadata": {},
     "output_type": "execute_result"
    }
   ],
   "source": [
    "p1.age = 50\n",
    "p1.age, p2.age"
   ]
  },
  {
   "cell_type": "markdown",
   "metadata": {
    "slideshow": {
     "slide_type": "subslide"
    }
   },
   "source": [
    "### Instance 메소드(method)\n",
    "\n",
    "-   객체가 제공하는 기능\n",
    "-   객체의 attribute 값을 처리하는 기능을 구현한다.\n",
    "-   구문\n",
    "\n",
    "```python\n",
    "def 이름(self [, 매개변수들 선언]):\n",
    "    # 구현\n",
    "    # attribute 사용(조회/대입)\n",
    "    self.attribute\n",
    "```\n",
    "\n",
    "-   self 매개변수 - 메소드를 소유한 객체를 받는 변수 - 호출할 때 전달하는 argument를 받는 매개변수는 두번째 부터 선언한다.<br><br>\n",
    "    ![self](images/ch06_01.png)\n",
    "-   **메소드 호출**\n",
    "    -   `객체.메소드이름([argument, ...])`\n",
    "\n",
    "### instance 메소드의 self parameter\n",
    "\n",
    "-   메소드는 반드시 한개 이상의 parameter를 선언해야 하고 그 첫번째 parameter는 **관례적으로** 변수명을 `self`로 한다.\n",
    "-   메소드 호출시 그 메소드를 소유한 instance가 self parameter에 할당된다.\n",
    "    -   메소드 안에서 self는 instance를 가리키며 그 instance에 정의된 attribute나 method를 호출 할 때 사용한다.\n",
    "-   **Initializer의 self**\n",
    "    -   현재 만들어 지고 있는 객체를 받는다.\n",
    "-   **메소드의 self**\n",
    "    -   메소드를 소유한 객체를 받는다.\n",
    "-   Caller에서 생성자/메소드에 전달된 argument들을 받을 parameter는 두번째 변수부터 선언한다.\n"
   ]
  },
  {
   "cell_type": "code",
   "execution_count": 15,
   "metadata": {},
   "outputs": [],
   "source": [
    "class Person3:\n",
    "    def __init__(self, name, age, address=None):\n",
    "        self.name = name\n",
    "        self.age = age\n",
    "        self.address = address\n",
    "\n",
    "    def get_info(self):\n",
    "        # Person3 정보(name, age, address) 를 하나의 문자열로 반환.\n",
    "        # self를 이용해서 instance 변수, 다른 메소드를 호출. (self-instance자체-이 메소드를 호출할 때 사용한 instance)\n",
    "        info = f\"이름: {self.name}, 나이: {self.age}, 주소: {self.address}\"\n",
    "        return info\n",
    "\n",
    "    def save_info(self, path):\n",
    "        # Person3의 정보를 파일에 path 디렉토리에 저장. \n",
    "        # info = f\"이름: {self.name}, 나이: {self.age}, 주소: {self.address}\" # get_info() 메소드 호출\n",
    "        info = self.get_info()  #  메소드에서 같은 클래스의 메소드 호출: self.method()\n",
    "        print(f\"{info}를 {path}에 저장했습니다.\")\n"
   ]
  },
  {
   "cell_type": "code",
   "execution_count": 16,
   "metadata": {},
   "outputs": [
    {
     "name": "stdout",
     "output_type": "stream",
     "text": [
      "이름: 이순신, 나이: 25, 주소: 광주\n",
      "이름: 이순신, 나이: 25, 주소: 광주를 c:\\data\\person.dat에 저장했습니다.\n"
     ]
    }
   ],
   "source": [
    "# Person3 객체 생성\n",
    "p1 = Person3(\"이순신\", 25, \"광주\")\n",
    "info = p1.get_info()  # 메소드호출: 객체.메소드이름()\n",
    "print(info)\n",
    "\n",
    "p1.save_info(r\"c:\\data\\person.dat\")"
   ]
  },
  {
   "cell_type": "code",
   "execution_count": 17,
   "metadata": {},
   "outputs": [
    {
     "name": "stdout",
     "output_type": "stream",
     "text": [
      "이름: 유관순, 나이: 20, 주소: 서울를 c:\\test\\p.dat에 저장했습니다.\n"
     ]
    }
   ],
   "source": [
    "p2 = Person3(\"유관순\", 20, \"서울\")\n",
    "p2.get_info()\n",
    "p2.save_info(r\"c:\\test\\p.dat\")"
   ]
  },
  {
   "cell_type": "code",
   "execution_count": 22,
   "metadata": {},
   "outputs": [
    {
     "data": {
      "text/plain": [
       "'서른살'"
      ]
     },
     "execution_count": 22,
     "metadata": {},
     "output_type": "execute_result"
    }
   ],
   "source": [
    "p1.age = \"서른살\"\n",
    "p1.age"
   ]
  },
  {
   "cell_type": "code",
   "execution_count": null,
   "metadata": {},
   "outputs": [],
   "source": []
  },
  {
   "cell_type": "markdown",
   "metadata": {
    "slideshow": {
     "slide_type": "slide"
    }
   },
   "source": [
    "## 접근제어를 통한 정보 은닉 (Information Hiding)\n",
    "\n",
    "-   Attribute의 값을 caller(객체 외부)가 마음대로 바꾸지 못하게 하기 위해 직접 호출을 막고 setter/getter 메소드를 통해 값을 변경/조회 하도록 한다.\n",
    "    -   Attribute의 값을 업무 규칙/조건에 맞는 값만 대입할 수 있도록 하는 것이 목적.\n",
    "        -   Attribute의 값을 변경하는 메소드에 변경 가능 조건을 넣어 업무 규칙에 맞는 값들만 대입될 수 있도록 한다.\n",
    "    -   **setter**\n",
    "        -   Attribute의 값을 변경하는 메소드. 관례상 set 으로 시작\n",
    "    -   **getter**\n",
    "        -   Attribute의 값을 조회하는 메소드. 관례상 get 으로 시작\n",
    "-   Attribute 직접 호출 막기\n",
    "    -   Attribute의 이름을 \\_\\_(double underscore)로 시작한다. (\\_\\_로 끝나면 안된다.)\n",
    "    -   같은 클래스안에서는 선언한 이름으로 사용이 가능 하지만 외부에서는 그 이름으로 호출할 수 없게 된다.\n"
   ]
  },
  {
   "cell_type": "code",
   "execution_count": null,
   "metadata": {
    "slideshow": {
     "slide_type": "fragment"
    }
   },
   "outputs": [],
   "source": [
    "# 1. instance 변수(attribute)를 직접 호출 하지 못하게 한다.\n",
    "  # p1.name = \"홍길동\" (x)\n",
    "  # print(p1.name) (x)\n",
    "# 2. 메소드를 통해서 값을 변경/조회하도록 한다."
   ]
  },
  {
   "cell_type": "code",
   "execution_count": 43,
   "metadata": {},
   "outputs": [],
   "source": [
    "# name: 2글자 이상만 가능\n",
    "# age: 0 ~ 200 사이의 정수만 가능.\n",
    "# address: 규칙없음.\n",
    "class Person4:\n",
    "    def __init__(self, name, age, address=None):\n",
    "        # self.__name = name  # self.__name : 직접 호출이 안되게 한다. class안에서는 호출 가능.\n",
    "        self.set_name(name)\n",
    "        # self.__age = age\n",
    "        self.set_age(age)\n",
    "        self.address = address\n",
    "\n",
    "    def get_info(self):\n",
    "        info = f\"이름: {self.__name}, 나이: {self.__age}, 주소: {self.address}\"\n",
    "        return info\n",
    "\n",
    "    def save_info(self, path):\n",
    "        info = self.get_info()\n",
    "        print(f\"{info}를 {path}에 저장했습니다.\")\n",
    "    ##########################################################\n",
    "    # name과 age를 변경(setter)/조회(getter)하는 메소드를 정의\n",
    "    # 변경메소드이름: set_변수이름\n",
    "    # 조회메소드이름: get_변수이름\n",
    "    ##########################################################\n",
    "    def set_name(self, name):\n",
    "        if len(name) >= 2:\n",
    "            self.__name = name\n",
    "        else:\n",
    "            # print(\"ERROR: 이름은 2글자 이상 넣으세요.\")\n",
    "            raise ValueError(\"이름은 2글자 이상 넣으세요.\")\n",
    "            \n",
    "    def set_age(self, age):\n",
    "        if age >=0 and age <= 200:\n",
    "            self.__age = age\n",
    "        else:\n",
    "            # print(\"ERROR: 나이는 0 ~ 200 사이 정수만 가능합니다.\")\n",
    "            raise ValueError()\n",
    "\n",
    "    def get_name(self):\n",
    "        return self.__name\n",
    "        \n",
    "    def get_age(self):\n",
    "        return self.__age"
   ]
  },
  {
   "cell_type": "code",
   "execution_count": 52,
   "metadata": {},
   "outputs": [
    {
     "data": {
      "text/plain": [
       "['_Person4__name',\n",
       " '_Person4__age',\n",
       " 'address',\n",
       " '__module__',\n",
       " '__init__',\n",
       " 'get_info',\n",
       " 'save_info',\n",
       " 'set_name',\n",
       " 'set_age',\n",
       " 'get_name',\n",
       " 'get_age',\n",
       " '__dict__',\n",
       " '__weakref__',\n",
       " '__doc__',\n",
       " '__new__',\n",
       " '__repr__',\n",
       " '__hash__',\n",
       " '__str__',\n",
       " '__getattribute__',\n",
       " '__setattr__',\n",
       " '__delattr__',\n",
       " '__lt__',\n",
       " '__le__',\n",
       " '__eq__',\n",
       " '__ne__',\n",
       " '__gt__',\n",
       " '__ge__',\n",
       " '__reduce_ex__',\n",
       " '__reduce__',\n",
       " '__getstate__',\n",
       " '__subclasshook__',\n",
       " '__init_subclass__',\n",
       " '__format__',\n",
       " '__sizeof__',\n",
       " '__dir__',\n",
       " '__class__']"
      ]
     },
     "execution_count": 52,
     "metadata": {},
     "output_type": "execute_result"
    }
   ],
   "source": [
    "p = Person4(\"홍길동\", 20, \"서울\")\n",
    "dir(p)  # dir(객체) 그 객체의 instance변수, 메소드들의 이름을 리스트에 담아서 반환.\n",
    "# p._Person4__age = -10000\n",
    "# p.__age = -2000\n",
    "p.get_info()\n",
    "# dir(p)"
   ]
  },
  {
   "cell_type": "code",
   "execution_count": 45,
   "metadata": {},
   "outputs": [
    {
     "name": "stdout",
     "output_type": "stream",
     "text": [
      "변경전: 이름: 홍길동, 나이: 20, 주소: 서울\n",
      "이름: 이순신, 나이: 35, 주소: 인천\n"
     ]
    }
   ],
   "source": [
    "p = Person4(\"홍길동\", 20, \"서울\")\n",
    "print(\"변경전:\", p.get_info())\n",
    "# p.__name = \"이순신\"\n",
    "p.set_name(\"이순신\")\n",
    "# p.__age = 35\n",
    "p.set_age(35)\n",
    "p.address = \"인천\"\n",
    "print(p.get_info())"
   ]
  },
  {
   "cell_type": "code",
   "execution_count": 41,
   "metadata": {
    "collapsed": true,
    "jupyter": {
     "outputs_hidden": true
    }
   },
   "outputs": [
    {
     "ename": "ValueError",
     "evalue": "나이는 0 ~ 200 사이 정수만 가능합니다.",
     "output_type": "error",
     "traceback": [
      "\u001b[1;31m---------------------------------------------------------------------------\u001b[0m",
      "\u001b[1;31mValueError\u001b[0m                                Traceback (most recent call last)",
      "Cell \u001b[1;32mIn[41], line 1\u001b[0m\n\u001b[1;32m----> 1\u001b[0m \u001b[43mp\u001b[49m\u001b[38;5;241;43m.\u001b[39;49m\u001b[43mset_age\u001b[49m\u001b[43m(\u001b[49m\u001b[38;5;241;43m-\u001b[39;49m\u001b[38;5;241;43m20\u001b[39;49m\u001b[43m)\u001b[49m\n\u001b[0;32m      2\u001b[0m p\u001b[38;5;241m.\u001b[39mset_name(\u001b[38;5;124m\"\u001b[39m\u001b[38;5;124m강\u001b[39m\u001b[38;5;124m\"\u001b[39m)\n",
      "Cell \u001b[1;32mIn[38], line 34\u001b[0m, in \u001b[0;36mPerson4.set_age\u001b[1;34m(self, age)\u001b[0m\n\u001b[0;32m     31\u001b[0m     \u001b[38;5;28mself\u001b[39m\u001b[38;5;241m.\u001b[39m__age \u001b[38;5;241m=\u001b[39m age\n\u001b[0;32m     32\u001b[0m \u001b[38;5;28;01melse\u001b[39;00m:\n\u001b[0;32m     33\u001b[0m     \u001b[38;5;66;03m# print(\"ERROR: 나이는 0 ~ 200 사이 정수만 가능합니다.\")\u001b[39;00m\n\u001b[1;32m---> 34\u001b[0m     \u001b[38;5;28;01mraise\u001b[39;00m \u001b[38;5;167;01mValueError\u001b[39;00m(\u001b[38;5;124m\"\u001b[39m\u001b[38;5;124m나이는 0 ~ 200 사이 정수만 가능합니다.\u001b[39m\u001b[38;5;124m\"\u001b[39m)\n",
      "\u001b[1;31mValueError\u001b[0m: 나이는 0 ~ 200 사이 정수만 가능합니다."
     ]
    }
   ],
   "source": [
    "p.set_age(-20)\n",
    "p.set_name(\"강\")"
   ]
  },
  {
   "cell_type": "code",
   "execution_count": 36,
   "metadata": {},
   "outputs": [
    {
     "name": "stdout",
     "output_type": "stream",
     "text": [
      "이름: 이순신, 나이: 35, 주소: 인천\n"
     ]
    }
   ],
   "source": [
    "print(p.get_info())"
   ]
  },
  {
   "cell_type": "code",
   "execution_count": null,
   "metadata": {},
   "outputs": [],
   "source": []
  },
  {
   "cell_type": "code",
   "execution_count": null,
   "metadata": {
    "slideshow": {
     "slide_type": "fragment"
    }
   },
   "outputs": [],
   "source": [
    "p1 = Person4(\"홍길동\", 20, \"서울\")\n",
    "p1.set_name(\"새이름\")\n",
    "p1.set_age(40)\n",
    "p1.address = \"부산\""
   ]
  },
  {
   "cell_type": "markdown",
   "metadata": {
    "slideshow": {
     "slide_type": "subslide"
    },
    "tags": []
   },
   "source": [
    "### 데코레이터(decorator)를 이용해 property 지정.\n",
    "\n",
    "-   은닉된 instance 변수의 값을 사용할 때 getter/setter대신 변수를 사용하는 방식으로 호출할 수 있도록 한다.\n",
    "-   setter/getter 메소드이름을 변수처럼 선언 (보통은 같은 이름으로 지정)\n",
    "-   getter메소드: @property 데코레이터를 선언\n",
    "-   setter메소드: @getter메소드이름.setter 데코레이터를 선언.\n",
    "    -   반드시 getter 메소드를 먼저 정의한다.\n",
    "    -   setter메소드 이름은 getter와 동일해야 한다.\n",
    "-   getter/setter의 이름을 Attribute 변수처럼 사용한다.\n",
    "-   주의: getter/setter 메소드를 직접 호출 할 수 없다. 변수형식으로만 호출가능하다.\n"
   ]
  },
  {
   "cell_type": "code",
   "execution_count": 61,
   "metadata": {
    "slideshow": {
     "slide_type": "fragment"
    }
   },
   "outputs": [],
   "source": [
    "# name: 2글자 이상만 가능\n",
    "# age: 0 ~ 200 사이의 정수만 가능.\n",
    "# address: 규칙없음.\n",
    "class Person5:\n",
    "    def __init__(self, name, age, address=None):\n",
    "        self.name = name   # name() : @name.setter\n",
    "        self.age = age     # age(): @age.setter\n",
    "        self.address = address\n",
    "\n",
    "    def get_info(self):\n",
    "        info = f\"이름: {self.name}, 나이: {self.age}, 주소: {self.address}\"\n",
    "        return info\n",
    "\n",
    "    def save_info(self, path):\n",
    "        info = self.get_info()\n",
    "        print(f\"{info}를 {path}에 저장했습니다.\")\n",
    "    ##########################################################\n",
    "    # name과 age를 변경(setter)/조회(getter)하는 메소드를 정의\n",
    "    # 변경메소드이름: set_변수이름\n",
    "    # 조회메소드이름: get_변수이름\n",
    "    ##########################################################\n",
    "    @property  # 아래 메소드는 getter 메소드임을 선언.\n",
    "    def name(self): # getter의 이름을 instance 변수명\n",
    "        return self.__name\n",
    "    \n",
    "    @property\n",
    "    def age(self):\n",
    "        return self.__age\n",
    "\n",
    "    # p.name = \"류관순\"\n",
    "    @name.setter  # @getter메소드이름.setter -> setter 인 것을 선언.  name의 setter 메소드.\n",
    "    def name(self, name):\n",
    "        if len(name) >= 2:\n",
    "            self.__name = name\n",
    "        else:\n",
    "            # print(\"ERROR: 이름은 2글자 이상 넣으세요.\")\n",
    "            raise ValueError(\"이름은 2글자 이상 넣으세요.\")\n",
    "\n",
    "    @age.setter  # age의 setter 메소드.\n",
    "    def age(self, age):\n",
    "        if age >=0 and age <= 200:\n",
    "            self.__age = age\n",
    "        else:\n",
    "            # print(\"ERROR: 나이는 0 ~ 200 사이 정수만 가능합니다.\")\n",
    "            raise ValueError(\"나이는 0 ~ 200 사이 정수만 가능합니다.\")\n",
    " \n",
    "\n",
    "# 객체.메소드이름 = 값  -> setter 메소드 (@메소드이름.property) 호출.  할당 값을 argument로 전달\n",
    "# 객체.메소드이름       -> getter 메소드 (@property) 호출"
   ]
  },
  {
   "cell_type": "code",
   "execution_count": 67,
   "metadata": {},
   "outputs": [
    {
     "ename": "ValueError",
     "evalue": "이름은 2글자 이상 넣으세요.",
     "output_type": "error",
     "traceback": [
      "\u001b[1;31m---------------------------------------------------------------------------\u001b[0m",
      "\u001b[1;31mValueError\u001b[0m                                Traceback (most recent call last)",
      "Cell \u001b[1;32mIn[67], line 1\u001b[0m\n\u001b[1;32m----> 1\u001b[0m p \u001b[38;5;241m=\u001b[39m \u001b[43mPerson5\u001b[49m\u001b[43m(\u001b[49m\u001b[38;5;124;43m\"\u001b[39;49m\u001b[38;5;124;43m이\u001b[39;49m\u001b[38;5;124;43m\"\u001b[39;49m\u001b[43m,\u001b[49m\u001b[43m \u001b[49m\u001b[38;5;241;43m33\u001b[39;49m\u001b[43m,\u001b[49m\u001b[43m \u001b[49m\u001b[38;5;124;43m\"\u001b[39;49m\u001b[38;5;124;43m부산\u001b[39;49m\u001b[38;5;124;43m\"\u001b[39;49m\u001b[43m)\u001b[49m\n\u001b[0;32m      2\u001b[0m \u001b[38;5;28mprint\u001b[39m(p\u001b[38;5;241m.\u001b[39mget_info())\n",
      "Cell \u001b[1;32mIn[61], line 6\u001b[0m, in \u001b[0;36mPerson5.__init__\u001b[1;34m(self, name, age, address)\u001b[0m\n\u001b[0;32m      5\u001b[0m \u001b[38;5;28;01mdef\u001b[39;00m \u001b[38;5;21m__init__\u001b[39m(\u001b[38;5;28mself\u001b[39m, name, age, address\u001b[38;5;241m=\u001b[39m\u001b[38;5;28;01mNone\u001b[39;00m):\n\u001b[1;32m----> 6\u001b[0m     \u001b[38;5;28;43mself\u001b[39;49m\u001b[38;5;241;43m.\u001b[39;49m\u001b[43mname\u001b[49m \u001b[38;5;241m=\u001b[39m name\n\u001b[0;32m      7\u001b[0m     \u001b[38;5;28mself\u001b[39m\u001b[38;5;241m.\u001b[39mage \u001b[38;5;241m=\u001b[39m age\n\u001b[0;32m      8\u001b[0m     \u001b[38;5;28mself\u001b[39m\u001b[38;5;241m.\u001b[39maddress \u001b[38;5;241m=\u001b[39m address\n",
      "Cell \u001b[1;32mIn[61], line 36\u001b[0m, in \u001b[0;36mPerson5.name\u001b[1;34m(self, name)\u001b[0m\n\u001b[0;32m     33\u001b[0m     \u001b[38;5;28mself\u001b[39m\u001b[38;5;241m.\u001b[39m__name \u001b[38;5;241m=\u001b[39m name\n\u001b[0;32m     34\u001b[0m \u001b[38;5;28;01melse\u001b[39;00m:\n\u001b[0;32m     35\u001b[0m     \u001b[38;5;66;03m# print(\"ERROR: 이름은 2글자 이상 넣으세요.\")\u001b[39;00m\n\u001b[1;32m---> 36\u001b[0m     \u001b[38;5;28;01mraise\u001b[39;00m \u001b[38;5;167;01mValueError\u001b[39;00m(\u001b[38;5;124m\"\u001b[39m\u001b[38;5;124m이름은 2글자 이상 넣으세요.\u001b[39m\u001b[38;5;124m\"\u001b[39m)\n",
      "\u001b[1;31mValueError\u001b[0m: 이름은 2글자 이상 넣으세요."
     ]
    }
   ],
   "source": [
    "p = Person5(\"이\", 33, \"부산\")\n",
    "print(p.get_info())"
   ]
  },
  {
   "cell_type": "code",
   "execution_count": 63,
   "metadata": {},
   "outputs": [
    {
     "name": "stdout",
     "output_type": "stream",
     "text": [
      "이름: 류관순, 나이: 23, 주소: 서울\n"
     ]
    }
   ],
   "source": [
    "p.name = \"류관순\"\n",
    "p.age = 23\n",
    "p.address = \"서울\"\n",
    "print(p.get_info())"
   ]
  },
  {
   "cell_type": "code",
   "execution_count": 64,
   "metadata": {},
   "outputs": [
    {
     "name": "stdout",
     "output_type": "stream",
     "text": [
      "류관순 23 서울\n"
     ]
    }
   ],
   "source": [
    "print(p.name, p.age, p.address)"
   ]
  },
  {
   "cell_type": "code",
   "execution_count": 65,
   "metadata": {
    "slideshow": {
     "slide_type": "fragment"
    }
   },
   "outputs": [
    {
     "ename": "ValueError",
     "evalue": "나이는 0 ~ 200 사이 정수만 가능합니다.",
     "output_type": "error",
     "traceback": [
      "\u001b[1;31m---------------------------------------------------------------------------\u001b[0m",
      "\u001b[1;31mValueError\u001b[0m                                Traceback (most recent call last)",
      "Cell \u001b[1;32mIn[65], line 1\u001b[0m\n\u001b[1;32m----> 1\u001b[0m \u001b[43mp\u001b[49m\u001b[38;5;241;43m.\u001b[39;49m\u001b[43mage\u001b[49m \u001b[38;5;241m=\u001b[39m \u001b[38;5;241m-\u001b[39m\u001b[38;5;241m30\u001b[39m\n",
      "Cell \u001b[1;32mIn[61], line 44\u001b[0m, in \u001b[0;36mPerson5.age\u001b[1;34m(self, age)\u001b[0m\n\u001b[0;32m     41\u001b[0m     \u001b[38;5;28mself\u001b[39m\u001b[38;5;241m.\u001b[39m__age \u001b[38;5;241m=\u001b[39m age\n\u001b[0;32m     42\u001b[0m \u001b[38;5;28;01melse\u001b[39;00m:\n\u001b[0;32m     43\u001b[0m     \u001b[38;5;66;03m# print(\"ERROR: 나이는 0 ~ 200 사이 정수만 가능합니다.\")\u001b[39;00m\n\u001b[1;32m---> 44\u001b[0m     \u001b[38;5;28;01mraise\u001b[39;00m \u001b[38;5;167;01mValueError\u001b[39;00m(\u001b[38;5;124m\"\u001b[39m\u001b[38;5;124m나이는 0 ~ 200 사이 정수만 가능합니다.\u001b[39m\u001b[38;5;124m\"\u001b[39m)\n",
      "\u001b[1;31mValueError\u001b[0m: 나이는 0 ~ 200 사이 정수만 가능합니다."
     ]
    }
   ],
   "source": [
    "p.age = -30"
   ]
  },
  {
   "cell_type": "code",
   "execution_count": 66,
   "metadata": {},
   "outputs": [
    {
     "ename": "ValueError",
     "evalue": "이름은 2글자 이상 넣으세요.",
     "output_type": "error",
     "traceback": [
      "\u001b[1;31m---------------------------------------------------------------------------\u001b[0m",
      "\u001b[1;31mValueError\u001b[0m                                Traceback (most recent call last)",
      "Cell \u001b[1;32mIn[66], line 1\u001b[0m\n\u001b[1;32m----> 1\u001b[0m \u001b[43mp\u001b[49m\u001b[38;5;241;43m.\u001b[39;49m\u001b[43mname\u001b[49m \u001b[38;5;241m=\u001b[39m \u001b[38;5;124m\"\u001b[39m\u001b[38;5;124m김\u001b[39m\u001b[38;5;124m\"\u001b[39m\n",
      "Cell \u001b[1;32mIn[61], line 36\u001b[0m, in \u001b[0;36mPerson5.name\u001b[1;34m(self, name)\u001b[0m\n\u001b[0;32m     33\u001b[0m     \u001b[38;5;28mself\u001b[39m\u001b[38;5;241m.\u001b[39m__name \u001b[38;5;241m=\u001b[39m name\n\u001b[0;32m     34\u001b[0m \u001b[38;5;28;01melse\u001b[39;00m:\n\u001b[0;32m     35\u001b[0m     \u001b[38;5;66;03m# print(\"ERROR: 이름은 2글자 이상 넣으세요.\")\u001b[39;00m\n\u001b[1;32m---> 36\u001b[0m     \u001b[38;5;28;01mraise\u001b[39;00m \u001b[38;5;167;01mValueError\u001b[39;00m(\u001b[38;5;124m\"\u001b[39m\u001b[38;5;124m이름은 2글자 이상 넣으세요.\u001b[39m\u001b[38;5;124m\"\u001b[39m)\n",
      "\u001b[1;31mValueError\u001b[0m: 이름은 2글자 이상 넣으세요."
     ]
    }
   ],
   "source": [
    "p.name = \"김\""
   ]
  },
  {
   "cell_type": "code",
   "execution_count": null,
   "metadata": {},
   "outputs": [],
   "source": []
  },
  {
   "cell_type": "code",
   "execution_count": 70,
   "metadata": {},
   "outputs": [],
   "source": [
    "# Item - 제품이름, 제조사, 가격\n",
    "class Item:\n",
    "\n",
    "    def __init__(self, item_name, maker, price):\n",
    "        self.item_name = item_name  # self.item_name(item_name) #메소드 호출\n",
    "        self.maker = maker\n",
    "        self.price = price\n",
    "\n",
    "    @property\n",
    "    def item_name(self):\n",
    "        print(4)\n",
    "        return self.__item_name\n",
    "\n",
    "    @property\n",
    "    def maker(self):\n",
    "        print(5)\n",
    "        return self.__maker\n",
    "\n",
    "    @property\n",
    "    def price(self):\n",
    "        print(6)\n",
    "        return self.__price\n",
    "\n",
    "    @item_name.setter\n",
    "    def item_name(self, item_name):\n",
    "        # 규칙\n",
    "        print(1)\n",
    "        self.__item_name = item_name\n",
    "\n",
    "    \n",
    "    @maker.setter\n",
    "    def maker(self, maker):\n",
    "        print(2)\n",
    "        self.__maker = maker\n",
    "\n",
    "    @price.setter\n",
    "    def price(self, price):\n",
    "        print(3)\n",
    "        self.__price = price"
   ]
  },
  {
   "cell_type": "code",
   "execution_count": 77,
   "metadata": {},
   "outputs": [
    {
     "name": "stdout",
     "output_type": "stream",
     "text": [
      "1\n",
      "2\n",
      "3\n"
     ]
    }
   ],
   "source": [
    "i = Item(\"TV\", \"삼성\", 30000)"
   ]
  },
  {
   "cell_type": "code",
   "execution_count": 72,
   "metadata": {},
   "outputs": [
    {
     "name": "stdout",
     "output_type": "stream",
     "text": [
      "4\n",
      "TV\n"
     ]
    }
   ],
   "source": [
    "print(i.item_name)"
   ]
  },
  {
   "cell_type": "code",
   "execution_count": 73,
   "metadata": {},
   "outputs": [
    {
     "name": "stdout",
     "output_type": "stream",
     "text": [
      "5\n",
      "삼성\n"
     ]
    }
   ],
   "source": [
    "print(i.maker)"
   ]
  },
  {
   "cell_type": "code",
   "execution_count": 74,
   "metadata": {},
   "outputs": [
    {
     "name": "stdout",
     "output_type": "stream",
     "text": [
      "6\n",
      "30000\n"
     ]
    }
   ],
   "source": [
    "print(i.price)"
   ]
  },
  {
   "cell_type": "markdown",
   "metadata": {
    "slideshow": {
     "slide_type": "slide"
    }
   },
   "source": [
    "## 상속 (Inheritance)\n",
    "\n",
    "-   기존 클래스를 확장하여 새로운 클래스를 구현한다.\n",
    "    -   생성된 객체(instance)가 기존 클래스에 정의된 Attribute나 method를 사용할 수있고 그 외의 추가적인 attribute와 method들을 가질 수 있는 클래스를 구현하는 방법.\n",
    "    -   같은 category의 클래스들을 하나로 묶어주는 역할을 한다.\n",
    "-   **기반(Base) 클래스, 상위(Super) 클래스, 부모(Parent) 클래스**\n",
    "    -   물려 주는 클래스.\n",
    "    -   상속하는 클래스에 비해 더 추상적인 클래스가 된다.\n",
    "    -   상속하는 클래스의 데이터 타입이 된다.\n",
    "-   **파생(Derived) 클래스, 하위(Sub) 클래스, 자식(Child) 클래스**\n",
    "    -   상속하는 클래스.\n",
    "    -   상속을 해준 클래스 보다 좀더 구체적인 클래스가 된다.\n",
    "-   상위 클래스와 하위 클래스는 계층관계를 이룬다.\n",
    "    -   상위 클래스는 하위 클래스 객체의 타입이 된다.\n",
    "-   다중상속\n",
    "    -   하나의 클래스가 여러 클래스를 상속받아 정의 하는 것을 다중상속이라고 하며 **파이썬은 다중상속이 가능하다.**\n",
    "-   MRO (Method Resolution Order)\n",
    "    -   다중상속시 메소드 호출할 때 그 메소드를 찾는 순서.\n",
    "    1. 자기 자신\n",
    "    2. 상위클래스(하위에서 상위로 올라간다)\n",
    "        - 다중상속의 경우 먼저 선언한 클래스 부터 찾는다. (왼쪽->오른쪽)\n",
    "-   MRO 순서 조회\n",
    "    -   Class이름.mro()\n",
    "-   `object` class\n",
    "    -   모든 클래스의 최상위 클래스\n",
    "    -   상속 하지 않은 클래스는 `object` 를 상속받는다.\n",
    "    -   special method, special attribute 를 정의 하고 있다.\n",
    "\n",
    "```python\n",
    "class Parent1:\n",
    "    ...\n",
    "\n",
    "class Parent2:\n",
    "    ...\n",
    "\n",
    "class Sub(Parent1, Parent1):\n",
    "    ...\n",
    "```\n"
   ]
  },
  {
   "cell_type": "code",
   "execution_count": 81,
   "metadata": {},
   "outputs": [],
   "source": [
    "# base class\n",
    "class Person: # class Person(object):\n",
    "\n",
    "    def go(self):\n",
    "        print(\"갑니다.\")\n",
    "\n",
    "    def eat(self):\n",
    "        print(\"먹는다.\")"
   ]
  },
  {
   "cell_type": "code",
   "execution_count": 82,
   "metadata": {},
   "outputs": [],
   "source": [
    "# Person을 상속한 클래스: Student, Teacher\n",
    "class Student(Person):\n",
    "    \n",
    "    def study(self):\n",
    "        print(\"공부한다.\")"
   ]
  },
  {
   "cell_type": "code",
   "execution_count": 83,
   "metadata": {},
   "outputs": [],
   "source": [
    "class Teacher(Person):\n",
    "   \n",
    "    def teach(self):\n",
    "        print(\"가르친다.\")"
   ]
  },
  {
   "cell_type": "code",
   "execution_count": 85,
   "metadata": {},
   "outputs": [
    {
     "name": "stdout",
     "output_type": "stream",
     "text": [
      "공부한다.\n",
      "갑니다.\n",
      "먹는다.\n"
     ]
    }
   ],
   "source": [
    "s = Student()\n",
    "s.study()\n",
    "s.go()\n",
    "s.eat()"
   ]
  },
  {
   "cell_type": "code",
   "execution_count": 89,
   "metadata": {},
   "outputs": [
    {
     "name": "stdout",
     "output_type": "stream",
     "text": [
      "가르친다.\n",
      "갑니다.\n",
      "먹는다.\n"
     ]
    }
   ],
   "source": [
    "t = Teacher()\n",
    "t.teach()\n",
    "t.go()\n",
    "t.eat()\n",
    "# t.study()"
   ]
  },
  {
   "cell_type": "markdown",
   "metadata": {
    "slideshow": {
     "slide_type": "subslide"
    }
   },
   "source": [
    "### Method Overriding (메소드 재정의)\n",
    "\n",
    "상위 클래스에 정의한 메소드의 구현부를 하위 클래스에서 다시 구현하는 것.\n",
    "상위 클래스는 모든 하위 클래스들에 적용할 수 있는 추상적인 구현 밖에는 못한다.  \n",
    "하위 클래스에서 그 기능을 자신에 맞게 좀 더 구체적으로 재구현할 수 있게 해주는 것을 Method Overriding이라고 한다.\n",
    "\n",
    "-   방법: 메소드 선언은 동일하게 하고 구현부는 새롭게 구현한다.\n",
    "\n",
    "### super() 내장함수\n",
    "\n",
    "-   하위 클래스에서 **상위 클래스의 instance를** 사용할 수있도록 해주는 함수. 상위클래스에 정의된 instance 변수, 메소드를 호출할 때 사용한다.\n",
    "-   구문\n",
    "\n",
    "```python\n",
    "super().메소드명()\n",
    "```\n",
    "\n",
    "-   상위 클래스의 Instance 메소드를 호출할 때 – super().메소드()\n",
    "    -   특히 method overriding을 한 하위 클래스에서 상위 클래스의 원본 메소드를 호출 할 경우 반드시 `super().메소드() `형식으로 호출해야 한다.\n",
    "-   메소드에서\n",
    "    -   self.xxxx : 같은 클래스에 정의된 메소드나 attribute(instance 변수) 호출\n",
    "    -   super().xxxx : 부모클래스에 정의된 메소드나 attribute(부모객체의 attribute) 호출\n"
   ]
  },
  {
   "cell_type": "code",
   "execution_count": null,
   "metadata": {},
   "outputs": [],
   "source": [
    "class Person: # class Person(object):\n",
    "\n",
    "    def go(self):\n",
    "        print(\"갑니다.\")\n",
    "\n",
    "    def eat(self):\n",
    "        print(\"먹는다.\")"
   ]
  },
  {
   "cell_type": "code",
   "execution_count": 100,
   "metadata": {},
   "outputs": [],
   "source": [
    "class Student(Person):\n",
    "    \n",
    "    def study(self):\n",
    "        print(\"공부한다.\")\n",
    "    \n",
    "    def eat(self):\n",
    "        print(\"급식을 먹습니다.\")    \n",
    "    \n",
    "\n",
    "class Teacher(Person):\n",
    "   \n",
    "    def teach(self):\n",
    "        print(\"가르친다.\")\n",
    "        \n",
    "    def eat(self):\n",
    "        print(\"식당에서 먹습니다.\")"
   ]
  },
  {
   "cell_type": "code",
   "execution_count": 98,
   "metadata": {
    "slideshow": {
     "slide_type": "fragment"
    }
   },
   "outputs": [
    {
     "name": "stdout",
     "output_type": "stream",
     "text": [
      "급식을 먹습니다.\n"
     ]
    }
   ],
   "source": [
    "s = Student()\n",
    "s.eat()"
   ]
  },
  {
   "cell_type": "code",
   "execution_count": 101,
   "metadata": {},
   "outputs": [
    {
     "name": "stdout",
     "output_type": "stream",
     "text": [
      "식당에서 먹습니다.\n"
     ]
    }
   ],
   "source": [
    "t = Teacher()\n",
    "t.eat()"
   ]
  },
  {
   "cell_type": "code",
   "execution_count": null,
   "metadata": {},
   "outputs": [],
   "source": [
    "class Calc:\n",
    "    def calculate(self, num1, num2):\n",
    "        pass\n",
    "\n",
    "class Plus(Calc):\n",
    "    def calculate(self, num1, num2):\n",
    "        +\n",
    "\n",
    "class Minus(Calc):\n",
    "    def calculate(self, num1, num2):\n",
    "        -"
   ]
  },
  {
   "cell_type": "code",
   "execution_count": null,
   "metadata": {},
   "outputs": [],
   "source": []
  },
  {
   "cell_type": "code",
   "execution_count": 112,
   "metadata": {},
   "outputs": [],
   "source": [
    "class Person:\n",
    "    def __init__(self, name, age):\n",
    "        self.name = name\n",
    "        self.age = age\n",
    "\n",
    "    def get_info(self): #  모든 instance 변수의 값들을 모아서 반환.\n",
    "        return f\"이름: {self.name}, 나이: {self.age}\""
   ]
  },
  {
   "cell_type": "code",
   "execution_count": 113,
   "metadata": {},
   "outputs": [],
   "source": [
    "# student: name, age, grade\n",
    "##### 자식클래스의 메소드에서 부모클래스의 메소드/instance변수를 호출 -> super().변수명, super().메소드()\n",
    "##### 같은 클래스에 정의된 instance 변수/메소드 호출 -> self.변수명, self.메소드()\n",
    "class Student(Person):\n",
    "    def __init__(self, name, age, grade):\n",
    "        super().__init__(name, age)\n",
    "        # self.name = name\n",
    "        # self.age = age\n",
    "        self.grade = grade\n",
    "\n",
    "    # get_info()를 method overriding 한다. -> name, age, grade까지 모아서 반환.\n",
    "    def get_info(self):\n",
    "        return f\"{super().get_info()}, 학년: {self.grade}\""
   ]
  },
  {
   "cell_type": "code",
   "execution_count": 114,
   "metadata": {},
   "outputs": [
    {
     "name": "stdout",
     "output_type": "stream",
     "text": [
      "이름: 홍길동, 나이: 10, 학년: 3\n"
     ]
    }
   ],
   "source": [
    "s = Student(\"홍길동\", 10, 3)\n",
    "print(s.get_info())"
   ]
  },
  {
   "cell_type": "code",
   "execution_count": 120,
   "metadata": {},
   "outputs": [],
   "source": [
    "# name, age, subject\n",
    "class Teacher(Person):\n",
    "    def __init__(self, name, age, subject):\n",
    "        super().__init__(name, age)\n",
    "        self.subject = subject\n",
    "\n",
    "    def get_info(self):\n",
    "        base_info = super().get_info() # name,age는 Person의 get_info()를 호출해서 받는다.\n",
    "        # super().name, super().age \n",
    "        return f\"{base_info}, 과목: {self.subject}\""
   ]
  },
  {
   "cell_type": "code",
   "execution_count": 117,
   "metadata": {},
   "outputs": [
    {
     "name": "stdout",
     "output_type": "stream",
     "text": [
      "이름: 김선생, 나이: 30, 과목: 파이썬\n"
     ]
    }
   ],
   "source": [
    "t = Teacher(\"김선생\", 30, \"파이썬\")\n",
    "print(t.get_info())"
   ]
  },
  {
   "cell_type": "code",
   "execution_count": null,
   "metadata": {},
   "outputs": [],
   "source": []
  },
  {
   "cell_type": "code",
   "execution_count": 125,
   "metadata": {},
   "outputs": [],
   "source": [
    "### 메소드 호출 순서\n",
    "class A:\n",
    "    pass\n",
    "class B:\n",
    "    pass\n",
    "class C(A, B):\n",
    "    pass\n",
    "\n",
    "class D:\n",
    "    pass\n",
    "class E:\n",
    "    pass\n",
    "class F(D, E):\n",
    "    pass\n",
    "\n",
    "class G(C, F):\n",
    "    pass"
   ]
  },
  {
   "cell_type": "code",
   "execution_count": 126,
   "metadata": {},
   "outputs": [
    {
     "data": {
      "text/plain": [
       "[__main__.G,\n",
       " __main__.C,\n",
       " __main__.A,\n",
       " __main__.B,\n",
       " __main__.F,\n",
       " __main__.D,\n",
       " __main__.E,\n",
       " object]"
      ]
     },
     "execution_count": 126,
     "metadata": {},
     "output_type": "execute_result"
    }
   ],
   "source": [
    "G.mro()\n",
    "# g.xxxx()"
   ]
  },
  {
   "cell_type": "code",
   "execution_count": null,
   "metadata": {},
   "outputs": [],
   "source": []
  },
  {
   "cell_type": "markdown",
   "metadata": {
    "slideshow": {
     "slide_type": "slide"
    }
   },
   "source": [
    "## 객체 관련 유용한 내장 함수, 특수 변수\n",
    "\n",
    "-   **`isinstance(객체, 클래스이름-datatype)`** : bool\n",
    "    -   객체가 두번째 매개변수로 지정한 클래스의 타입이면 True, 아니면 False 반환\n",
    "    -   여러개의 타입여부를 확인할 경우 class이름(type)들을 **튜플(tuple)로** 묶어 준다.\n",
    "    -   상위 클래스는 하위 클래스객체의 타입이 되므로 객체와 그 객체의 상위 클래스 비교시 True가 나온다.\n",
    "-   **`객체.__dict__`**\n",
    "    -   객체가 가지고 있는 Attribute 변수들과 대입된 값을 dictionary에 넣어 반환\n"
   ]
  },
  {
   "cell_type": "code",
   "execution_count": 127,
   "metadata": {},
   "outputs": [
    {
     "data": {
      "text/plain": [
       "True"
      ]
     },
     "execution_count": 127,
     "metadata": {},
     "output_type": "execute_result"
    }
   ],
   "source": [
    "# isinstance(값, 타입)\n",
    "isinstance(10, int)"
   ]
  },
  {
   "cell_type": "code",
   "execution_count": 128,
   "metadata": {},
   "outputs": [
    {
     "data": {
      "text/plain": [
       "False"
      ]
     },
     "execution_count": 128,
     "metadata": {},
     "output_type": "execute_result"
    }
   ],
   "source": [
    "isinstance(3.2, int)"
   ]
  },
  {
   "cell_type": "code",
   "execution_count": 129,
   "metadata": {},
   "outputs": [],
   "source": [
    "t = Teacher(\"이름\", 30, \"과목\")\n",
    "s = Student(\"학생이름\", 20, 10)"
   ]
  },
  {
   "cell_type": "code",
   "execution_count": 130,
   "metadata": {},
   "outputs": [
    {
     "data": {
      "text/plain": [
       "True"
      ]
     },
     "execution_count": 130,
     "metadata": {},
     "output_type": "execute_result"
    }
   ],
   "source": [
    "# t가 Teacher객체야?\n",
    "isinstance(t, Teacher)"
   ]
  },
  {
   "cell_type": "code",
   "execution_count": 132,
   "metadata": {},
   "outputs": [
    {
     "data": {
      "text/plain": [
       "True"
      ]
     },
     "execution_count": 132,
     "metadata": {},
     "output_type": "execute_result"
    }
   ],
   "source": [
    "# t가 Person 타입이야?\n",
    "isinstance(t, Person)"
   ]
  },
  {
   "cell_type": "code",
   "execution_count": 134,
   "metadata": {},
   "outputs": [
    {
     "data": {
      "text/plain": [
       "True"
      ]
     },
     "execution_count": 134,
     "metadata": {},
     "output_type": "execute_result"
    }
   ],
   "source": [
    "# t가 object 타입이야?\n",
    "isinstance(t, object)\n",
    "## 부모 클래스는 모든 자손 클래스 객체들의 데이터 타입이 된다."
   ]
  },
  {
   "cell_type": "code",
   "execution_count": 133,
   "metadata": {},
   "outputs": [
    {
     "data": {
      "text/plain": [
       "False"
      ]
     },
     "execution_count": 133,
     "metadata": {},
     "output_type": "execute_result"
    }
   ],
   "source": [
    "isinstance(t, str)"
   ]
  },
  {
   "cell_type": "code",
   "execution_count": 138,
   "metadata": {},
   "outputs": [],
   "source": [
    "# 함수(메소드) : Student/Teacher 객체를 받아서 그 메소드를 이용해서 작업하는 함수\n",
    "def process_person(p):\n",
    "    if isinstance(p, Person):\n",
    "        info = p.get_info()\n",
    "        print(info)\n",
    "    else:\n",
    "        print(\"다른 타입\")"
   ]
  },
  {
   "cell_type": "code",
   "execution_count": 139,
   "metadata": {},
   "outputs": [
    {
     "name": "stdout",
     "output_type": "stream",
     "text": [
      "이름: 이름, 나이: 30, 과목: 과목\n"
     ]
    }
   ],
   "source": [
    "process_person(t) # Teacher 객체 전달"
   ]
  },
  {
   "cell_type": "code",
   "execution_count": 140,
   "metadata": {},
   "outputs": [
    {
     "name": "stdout",
     "output_type": "stream",
     "text": [
      "이름: 학생이름, 나이: 20, 학년: 10\n"
     ]
    }
   ],
   "source": [
    "process_person(s) # Student 객체 전달"
   ]
  },
  {
   "cell_type": "code",
   "execution_count": 141,
   "metadata": {},
   "outputs": [
    {
     "name": "stdout",
     "output_type": "stream",
     "text": [
      "다른 타입\n"
     ]
    }
   ],
   "source": [
    "process_person(\"saaaaa\")"
   ]
  },
  {
   "cell_type": "code",
   "execution_count": null,
   "metadata": {},
   "outputs": [],
   "source": []
  },
  {
   "cell_type": "markdown",
   "metadata": {
    "slideshow": {
     "slide_type": "slide"
    }
   },
   "source": [
    "## 특수 메소드(Special method)\n",
    "\n",
    "### 특수 메소드란\n",
    "\n",
    "-   파이썬 실행환경(Python runtime)이 객체와 관련해서 특정 상황 발생하면 호출 하도록 정의한 메소드들. 그 특정상황에서 처리해야 할 일이 있으면 구현을 재정의 한다.\n",
    "    -   객체에 특정 기능들을 추가할 때 사용한다.\n",
    "    -   정의한 메소드와 그것을 호출하는 함수가 다르다.\n",
    "        -   ex) `__init__()` => **객체 생성할 때** 호출 된다.\n",
    "-   메소드 명이 더블 언더스코어로 시작하고 끝난다.\n",
    "    -   ex) `__init__(), __str__()`\n",
    "-   매직 메소드(Magic Method), 던더(DUNDER) 메소드라고도 한다.\n",
    "-   특수메소드 종류\n",
    "    -   https://docs.python.org/ko/3/reference/datamodel.html#special-method-names\n"
   ]
  },
  {
   "cell_type": "markdown",
   "metadata": {
    "slideshow": {
     "slide_type": "subslide"
    }
   },
   "source": [
    "### 주요 특수메소드\n",
    "\n",
    "-   **`__init__(self [, …])`**\n",
    "    -   Initializer\n",
    "    -   객체 생성시 호출 된다.\n",
    "    -   객체 생성시 Attribute의 값들을 초기화하는 것을 구현한다.\n",
    "    -   self 변수로 받은 instance에 Attribute를 설정한다.\n",
    "-   **`__call__(self [, …])`**\n",
    "    -   객체를 함수처럼 호출 하면 실행되는 메소드\n",
    "    -   Argument를 받을 Parameter 변수는 self 변수 다음에 필요한대로 선언한다.\n",
    "    -   처리결과를 반환하도록 구현할 경우 `return value` 구문을 넣는다. (필수는 아니다.)\n"
   ]
  },
  {
   "cell_type": "code",
   "execution_count": 148,
   "metadata": {},
   "outputs": [],
   "source": [
    "class Test:\n",
    "    def __init__(self, num):\n",
    "        self.num = num\n",
    "    \n",
    "    # def calc(self):\n",
    "    # def __call__(self):\n",
    "    #     return self.num ** 2\n",
    "    def __call__(self, value):\n",
    "        return self.num ** value"
   ]
  },
  {
   "cell_type": "code",
   "execution_count": 150,
   "metadata": {},
   "outputs": [
    {
     "data": {
      "text/plain": [
       "10000000000"
      ]
     },
     "execution_count": 150,
     "metadata": {},
     "output_type": "execute_result"
    }
   ],
   "source": [
    "t = Test(10)\n",
    "# t.calc()\n",
    "# t()  # 객체() 호출 -> __call__() 메소드를 호출\n",
    "t(10)"
   ]
  },
  {
   "cell_type": "markdown",
   "metadata": {
    "slideshow": {
     "slide_type": "subslide"
    }
   },
   "source": [
    "-   **`__str__(self)`**\n",
    "    -   Instance(객체)의 Attribute들을 묶어서 문자열로 반환한다.\n",
    "    -   내장 함수 **str(객체)** 호출할 때 이 메소드가 호출 된다.\n",
    "        -   str() 호출할 때 객체에 `__str__()`의 정의 안되 있으면 `__repr__()` 을 호출한다. `__repr__()`도 없으면 상위클래스에 정의된 `__str__()`을 호출한다.\n",
    "        -   print() 함수는 값을 문자열로 변환해서 출력한다. 이때 그 값을 str() 에 넣어 문자열로 변환한다.\n"
   ]
  },
  {
   "cell_type": "code",
   "execution_count": 9,
   "metadata": {},
   "outputs": [],
   "source": [
    "class Person:\n",
    "    def __init__(self, name, age):\n",
    "        self.name = name\n",
    "        self.age = age\n",
    "\n",
    "    def __str__(self):\n",
    "        return f\"name(이름):{self.name}, age:{self.age}\""
   ]
  },
  {
   "cell_type": "code",
   "execution_count": 10,
   "metadata": {},
   "outputs": [
    {
     "name": "stdout",
     "output_type": "stream",
     "text": [
      "name(이름):홍길동, age:20\n"
     ]
    }
   ],
   "source": [
    "p = Person(\"홍길동\", 20)\n",
    "# 값을 문자열로 변환: str(값) -> 값.__str__()\n",
    "\n",
    "# str(객체)  객체.__str__()\n",
    "print(str(p))"
   ]
  },
  {
   "cell_type": "code",
   "execution_count": 160,
   "metadata": {},
   "outputs": [
    {
     "name": "stdout",
     "output_type": "stream",
     "text": [
      "name:홍길동, age:20\n"
     ]
    }
   ],
   "source": [
    "print(p)"
   ]
  },
  {
   "cell_type": "code",
   "execution_count": null,
   "metadata": {
    "slideshow": {
     "slide_type": "fragment"
    }
   },
   "outputs": [],
   "source": []
  },
  {
   "cell_type": "markdown",
   "metadata": {
    "slideshow": {
     "slide_type": "subslide"
    }
   },
   "source": [
    "#### 연산자 재정의(Operator overriding) 관련 특수 메소드\n",
    "\n",
    "-   연산자의 피연산자로 객체를 사용하면 호출되는 메소드들\n",
    "-   다항연산자일 경우 가장 왼쪽의 객체에 정의된 메소드가 호출된다.\n",
    "    -   `a + b` 일경우 a의 `__add__()` 가 호출된다.\n",
    "-   **비교 연산자**\n",
    "    -   **`__eq__(self, other)`** : self == other\n",
    "        -   == 로 객체의 내용을 비교할 때 정의 한다.\n",
    "    -   **`__lt__(self, other)`** : self < other,\n",
    "    -   **`__gt__(self, other)`**: self > other\n",
    "        -   min()이나 max()에서 인수로 사용할 경우 정의해야 한다.\n",
    "    -   **`__le__(self, other)`**: self <= other\n",
    "    -   **`__ge__(self, other)`**: self >= other\n",
    "    -   **`__ne__(self, other)`**: self != other\n"
   ]
  },
  {
   "cell_type": "markdown",
   "metadata": {
    "slideshow": {
     "slide_type": "fragment"
    }
   },
   "source": [
    "-   **산술 연산자**\n",
    "    -   **`__add__(self, other)`**: self + other\n",
    "    -   **`__sub__(self, other)`**: self - other\n",
    "    -   **`__mul__(self, other)`**: self \\* other\n",
    "    -   **`__truediv__(self, other)`**: self / other\n",
    "    -   **`__floordiv__(self, other)`**: self // other\n",
    "    -   **`__mod__(self, other)`**: self % other\n"
   ]
  },
  {
   "cell_type": "code",
   "execution_count": 14,
   "metadata": {
    "slideshow": {
     "slide_type": "fragment"
    }
   },
   "outputs": [],
   "source": [
    "class Person:\n",
    "    def __init__(self, name, age):\n",
    "        self.name = name\n",
    "        self.age = age\n",
    "\n",
    "    def __str__(self):\n",
    "        return f\"name:{self.name}, age:{self.age}\"\n",
    "\n",
    "    # == 재정의 (instance 변수 값들이 같으면 True)\n",
    "    def __eq__(self, other):\n",
    "        print(\"__eq__ 실행됨\")\n",
    "        if not isinstance(other, Person):\n",
    "            return False\n",
    "        if self.name == other.name and self.age == other.age:\n",
    "            return True\n",
    "        else:\n",
    "            return False\n",
    "\n",
    "    def __gt__(self, other):\n",
    "        print(\"__gt__\")\n",
    "        if isinstance(other, int):\n",
    "            return self.age > other\n",
    "        else:\n",
    "            print(\"나이 정수를 입력하시오.\")\n",
    "            return False\n",
    "\n",
    "    def __add__(self, other):\n",
    "        if isinstance(other, int):\n",
    "            return self.age + other"
   ]
  },
  {
   "cell_type": "code",
   "execution_count": 16,
   "metadata": {},
   "outputs": [
    {
     "name": "stdout",
     "output_type": "stream",
     "text": [
      "__gt__\n",
      "False\n",
      "__gt__\n",
      "True\n"
     ]
    }
   ],
   "source": [
    "p1 = Person(\"홍길동\", 20)\n",
    "p2 = Person(\"이순신\", 50)\n",
    "\n",
    "print(p1 > 30)\n",
    "print(p2 > 30)"
   ]
  },
  {
   "cell_type": "code",
   "execution_count": null,
   "metadata": {},
   "outputs": [],
   "source": [
    "p = Person(\"홍길동\", 30)\n",
    "p == 100  # p.__eq__(100)    def __eq__(self, other)\n",
    "p > 200   # p.__gt__(200)    def __gt__(self, other)\n",
    "p + 30    # p.__add__(30)"
   ]
  },
  {
   "cell_type": "code",
   "execution_count": 179,
   "metadata": {},
   "outputs": [
    {
     "name": "stdout",
     "output_type": "stream",
     "text": [
      "__eq__ 실행됨\n",
      "__eq__ 실행됨\n"
     ]
    },
    {
     "data": {
      "text/plain": [
       "False"
      ]
     },
     "execution_count": 179,
     "metadata": {},
     "output_type": "execute_result"
    }
   ],
   "source": [
    "p = Person(\"홍길동\", 30)\n",
    "p2 = Person(\"홍길동\", 30)\n",
    "p3 = Person(\"이순신\", 30)\n",
    "p == p2\n",
    "p == p3  # p.__eq__(p3)"
   ]
  },
  {
   "cell_type": "code",
   "execution_count": 175,
   "metadata": {},
   "outputs": [
    {
     "name": "stdout",
     "output_type": "stream",
     "text": [
      "__gt__\n"
     ]
    },
    {
     "data": {
      "text/plain": [
       "False"
      ]
     },
     "execution_count": 175,
     "metadata": {},
     "output_type": "execute_result"
    }
   ],
   "source": [
    "p > 50  # Person의 나이를 비교하는 작업."
   ]
  },
  {
   "cell_type": "code",
   "execution_count": 176,
   "metadata": {},
   "outputs": [
    {
     "name": "stdout",
     "output_type": "stream",
     "text": [
      "__gt__\n",
      "나이 정수를 입력하시오.\n"
     ]
    },
    {
     "data": {
      "text/plain": [
       "False"
      ]
     },
     "execution_count": 176,
     "metadata": {},
     "output_type": "execute_result"
    }
   ],
   "source": [
    "p > \"ㅁㅁㅁㅁ\""
   ]
  },
  {
   "cell_type": "code",
   "execution_count": 180,
   "metadata": {},
   "outputs": [
    {
     "data": {
      "text/plain": [
       "60"
      ]
     },
     "execution_count": 180,
     "metadata": {},
     "output_type": "execute_result"
    }
   ],
   "source": [
    "p + 30"
   ]
  },
  {
   "cell_type": "code",
   "execution_count": null,
   "metadata": {},
   "outputs": [],
   "source": []
  },
  {
   "cell_type": "markdown",
   "metadata": {
    "slideshow": {
     "slide_type": "slide"
    }
   },
   "source": [
    "# class변수, class 메소드\n",
    "\n",
    "-   **class변수**\n",
    "    -   (Intance가 아닌) 클래스 자체의 데이터\n",
    "    -   Attribute가 객체별로 생성된다면, class변수는 클래스당 하나가 생성된다.\n",
    "    -   구현\n",
    "        -   class 블럭에 변수 선언.\n",
    "-   **class 메소드**\n",
    "    -   클래스 변수를 처리하는 메소드\n",
    "    -   구현\n",
    "        -   @classmethod 데코레이터를 붙인다.\n",
    "        -   첫번째 매개변수로 클래스를 받는 변수를 선언한다. 이 변수를 이용해 클래스 변수나 다른 클래스 메소드를 호출 한다.\n"
   ]
  },
  {
   "cell_type": "markdown",
   "metadata": {
    "slideshow": {
     "slide_type": "subslide"
    }
   },
   "source": [
    "# static 메소드\n",
    "\n",
    "-   클래스의 메소드로 클래스 변수와 상관없는 단순기능을 정의한다.\n",
    "    -   Caller 에서 받은 argument만 가지고 일하는 메소드를 구현한다.\n",
    "-   구현\n",
    "    -   @staticmethod 데코레이터를 붙인다.\n",
    "    -   Parameter에 대한 규칙은 없이 필요한 변수들만 선언한다.\n"
   ]
  },
  {
   "cell_type": "markdown",
   "metadata": {
    "slideshow": {
     "slide_type": "fragment"
    }
   },
   "source": [
    "## class 메소드/변수, static 메소드 호출\n",
    "\n",
    "-   클래스이름.변수\n",
    "-   클래스이름.메소드()\n"
   ]
  },
  {
   "cell_type": "code",
   "execution_count": 33,
   "metadata": {
    "slideshow": {
     "slide_type": "fragment"
    }
   },
   "outputs": [],
   "source": [
    "class Circle:\n",
    "    __version__ = 1.0\n",
    "    PI = 3.14159\n",
    "    def __init__(self, radius):\n",
    "        self.radius = radius\n",
    "\n",
    "    # 넓이 계산\n",
    "    def __call__(self):\n",
    "        return self.radius ** 2 * Circle.PI\n",
    "    \n",
    "    # class변수를 처리하는 메소드\n",
    "    @classmethod\n",
    "    def get_PI(clz):\n",
    "        return clz.PI\n",
    "    \n",
    "    @staticmethod\n",
    "    def test(a, b, c):\n",
    "        print(\"static method\", a, b, c)"
   ]
  },
  {
   "cell_type": "code",
   "execution_count": 34,
   "metadata": {},
   "outputs": [
    {
     "name": "stdout",
     "output_type": "stream",
     "text": [
      "static method 10 20 30\n"
     ]
    }
   ],
   "source": [
    "Circle.test(10, 20, 30)"
   ]
  },
  {
   "cell_type": "code",
   "execution_count": 29,
   "metadata": {},
   "outputs": [
    {
     "data": {
      "text/plain": [
       "1.0"
      ]
     },
     "execution_count": 29,
     "metadata": {},
     "output_type": "execute_result"
    }
   ],
   "source": [
    "Circle.__version__"
   ]
  },
  {
   "cell_type": "code",
   "execution_count": 25,
   "metadata": {},
   "outputs": [
    {
     "name": "stdout",
     "output_type": "stream",
     "text": [
      "넓이: 314.159\n"
     ]
    }
   ],
   "source": [
    "c = Circle(10)\n",
    "print(\"넓이:\", c())\n",
    "Circle.PI"
   ]
  },
  {
   "cell_type": "code",
   "execution_count": 27,
   "metadata": {},
   "outputs": [
    {
     "data": {
      "text/plain": [
       "3.14159"
      ]
     },
     "execution_count": 27,
     "metadata": {},
     "output_type": "execute_result"
    }
   ],
   "source": [
    "Circle.get_PI()"
   ]
  },
  {
   "cell_type": "code",
   "execution_count": null,
   "metadata": {},
   "outputs": [],
   "source": []
  },
  {
   "cell_type": "code",
   "execution_count": null,
   "metadata": {},
   "outputs": [],
   "source": []
  },
  {
   "cell_type": "code",
   "execution_count": null,
   "metadata": {},
   "outputs": [],
   "source": []
  }
 ],
 "metadata": {
  "kernelspec": {
   "display_name": "Python 3 (ipykernel)",
   "language": "python",
   "name": "python3"
  },
  "language_info": {
   "codemirror_mode": {
    "name": "ipython",
    "version": 3
   },
   "file_extension": ".py",
   "mimetype": "text/x-python",
   "name": "python",
   "nbconvert_exporter": "python",
   "pygments_lexer": "ipython3",
   "version": "3.12.5"
  },
  "toc": {
   "base_numbering": 1,
   "nav_menu": {},
   "number_sections": true,
   "sideBar": true,
   "skip_h1_title": false,
   "title_cell": "Table of Contents",
   "title_sidebar": "Contents",
   "toc_cell": false,
   "toc_position": {},
   "toc_section_display": true,
   "toc_window_display": false
  },
  "varInspector": {
   "cols": {
    "lenName": 16,
    "lenType": 16,
    "lenVar": 40
   },
   "kernels_config": {
    "python": {
     "delete_cmd_postfix": "",
     "delete_cmd_prefix": "del ",
     "library": "var_list.py",
     "varRefreshCmd": "print(var_dic_list())"
    },
    "r": {
     "delete_cmd_postfix": ") ",
     "delete_cmd_prefix": "rm(",
     "library": "var_list.r",
     "varRefreshCmd": "cat(var_dic_list()) "
    }
   },
   "types_to_exclude": [
    "module",
    "function",
    "builtin_function_or_method",
    "instance",
    "_Feature"
   ],
   "window_display": false
  }
 },
 "nbformat": 4,
 "nbformat_minor": 4
}
