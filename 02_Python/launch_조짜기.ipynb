{
 "cells": [
  {
   "cell_type": "code",
   "execution_count": 1,
   "id": "0964d942",
   "metadata": {},
   "outputs": [
    {
     "name": "stdout",
     "output_type": "stream",
     "text": [
      "24\n"
     ]
    }
   ],
   "source": [
    "import random\n",
    "stu_list = [\n",
    "    # \"강채연\",\n",
    "    \"고성주\",\n",
    "    \"공인용\",\n",
    "    \"김동명\",\n",
    "    \"김동훈\",\n",
    "    \"김승현\",\n",
    "    \"김지영\",\n",
    "    \"노원재\",\n",
    "    \"박미현\",\n",
    "    \"박서윤\",\n",
    "    \"박유나\",\n",
    "    \"박창규\",\n",
    "    \"백하은\",\n",
    "    \"성은진\",\n",
    "    \"안형진\",\n",
    "    \"유경상\",\n",
    "    # \"유일환\",\n",
    "    \"이세화\",\n",
    "    # \"임연경\",\n",
    "    \"장예린\",\n",
    "    # \"전수연\",\n",
    "    \"전하연\",\n",
    "    \"정민준\",\n",
    "    \"정유진\",\n",
    "    \"정지원\",\n",
    "    \"조하늘\",\n",
    "    \"조해원\",\n",
    "    \"홍준  \"\n",
    "\n",
    "]\n",
    "print(len(stu_list))"
   ]
  },
  {
   "cell_type": "code",
   "execution_count": 2,
   "id": "3847493d",
   "metadata": {},
   "outputs": [],
   "source": [
    "num = 4\n",
    "random.shuffle(stu_list)\n",
    "result = [stu_list[i * num : (i + 1) * num] for i in range((len(stu_list) + num - 1) // num )] "
   ]
  },
  {
   "cell_type": "code",
   "execution_count": 3,
   "id": "0523bf22",
   "metadata": {},
   "outputs": [
    {
     "name": "stdout",
     "output_type": "stream",
     "text": [
      "1조: 성은진,  김동훈,  정지원,  백하은,  \n",
      "2조: 노원재,  홍준  ,  고성주,  김승현,  \n",
      "3조: 안형진,  공인용,  박유나,  조해원,  \n",
      "4조: 전하연,  조하늘,  김지영,  정유진,  \n",
      "5조: 유경상,  김동명,  박창규,  이세화,  \n",
      "6조: 박서윤,  박미현,  정민준,  장예린,  \n"
     ]
    }
   ],
   "source": [
    "for idx, r in enumerate(result, start=1):\n",
    "    print(f\"{idx}조: \", end=\"\")\n",
    "    for name in r:\n",
    "        print(name, end=',  ')\n",
    "    print()"
   ]
  },
  {
   "cell_type": "code",
   "execution_count": null,
   "id": "4d8f6cd5",
   "metadata": {},
   "outputs": [],
   "source": []
  },
  {
   "cell_type": "code",
   "execution_count": null,
   "id": "c600a080",
   "metadata": {},
   "outputs": [],
   "source": []
  },
  {
   "cell_type": "code",
   "execution_count": null,
   "id": "3196c497",
   "metadata": {},
   "outputs": [],
   "source": []
  },
  {
   "cell_type": "code",
   "execution_count": null,
   "id": "c514073e",
   "metadata": {},
   "outputs": [],
   "source": []
  }
 ],
 "metadata": {
  "kernelspec": {
   "display_name": "Python 3 (ipykernel)",
   "language": "python",
   "name": "python3"
  },
  "language_info": {
   "codemirror_mode": {
    "name": "ipython",
    "version": 3
   },
   "file_extension": ".py",
   "mimetype": "text/x-python",
   "name": "python",
   "nbconvert_exporter": "python",
   "pygments_lexer": "ipython3",
   "version": "3.12.5"
  }
 },
 "nbformat": 4,
 "nbformat_minor": 5
}
