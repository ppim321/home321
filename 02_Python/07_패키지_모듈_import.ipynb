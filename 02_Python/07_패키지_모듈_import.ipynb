{
 "cells": [
  {
   "cell_type": "markdown",
   "id": "9d39c99a",
   "metadata": {
    "slideshow": {
     "slide_type": "slide"
    }
   },
   "source": [
    "# 모듈(Module)\n",
    "\n",
    "- 독립적인 기능을 가지고 재사용 가능한 프로그램 단위를 모듈이라고 한다.\n",
    "- **파이썬에서 모듈**은 재사용 가능한 변수, 함수, 클래스들을 작성한 소스 파일을 말한다.\n",
    "    - 함수나 클래스를 작성한 파이썬 파일 (`.py` 파일)이 모듈이 된다.\n",
    "- 모듈파일에 작성된 함수나 클래스들을 다른 python 프로그램에서 호출 하여 사용할 수 있다.\n",
    "    - 단 사용하기 위해서는 `import` 를 먼저 해야 한다.\n",
    "- 이런 모듈들을 모아 놓으면 라이브러리가 된다.\n",
    "- **모듈의 종류**\n",
    "    - 표준 모듈 (1st party)\n",
    "        - 파이썬에 내장된 모듈\n",
    "    - 사용자 정의 모듈 (2nd party)\n",
    "        - 개발자가 재사용을 위해 직접 만든 모듈 \n",
    "    - 3rd Party 모듈\n",
    "        - 특정 개발업체나 개발자들이 만들어 배포하는 모듈\n",
    "        - 사용자 정의 모듈도 배포되어 다른 곳에서 사용되면 3rd party 모듈이 된다.\n",
    "     \n",
    "> ## 파이썬 파일\n",
    "> - script 파일: 파이썬 실행 파일. 처리할 것을 실행 순서대로 작성한 파이썬 파일.\n",
    "> - module파일: 파이썬 라이브러리로 재사용가능한 함수, 클래스들을 작성한 파이썬 파일."
   ]
  },
  {
   "cell_type": "markdown",
   "id": "0ba07092",
   "metadata": {
    "slideshow": {
     "slide_type": "slide"
    }
   },
   "source": [
    "# 패키지 (Package)\n",
    "- 모듈(들)을 저장한 디렉토리를 패키지라고 한다.\n",
    "    - 그래서 파이썬에서는 **라이브러리를 패키지라고 한다.** (재사용가능한 모듈들을 모아 놓은 것이 패키지이므로)\n",
    "- 물리적으로는 모듈 파일(.py)들을 모아놓은 디렉토리(폴더)가 패키지이다.  \n",
    "- python 3.3 이전 버전은 package 디렉토리에 **\\_\\_init\\_\\_.py** 파일을 그 디렉토리에 반드시 위치시켜야 한다.\n",
    "    - 3.3 이후에는 위치시킬 필요는 없지만 package안의 모듈들의 import 관련 설정을 해야 하는 경우에는 `__init__.py`에 작성하고 위치시킨다.\n",
    "- **Root Package**\n",
    "    - 라이브러리를 구성하는 전체 모듈들을 담고 있는 최상위 패키지(디렉토리)\n",
    "    - 패키지 내의 속한 패키지를 통칭 **sub package** 라고 한다.\n",
    "    - Root package를 제외한 모든 package들은 다 sub package가 된다."
   ]
  },
  {
   "cell_type": "code",
   "execution_count": null,
   "id": "30db5c77-36b6-4752-ab00-c5d4daf694b1",
   "metadata": {},
   "outputs": [],
   "source": []
  },
  {
   "cell_type": "code",
   "execution_count": 2,
   "id": "3e650383-3b1a-4e91-82a3-efa753e9fd54",
   "metadata": {},
   "outputs": [],
   "source": [
    "# %%writefile 파일 경로\n",
    "## cell의 내용을 파일경로에 저장 (실행하지 않는다.)\n",
    "## cell 첫줄에 작성"
   ]
  },
  {
   "cell_type": "code",
   "execution_count": 3,
   "id": "fe1c445b-42d0-471b-9da9-9cee94c1952b",
   "metadata": {},
   "outputs": [
    {
     "name": "stdout",
     "output_type": "stream",
     "text": [
      "Overwriting greeting_module.py\n"
     ]
    }
   ],
   "source": [
    "%%writefile greeting_module.py\n",
    "# 인사말 관련 모듈. => 패키지가 없는 모듈.\n",
    "__version__ = 1.0\n",
    "\n",
    "def print_greeting(name):\n",
    "    print(f\"{name}님 안녕하세요.\")\n",
    "\n",
    "def print_welcome(name):\n",
    "    print(f\"{name}님 환영합니다.\")\n",
    "\n",
    "def get_greeting(name):\n",
    "    return f\"{name}님 안녕하세요.\"\n",
    "\n",
    "class Hello:\n",
    "\n",
    "    def __init__(self, name):\n",
    "        self.name = name\n",
    "\n",
    "    def kor_greet(self):\n",
    "        return f\"{self.name}님 안녕하세요.\"\n",
    "\n",
    "    def eng_greet(self):\n",
    "         return f\"Hello {self.name}~!\"\n"
   ]
  },
  {
   "cell_type": "code",
   "execution_count": 4,
   "id": "470fb929-3731-4b0a-b47e-6fc09accdb65",
   "metadata": {},
   "outputs": [],
   "source": [
    "# %load 파일경로\n",
    "## 파일경로의 내용을 읽어서 cell에 로드한다.\n",
    "## cell의 첫 명령어로 작성."
   ]
  },
  {
   "cell_type": "code",
   "execution_count": null,
   "id": "00a662f2",
   "metadata": {},
   "outputs": [],
   "source": [
    "%load greeting_module.py"
   ]
  },
  {
   "cell_type": "code",
   "execution_count": 14,
   "id": "0958b32b-414f-4843-8400-7667523336fe",
   "metadata": {},
   "outputs": [],
   "source": [
    "def test():\n",
    "    pass"
   ]
  },
  {
   "cell_type": "code",
   "execution_count": 13,
   "id": "5240ca04-5b39-4178-980e-1776f04ca81f",
   "metadata": {},
   "outputs": [
    {
     "ename": "NameError",
     "evalue": "name 'print_greeting' is not defined",
     "output_type": "error",
     "traceback": [
      "\u001b[1;31m-------------------------------------------------------------------------\u001b[0m",
      "\u001b[1;31mNameError\u001b[0m                               Traceback (most recent call last)",
      "Cell \u001b[1;32mIn[13], line 1\u001b[0m\n\u001b[1;32m----> 1\u001b[0m \u001b[43mprint_greeting\u001b[49m(\u001b[38;5;124m\"\u001b[39m\u001b[38;5;124m이름\u001b[39m\u001b[38;5;124m\"\u001b[39m)\n",
      "\u001b[1;31mNameError\u001b[0m: name 'print_greeting' is not defined"
     ]
    }
   ],
   "source": [
    "print_greeting(\"이름\")"
   ]
  },
  {
   "cell_type": "code",
   "execution_count": 11,
   "id": "7add6e93-9e53-44dc-9ba6-3172752165f1",
   "metadata": {},
   "outputs": [
    {
     "name": "stdout",
     "output_type": "stream",
     "text": [
      "Overwriting my_module/my_operator.py\n"
     ]
    }
   ],
   "source": [
    "%%writefile my_module/my_operator.py\n",
    "## 패키지가 있는 모듈 -> 모듈파일을 패키지 디렉토리에 넣어준다.\n",
    "__version__ = 0.1\n",
    "def plus():\n",
    "    print(\"덧셈처리\")\n",
    "\n",
    "def minus():\n",
    "    print(\"뺄셈처리\")\n",
    "\n",
    "def multiply():\n",
    "    print(\"곱셈처리\")\n",
    "    \n",
    "def divide():\n",
    "    print(\"나눗셈처리\")"
   ]
  },
  {
   "cell_type": "code",
   "execution_count": null,
   "id": "f406fa82-e3f6-40de-b663-71f8056812fc",
   "metadata": {},
   "outputs": [],
   "source": []
  },
  {
   "cell_type": "markdown",
   "id": "4a874a76",
   "metadata": {
    "slideshow": {
     "slide_type": "slide"
    }
   },
   "source": [
    "# import\n",
    "\n",
    "## 함수, 클래스 정의란\n",
    "1. 함수, 클래스를 구현한다.\n",
    "2. 구현된 함수, 클래스를 파이썬 실행환경에 등록한다.\n",
    "    - 등록하는 것은 메모리에 올리는(loading) 작업이다.\n",
    "    - 메모리에 올리기 위해서는 구현된 것을 실행시켜서 파이썬 실행환경이 읽도록 해야 한다.\n",
    "- 파이썬 실행환경에 등록된 함수와 클래스만 호출해서 사용할 수 있다."
   ]
  },
  {
   "cell_type": "markdown",
   "id": "654df5d6",
   "metadata": {
    "slideshow": {
     "slide_type": "subslide"
    }
   },
   "source": [
    "## import 란\n",
    "- 파이썬 모듈 파일에 정의된 변수, 함수, 클래스들을 사용하기 위해 **파이썬 실행환경에 등록하는 작업**을 말한다.\n",
    "- 현재 프로그램 모듈의 것들이 아니라 **다른 모듈에 있는 것들은 사용하기 위해 import 작업을 먼저 해야 한다.**\n",
    "- 모듈을 import 하면 모듈의 내용이 실행되면서 그 안에 정의된 변수, 함수, 클래스들이 파이썬 실행환경 등록된다.\n",
    "    - import 된 변수, 함수, 클래스들은 모듈별로 namespace를 만들어 각각 등록된다.\n",
    "        - 현재 실행중인 module(main module) 에 정의된 함수, 클래스, 변수들이 저장되는 namespace와 import 되어 등록된 것들이 저장되는 namespace를 나누어 등록한다.\n",
    "\n",
    "\n",
    "> - **namespace**\n",
    ">    - 여러개의 객체(존재하는 무언가)를 하나로 묶어 주면서 구분자 역할을 하는 이름을 주는 것을 namespace라고 한다.\n",
    ">    - namespace를 이용해 각 그룹들의 객체들을 구분할 수 있다. 그래서 같은 이름의 객체들을 사용할 수 있다.\n",
    ">    - 파이썬에서는 모듈에 정의된 변수, 함수, 클래스 들을 실행환경에 등록할 때 모듈명을 namespace로 묶어서 등록한다.\n",
    ">    - [위키백과 참고](https://ko.wikipedia.org/wiki/%EC%9D%B4%EB%A6%84%EA%B3%B5%EA%B0%84)"
   ]
  },
  {
   "cell_type": "code",
   "execution_count": 1,
   "id": "b9b7c7e0-ced9-45e6-8d82-313d7d30ab04",
   "metadata": {},
   "outputs": [],
   "source": [
    "# import 모듈명  (모듈명은 모듈파일의 이름만 작성 -  .py는 생략.)\n",
    "# import greeting_module  # greeting_module.py를 실행\n",
    "import greeting_module as gm \n",
    "# import 모듈명 as 별칭\n",
    "## 모듈명에 정의된 함수/클래스/변수들을 별칭 namespace에 저장.\n",
    "#  별칭이 있을 경우 -> 별칭.함수(), 별칭.클래스()   모듈이름으로는 호출 못함.\n"
   ]
  },
  {
   "cell_type": "code",
   "execution_count": 3,
   "id": "8026cc1a-bc70-4f60-85f2-81d320d140b3",
   "metadata": {},
   "outputs": [
    {
     "name": "stdout",
     "output_type": "stream",
     "text": [
      "이순신님 안녕하세요.\n"
     ]
    }
   ],
   "source": [
    "# 모듈이름.함수() 모듈이름.class()\n",
    "# greeting_module.print_greeting(\"홍길동\")\n",
    "gm.print_greeting(\"이순신\")"
   ]
  },
  {
   "cell_type": "code",
   "execution_count": 3,
   "id": "f875b027-2d10-4bdf-8803-1aa966423646",
   "metadata": {},
   "outputs": [],
   "source": [
    "hello = greeting_module.Hello(\"유관순\")"
   ]
  },
  {
   "cell_type": "code",
   "execution_count": 4,
   "id": "820d0762-4336-4934-9c24-83d4e37362e2",
   "metadata": {},
   "outputs": [
    {
     "data": {
      "text/plain": [
       "'유관순님 안녕하세요.'"
      ]
     },
     "execution_count": 4,
     "metadata": {},
     "output_type": "execute_result"
    }
   ],
   "source": [
    "hello.kor_greet()"
   ]
  },
  {
   "cell_type": "code",
   "execution_count": 5,
   "id": "3e0bbb0a-00ea-4a1b-9326-7a4495cdc56c",
   "metadata": {},
   "outputs": [
    {
     "data": {
      "text/plain": [
       "'Hello 유관순~!'"
      ]
     },
     "execution_count": 5,
     "metadata": {},
     "output_type": "execute_result"
    }
   ],
   "source": [
    "hello.eng_greet()"
   ]
  },
  {
   "cell_type": "code",
   "execution_count": 7,
   "id": "dfb58940-977b-4ff9-872e-c1d257275555",
   "metadata": {},
   "outputs": [],
   "source": [
    "def a():\n",
    "    print(\"a\")"
   ]
  },
  {
   "cell_type": "code",
   "execution_count": 9,
   "id": "8816617d-d629-4f4b-bbed-09b365b255d8",
   "metadata": {},
   "outputs": [],
   "source": [
    "def a():\n",
    "    print(\"aaaaa\")"
   ]
  },
  {
   "cell_type": "code",
   "execution_count": 10,
   "id": "f75b022c-57db-49b6-8691-77d9b7271e48",
   "metadata": {},
   "outputs": [
    {
     "name": "stdout",
     "output_type": "stream",
     "text": [
      "aaaaa\n"
     ]
    }
   ],
   "source": [
    "a()"
   ]
  },
  {
   "cell_type": "code",
   "execution_count": 18,
   "id": "c96680ec-2eb4-4c44-a168-03ac873ba7e9",
   "metadata": {},
   "outputs": [],
   "source": [
    "import greeting_module"
   ]
  },
  {
   "cell_type": "code",
   "execution_count": 19,
   "id": "8984941f-57a5-4d66-abae-06a2ddb08ee9",
   "metadata": {},
   "outputs": [],
   "source": [
    "import my_module.my_operator"
   ]
  },
  {
   "cell_type": "code",
   "execution_count": 14,
   "id": "bd22e08c-391f-46d5-8686-06637568264e",
   "metadata": {
    "scrolled": true
   },
   "outputs": [
    {
     "name": "stdout",
     "output_type": "stream",
     "text": [
      "덧셈처리\n"
     ]
    }
   ],
   "source": [
    "my_module.my_operator.plus()"
   ]
  },
  {
   "cell_type": "code",
   "execution_count": 20,
   "id": "cb86e419-c6d6-455a-8a1e-88238a21f815",
   "metadata": {},
   "outputs": [
    {
     "name": "stdout",
     "output_type": "stream",
     "text": [
      "100\n"
     ]
    }
   ],
   "source": [
    "__version__ = 100\n",
    "print(__version__)"
   ]
  },
  {
   "cell_type": "code",
   "execution_count": 21,
   "id": "99e63a4e-253a-4baa-a2b4-5e3acaefbbd7",
   "metadata": {},
   "outputs": [
    {
     "name": "stdout",
     "output_type": "stream",
     "text": [
      "1.0\n"
     ]
    }
   ],
   "source": [
    "print(greeting_module.__version__)"
   ]
  },
  {
   "cell_type": "code",
   "execution_count": 23,
   "id": "5e7a4f54-bc9a-4f32-8c6e-4f94f84287a8",
   "metadata": {},
   "outputs": [
    {
     "name": "stdout",
     "output_type": "stream",
     "text": [
      "0.1\n"
     ]
    }
   ],
   "source": [
    "print(my_module.my_operator.__version__)"
   ]
  },
  {
   "cell_type": "code",
   "execution_count": 25,
   "id": "5f63d2f7-ea25-451c-a00b-47ce6c0282db",
   "metadata": {},
   "outputs": [
    {
     "name": "stdout",
     "output_type": "stream",
     "text": [
      "1.0\n"
     ]
    }
   ],
   "source": [
    "import greeting_module as gm\n",
    "print(gm.__version__)"
   ]
  },
  {
   "cell_type": "code",
   "execution_count": 26,
   "id": "95ef455d-6830-4835-8084-891ffaec1b75",
   "metadata": {},
   "outputs": [
    {
     "name": "stdout",
     "output_type": "stream",
     "text": [
      "0.1\n"
     ]
    }
   ],
   "source": [
    "import my_module.my_operator as mo\n",
    "print(mo.__version__)"
   ]
  },
  {
   "cell_type": "code",
   "execution_count": 3,
   "id": "32ca4b44-f2cf-4057-a1c7-218fae455606",
   "metadata": {},
   "outputs": [],
   "source": [
    "# 사용할 함수/클래스만 import => 현재 progam에 정의된 함수/클래스처럼 사용가능.\n",
    "# greeting_module의 print_welcome(), print_greeting() 만 사용하도록 import\n",
    "## from 모듈명 import 함수\n",
    "## from 모듈명 import 클래스\n",
    "from greeting_module import print_welcome as pw\n",
    "from greeting_module import print_greeting"
   ]
  },
  {
   "cell_type": "code",
   "execution_count": 2,
   "id": "5c2a6f0e-c02b-481b-808b-d4040f526719",
   "metadata": {},
   "outputs": [
    {
     "name": "stdout",
     "output_type": "stream",
     "text": [
      "홍길동님 환영합니다.\n"
     ]
    }
   ],
   "source": [
    "print_welcome(\"홍길동\")"
   ]
  },
  {
   "cell_type": "code",
   "execution_count": 4,
   "id": "2b82f0fc-65d5-464f-afde-3a7387293780",
   "metadata": {},
   "outputs": [
    {
     "name": "stdout",
     "output_type": "stream",
     "text": [
      "이순신님 환영합니다.\n"
     ]
    }
   ],
   "source": [
    "pw(\"이순신\")"
   ]
  },
  {
   "cell_type": "code",
   "execution_count": 5,
   "id": "564a982c-a941-437e-b313-337b88dcbd13",
   "metadata": {},
   "outputs": [
    {
     "name": "stdout",
     "output_type": "stream",
     "text": [
      "이순신님 안녕하세요.\n"
     ]
    }
   ],
   "source": [
    "# 같은 모듈의 함수/클래스들을 import\n",
    "from greeting_module import print_welcome, print_greeting, get_greeting\n",
    "print(get_greeting(\"이순신\"))"
   ]
  },
  {
   "cell_type": "code",
   "execution_count": 6,
   "id": "a22ad511-5127-45fb-80b2-e25d4d5b371b",
   "metadata": {},
   "outputs": [
    {
     "name": "stdout",
     "output_type": "stream",
     "text": [
      "덧셈처리\n",
      "뺄셈처리\n"
     ]
    }
   ],
   "source": [
    "from my_module.my_operator import plus, minus\n",
    "plus()\n",
    "minus()"
   ]
  },
  {
   "cell_type": "code",
   "execution_count": null,
   "id": "a409cb19-25c7-45df-9f2c-117038b1158d",
   "metadata": {},
   "outputs": [],
   "source": [
    "from my_module import my_operator   # my_operator.plus()\n",
    "import my_module.my_operator as mm  # mm.plus()"
   ]
  },
  {
   "cell_type": "code",
   "execution_count": null,
   "id": "3ec20c48-510c-47b2-b1e2-378eda51a8be",
   "metadata": {},
   "outputs": [],
   "source": []
  },
  {
   "cell_type": "code",
   "execution_count": null,
   "id": "9a142b6b-0a76-4b2a-a619-a2d71b908437",
   "metadata": {},
   "outputs": [],
   "source": [
    "import 모듈\n",
    "import 모듈.함수\n",
    "import 모듈.클래스\n",
    "from 패키지경로 import 모듈\n",
    "from 패키지.모듈 import 함수, 클래스"
   ]
  },
  {
   "cell_type": "code",
   "execution_count": null,
   "id": "627f6609-a6ae-43de-b78e-6f331fbb6fa0",
   "metadata": {},
   "outputs": [],
   "source": [
    "import greeting_module, my_module.my_operator\n",
    "import greeting_module as gm, my_module.my_operator as mm\n",
    "\n",
    "from greeting_module import print_greeting as pg, get_greeting as gg\n"
   ]
  },
  {
   "cell_type": "markdown",
   "id": "34083bd0",
   "metadata": {
    "slideshow": {
     "slide_type": "subslide"
    }
   },
   "source": [
    "## import 구문\n",
    "- 기본구문\n",
    "    - `[from 사용할 것의 경로] import 사용할 것 [as 별칭] [, 사용할 것 [as 별칭], ...]`\n",
    "        - \\[ \\] : 생략 가능한 구문\n",
    "    - 사용할 것\n",
    "        - 모듈\n",
    "        - 모듈안에 정의된 변수, 함수, 클래스"
   ]
  },
  {
   "cell_type": "markdown",
   "id": "37a67c0e",
   "metadata": {
    "slideshow": {
     "slide_type": "subslide"
    }
   },
   "source": [
    "<b style='font-size:1.2em'> 1. 모듈 import</b>\n",
    "```python\n",
    "import 모듈   # 하나의 모듈 import.\n",
    "import 모듈 as 별칭 # namespace의 이름을 모듈명이 아니라 별칭으로 지정한다.\n",
    "import 모듈_1, 모듈_2 # 여러개 모듈 import.','를 구분자로 나열한다.\n",
    "```\n",
    "- 모듈을 import 하고 그 안에 함수, 클래스들을 사용할 때는 **모듈명이 namespace 의 이름이** 되므로 `모듈명.함수()`, `모듈명.Class` 구문으로 호출한다.\n",
    "    - namespace의 이름은 **import 뒤에 지정한 이름으로 설정된다.**\n",
    "- 별칭(Alias)를 주면 namespace의 이름으로 지정한 별칭을 사용한다.\n",
    "- **예**\n",
    "```python\n",
    "import test_module\n",
    "import my_module as mm\n",
    "# test_module의 hello() 함수 호출시\n",
    "test_module.hello()\n",
    "# my_module은 mm 별칭을 지정했으므로 mm을 namespace로 사용한다.\n",
    "p = mm.Person('홍길동', 30) # my_module의 Person 클래스 객체 생성\n",
    "```"
   ]
  },
  {
   "cell_type": "code",
   "execution_count": 1,
   "id": "79815e78-58f7-4bba-8e86-e8cd72942e33",
   "metadata": {},
   "outputs": [],
   "source": [
    "def print_welcome():\n",
    "    print(\"aaaaaa\")"
   ]
  },
  {
   "cell_type": "code",
   "execution_count": 2,
   "id": "43dfd9aa-4092-4637-9aac-bd9f5a15ecf9",
   "metadata": {},
   "outputs": [
    {
     "name": "stdout",
     "output_type": "stream",
     "text": [
      "aaaaaa\n"
     ]
    }
   ],
   "source": [
    "print_welcome()"
   ]
  },
  {
   "cell_type": "code",
   "execution_count": 3,
   "id": "5709c926",
   "metadata": {
    "slideshow": {
     "slide_type": "fragment"
    }
   },
   "outputs": [],
   "source": [
    "from greeting_module import *"
   ]
  },
  {
   "cell_type": "code",
   "execution_count": 4,
   "id": "d7055cb7-658f-4d4a-a484-acb132625bfa",
   "metadata": {},
   "outputs": [
    {
     "name": "stdout",
     "output_type": "stream",
     "text": [
      "이름님 안녕하세요.\n"
     ]
    }
   ],
   "source": [
    "print_greeting(\"이름\")"
   ]
  },
  {
   "cell_type": "code",
   "execution_count": 3,
   "id": "e9e5a144-143b-42ca-8b66-84ffc17a282b",
   "metadata": {},
   "outputs": [
    {
     "data": {
      "text/plain": [
       "'홍길동님 안녕하세요.'"
      ]
     },
     "execution_count": 3,
     "metadata": {},
     "output_type": "execute_result"
    }
   ],
   "source": [
    "a = Hello(\"홍길동\")\n",
    "a.kor_greet()"
   ]
  },
  {
   "cell_type": "markdown",
   "id": "63abaa38",
   "metadata": {
    "slideshow": {
     "slide_type": "subslide"
    }
   },
   "source": [
    "<b style='font-size:1.2em'>2. 모듈내의 특정 항목만 import</b>\n",
    "```python \n",
    "from 모듈 import 함수  # 함수/클래스가 있는 모듈과 함수를 분리해서 import한다.\n",
    "from 모듈 import 클래스\n",
    "from 모듈 import 함수_1, 함수_2, 클래스\n",
    "from 모듈 import *   \n",
    "```\n",
    "- 모듈에 정의된 **일부 함수나 클래스만 사용할 경우** 개별적으로 import 할 수있다.\n",
    "- `from 모듈 import 함수` 구문으로 import 하면 import한 **함수나 클래스들이 현재 실행중인 모듈의 namespace로 들어간다. 그래서 모듈명없이 바로 호출 할 수 있다.**\n",
    "- `*`를 이용하면 그 모듈의 모든 함수/클래스들을 현재 실행중인 namespace에 추가해 사용할 수 있게 해준다. 이 방식은 **이름 충돌의 가능성이 있기때문에 추천되지 않는다.**"
   ]
  },
  {
   "cell_type": "code",
   "execution_count": null,
   "id": "fc1ac887",
   "metadata": {
    "slideshow": {
     "slide_type": "fragment"
    }
   },
   "outputs": [],
   "source": []
  },
  {
   "cell_type": "markdown",
   "id": "b8bc6da8",
   "metadata": {
    "slideshow": {
     "slide_type": "subslide"
    }
   },
   "source": [
    "<b style='font-size:1.2em'>3. 패키지에 속한 모듈 import</b>\n",
    "\n",
    "```python\n",
    "import 패키지명.모듈\n",
    "from 패키지명 import 모듈\n",
    "from 패키지명 import 모듈_1, 모듈_2\n",
    "from 패키지명.모듈 import 함수\n",
    "from 패키지명.모듈 import 클래스\n",
    "from 패키지명.모듈 import 함수_1, 함수_2, 클래스\n",
    "from Root패키지.Sub패키지1.Sub패키지2 import 모듈        # 패키지가 계층구조로 되있을 경우 `.` 으로 이용해 나열한다.\n",
    "from Root패키지.Sub패키지1.Sub패키지2.모듈 import 함수\n",
    "from Root패키지.Sub패키지1.Sub패키지2.모듈 import 클래스\n",
    "```\n",
    "\n",
    "- 패키지에 속한 모듈을 import 할 때는 **from 절에 패키지를 import 절에 모듈을** 설정한다.\n",
    "- **import 가능한 것은 모듈, 변수, 함수, 클래스 들이다.**  <b style='color:red'>패키지는 import 할수 없다.</b>\n",
    "    - **모듈 안의 변수, 함수, 클래스들을 import 할 때는 `from 모듈 import 함수, 변수, 클래스` 구문을 사용해야 한다.**"
   ]
  },
  {
   "cell_type": "code",
   "execution_count": null,
   "id": "855a4397-3fc9-4761-9afd-c06f01f200d0",
   "metadata": {},
   "outputs": [],
   "source": []
  },
  {
   "cell_type": "code",
   "execution_count": null,
   "id": "fbd4972a-d387-47bf-bcaf-802d95d09a19",
   "metadata": {},
   "outputs": [],
   "source": []
  },
  {
   "cell_type": "code",
   "execution_count": null,
   "id": "ce47b618-329d-4917-97bd-dff4a84c5c29",
   "metadata": {},
   "outputs": [],
   "source": [
    "import a_module # a_module.py"
   ]
  },
  {
   "cell_type": "code",
   "execution_count": null,
   "id": "6ebd3cdd",
   "metadata": {
    "slideshow": {
     "slide_type": "fragment"
    }
   },
   "outputs": [],
   "source": [
    "from pkg_a.pkg_b import b_module\n",
    "#  pkg_a\\pkg_b\\b_module.py"
   ]
  },
  {
   "cell_type": "markdown",
   "id": "6a263cf2",
   "metadata": {
    "slideshow": {
     "slide_type": "slide"
    }
   },
   "source": [
    "## import 된 모듈 찾는 경로 및 PYTHONPATH\n",
    "\n",
    "- `import 모듈` 구문을 사용하면 파이썬 실행 환경은 모듈을 다음 경로에서 찾는다.\n",
    "    1. 현재 실행중인 모듈(import 구문을 사용한 모듈)이 있는 경로\n",
    "    2. 파이썬 실행환경에 등록된 경로\n",
    "- 모듈을 찾는 순서는 다음에서 확인할 수 있다.\n",
    "```python\n",
    "import sys      # 표준모듈 sys\n",
    "print(sys.path) # 모듈을 찾는 경로를 저장한 list\n",
    "```\n",
    "- 위의 경로 이외에 파이썬 모듈이 있을 경우 PYTHONPATH 환경변수에 그 디렉토리 경로를 등록한다.\n",
    "    1. sys.path 에 추가한다. (사용할 때 마다 추가해야 한다.)\n",
    "    2. 운영체제 환경변수에 등록한다. (한번만 하면된다.)"
   ]
  },
  {
   "cell_type": "code",
   "execution_count": null,
   "id": "02b8caf1-5bd8-4e6a-bcd5-bc4f5c21d1ab",
   "metadata": {},
   "outputs": [],
   "source": [
    "import greeting_module"
   ]
  },
  {
   "cell_type": "code",
   "execution_count": 9,
   "id": "3f3184a8-0550-4bcb-8c53-4df23f405dc2",
   "metadata": {},
   "outputs": [],
   "source": [
    "import sys"
   ]
  },
  {
   "cell_type": "code",
   "execution_count": 7,
   "id": "c2bfb9f1-a94f-4816-a0af-e71c54485279",
   "metadata": {},
   "outputs": [
    {
     "name": "stdout",
     "output_type": "stream",
     "text": [
      "['C:\\\\Users\\\\Playdata\\\\miniconda3\\\\envs\\\\python\\\\python312.zip',\n",
      " 'C:\\\\Users\\\\Playdata\\\\miniconda3\\\\envs\\\\python\\\\DLLs',\n",
      " 'C:\\\\Users\\\\Playdata\\\\miniconda3\\\\envs\\\\python\\\\Lib',\n",
      " 'C:\\\\Users\\\\Playdata\\\\miniconda3\\\\envs\\\\python',\n",
      " '',\n",
      " 'C:\\\\Users\\\\Playdata\\\\miniconda3\\\\envs\\\\python\\\\Lib\\\\site-packages',\n",
      " 'C:\\\\Users\\\\Playdata\\\\miniconda3\\\\envs\\\\python\\\\Lib\\\\site-packages\\\\win32',\n",
      " 'C:\\\\Users\\\\Playdata\\\\miniconda3\\\\envs\\\\python\\\\Lib\\\\site-packages\\\\win32\\\\lib',\n",
      " 'C:\\\\Users\\\\Playdata\\\\miniconda3\\\\envs\\\\python\\\\Lib\\\\site-packages\\\\Pythonwin']\n"
     ]
    }
   ],
   "source": [
    "import sys\n",
    "from pprint import pprint\n",
    "pprint(sys.path)"
   ]
  },
  {
   "cell_type": "code",
   "execution_count": 12,
   "id": "a58d12fa-aa55-4bb5-84cc-28cf789acb0d",
   "metadata": {},
   "outputs": [
    {
     "data": {
      "text/plain": [
       "list"
      ]
     },
     "execution_count": 12,
     "metadata": {},
     "output_type": "execute_result"
    }
   ],
   "source": [
    "type(sys.path)"
   ]
  },
  {
   "cell_type": "code",
   "execution_count": 13,
   "id": "b610db71-cfcd-46ed-9fad-f029eb3fcbff",
   "metadata": {},
   "outputs": [],
   "source": [
    "sys.path.append(r\"c:\\temp\")"
   ]
  },
  {
   "cell_type": "code",
   "execution_count": 14,
   "id": "532bdadb-25ec-463b-8c18-1db75b1d1ff5",
   "metadata": {},
   "outputs": [
    {
     "data": {
      "text/plain": [
       "['C:\\\\Users\\\\Playdata\\\\miniconda3\\\\envs\\\\python\\\\python312.zip',\n",
       " 'C:\\\\Users\\\\Playdata\\\\miniconda3\\\\envs\\\\python\\\\DLLs',\n",
       " 'C:\\\\Users\\\\Playdata\\\\miniconda3\\\\envs\\\\python\\\\Lib',\n",
       " 'C:\\\\Users\\\\Playdata\\\\miniconda3\\\\envs\\\\python',\n",
       " '',\n",
       " 'C:\\\\Users\\\\Playdata\\\\miniconda3\\\\envs\\\\python\\\\Lib\\\\site-packages',\n",
       " 'C:\\\\Users\\\\Playdata\\\\miniconda3\\\\envs\\\\python\\\\Lib\\\\site-packages\\\\win32',\n",
       " 'C:\\\\Users\\\\Playdata\\\\miniconda3\\\\envs\\\\python\\\\Lib\\\\site-packages\\\\win32\\\\lib',\n",
       " 'C:\\\\Users\\\\Playdata\\\\miniconda3\\\\envs\\\\python\\\\Lib\\\\site-packages\\\\Pythonwin',\n",
       " 'c:\\\\temp']"
      ]
     },
     "execution_count": 14,
     "metadata": {},
     "output_type": "execute_result"
    }
   ],
   "source": [
    "sys.path"
   ]
  },
  {
   "cell_type": "code",
   "execution_count": 15,
   "id": "cf66d9ff-22f2-47e8-9f3d-d6141d99ead6",
   "metadata": {},
   "outputs": [],
   "source": [
    "import test_module"
   ]
  },
  {
   "cell_type": "code",
   "execution_count": 16,
   "id": "7c356d60",
   "metadata": {
    "slideshow": {
     "slide_type": "fragment"
    }
   },
   "outputs": [
    {
     "name": "stdout",
     "output_type": "stream",
     "text": [
      "c:\\temp\\test_module.test()\n"
     ]
    }
   ],
   "source": [
    "test_module.test()"
   ]
  },
  {
   "cell_type": "markdown",
   "id": "4222ef77",
   "metadata": {
    "slideshow": {
     "slide_type": "slide"
    }
   },
   "source": [
    "# 메인 모듈(Main Module)과 하위 모듈(Sub Module)\n",
    "\n",
    "- **메인 모듈**\n",
    "    - 현재 실행하고 있는 모듈\n",
    "        - `python 모듈.py` 로 실행된 모듈을 말한다.\n",
    "    - application 의 main logic을 처리한다.\n",
    "- **하위 모듈 (Sub module)**\n",
    "    - 메인 모듈에서 import 되어 실행되는 모듈\n",
    "    - 모듈을 import하면 그 모듈을 실행 시킨다. 이때 모듈에 있는 실행코드들도 같이 실행된다. 이것을 방지 하기 위해 모듈이 메인 모듈로 실행되는지 하위 모듈로 실행되는지 확인이 필요하다.\n",
    "- <b>`__name__`</b> 내장 전역변수\n",
    "    - 실행 중인 모듈명을 저장하는 내장 전역변수\n",
    "    - **메인 모듈은 '\\_\\_main\\_\\_'** 을 **하위 모듈은 모듈명(파일명)** 이 저장된다.\n",
    "    - 모듈이 메인 모듈로 시작하는지 여부 확인 할 때 사용한다.\n",
    "    \n",
    "```python\n",
    "if __name__ == '__main__':\n",
    "    # 메인모듈일 때만 실행할 코드 블록\n",
    "```"
   ]
  },
  {
   "cell_type": "code",
   "execution_count": null,
   "id": "023346ad-a1fe-4799-8440-e8eecd51d7d1",
   "metadata": {},
   "outputs": [],
   "source": [
    "# 명령프롬프트\n",
    "# python greeting_module.py  ==> main 모듈(현재 실행중인 모듈)ㅎ로 실행됨."
   ]
  },
  {
   "cell_type": "code",
   "execution_count": 1,
   "id": "f958ebb9",
   "metadata": {
    "slideshow": {
     "slide_type": "fragment"
    }
   },
   "outputs": [
    {
     "name": "stdout",
     "output_type": "stream",
     "text": [
      "10\n",
      "20\n"
     ]
    }
   ],
   "source": [
    "# import greeting_module # 모듈파일을 실행시킴.\n",
    "# import에 의해서 실행된 모듈 ==> sub module"
   ]
  },
  {
   "cell_type": "code",
   "execution_count": 1,
   "id": "a37e5dfa-b2a9-483b-baba-4fb5a6d66a65",
   "metadata": {},
   "outputs": [
    {
     "name": "stdout",
     "output_type": "stream",
     "text": [
      "greeting_module\n"
     ]
    }
   ],
   "source": [
    "import greeting_module as gm"
   ]
  },
  {
   "cell_type": "code",
   "execution_count": 2,
   "id": "e4172c8f-a72c-4e28-966f-61da9820cc2d",
   "metadata": {},
   "outputs": [
    {
     "data": {
      "text/plain": [
       "'__main__'"
      ]
     },
     "execution_count": 2,
     "metadata": {},
     "output_type": "execute_result"
    }
   ],
   "source": [
    "__name__"
   ]
  },
  {
   "cell_type": "code",
   "execution_count": 4,
   "id": "51fa8ea7-b592-4649-a0cc-2469088b500e",
   "metadata": {},
   "outputs": [
    {
     "data": {
      "text/plain": [
       "['C:\\\\Users\\\\Playdata\\\\miniconda3\\\\envs\\\\python\\\\python312.zip', 'C:\\\\Users\\\\Playdata\\\\miniconda3\\\\envs\\\\python\\\\DLLs', 'C:\\\\Users\\\\Playdata\\\\miniconda3\\\\envs\\\\python\\\\Lib', 'C:\\\\Users\\\\Playdata\\\\miniconda3\\\\envs\\\\python', '', 'C:\\\\Users\\\\Playdata\\\\miniconda3\\\\envs\\\\python\\\\Lib\\\\site-packages', 'C:\\\\Users\\\\Playdata\\\\miniconda3\\\\envs\\\\python\\\\Lib\\\\site-packages\\\\win32', 'C:\\\\Users\\\\Playdata\\\\miniconda3\\\\envs\\\\python\\\\Lib\\\\site-packages\\\\win32\\\\lib', 'C:\\\\Users\\\\Playdata\\\\miniconda3\\\\envs\\\\python\\\\Lib\\\\site-packages\\\\Pythonwin']"
      ]
     },
     "execution_count": 4,
     "metadata": {},
     "output_type": "execute_result"
    }
   ],
   "source": [
    "import sys\n",
    "sys.path"
   ]
  },
  {
   "cell_type": "code",
   "execution_count": 2,
   "id": "6efc852d-5a2b-4854-8b42-22a966c9a9c8",
   "metadata": {},
   "outputs": [
    {
     "name": "stdout",
     "output_type": "stream",
     "text": [
      "'aaa'\n"
     ]
    }
   ],
   "source": [
    "import pprint\n",
    "\n",
    "pprint.pprint('aaa')"
   ]
  },
  {
   "cell_type": "markdown",
   "id": "cadef5be",
   "metadata": {},
   "source": [
    "# 3rd party library 설치\n",
    "\n",
    "- 기능을 모아 놓은 것이 **모듈(module)** 이고 모듈을 모아 놓은 것이 **패키지** 이고 그런 패키지들을 모아서 놓은 것이 **Library** 이다.\n",
    "- **Library** 는 범용적으로 사용할 수있는 기능들을 구현해서 배포한 것을 말한다. 파이썬에서는 라이브러리를 패키지라고도 한다.\n",
    "- Library는 누구든 만들어서 배포(제공)할 수있다.\n",
    "    - **1st party library:** 파이썬 실행 환경 설치시 내장되어 있는 library\n",
    "    - **2nd party library:** Application을 만들면서 필요에 따가 정의한 library (내가 만든 라이브러리)\n",
    "    - **3rd party library:** 개인이나 회사 또는 단체에서 만들어 배포한 library.\n",
    "- Python은 3rd party library 생태계가 잘 이루어져 있다.\n",
    "    - 파이썬은 라이브러리 저장소(repository)를 이용해 라이브러리 작성자들과 사용자들을 연결해 배포와 사용을 쉽게 할 수 있도록 한다.\n",
    "    - **PyPI:** 파이썬 공식 라이브러리 저장소\n",
    "        - https://pypi.org/ : 라이브러리 검색 사이트\n",
    "        - pip tool을 이용해 라이브러리를 관리한다.\n",
    "    - **Conda Repository:** Anaconda 에서 제공하는 라이브러리 저장소\n",
    "        - https://anaconda.org/anaconda/repo : 패키지 검색 사이트\n",
    "        - conda tool 을 이용해 라이브러리를 관리한다."
   ]
  },
  {
   "cell_type": "code",
   "execution_count": null,
   "id": "f9694888-56d2-4b9c-8725-bcbf997618ee",
   "metadata": {},
   "outputs": [],
   "source": []
  },
  {
   "cell_type": "markdown",
   "id": "c914e151",
   "metadata": {},
   "source": [
    "### PIP 주요 명령어\n",
    "- pip는 python runtime 설치하면 같이 설치되는 **라이브러리 관리 툴**이다.\n",
    "- `pip --help`\n",
    "- `pip install 라이브러리[==version]` \n",
    "    - Library를 설치한다.\n",
    "    - version을 지정하면 그 버전으로 지정하지 않으면 최신버전을 설치한다.\n",
    "    - upgrade나 downgrade는 진행하지 않는다. (이미 설치 된 library가 있으면 다시 설치 하지 않는다.)\n",
    "    - 관리자 권한일 경우 설치되는 library가 있다. 이 경우 **--user** 옵션을 지정한다.\n",
    "- `pip install --upgrade 라이브러리[==version]`, \\-U \\-\\-upgrade\n",
    "    - Library를 upgrade 또는 downgrade한다.\n",
    "    - Library가 없으면 설치한다.\n",
    "    - 이미 설치된 Library가 지정한 version과 다르면 다시 설치한다. (version을 생략하면 최신버전)\n",
    "- `pip install --requirement 파일경로`,  \\-r, \\-\\-requirement\n",
    "    - 파일경로의 text 파일에 설치할 library이름과 버전을 작성한다. 그리고 작성된 library들을 한번에 설치한다.\n",
    "- `pip freeze > 파일명.txt`\n",
    "    - 현재 설치된 library들을 \\-\\-requirement로 설치할 수 있도록 text 파일에 작성해 준다. 관례적으로 파일명은 **requirements.txt** 로 한다.\n",
    "- `pip uninstall 패키지명`\n",
    "    - Library를 local 컴퓨터에서 삭제한다.\n",
    "- `pip list`: 설치된 모든 library 목록을 출력한다.\n",
    "- `pip show 라이브러리`\n",
    "    - 지정한 library의 정보를 출력한다."
   ]
  },
  {
   "cell_type": "code",
   "execution_count": null,
   "id": "33e6cec3",
   "metadata": {},
   "outputs": [],
   "source": []
  },
  {
   "cell_type": "code",
   "execution_count": null,
   "id": "9d47f3c4",
   "metadata": {},
   "outputs": [],
   "source": []
  }
 ],
 "metadata": {
  "kernelspec": {
   "display_name": "Python 3 (ipykernel)",
   "language": "python",
   "name": "python3"
  },
  "language_info": {
   "codemirror_mode": {
    "name": "ipython",
    "version": 3
   },
   "file_extension": ".py",
   "mimetype": "text/x-python",
   "name": "python",
   "nbconvert_exporter": "python",
   "pygments_lexer": "ipython3",
   "version": "3.12.5"
  },
  "toc": {
   "base_numbering": 1,
   "nav_menu": {},
   "number_sections": true,
   "sideBar": true,
   "skip_h1_title": false,
   "title_cell": "Table of Contents",
   "title_sidebar": "Contents",
   "toc_cell": false,
   "toc_position": {},
   "toc_section_display": true,
   "toc_window_display": false
  },
  "varInspector": {
   "cols": {
    "lenName": 16,
    "lenType": 16,
    "lenVar": 40
   },
   "kernels_config": {
    "python": {
     "delete_cmd_postfix": "",
     "delete_cmd_prefix": "del ",
     "library": "var_list.py",
     "varRefreshCmd": "print(var_dic_list())"
    },
    "r": {
     "delete_cmd_postfix": ") ",
     "delete_cmd_prefix": "rm(",
     "library": "var_list.r",
     "varRefreshCmd": "cat(var_dic_list()) "
    }
   },
   "types_to_exclude": [
    "module",
    "function",
    "builtin_function_or_method",
    "instance",
    "_Feature"
   ],
   "window_display": false
  }
 },
 "nbformat": 4,
 "nbformat_minor": 5
}
