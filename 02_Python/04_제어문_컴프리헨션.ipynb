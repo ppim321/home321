{
 "cells": [
  {
   "cell_type": "markdown",
   "id": "8c49cd8e",
   "metadata": {
    "slideshow": {
     "slide_type": "slide"
    }
   },
   "source": [
    "# 제어문(Control flow statement)\n",
    "기본적으로 프로그램은 순차구조를 가진다. 즉 작성한 순서대로 실행이 된다.  \n",
    "이런 실행흐름을 다른 순서로 제어하기 위한 구문을 만드는 문법이 제어문이다.  \n",
    "제어문은 **조건문** 과 **반복문** 두가지 문법이 있다.\n",
    "- **조건문**\n",
    "    - if 문\n",
    "- **반복문**\n",
    "    - while 문\n",
    "    - for in 문"
   ]
  },
  {
   "cell_type": "markdown",
   "id": "92c502ce",
   "metadata": {
    "slideshow": {
     "slide_type": "slide"
    }
   },
   "source": [
    "# 조건문/분기문 (conditional statement)\n",
    "- 프로그램이 명령문들을 실행하는 도중 특정 순서에서 **조건에 따라 흐름의 나눠져야 하는 경우 사용한다**\n",
    "- 파이썬은 조건문으로 **if문**이 있다.\n",
    "\n",
    "![조건문](images/ch03_01.png)\n",
    "\n",
    "<center>입력 받은 a 의 값이 0인지 여부에 따라 두가지 흐름으로 분기된다.</center>\n"
   ]
  },
  {
   "cell_type": "markdown",
   "id": "2a3c1835",
   "metadata": {
    "slideshow": {
     "slide_type": "subslide"
    }
   },
   "source": [
    "## 구문\n",
    "\n",
    "- 조건이 True일 경우만 특정 구문들을 실행 하는 조건문.\n",
    "```python\n",
    "if 조건:    # 조건은 bool 표현식을 기술한다. 조건선언 다음에 : 으로 선언해서 코드블록을 구분한다.\n",
    "    명령문1  # 조건이 True이면 실행할 구문들을 코드블럭에 기술한다.\n",
    "    명령문2  # 코드 블록은 들여쓰기를 이용해 묶어준다. 보통 공백 4칸으로 들여쓰기를 한다.\n",
    "    ...\n",
    "```\n",
    "> ### 파이썬의 코드블록(code block)  \n",
    "> 코드블록이란 **여러 명령문들을 묶어놓은 것을** 말한다. 코드블록으로 묶이면 실행시 같이 다 실행되고 실행이 안되면 같이 다 실행이 안된다.    \n",
    "> 파이썬에서는 코드블록을 작성할 때 **들여쓰기를 이용해 묶어준다.**   \n",
    "> 같은 칸만큼 들여쓰기를 한 명령문들이 같은 블록으로 묶인다.\n",
    "> 들여쓰기는 관례적으로 **공백 4칸을** 사용한다. \n",
    "\n",
    "> ### pass 키워드(예약어)\n",
    "> - 빈 구현부를 만들때 사용\n",
    ">     - 제어문, 함수의 body 코드블럭은 비울 수 없다. 반드시 명령문을 한개 이상 작성해야한다. \n",
    ">     - 작성할 내용이 없을 경우 사용하는 키워드로 `pass`를 사용한다. \n",
    ">     - `...` 을 대신 사용할 수 있다."
   ]
  },
  {
   "cell_type": "code",
   "execution_count": 2,
   "id": "f00980b3-c2ce-4f1d-8d15-a8c07ac12b56",
   "metadata": {},
   "outputs": [
    {
     "ename": "IndentationError",
     "evalue": "unindent does not match any outer indentation level (<string>, line 6)",
     "output_type": "error",
     "traceback": [
      "\u001b[1;36m  File \u001b[1;32m<string>:6\u001b[1;36m\u001b[0m\n\u001b[1;33m    print(\"Zero입니다.\")\u001b[0m\n\u001b[1;37m                     ^\u001b[0m\n\u001b[1;31mIndentationError\u001b[0m\u001b[1;31m:\u001b[0m unindent does not match any outer indentation level\n"
     ]
    }
   ],
   "source": [
    "## 1번 작업\n",
    "num = int(input(\"정수:\"))\n",
    "## 2번 작업 (O, X)\n",
    "if num == 0:\n",
    "    print(\"영입니다.\")\n",
    "    print(\"Zero입니다.\")\n",
    "## 3번 작업\n",
    "print(\"종료\")"
   ]
  },
  {
   "cell_type": "markdown",
   "id": "09c79c35",
   "metadata": {
    "slideshow": {
     "slide_type": "subslide"
    }
   },
   "source": [
    "- **조건이 True일때 실행할 구문과 False일때 실행하는 조건문.**\n",
    "```python\n",
    "if 조건:     \n",
    "    명령문1_1 # 조건이 True일 경우 실행할 구문들\n",
    "    명령문1_2\n",
    "    ...\n",
    "else:\n",
    "    명령문2_1 # 조건이 False일 경우 실행할 구문들\n",
    "    명령문2_2\n",
    "    ...\n",
    "```"
   ]
  },
  {
   "cell_type": "code",
   "execution_count": 4,
   "id": "06d770b2-77a3-4dba-b787-32d6cef0b0cf",
   "metadata": {},
   "outputs": [
    {
     "name": "stdin",
     "output_type": "stream",
     "text": [
      "정수: 10101\n"
     ]
    },
    {
     "name": "stdout",
     "output_type": "stream",
     "text": [
      "영이 아닙니다.\n",
      "Not Zero\n",
      "종료\n"
     ]
    }
   ],
   "source": [
    "## 1번 작업\n",
    "num = int(input(\"정수:\"))\n",
    "## 2번 작업\n",
    "if num == 0:\n",
    "    # 2-1\n",
    "    print(\"영 입니다.\")\n",
    "    print(\"Zero 입니다.\")\n",
    "else: # if조건이 False일 때 실행할 구문.\n",
    "    # 2-2\n",
    "    print(\"영이 아닙니다.\")\n",
    "    print(\"Not Zero\")\n",
    "## 3번 작업\n",
    "print('종료')"
   ]
  },
  {
   "cell_type": "code",
   "execution_count": 6,
   "id": "0a18a738-7982-456d-a6db-4c36cddded2a",
   "metadata": {},
   "outputs": [
    {
     "name": "stdout",
     "output_type": "stream",
     "text": [
      "미성년입니다.\n"
     ]
    }
   ],
   "source": [
    "age = 10\n",
    "if age < 20:\n",
    "    print('미성년입니다.')\n",
    "else:\n",
    "    print(\"성년입니다.\")"
   ]
  },
  {
   "cell_type": "code",
   "execution_count": 8,
   "id": "1bbb07f8-321c-461f-b5d9-ea6bf601389e",
   "metadata": {},
   "outputs": [
    {
     "name": "stdin",
     "output_type": "stream",
     "text": [
      "ID: aaaaaaaaa\n"
     ]
    },
    {
     "name": "stdout",
     "output_type": "stream",
     "text": [
      "가입처리\n"
     ]
    }
   ],
   "source": [
    "user_id = input(\"ID:\")\n",
    "# id는 5글자 이상.\n",
    "if len(user_id) >= 5:\n",
    "    print(\"가입처리\")\n",
    "else:\n",
    "    print(\"가입할 수없는 ID입니다.\")\n",
    "    print(\"5글자 이상 입력하세요\")"
   ]
  },
  {
   "cell_type": "markdown",
   "id": "621eae9a",
   "metadata": {
    "slideshow": {
     "slide_type": "subslide"
    }
   },
   "source": [
    "- **조건이 여러 개인 조건문.**\n",
    "```python\n",
    "if 조건1:\n",
    "    명령문1_1  # 조건1이 True일 경우 실행할 코드블록. \n",
    "    명령문1_2\n",
    "    ...\n",
    "elif 조건2:    # 다음 조건으로 앞의 조건들이 모드 False일 경우 비교한다.\n",
    "    명령문2_1  # 조건2가 True일 경우 실행할 코드블록.\n",
    "    명령문2_2\n",
    "    ...\n",
    "elif 조건3 :\n",
    "    명령문3_1\n",
    "    명령문3_2\n",
    "    ...\n",
    "else:         # 위의 모든 조건이 False일 경우 실행하는 코드블록. 생략 가능하다.\n",
    "    명령문4\n",
    "```"
   ]
  },
  {
   "cell_type": "code",
   "execution_count": 12,
   "id": "2dc08b83-15c5-4be2-a5b1-be44910e53b5",
   "metadata": {},
   "outputs": [
    {
     "name": "stdin",
     "output_type": "stream",
     "text": [
      "정수: -222\n"
     ]
    },
    {
     "name": "stdout",
     "output_type": "stream",
     "text": [
      "-222은 음수입니다.\n",
      "종료\n"
     ]
    }
   ],
   "source": [
    "# 1번\n",
    "num = int(input(\"정수:\"))\n",
    "\n",
    "# 2번\n",
    "if num > 0:\n",
    "    print(f\"{num}은 양수입니다.\")\n",
    "elif num == 0:\n",
    "    print(\"0입니다.\")\n",
    "# elif num < 0:\n",
    "else:\n",
    "    print(f\"{num}은 음수입니다.\")\n",
    "\n",
    "# 3번\n",
    "print(\"종료\")"
   ]
  },
  {
   "cell_type": "code",
   "execution_count": 15,
   "id": "7a49954e-1344-4605-8b3a-be74c5dc2ff7",
   "metadata": {},
   "outputs": [
    {
     "name": "stdin",
     "output_type": "stream",
     "text": [
      "정수: 0\n"
     ]
    },
    {
     "name": "stdout",
     "output_type": "stream",
     "text": [
      "0입니다.\n"
     ]
    }
   ],
   "source": [
    "# 1\n",
    "num = int(input(\"정수:\"))\n",
    "# 2\n",
    "if num > 0:\n",
    "    print(f\"{num}은 양수입니다.\")\n",
    "# 3\n",
    "if num == 0:\n",
    "    print(\"0입니다.\")\n",
    "# 4\n",
    "if num < 0:\n",
    "    print(f\"{num}은 음수입니다.\")"
   ]
  },
  {
   "cell_type": "code",
   "execution_count": 20,
   "id": "d4789828-941c-4bd5-8e78-9186403dbeff",
   "metadata": {},
   "outputs": [
    {
     "name": "stdin",
     "output_type": "stream",
     "text": [
      "정수: -10\n"
     ]
    }
   ],
   "source": [
    "num = int(input(\"정수:\"))\n",
    "if num >= 100_000:\n",
    "    print(\"아주 큰 값\")\n",
    "elif num >= 10_000:\n",
    "    print(\"큰값\")\n",
    "elif num >= 1_000:\n",
    "    print(\"보통 값\")\n",
    "elif num >= 10:\n",
    "    print(\"작은 값\")"
   ]
  },
  {
   "cell_type": "code",
   "execution_count": null,
   "id": "9e815cfc-d0c5-48ea-8c25-c64e293c536f",
   "metadata": {},
   "outputs": [],
   "source": []
  },
  {
   "cell_type": "code",
   "execution_count": 21,
   "id": "52828b19-fd73-4378-940b-1bbe9f61ae36",
   "metadata": {},
   "outputs": [
    {
     "name": "stdout",
     "output_type": "stream",
     "text": [
      "양수\n"
     ]
    }
   ],
   "source": [
    "num = 10\n",
    "if num >= 0:print(\"양수\")\n",
    "else:print(\"음수\")"
   ]
  },
  {
   "cell_type": "code",
   "execution_count": 28,
   "id": "3654268b-8a51-47f5-a708-4ab725e2ec96",
   "metadata": {},
   "outputs": [
    {
     "name": "stdout",
     "output_type": "stream",
     "text": [
      "aaa\n"
     ]
    }
   ],
   "source": [
    "if num > 0:\n",
    "    print('aaa')\n",
    "elif num == 0:\n",
    "    print('bbb')\n",
    "elif num < 0:\n",
    "    pass"
   ]
  },
  {
   "cell_type": "code",
   "execution_count": null,
   "id": "3a9d9fb9-d98a-471a-bdd9-6196d0c96444",
   "metadata": {},
   "outputs": [],
   "source": [
    "if True:\n",
    "    print(\"aaaa\")\n",
    "    if True:\n",
    "        print(\"1111\")\n",
    "        if True:\n",
    "            print(\"zzzz\")\n",
    "            while False:\n",
    "                print(11)"
   ]
  },
  {
   "cell_type": "code",
   "execution_count": null,
   "id": "4c6a532d",
   "metadata": {
    "slideshow": {
     "slide_type": "fragment"
    }
   },
   "outputs": [],
   "source": []
  },
  {
   "cell_type": "markdown",
   "id": "2149b728",
   "metadata": {
    "slideshow": {
     "slide_type": "slide"
    }
   },
   "source": [
    "# 반복문 (Loop statement)\n",
    "\n",
    "특정 구문들을 반복해서 실행할 때 사용한다. 동일한 코드를 여러번 반복하거나 값이 일정하게 변하는 코드를 반복할 경우 사용한다.  \n",
    "단순 반복을 처리하는 **while문**과 iterable객체가 제공하는 값들을 반복 조회하는 **for in문** 두가지 문법이 있다.\n",
    "\n",
    "![반복문](images/ch03_02.png)\n",
    "<center>count의 값이 limit의 값보다 크거나 같을때 까지 count의 값을 1증가 후 출력하는 구문을 반복한다. </center>"
   ]
  },
  {
   "cell_type": "markdown",
   "id": "b4740a36",
   "metadata": {
    "slideshow": {
     "slide_type": "subslide"
    }
   },
   "source": [
    "## while문\n",
    "- 조건이 True인 동안 구문을 반복해서 실행한다.\n",
    "\n",
    "### 구문\n",
    "```python\n",
    "while 조건:       # 조건은 bool 표현식을 기술한다. 조건선언 다음에 : 으로 선언해서 코드블록을 구분한다\n",
    "    반복할 구문1  # 반복할 구문을 코드블록으로 작성한다.  \n",
    "    반복할 구문2\n",
    "    ...\n",
    "```"
   ]
  },
  {
   "cell_type": "code",
   "execution_count": null,
   "id": "cb1e267c-94d3-40df-b4de-4baa6960d84b",
   "metadata": {},
   "outputs": [],
   "source": [
    "# 조건식에 사용할 변수들 선언.\n",
    "count = 0\n",
    "limit = 10  \n",
    "while count < limit: #  조건식\n",
    "    print(count)\n",
    "    count = count + 1  # count += 1  #  조건식의 변수를 변경.\n",
    "print('종료')"
   ]
  },
  {
   "cell_type": "code",
   "execution_count": 3,
   "id": "d80ba5b5-fd7d-4b47-a190-e3b0ff71bddc",
   "metadata": {
    "collapsed": true,
    "jupyter": {
     "outputs_hidden": true
    },
    "scrolled": true
   },
   "outputs": [
    {
     "name": "stdout",
     "output_type": "stream",
     "text": [
      "1. 안녕하세요\n",
      "2. 안녕하세요\n",
      "3. 안녕하세요\n",
      "4. 안녕하세요\n",
      "5. 안녕하세요\n",
      "6. 안녕하세요\n",
      "7. 안녕하세요\n",
      "8. 안녕하세요\n",
      "9. 안녕하세요\n",
      "10. 안녕하세요\n"
     ]
    }
   ],
   "source": [
    "count = 0\n",
    "while count < 10:\n",
    "    print(f\"{count+1}. 안녕하세요\")\n",
    "    count += 1"
   ]
  },
  {
   "cell_type": "code",
   "execution_count": null,
   "id": "cdedb3ce-8e6a-47f4-8a41-ca5781ab9de2",
   "metadata": {},
   "outputs": [],
   "source": []
  },
  {
   "cell_type": "code",
   "execution_count": null,
   "id": "ceb094eb-af3c-4fc4-bccd-71c465c2f858",
   "metadata": {},
   "outputs": [],
   "source": []
  },
  {
   "cell_type": "code",
   "execution_count": null,
   "id": "a7feeb47-a22e-4bda-8725-0ac92037b053",
   "metadata": {},
   "outputs": [],
   "source": [
    "# while True:\n",
    "#     반복할 구문"
   ]
  },
  {
   "cell_type": "code",
   "execution_count": null,
   "id": "6b11bde6",
   "metadata": {
    "slideshow": {
     "slide_type": "fragment"
    }
   },
   "outputs": [],
   "source": []
  },
  {
   "cell_type": "markdown",
   "id": "04f12e55",
   "metadata": {
    "slideshow": {
     "slide_type": "subslide"
    }
   },
   "source": [
    "## for  in 문\n",
    "- Iterable 객체를 순환조회하는 구문\n",
    "    - for in문은 Iterable 타입의 객체가 가지고 있는 값들을 하나씩 처리하는 구문을 작성할 때 사용한다.\n",
    "\n",
    "> - **Iterable**\n",
    ">    - 반복가능한 객체. 반복문(for in)을 이용해 일련의 값들을 반복적으로 각각 제공하는 객체를 말한다. \n",
    ">    - 대표적으로 List, Tuple, Dictionary, Set, 문자열 등이 있다.\n",
    "\n",
    "### 구문\n",
    "```python\n",
    "for 변수 in Iterable: # for in 선언후 : 으로 선언부와 구현부를 나눈다.\n",
    "    반복구문          # Iterable이 반복시 제공하는 값을 가지는 \"변수\"를 이용해 값들을 처리하는 구문을 코드블록으로 작성한다.\n",
    "    반복구문\n",
    "```"
   ]
  },
  {
   "cell_type": "code",
   "execution_count": 5,
   "id": "e1a7b426-4176-43f6-b953-e87f8cc993bc",
   "metadata": {},
   "outputs": [],
   "source": [
    "l = [1, 2, 3, 4, 5] # iterable (값을 모아서 가지고 있는 타입)\n",
    "it = iter(l)        # iterator (Iterable이 가진 값을 제공하는 역할)"
   ]
  },
  {
   "cell_type": "code",
   "execution_count": 6,
   "id": "524f0376-5a19-427c-893a-e626e2761bed",
   "metadata": {},
   "outputs": [
    {
     "data": {
      "text/plain": [
       "1"
      ]
     },
     "execution_count": 6,
     "metadata": {},
     "output_type": "execute_result"
    }
   ],
   "source": [
    "next(it)"
   ]
  },
  {
   "cell_type": "code",
   "execution_count": 7,
   "id": "4b8fdf30-91ae-486b-b6bd-8f9d09c86c8b",
   "metadata": {},
   "outputs": [
    {
     "data": {
      "text/plain": [
       "2"
      ]
     },
     "execution_count": 7,
     "metadata": {},
     "output_type": "execute_result"
    }
   ],
   "source": [
    "next(it)"
   ]
  },
  {
   "cell_type": "code",
   "execution_count": 8,
   "id": "7eaf744c-bc08-4f1c-b579-588715bc50e3",
   "metadata": {},
   "outputs": [
    {
     "data": {
      "text/plain": [
       "3"
      ]
     },
     "execution_count": 8,
     "metadata": {},
     "output_type": "execute_result"
    }
   ],
   "source": [
    "next(it)"
   ]
  },
  {
   "cell_type": "code",
   "execution_count": 9,
   "id": "46b63386-cde0-4614-b6da-ec93c482f91f",
   "metadata": {},
   "outputs": [
    {
     "data": {
      "text/plain": [
       "4"
      ]
     },
     "execution_count": 9,
     "metadata": {},
     "output_type": "execute_result"
    }
   ],
   "source": [
    "next(it)"
   ]
  },
  {
   "cell_type": "code",
   "execution_count": 10,
   "id": "d7bf7db8-3823-4218-a279-998d7e2996e0",
   "metadata": {},
   "outputs": [
    {
     "data": {
      "text/plain": [
       "5"
      ]
     },
     "execution_count": 10,
     "metadata": {},
     "output_type": "execute_result"
    }
   ],
   "source": [
    "next(it)"
   ]
  },
  {
   "cell_type": "code",
   "execution_count": 11,
   "id": "fd1b8945-9f9d-422c-bc49-3cd09df627c5",
   "metadata": {},
   "outputs": [
    {
     "ename": "StopIteration",
     "evalue": "",
     "output_type": "error",
     "traceback": [
      "\u001b[1;31m---------------------------------------------------------------------------\u001b[0m",
      "\u001b[1;31mStopIteration\u001b[0m                             Traceback (most recent call last)",
      "Cell \u001b[1;32mIn[11], line 1\u001b[0m\n\u001b[1;32m----> 1\u001b[0m \u001b[38;5;28;43mnext\u001b[39;49m\u001b[43m(\u001b[49m\u001b[43mit\u001b[49m\u001b[43m)\u001b[49m\n",
      "\u001b[1;31mStopIteration\u001b[0m: "
     ]
    }
   ],
   "source": [
    "next(it)"
   ]
  },
  {
   "cell_type": "code",
   "execution_count": 23,
   "id": "8b5af46a-4252-4e0c-a19e-cd22498ca3e5",
   "metadata": {},
   "outputs": [
    {
     "name": "stdout",
     "output_type": "stream",
     "text": [
      "1\n",
      "2\n",
      "3\n",
      "4\n",
      "5\n",
      "6\n",
      "7\n",
      "8\n"
     ]
    }
   ],
   "source": [
    "l = {1, 2, 3, 4, 5, 6, 7, 8}\n",
    "it = iter(l)\n",
    "while True:\n",
    "    try:\n",
    "        v = next(it)\n",
    "        print(v)\n",
    "    except:\n",
    "        break"
   ]
  },
  {
   "cell_type": "code",
   "execution_count": 21,
   "id": "e6e5bee5-49d2-4b59-b87c-bb31c9652423",
   "metadata": {
    "scrolled": true
   },
   "outputs": [
    {
     "name": "stdout",
     "output_type": "stream",
     "text": [
      "10\n",
      "20\n",
      "30\n"
     ]
    }
   ],
   "source": [
    "l = {1, 2, 3, 4, 5, 6, 7, 8}\n",
    "l = \"abc\"\n",
    "l = [10, 20, 30]\n",
    "for v in l:\n",
    "    print(v)"
   ]
  },
  {
   "cell_type": "code",
   "execution_count": 32,
   "id": "884c3295-eb5c-4627-8f69-3ee1763e9440",
   "metadata": {
    "collapsed": true,
    "jupyter": {
     "outputs_hidden": true
    }
   },
   "outputs": [
    {
     "name": "stdout",
     "output_type": "stream",
     "text": [
      "1\n",
      "2\n",
      "3\n",
      "4\n",
      "5\n"
     ]
    }
   ],
   "source": [
    "l = [1, 2, 3, 4, 5]\n",
    "# 모든 원소들을 하나씩 출력\n",
    "for v in l:\n",
    "    print(v)"
   ]
  },
  {
   "cell_type": "code",
   "execution_count": 34,
   "id": "10e6a08f-ca90-4652-b627-17f029593bc9",
   "metadata": {
    "collapsed": true,
    "jupyter": {
     "outputs_hidden": true
    }
   },
   "outputs": [
    {
     "name": "stdout",
     "output_type": "stream",
     "text": [
      "10\n",
      "20\n",
      "30\n",
      "40\n",
      "50\n"
     ]
    }
   ],
   "source": [
    "# 모든 원소들에 10을 곱한 값을 출력\n",
    "for v in l:\n",
    "    a = v * 10\n",
    "    print(a)"
   ]
  },
  {
   "cell_type": "code",
   "execution_count": 35,
   "id": "3e0aa749-796a-419b-aac3-dfc8de636e14",
   "metadata": {},
   "outputs": [
    {
     "name": "stdout",
     "output_type": "stream",
     "text": [
      "10\n",
      "20\n",
      "30\n"
     ]
    }
   ],
   "source": [
    "for v in (10, 20, 30):\n",
    "    print(v)"
   ]
  },
  {
   "cell_type": "code",
   "execution_count": 36,
   "id": "b2f36de7-dee0-40a9-b8eb-0fb07638b382",
   "metadata": {},
   "outputs": [
    {
     "name": "stdout",
     "output_type": "stream",
     "text": [
      "200\n",
      "100\n",
      "300\n"
     ]
    }
   ],
   "source": [
    "for v in {100, 200, 300}:\n",
    "    print(v)"
   ]
  },
  {
   "cell_type": "code",
   "execution_count": 37,
   "id": "cededb15-f053-4a25-8f33-3181f4e4b8b1",
   "metadata": {},
   "outputs": [
    {
     "name": "stdout",
     "output_type": "stream",
     "text": [
      "a\n",
      "b\n"
     ]
    }
   ],
   "source": [
    "for key in {\"a\":1, \"b\":2}:\n",
    "    print(key)"
   ]
  },
  {
   "cell_type": "code",
   "execution_count": 38,
   "id": "67c4d6ec-35e2-4d52-b770-5147d78a6a8f",
   "metadata": {
    "collapsed": true,
    "jupyter": {
     "outputs_hidden": true
    }
   },
   "outputs": [
    {
     "name": "stdout",
     "output_type": "stream",
     "text": [
      "가\n",
      "나\n",
      "다\n",
      "라\n",
      "마\n",
      "바\n",
      "사\n",
      "a\n",
      "b\n",
      "c\n",
      "d\n",
      "e\n"
     ]
    }
   ],
   "source": [
    "for char in \"가나다라마바사abcde\":\n",
    "    print(char)"
   ]
  },
  {
   "cell_type": "code",
   "execution_count": 40,
   "id": "d4eb48f7-b0bb-452f-acb8-e0f7d877f431",
   "metadata": {
    "collapsed": true,
    "jupyter": {
     "outputs_hidden": true
    }
   },
   "outputs": [
    {
     "name": "stdout",
     "output_type": "stream",
     "text": [
      "10\n",
      "2\n",
      "100\n",
      "232\n",
      "-1232\n"
     ]
    }
   ],
   "source": [
    "l = [10, 2, -23, 3, 100, 232,12093, -223,-1232, 101]\n",
    "# 짝수만 출력\n",
    "for v in l:\n",
    "    if v % 2 == 0:\n",
    "        print(v)"
   ]
  },
  {
   "cell_type": "code",
   "execution_count": 41,
   "id": "35965294-337d-4aae-a83c-5d2eb26b9906",
   "metadata": {},
   "outputs": [],
   "source": [
    "# 짝수만 모아서 변수에 저장.\n",
    "result = []\n",
    "for v in l:\n",
    "    if v % 2 == 0:\n",
    "        result.append(v)"
   ]
  },
  {
   "cell_type": "code",
   "execution_count": 42,
   "id": "f37f9fca-452b-4409-ae70-bdcb0b0b9e4f",
   "metadata": {},
   "outputs": [
    {
     "name": "stdout",
     "output_type": "stream",
     "text": [
      "[10, 2, 100, 232, -1232]\n"
     ]
    }
   ],
   "source": [
    "print(result)"
   ]
  },
  {
   "cell_type": "code",
   "execution_count": 43,
   "id": "765a5729-f886-4ff0-9aa8-ac865d9db6b5",
   "metadata": {},
   "outputs": [],
   "source": [
    "l2 = [\n",
    "    (1, 2, 3), \n",
    "    (10, 20, 30),\n",
    "    (100, 200, 300)\n",
    "]"
   ]
  },
  {
   "cell_type": "code",
   "execution_count": 47,
   "id": "b72eefe6-c14a-4f1e-8407-e74a0032f50a",
   "metadata": {},
   "outputs": [
    {
     "name": "stdout",
     "output_type": "stream",
     "text": [
      "1\n",
      "2\n",
      "3\n",
      "--------------------\n",
      "10\n",
      "20\n",
      "30\n",
      "--------------------\n",
      "100\n",
      "200\n",
      "300\n",
      "--------------------\n"
     ]
    }
   ],
   "source": [
    "# l2의 원소들을 모두 각각 출력\n",
    "for t in l2:\n",
    "    # print(type(t))\n",
    "    # print(t)\n",
    "    for v in t:\n",
    "        print(v)\n",
    "    print(\"--------------------\")"
   ]
  },
  {
   "cell_type": "code",
   "execution_count": 49,
   "id": "da0ce0f6",
   "metadata": {
    "slideshow": {
     "slide_type": "fragment"
    }
   },
   "outputs": [
    {
     "name": "stdout",
     "output_type": "stream",
     "text": [
      "a 1\n",
      "b 2\n",
      "c 3\n"
     ]
    }
   ],
   "source": [
    "d = {\n",
    "    \"a\": 1, \n",
    "    \"b\":2,\n",
    "    \"c\":3\n",
    "}\n",
    "for key in d:\n",
    "    print(key, d[key])"
   ]
  },
  {
   "cell_type": "code",
   "execution_count": 52,
   "id": "c95b8ac0-6841-4593-9700-47420ebb3d68",
   "metadata": {},
   "outputs": [
    {
     "name": "stdout",
     "output_type": "stream",
     "text": [
      "1\n",
      "2\n",
      "3\n"
     ]
    }
   ],
   "source": [
    "for v in d.values():\n",
    "    print(v)"
   ]
  },
  {
   "cell_type": "code",
   "execution_count": null,
   "id": "d8e65ea0-8501-4d28-bc3e-2368079eb3f8",
   "metadata": {},
   "outputs": [],
   "source": []
  },
  {
   "cell_type": "markdown",
   "id": "1f30cd6f",
   "metadata": {
    "slideshow": {
     "slide_type": "subslide"
    }
   },
   "source": [
    "## continue와 break를 이용한 반복문 제어\n",
    "- **continue**\n",
    "    - 실행 블록에서 continue가 실행되면 현재 반복을 중단하고 다음 반복을 진행한다.\n",
    "    - 특정 조건에서 처리를 멈추고 다음 처리를 반복할 때 사용한다.\n",
    "- **break**\n",
    "    - 반복문 실행을 중단한다.\n",
    "    - 특정 조건에서 반복문을 중간에 중지할때 사용한다.\n",
    "- continue와 break는 특정 조건에서 실행되야 하는 경우가 대부분이므로 if문 안에 작성한다.    "
   ]
  },
  {
   "cell_type": "code",
   "execution_count": 26,
   "id": "f4f001df-cf22-40c6-88aa-c183ee086e6a",
   "metadata": {
    "collapsed": true,
    "jupyter": {
     "outputs_hidden": true
    }
   },
   "outputs": [
    {
     "name": "stdout",
     "output_type": "stream",
     "text": [
      "1\n",
      "2\n",
      "4\n",
      "5\n",
      "7\n",
      "8\n",
      "10\n",
      "11\n"
     ]
    }
   ],
   "source": [
    "l = [1, 2, 3, 4, 5, 6, 7, 8, 9, 10, 11]\n",
    "# 3의 배수가 아닌것\n",
    "for v in l:\n",
    "    if v % 3 == 0: # 출력하지 말아야 하는 조건\n",
    "        continue  # 아래부분을 실행하지 말고 다음 반복을 계속해라.\n",
    "    print(v)"
   ]
  },
  {
   "cell_type": "code",
   "execution_count": 28,
   "id": "90c41e9f",
   "metadata": {
    "collapsed": true,
    "jupyter": {
     "outputs_hidden": true
    },
    "slideshow": {
     "slide_type": "fragment"
    }
   },
   "outputs": [
    {
     "name": "stdout",
     "output_type": "stream",
     "text": [
      "1\n",
      "2\n",
      "3\n",
      "4\n",
      "5\n",
      "6\n"
     ]
    }
   ],
   "source": [
    "# 값이 7이면 반복을 종료\n",
    "for v in l:\n",
    "    if v == 7: # 멈추는 조건\n",
    "        break # 반복문을 멈춘다.\n",
    "    print(v)"
   ]
  },
  {
   "cell_type": "code",
   "execution_count": 59,
   "id": "bff94682-d2e5-4a06-9c16-756e395ecc7e",
   "metadata": {},
   "outputs": [
    {
     "data": {
      "text/plain": [
       "2"
      ]
     },
     "execution_count": 59,
     "metadata": {},
     "output_type": "execute_result"
    }
   ],
   "source": [
    "import random\n",
    "random.randint(0, 10)  # 0 ~ 10 사이의 Random 정수 값을 생성. "
   ]
  },
  {
   "cell_type": "code",
   "execution_count": 66,
   "id": "899d767c-6806-4736-af7c-595594c5bbf6",
   "metadata": {},
   "outputs": [
    {
     "name": "stdout",
     "output_type": "stream",
     "text": [
      "종료\n"
     ]
    }
   ],
   "source": [
    "# -100 ~ 100 사이의 랜덤 정수를 생성.\n",
    "# 양수와 음수를 따로 저장\n",
    "# 0일 경우에는 종료\n",
    "pos_result = [] # 양수저장할 리스트\n",
    "neg_result = [] # 음수저장할 리스트\n",
    "while True:\n",
    "    num = random.randint(-100, 100)\n",
    "    if num > 0:\n",
    "        pos_result.append(num)\n",
    "    elif num <0:\n",
    "        neg_result.append(num)\n",
    "    else:\n",
    "        break\n",
    "        \n",
    "print('종료')        "
   ]
  },
  {
   "cell_type": "code",
   "execution_count": 67,
   "id": "4f815e2d-459d-411e-a485-515117740cec",
   "metadata": {
    "collapsed": true,
    "jupyter": {
     "outputs_hidden": true
    }
   },
   "outputs": [
    {
     "name": "stdout",
     "output_type": "stream",
     "text": [
      "[72, 61, 57, 91, 58, 64, 86, 22, 37, 52, 68, 99, 87, 36, 79, 12, 61, 87, 95, 35, 1, 7, 9, 29, 77, 4, 37, 56, 12, 66, 22, 85, 46, 13, 64, 17, 7, 5, 2, 4, 48, 44, 10, 59, 69, 59, 97, 95, 91, 26, 74, 97, 3, 19, 53, 18, 98, 36, 19, 52, 25, 60, 29, 1, 48, 29, 7, 7, 78, 1, 3, 87, 7, 48, 28, 47, 2, 49, 47, 35, 2, 33, 38, 70, 33, 77, 32, 82, 32, 41, 88, 42, 32, 46, 12, 23, 15, 32, 4, 30, 22, 43, 98, 7, 97, 37, 81, 18, 59, 14, 4, 56, 39, 12, 19, 13, 29, 70, 74, 89, 41, 35, 9, 66, 68, 92, 98, 49, 84, 52, 66, 36, 100, 82, 54, 54, 64, 57, 23]\n"
     ]
    }
   ],
   "source": [
    "print(pos_result)"
   ]
  },
  {
   "cell_type": "code",
   "execution_count": 63,
   "id": "248b396c-83f9-4413-99a8-89096b41b1a4",
   "metadata": {
    "collapsed": true,
    "jupyter": {
     "outputs_hidden": true
    }
   },
   "outputs": [
    {
     "name": "stdout",
     "output_type": "stream",
     "text": [
      "[-1, -85, -57, -69, -22, -29, -82, -87, -95, -62, -12, -55, -56, -81, -91, -2, -56, -63, -64, -56, -41, -80, -59, -91, -79, -22, -20, -71, -62, -7, -54, -56, -97, -12, -18, -78, -42, -23, -98, -63, -89, -63, -75, -46, -74, -99, -41, -13, -52, -9, -92, -84, -11, -85, -83, -35, -89, -8, -39, -92, -70, -62, -73, -75, -94, -47, -13, -12, -98, -73, -61, -35, -89, -82, -60, -7, -36, -62, -69, -88, -67, -86, -67, -88, -100, -86, -42, -14, -5, -44, -10, -34, -68, -82, -85, -54, -62, -78, -80, -62, -49, -28]\n"
     ]
    }
   ],
   "source": [
    "print(neg_result)"
   ]
  },
  {
   "cell_type": "code",
   "execution_count": 73,
   "id": "5cce5b5d-4cc7-449f-b396-96520ee34e56",
   "metadata": {
    "scrolled": true
   },
   "outputs": [
    {
     "name": "stdout",
     "output_type": "stream",
     "text": [
      "종료\n"
     ]
    }
   ],
   "source": [
    "# -100 ~ 100 사이의 랜덤 정수를 생성.\n",
    "# 양수만 저장\n",
    "# 0일 경우에는 종료\n",
    "result = []\n",
    "while True:\n",
    "    num = random.randint(-100, 100)\n",
    "    if num == 0:\n",
    "        break\n",
    "    elif num < 0: #음수\n",
    "        # print(num)\n",
    "        continue\n",
    "    result.append(num)\n",
    "print(\"종료\")    "
   ]
  },
  {
   "cell_type": "code",
   "execution_count": 72,
   "id": "74bd7514-6a48-4689-b87f-c433aa00dd1b",
   "metadata": {},
   "outputs": [
    {
     "name": "stdout",
     "output_type": "stream",
     "text": [
      "[50, 42, 16, 83, 89, 78, 92, 16, 15, 49, 41, 97, 33, 56, 51, 100, 62, 2, 65, 70, 61, 86, 97, 93, 42, 73, 49, 66, 13, 81, 26, 13, 30, 62, 75, 91, 58, 32, 53, 14, 100, 39, 19, 21, 11, 91, 62, 14, 45, 96, 97, 78, 16, 99, 88, 50, 48, 40, 31, 2, 55, 85, 73, 47, 77, 53, 99, 10, 64, 81, 18, 10, 60, 66, 66, 89, 46, 76, 13, 85, 49, 55, 93, 16, 6, 29, 3, 35, 85, 56, 42, 42, 70, 45, 18, 4, 51, 82, 20, 26, 47, 54, 3, 1, 71, 25, 69, 84, 50, 89, 91, 86, 63, 87, 87, 66, 88]\n"
     ]
    }
   ],
   "source": [
    "print(result)"
   ]
  },
  {
   "cell_type": "code",
   "execution_count": null,
   "id": "a0d980c9-9a4e-4906-af2a-15f47b076f30",
   "metadata": {},
   "outputs": [],
   "source": []
  },
  {
   "cell_type": "markdown",
   "id": "dc6099c5",
   "metadata": {
    "slideshow": {
     "slide_type": "slide"
    }
   },
   "source": [
    "## for in 문 연관 내장 함수\n",
    "\n",
    "### range()\n",
    "- 일정한 간격의 연속된 정수를 제공하는 반복가능 객체 생성한다.\n",
    "- 구문\n",
    "    - `range([시작값], 멈춤값, [증감값])`\n",
    "        - 시작값, 멈춤값, 증감값 모두 정수만 가능하다.\n",
    "        - 시작값 > 멈춤값 이고 증감값이 음수이면 내림차순으로 값을 제공한다.\n",
    "        1. 전달값이 **1개: 멈춤값**. \n",
    "            - 0 ~ (멈춤값-1)까지 1씩 증가하는 정수를 제공\n",
    "        2. 전달값이 **2개: 시작값, 멈춤값**. \n",
    "            - 시작값 ~ (멈춤값-1) 까지 1씩 증가하는 정수 제공\n",
    "        3. 전달값이 **3개: 시작값, 멈춤값, 증감값(간격)**. \n",
    "            - 시작값 ~ (멈춤값-1)까지 증감값만큼 증가하는 정수를 제공.\n"
   ]
  },
  {
   "cell_type": "code",
   "execution_count": 80,
   "id": "d3374fd1-0f36-4e76-9f4d-a6c949fb4964",
   "metadata": {
    "collapsed": true,
    "jupyter": {
     "outputs_hidden": true
    }
   },
   "outputs": [
    {
     "name": "stdout",
     "output_type": "stream",
     "text": [
      "0\n",
      "1\n",
      "2\n",
      "3\n",
      "4\n",
      "5\n",
      "6\n",
      "7\n",
      "8\n",
      "9\n"
     ]
    }
   ],
   "source": [
    "for v in range(10):\n",
    "    print(v)"
   ]
  },
  {
   "cell_type": "code",
   "execution_count": 82,
   "id": "f02e82b8-7f23-4978-986d-5f8a5c647455",
   "metadata": {},
   "outputs": [
    {
     "name": "stdout",
     "output_type": "stream",
     "text": [
      "10\n",
      "12\n",
      "14\n",
      "16\n",
      "18\n"
     ]
    }
   ],
   "source": [
    "for v in range(10, 20, 2): # 시작 ~ 끝-1, 간격: 2\n",
    "    print(v)"
   ]
  },
  {
   "cell_type": "code",
   "execution_count": 83,
   "id": "6831ac95-ed2f-4f81-9c66-83c558dcf7b2",
   "metadata": {},
   "outputs": [
    {
     "name": "stdout",
     "output_type": "stream",
     "text": [
      "5\n",
      "6\n",
      "7\n",
      "8\n",
      "9\n"
     ]
    }
   ],
   "source": [
    "for v in range(5, 10): # 시작 ~ 끝-1, 간격생략:default:1 \n",
    "    print(v)"
   ]
  },
  {
   "cell_type": "code",
   "execution_count": 84,
   "id": "0c46b847-e1fc-4e7c-bee0-952f6c66314f",
   "metadata": {},
   "outputs": [
    {
     "name": "stdout",
     "output_type": "stream",
     "text": [
      "0\n",
      "1\n",
      "2\n",
      "3\n",
      "4\n"
     ]
    }
   ],
   "source": [
    "for v in range(5): # 0 ~ 끝-1, 간격: 1\n",
    "    print(v)"
   ]
  },
  {
   "cell_type": "code",
   "execution_count": 85,
   "id": "c6118014-d5c6-4538-a11f-3484071af67b",
   "metadata": {},
   "outputs": [
    {
     "name": "stdout",
     "output_type": "stream",
     "text": [
      "-10, -9, -8, -7, -6, -5, -4, -3, -2, -1, 0, 1, 2, 3, 4, 5, 6, 7, 8, 9, "
     ]
    }
   ],
   "source": [
    "for v in range(-10, 10):\n",
    "    print(v, end=\", \")"
   ]
  },
  {
   "cell_type": "code",
   "execution_count": 87,
   "id": "197aa539-78fb-48f6-81d1-10bff0ab1913",
   "metadata": {},
   "outputs": [
    {
     "name": "stdout",
     "output_type": "stream",
     "text": [
      "반복할 구문\n",
      "반복할 구문\n",
      "반복할 구문\n",
      "반복할 구문\n",
      "반복할 구문\n"
     ]
    }
   ],
   "source": [
    "# 5번 반복\n",
    "for _ in range(5): # 변수명으로 `_` 사용: 이 변수는 사용하지 않는다. \n",
    "    #구문상 어쩔 수없이 넣어야 되지만 사용하지는 않을 경우 변수명을 `_`로 지정(관례)\n",
    "    print(\"반복할 구문\")"
   ]
  },
  {
   "cell_type": "code",
   "execution_count": 89,
   "id": "56b26078-ee3e-41ff-a273-100a92429029",
   "metadata": {},
   "outputs": [],
   "source": [
    "# for v in range(1.2, 3.5, 0.1):  # 정수만 제공.\n",
    "#     print(v)"
   ]
  },
  {
   "cell_type": "code",
   "execution_count": 90,
   "id": "58be6b2a-115d-4ea5-b6dc-2ae8cf1c73e6",
   "metadata": {},
   "outputs": [
    {
     "data": {
      "text/plain": [
       "[0, 1, 2, 3, 4, 5, 6, 7, 8, 9]"
      ]
     },
     "execution_count": 90,
     "metadata": {},
     "output_type": "execute_result"
    }
   ],
   "source": [
    "# range(): iterable\n",
    "list(range(10))"
   ]
  },
  {
   "cell_type": "code",
   "execution_count": 92,
   "id": "ec6d4d25-f48f-4c18-bc03-7e70a101e52c",
   "metadata": {},
   "outputs": [
    {
     "data": {
      "text/plain": [
       "(10, 12, 14, 16, 18)"
      ]
     },
     "execution_count": 92,
     "metadata": {},
     "output_type": "execute_result"
    }
   ],
   "source": [
    "l = list(range(10, 100, 5))\n",
    "l = tuple(range(10, 20, 2))\n",
    "l"
   ]
  },
  {
   "cell_type": "code",
   "execution_count": 5,
   "id": "8109fb91-37a6-4017-8c05-5f83f9291be4",
   "metadata": {},
   "outputs": [
    {
     "data": {
      "text/plain": [
       "[10, 8, 6, 4, 2]"
      ]
     },
     "execution_count": 5,
     "metadata": {},
     "output_type": "execute_result"
    }
   ],
   "source": [
    "list(range(10, 0, -2))"
   ]
  },
  {
   "cell_type": "markdown",
   "id": "5de9d74e",
   "metadata": {
    "slideshow": {
     "slide_type": "subslide"
    }
   },
   "source": [
    "## enumerate()\n",
    "\n",
    "- 구문\n",
    "    - `enumerate(Iterable,  [, start=정수])`\n",
    "        - 현재 몇번째 값을 제공하는 지(현재 몇번째 반복인지)를 나타내는 **index**와 제공하는 **원소**를 tuple로 묶어서 반환\n",
    "        - Iterable\n",
    "            - 값을 제공할 Iterable객체\n",
    "        - start: 정수\n",
    "            - index 시작 값. 생략하면 0부터 시작한다."
   ]
  },
  {
   "cell_type": "code",
   "execution_count": 6,
   "id": "33dd96c5",
   "metadata": {
    "slideshow": {
     "slide_type": "fragment"
    }
   },
   "outputs": [
    {
     "name": "stdout",
     "output_type": "stream",
     "text": [
      "(0, 'a'), 0. a\n",
      "(1, 'b'), 1. b\n",
      "(2, 'c'), 2. c\n",
      "(3, 'd'), 3. d\n",
      "(4, 'e'), 4. e\n"
     ]
    }
   ],
   "source": [
    "l = list('abcde')\n",
    "for v in enumerate(l): # 튜플 (index, 값)\n",
    "    print(f\"{v}, {v[0]}. {v[1]}\")"
   ]
  },
  {
   "cell_type": "code",
   "execution_count": 101,
   "id": "ff853163-736a-4b53-b82e-645389aacdc3",
   "metadata": {},
   "outputs": [
    {
     "name": "stdout",
     "output_type": "stream",
     "text": [
      "1. a (1, 'a')\n",
      "2. b (2, 'b')\n",
      "3. c (3, 'c')\n",
      "4. d (4, 'd')\n",
      "5. e (5, 'e')\n"
     ]
    }
   ],
   "source": [
    "l = list('abcde')\n",
    "for v in enumerate(l, start=1): # 튜플 (index, 값)\n",
    "    print(f\"{v[0]}. {v[1]}\", v)"
   ]
  },
  {
   "cell_type": "code",
   "execution_count": 106,
   "id": "9072736f-1cbc-481d-aea1-f7f75de824b4",
   "metadata": {},
   "outputs": [
    {
     "name": "stdout",
     "output_type": "stream",
     "text": [
      "0 a\n",
      "1 b\n",
      "2 c\n",
      "4 e\n"
     ]
    }
   ],
   "source": [
    "for index, value in enumerate(l): # 튜플대입\n",
    "    if index == 3:\n",
    "        continue\n",
    "    print(index, value)"
   ]
  },
  {
   "cell_type": "code",
   "execution_count": 109,
   "id": "593e5eb5-b456-4897-83e9-910c30efcc00",
   "metadata": {
    "collapsed": true,
    "jupyter": {
     "outputs_hidden": true
    },
    "scrolled": true
   },
   "outputs": [
    {
     "name": "stdout",
     "output_type": "stream",
     "text": [
      "0번째 결과: 1\n",
      "100000번째 결과: 5000150001\n",
      "200000번째 결과: 20000300001\n",
      "300000번째 결과: 45000450001\n",
      "400000번째 결과: 80000600001\n",
      "500000번째 결과: 125000750001\n",
      "600000번째 결과: 180000900001\n",
      "700000번째 결과: 245001050001\n",
      "800000번째 결과: 320001200001\n",
      "900000번째 결과: 405001350001\n",
      "최종결과: 500,000,500,000\n"
     ]
    }
   ],
   "source": [
    "# 0 ~ 1,000,000 누적합계\n",
    "# 결과를 10만번당 한번씩 출력\n",
    "result = 0 # 합계결과를 저장할 변수\n",
    "for idx, v in enumerate(range(1, 1_000_001)):\n",
    "    result += v\n",
    "    if idx % 100000 == 0:\n",
    "        print(f\"{idx}번째 결과: {result}\")\n",
    "print(\"최종결과:\", format(result, \",\"))"
   ]
  },
  {
   "cell_type": "markdown",
   "id": "f5a5540f",
   "metadata": {
    "slideshow": {
     "slide_type": "subslide"
    }
   },
   "source": [
    "## zip()\n",
    "- 여러 개의 Iterable 객체를 받아 반복시 같은 index의 값끼리 튜플로 묶어 반환한다.\n",
    "- 구문\n",
    "    - `zip(Iterable1, Iterable2, Iterable3 [, .......])`\n",
    "        - Iterable 2개이상.전달한다.\n",
    "- 각 Iterable이 제공하는 원소의 개수가가 다를 경우 가장 적은 것의 개수에 맞춰 반복한다."
   ]
  },
  {
   "cell_type": "code",
   "execution_count": 8,
   "id": "bb7fe799-d094-4dbe-89b1-6886d03c54fd",
   "metadata": {},
   "outputs": [
    {
     "name": "stdout",
     "output_type": "stream",
     "text": [
      "이순신 30 서울\n",
      "유관순 40 인천\n",
      "강감찬 50 부산\n"
     ]
    }
   ],
   "source": [
    "# 세명의 name, age, address를 따로 저장. 같은 index가 같은 사람의 정보.\n",
    "names = [\"이순신\", \"유관순\", \"강감찬\"]\n",
    "ages =  [30, 40, 50]\n",
    "address = [\"서울\", \"인천\", \"부산\", \"광주\", \"대전\"]\n",
    "\n",
    "# 각 사람의 정보를 묶어서 출력\n",
    "print(names[0], ages[0], address[0])\n",
    "print(names[1], ages[1], address[1])\n",
    "print(names[2], ages[2], address[2])"
   ]
  },
  {
   "cell_type": "code",
   "execution_count": 9,
   "id": "2b044e9d-4e30-4d55-825d-f59be1a76ca2",
   "metadata": {},
   "outputs": [
    {
     "name": "stdout",
     "output_type": "stream",
     "text": [
      "('이순신', 30, '서울')\n",
      "('유관순', 40, '인천')\n",
      "('강감찬', 50, '부산')\n"
     ]
    }
   ],
   "source": [
    "for v in zip(names, ages, address):\n",
    "    print(v)"
   ]
  },
  {
   "cell_type": "code",
   "execution_count": 10,
   "id": "8750d806-aeec-47c1-bfd8-06d85e2424a0",
   "metadata": {},
   "outputs": [
    {
     "name": "stdout",
     "output_type": "stream",
     "text": [
      "이름: 이순신, 나이: 30, 주소: 서울\n",
      "이름: 유관순, 나이: 40, 주소: 인천\n",
      "이름: 강감찬, 나이: 50, 주소: 부산\n"
     ]
    }
   ],
   "source": [
    "for name, age, addr in zip(names, ages, address):\n",
    "    print(f\"이름: {name}, 나이: {age}, 주소: {addr}\")"
   ]
  },
  {
   "cell_type": "code",
   "execution_count": 119,
   "id": "7c188ec5-8ce9-4978-bfea-6fd7c5ab9883",
   "metadata": {},
   "outputs": [
    {
     "name": "stdout",
     "output_type": "stream",
     "text": [
      "0 이순신 30 서울\n",
      "1 유관순 40 인천\n",
      "2 강감찬 50 부산\n"
     ]
    }
   ],
   "source": [
    "for v  in enumerate(zip(names, ages, address)):\n",
    "    print(v[0], v[1][0], v[1][1], v[1][2])"
   ]
  },
  {
   "cell_type": "code",
   "execution_count": 121,
   "id": "c8d01063-d12c-4bd8-a6b5-910b63c89089",
   "metadata": {},
   "outputs": [
    {
     "name": "stdout",
     "output_type": "stream",
     "text": [
      "0\n",
      "('a', 'b', 'c')\n"
     ]
    }
   ],
   "source": [
    "a1, a2 = (0, ('a', 'b' , 'c'))\n",
    "print(a1)\n",
    "print(a2)"
   ]
  },
  {
   "cell_type": "code",
   "execution_count": 122,
   "id": "aa8d2b9c-c52f-43c3-9bce-5a7538b5f8a4",
   "metadata": {},
   "outputs": [
    {
     "name": "stdout",
     "output_type": "stream",
     "text": [
      "0 a b c\n"
     ]
    }
   ],
   "source": [
    "a1, (a2, a3, a4) = (0, ('a', 'b' , 'c'))\n",
    "print(a1, a2, a3, a4)"
   ]
  },
  {
   "cell_type": "code",
   "execution_count": 123,
   "id": "061858ba-177a-44c9-a5aa-6d5237c9372c",
   "metadata": {},
   "outputs": [
    {
     "name": "stdout",
     "output_type": "stream",
     "text": [
      "1. 이순신, 30, 서울\n",
      "2. 유관순, 40, 인천\n",
      "3. 강감찬, 50, 부산\n"
     ]
    }
   ],
   "source": [
    "for idx, (name, age, addr)  in enumerate(zip(names, ages, address)):\n",
    "    print(f\"{idx+1}. {name}, {age}, {addr}\")"
   ]
  },
  {
   "cell_type": "markdown",
   "id": "2df89dae",
   "metadata": {
    "slideshow": {
     "slide_type": "subslide"
    }
   },
   "source": [
    "# 컴프리헨션(Comprehension)\n",
    "\n",
    "- 기존 Iterable의 원소들을 이용해서 새로운 자료구조(List, Dictionary, Set)를 생성하는 구문.\n",
    "    - 기존 Iterable의 **원소들을 처리한 결과**나  **특정 조건이 True인 값들을** 새로운 자료구조에 넣을때 사용.\n",
    "    - 결과를 넣을 새로운 자료구조 타입에 따라 다음 세가지가 있다.\n",
    "        - 리스트 컴프리헨션\n",
    "        - 딕셔너리  컴프리헨션\n",
    "        - 셋  컴프리헨션\n",
    "- **튜플 컴프리헨션**은 tuple() 함수를 이용해서 만든다.\n",
    "- **딕셔너리 컴프리헨션**과 **셋 컴프리헨션**은 파이썬 3 에 새로 추가되었다.\n",
    "-   컴프리헨션 문법은 iterable 을 타입을 넣는 곳에서는 다 적용할 수있다."
   ]
  },
  {
   "cell_type": "code",
   "execution_count": 130,
   "id": "a6901c0a-1a50-464c-bb47-7462e86dd652",
   "metadata": {},
   "outputs": [
    {
     "name": "stdout",
     "output_type": "stream",
     "text": [
      "[10, 20, 30, 40, 50, 60, 70, 80, 90]\n",
      "{70, 40, 10, 80, 50, 20, 90, 60, 30}\n"
     ]
    }
   ],
   "source": [
    "l1 = list(range(1, 10))\n",
    "result = []\n",
    "result2 = set()\n",
    "for v in l1:\n",
    "    result.append(v * 10)\n",
    "    result2.add(v * 10)\n",
    "print(result)\n",
    "print(result2)"
   ]
  },
  {
   "cell_type": "code",
   "execution_count": null,
   "id": "0a6b2e95-209c-411e-bad1-5c52be6849ab",
   "metadata": {},
   "outputs": [],
   "source": []
  },
  {
   "cell_type": "code",
   "execution_count": 131,
   "id": "64e3658e-305b-426d-a2c5-a815aecf7961",
   "metadata": {},
   "outputs": [
    {
     "data": {
      "text/plain": [
       "[10, 20, 30, 40, 50, 60, 70, 80, 90]"
      ]
     },
     "execution_count": 131,
     "metadata": {},
     "output_type": "execute_result"
    }
   ],
   "source": [
    "c_result = [v*10 for v in l1] # 리스트 컴프리헨션\n",
    "c_result"
   ]
  },
  {
   "cell_type": "code",
   "execution_count": 133,
   "id": "9044b0ac-2d8f-4df5-9441-b7782854b6de",
   "metadata": {},
   "outputs": [
    {
     "data": {
      "text/plain": [
       "{10, 20, 30, 40, 50, 60, 70, 80, 90}"
      ]
     },
     "execution_count": 133,
     "metadata": {},
     "output_type": "execute_result"
    }
   ],
   "source": [
    "s_result = {v * 10 for v in l1}\n",
    "s_result "
   ]
  },
  {
   "cell_type": "code",
   "execution_count": 135,
   "id": "3162cac3-8230-40d7-b711-4bc9fd28b08d",
   "metadata": {},
   "outputs": [
    {
     "data": {
      "text/plain": [
       "{0: 10, 1: 20, 2: 30, 3: 40, 4: 50, 5: 60, 6: 70, 7: 80, 8: 90}"
      ]
     },
     "execution_count": 135,
     "metadata": {},
     "output_type": "execute_result"
    }
   ],
   "source": [
    "result3 = {}\n",
    "for idx, value in enumerate(l1):\n",
    "    result3[idx] = value * 10\n",
    "result3"
   ]
  },
  {
   "cell_type": "code",
   "execution_count": 139,
   "id": "ba777612-2a9d-48e0-abb5-779d7e14d42e",
   "metadata": {},
   "outputs": [
    {
     "data": {
      "text/plain": [
       "{1: 10, 2: 20, 3: 30, 4: 40, 5: 50, 6: 60, 7: 70, 8: 80, 9: 90}"
      ]
     },
     "execution_count": 139,
     "metadata": {},
     "output_type": "execute_result"
    }
   ],
   "source": [
    "d_result = {\"key\"+str(idx):value*10  for idx, value in enumerate(l1)}\n",
    "d_result = {value:value*10 for value in l1}\n",
    "d_result"
   ]
  },
  {
   "cell_type": "code",
   "execution_count": 141,
   "id": "e04827d9",
   "metadata": {
    "slideshow": {
     "slide_type": "fragment"
    }
   },
   "outputs": [
    {
     "data": {
      "text/plain": [
       "{100, 200, 300, 400, 500, 600, 700, 800, 900}"
      ]
     },
     "execution_count": 141,
     "metadata": {},
     "output_type": "execute_result"
    }
   ],
   "source": [
    "list(v*100 for v in l1)\n",
    "set(v*100 for v in l1)"
   ]
  },
  {
   "cell_type": "code",
   "execution_count": 142,
   "id": "4f237d9a-301b-453d-b31b-9f5ff34029d8",
   "metadata": {},
   "outputs": [
    {
     "data": {
      "text/plain": [
       "(100, 200, 300, 400, 500, 600, 700, 800, 900)"
      ]
     },
     "execution_count": 142,
     "metadata": {},
     "output_type": "execute_result"
    }
   ],
   "source": [
    "tuple(v*100 for v in l1) # 컴프리헨션으로 튜플을 생성할 경우 tuple() 함수이용."
   ]
  },
  {
   "cell_type": "code",
   "execution_count": 143,
   "id": "c0847fbd-b53f-42c0-a3ba-e81c84fc7753",
   "metadata": {},
   "outputs": [
    {
     "data": {
      "text/plain": [
       "<generator object <genexpr> at 0x000002A67935F9F0>"
      ]
     },
     "execution_count": 143,
     "metadata": {},
     "output_type": "execute_result"
    }
   ],
   "source": [
    "# (v*100 for v in l1)"
   ]
  },
  {
   "cell_type": "code",
   "execution_count": 12,
   "id": "6c5a97cc-6382-40fd-a02a-523315aa1e32",
   "metadata": {},
   "outputs": [
    {
     "name": "stdout",
     "output_type": "stream",
     "text": [
      "[1, 2, 3, 4, 5, 6, 7, 8, 9, 10]\n"
     ]
    }
   ],
   "source": [
    "result = [] # 양수만 저장.\n",
    "for v in range(-10, 11):\n",
    "    if v > 0:\n",
    "        result.append(v)\n",
    "print(result)"
   ]
  },
  {
   "cell_type": "code",
   "execution_count": 13,
   "id": "be37029c-a489-4177-beb6-6285930da259",
   "metadata": {},
   "outputs": [
    {
     "data": {
      "text/plain": [
       "{1, 2, 3, 4, 5, 6, 7, 8, 9, 10}"
      ]
     },
     "execution_count": 13,
     "metadata": {},
     "output_type": "execute_result"
    }
   ],
   "source": [
    "[v for v in range(-10, 11) if v > 0] # if가 True인 원소들만 처리.\n",
    "{v for v in range(-10, 11) if v > 0}"
   ]
  },
  {
   "cell_type": "code",
   "execution_count": 149,
   "id": "eb5c76e1-b0f4-4a71-9434-cd1d6c1795f1",
   "metadata": {},
   "outputs": [
    {
     "name": "stdout",
     "output_type": "stream",
     "text": [
      "[10, 20, 30, 40, 50, 60, 70, 80, 90]\n"
     ]
    }
   ],
   "source": [
    "# 양수에 100을 곱한 뒤에 저장.\n",
    "result3 = []\n",
    "for v in range(-10, 10):\n",
    "    if v > 0:  # 자료구조에서 원하는 조건의 값들을 추출 -> Filtering\n",
    "        result3.append(v * 10) # 원소들을 일괄처리 -> Mapping\n",
    "print(result3)        "
   ]
  },
  {
   "cell_type": "code",
   "execution_count": 150,
   "id": "c6bb2317-d797-455d-b9f9-0fe7ebd36b6a",
   "metadata": {},
   "outputs": [
    {
     "data": {
      "text/plain": [
       "[10, 20, 30, 40, 50, 60, 70, 80, 90]"
      ]
     },
     "execution_count": 150,
     "metadata": {},
     "output_type": "execute_result"
    }
   ],
   "source": [
    "[v * 10 for v in range(-10, 10) if v > 0]"
   ]
  },
  {
   "cell_type": "code",
   "execution_count": null,
   "id": "4c073e63-f9e2-43a1-9cad-fcc9522837a1",
   "metadata": {},
   "outputs": [],
   "source": [
    "for a in lst1:\n",
    "    for b in a:\n",
    "        for c in b:\n",
    "            if c > 0:\n",
    "                l.append(c-10)"
   ]
  },
  {
   "cell_type": "code",
   "execution_count": null,
   "id": "9fee9e5f-613d-41d1-a5fe-ac20b7c8c25e",
   "metadata": {},
   "outputs": [],
   "source": [
    "[c:c-10  for a in lst1 for b in a for c in b if c > 0]"
   ]
  },
  {
   "cell_type": "code",
   "execution_count": 154,
   "id": "699705e8-7e48-4261-b9fb-d98cb50d1e53",
   "metadata": {},
   "outputs": [
    {
     "data": {
      "text/plain": [
       "[8, 35]"
      ]
     },
     "execution_count": 154,
     "metadata": {},
     "output_type": "execute_result"
    }
   ],
   "source": [
    "l = [\n",
    "    [1, 2, 3], \n",
    "    [10, 20, 30]\n",
    "]\n",
    "# 3의 배수만  찾아서 +5를 한다.\n",
    "result = []\n",
    "for v in l:\n",
    "    for value in v:\n",
    "        if value % 3 == 0:\n",
    "            result.append(value + 5)\n",
    "result"
   ]
  },
  {
   "cell_type": "code",
   "execution_count": 156,
   "id": "e7bfc0b7-f1a1-4d26-ab97-4d8c6f569347",
   "metadata": {},
   "outputs": [
    {
     "data": {
      "text/plain": [
       "[8.0, 35.0]"
      ]
     },
     "execution_count": 156,
     "metadata": {},
     "output_type": "execute_result"
    }
   ],
   "source": [
    "[float(value) + 5 for v in l for value in v if value % 3 == 0]"
   ]
  },
  {
   "cell_type": "code",
   "execution_count": null,
   "id": "86c756fb-e189-4aa6-8e24-54e65d6daa03",
   "metadata": {},
   "outputs": [],
   "source": []
  },
  {
   "cell_type": "markdown",
   "id": "092288d7",
   "metadata": {
    "slideshow": {
     "slide_type": "skip"
    }
   },
   "source": [
    "# TODO"
   ]
  },
  {
   "cell_type": "code",
   "execution_count": 163,
   "id": "c7afa429-22b0-4186-b2ff-3843aa0555f6",
   "metadata": {
    "slideshow": {
     "slide_type": "skip"
    }
   },
   "outputs": [
    {
     "name": "stdout",
     "output_type": "stream",
     "text": [
      "100: A학점\n"
     ]
    }
   ],
   "source": [
    "# control + shift + -\n",
    "#(1) 다음 점수 구간에 맞게 학점을 출력하세요.\n",
    "# 91 ~ 100 : A학점\n",
    "# 81 ~ 90 :  B학점\n",
    "# 71 ~ 80 :  C학점\n",
    "# 61 ~ 70 :  D학점\n",
    "# 60이하  :  F학점\n",
    "jumsu = 100 \n",
    "if jumsu < 0 or jumsu > 100:\n",
    "    print(f\"{jumsu}는 잘못된 점수입니다. 0 ~ 100 사이의 점수를 입력하세요.\")\n",
    "elif jumsu >= 91:\n",
    "    print(f\"{jumsu}: A학점\")\n",
    "elif jumsu >= 81:\n",
    "    print(f\"{jumsu}: B학점\")\n",
    "elif jumsu >= 71:\n",
    "    print(f\"{jumsu}: C학점\")\n",
    "elif jumsu >=61:\n",
    "    print(f\"{jumsu}: D학점\")\n",
    "else:\n",
    "    print(f\"{jumsu}: F학점\")\n"
   ]
  },
  {
   "cell_type": "code",
   "execution_count": 165,
   "id": "de612e07-1e36-49a7-b318-623755395072",
   "metadata": {
    "slideshow": {
     "slide_type": "skip"
    }
   },
   "outputs": [
    {
     "name": "stdin",
     "output_type": "stream",
     "text": [
      "ID: aaaaaaaaa\n"
     ]
    },
    {
     "name": "stdout",
     "output_type": "stream",
     "text": [
      "사용할 수있습니다.\n"
     ]
    }
   ],
   "source": [
    "#(2) 사용자로 부터 ID를 입력 받은 뒤 입력받은 ID가 5글자 이상이면 \"사용할 수 있습니다.\"를 \n",
    "#     5글자 미만이면 \"사용할 수 없는 ID입니다.\"를 출력하세요.\n",
    "user_id = input(\"ID:\")\n",
    "if len(user_id) >= 5:\n",
    "    print(\"사용할 수있습니다.\")\n",
    "else:\n",
    "    print(\"사용할 수 없는 ID입니다.\")"
   ]
  },
  {
   "cell_type": "code",
   "execution_count": 174,
   "id": "d1aa6f9e-e9e5-4c20-9845-4f4d4df40666",
   "metadata": {
    "slideshow": {
     "slide_type": "skip"
    }
   },
   "outputs": [
    {
     "name": "stdin",
     "output_type": "stream",
     "text": [
      "도시이름: 전주\n"
     ]
    },
    {
     "name": "stdout",
     "output_type": "stream",
     "text": [
      "특별시나 광역시가 아닙니다.\n"
     ]
    }
   ],
   "source": [
    "#(3) 사용자로부터 우리나라 도시명을 입력 받은 뒤 입력받은 도시명이 서울이면 \"특별시\"를 \n",
    "#   인천,부산,광주,대구,대전,울산 이면 \"광역시\"를 나머지는 \"특별시나 광역시가 아닙니다.\"를 출력하세요.\n",
    "city = input(\"도시이름:\")\n",
    "if city == \"서울\":\n",
    "    print(\"특별시\")\n",
    "elif city in [\"인천\", \"부산\",\"광주\",\"대구\",\"대전\",\"울산\"]:\n",
    "    print(\"광역시\")\n",
    "else:\n",
    "    print(\"특별시나 광역시가 아닙니다.\")\n"
   ]
  },
  {
   "cell_type": "code",
   "execution_count": 179,
   "id": "202711c1-070b-44e4-9a5b-ec6e1ed2387d",
   "metadata": {
    "slideshow": {
     "slide_type": "skip"
    }
   },
   "outputs": [
    {
     "name": "stdout",
     "output_type": "stream",
     "text": [
      "총점: 890\n",
      "평균: 89.0\n"
     ]
    }
   ],
   "source": [
    "#(4-5)\n",
    "#(4) 아래 리스트의 평균을 구하시오. \n",
    "jumsu = [100, 90, 100, 80, 70, 100, 80, 90, 95, 85]\n",
    "jumsu_sum = 0\n",
    "for v in jumsu:\n",
    "    jumsu_sum = jumsu_sum + v   # jumsu_sum += v\n",
    "print(\"총점:\", jumsu_sum)\n",
    "jumsu_avg = jumsu_sum / len(jumsu)\n",
    "print(\"평균:\", jumsu_avg)"
   ]
  },
  {
   "cell_type": "code",
   "execution_count": 182,
   "id": "e6ceb833-c81b-4600-aa40-7b575d464bf0",
   "metadata": {
    "collapsed": true,
    "jupyter": {
     "outputs_hidden": true
    },
    "scrolled": true,
    "slideshow": {
     "slide_type": "skip"
    }
   },
   "outputs": [
    {
     "name": "stdout",
     "output_type": "stream",
     "text": [
      "0 - pass (100)\n",
      "1 - pass (90)\n",
      "2 - pass (100)\n",
      "3 - fail (80)\n",
      "4 - fail (70)\n",
      "5 - pass (100)\n",
      "6 - fail (80)\n",
      "7 - pass (90)\n",
      "8 - pass (95)\n",
      "9 - fail (85)\n"
     ]
    }
   ],
   "source": [
    "#(5) 위 jumsu리스트에서 평균점수이상은 pass, 미만은 fail을 index번호와 함께 출력하시오. \n",
    "#    (ex: 0-pass, 1-pass, 2-fail)\n",
    "for idx, v in enumerate(jumsu):\n",
    "    if v >= jumsu_avg:\n",
    "        print(f\"{idx} - pass ({v})\")\n",
    "    else:\n",
    "        print(f\"{idx} - fail ({v})\")"
   ]
  },
  {
   "cell_type": "code",
   "execution_count": 184,
   "id": "c78bf0cd-e23a-458e-9be4-04a9b84289f2",
   "metadata": {
    "collapsed": true,
    "jupyter": {
     "outputs_hidden": true
    },
    "scrolled": true
   },
   "outputs": [
    {
     "name": "stdout",
     "output_type": "stream",
     "text": [
      "0 - pass (100)\n",
      "1 - pass (90)\n",
      "2 - pass (100)\n",
      "3 - fail (80)\n",
      "4 - fail (70)\n",
      "5 - pass (100)\n",
      "6 - fail (80)\n",
      "7 - pass (90)\n",
      "8 - pass (95)\n",
      "9 - fail (85)\n"
     ]
    }
   ],
   "source": [
    "for idx, v in enumerate(jumsu):\n",
    "    # print(\"pass\" if v >= jumsu_avg else \"fail\")\n",
    "    print(f\"{idx} - {\"pass\" if v >= jumsu_avg else \"fail\"} ({v})\")"
   ]
  },
  {
   "cell_type": "code",
   "execution_count": 187,
   "id": "8b6b1b2b-3eb5-4630-8f9d-5313a9dd1eb9",
   "metadata": {
    "slideshow": {
     "slide_type": "skip"
    }
   },
   "outputs": [
    {
     "name": "stdout",
     "output_type": "stream",
     "text": [
      "최대값: 55\n"
     ]
    }
   ],
   "source": [
    "#(6) 아래 리스트 값들 중 최대값을 조회해 출력하시오.\n",
    "jumsu = [60, 90, 80, 80, 70, 55, 80, 90, 95, 85]\n",
    "max_value = jumsu[0] #  최대값을 저장할 변수\n",
    "for v in jumsu:\n",
    "    if max_value < v:\n",
    "        max_value = v\n",
    "print(\"최대값:\", max_value)"
   ]
  },
  {
   "cell_type": "code",
   "execution_count": 190,
   "id": "c8ce58db-fe21-47bf-adf1-1bce82059a93",
   "metadata": {},
   "outputs": [
    {
     "data": {
      "text/plain": [
       "95"
      ]
     },
     "execution_count": 190,
     "metadata": {},
     "output_type": "execute_result"
    }
   ],
   "source": [
    "sorted(jumsu)[-1]"
   ]
  },
  {
   "cell_type": "code",
   "execution_count": 192,
   "id": "49031893-5a3e-4bd1-83c8-1f6c51189ac6",
   "metadata": {},
   "outputs": [
    {
     "data": {
      "text/plain": [
       "(95, 55)"
      ]
     },
     "execution_count": 192,
     "metadata": {},
     "output_type": "execute_result"
    }
   ],
   "source": [
    "max(jumsu), min(jumsu)"
   ]
  },
  {
   "cell_type": "code",
   "execution_count": 193,
   "id": "b9726287-9bf7-465c-8816-6277ca29ffe3",
   "metadata": {},
   "outputs": [
    {
     "data": {
      "text/plain": [
       "785"
      ]
     },
     "execution_count": 193,
     "metadata": {},
     "output_type": "execute_result"
    }
   ],
   "source": [
    "# 합계\n",
    "sum(jumsu)"
   ]
  },
  {
   "cell_type": "code",
   "execution_count": 196,
   "id": "796df5ef-b2fc-4266-8075-bab249f770cc",
   "metadata": {
    "slideshow": {
     "slide_type": "skip"
    }
   },
   "outputs": [
    {
     "name": "stdout",
     "output_type": "stream",
     "text": [
      "소, 호랑이, 용, 뱀, 돼지, 호랑이, "
     ]
    }
   ],
   "source": [
    "#(7) 다음 리스트 중에서 \"쥐\"와 \"토끼\" 제외한 나머지를 출력하세요.\n",
    "str_list = [\"쥐\", \"소\", \"호랑이\", \"토끼\", \"용\", \"토끼\", \"뱀\", \"돼지\", \"호랑이\"]\n",
    "for name in str_list:\n",
    "    if name not in [\"쥐\", \"토끼\"]:\n",
    "        print(name, end=\", \")"
   ]
  },
  {
   "cell_type": "code",
   "execution_count": 200,
   "id": "b4b3aae3-ada6-464b-99c5-142cd92937f8",
   "metadata": {
    "collapsed": true,
    "jupyter": {
     "outputs_hidden": true
    },
    "scrolled": true,
    "slideshow": {
     "slide_type": "skip"
    }
   },
   "outputs": [
    {
     "name": "stdin",
     "output_type": "stream",
     "text": [
      "단을 입력하시오:  5\n"
     ]
    },
    {
     "name": "stdout",
     "output_type": "stream",
     "text": [
      "5 X 1 = 5\n",
      "5 X 2 = 10\n",
      "5 X 3 = 15\n",
      "5 X 4 = 20\n",
      "5 X 5 = 25\n",
      "5 X 6 = 30\n",
      "5 X 7 = 35\n",
      "5 X 8 = 40\n",
      "5 X 9 = 45\n"
     ]
    }
   ],
   "source": [
    "#(8) 사용자로부터 정수를 입력받아 그 정수 단의 구구단을 출력하시오. \n",
    "# ex) \n",
    "# 단을 입력하시오 : 2  \n",
    "# 2 x 1 = 2\n",
    "# 2 x 2 = 4\n",
    "# ..\n",
    "# 2 x 9 = 18\n",
    "dan = int(input(\"단을 입력하시오: \"))\n",
    "# print(dan)\n",
    "for i in range(1, 10):\n",
    "    print(f\"{dan} X {i} = {dan * i}\")"
   ]
  },
  {
   "cell_type": "code",
   "execution_count": 204,
   "id": "bc20fca8-35fa-4030-93be-a3980ce946a3",
   "metadata": {
    "slideshow": {
     "slide_type": "skip"
    }
   },
   "outputs": [
    {
     "data": {
      "text/plain": [
       "{2, 10, 20, 60, 70, 140, 240, 1400}"
      ]
     },
     "execution_count": 204,
     "metadata": {},
     "output_type": "execute_result"
    }
   ],
   "source": [
    "#컴프리헨션\n",
    "#(9) 다음 리스트가 가진 값에 두배(* 2)를 가지는 새로운 리스트를 만드시오. (리스트 컴프리헨션 이용)\n",
    "lst = [10, 30, 70, 5, 120, 700, 1, 35]\n",
    "[v * 2 for v in lst]\n",
    "list(v * 2 for v in lst)\n",
    "tuple(v * 2 for v in lst)\n",
    "set(v * 2 for v in lst)"
   ]
  },
  {
   "cell_type": "code",
   "execution_count": 207,
   "id": "629e324d-ab5d-47a4-85af-a06e240b025c",
   "metadata": {},
   "outputs": [
    {
     "data": {
      "text/plain": [
       "<generator object <genexpr> at 0x000002A6793B7850>"
      ]
     },
     "execution_count": 207,
     "metadata": {},
     "output_type": "execute_result"
    }
   ],
   "source": [
    "(v * 2 for v in lst)"
   ]
  },
  {
   "cell_type": "code",
   "execution_count": 206,
   "id": "808b2b15-2b9d-4c63-a94f-5d015a811dfe",
   "metadata": {
    "slideshow": {
     "slide_type": "skip"
    }
   },
   "outputs": [
    {
     "name": "stdout",
     "output_type": "stream",
     "text": [
      "[(10, 100), (30, 300), (70, 700), (5, 50), (5, 50), (120, 1200), (700, 7000), (1, 10), (35, 350), (35, 350)]\n"
     ]
    }
   ],
   "source": [
    "#(10) 다음 리스트가 가진 값에 10배의 값을 가지는 값을 (원래값, 10배값) 의 튜플 묶음으로 가지는 리스트를 만드시오 (리스트 컴프리헨션 이용)\n",
    "# Ex) [(10,100), (30,300), .., (35, 350)]\n",
    "lst = [10, 30, 70, 5, 5, 120, 700, 1, 35, 35]\n",
    "print([(v, v*10) for v in lst])"
   ]
  },
  {
   "cell_type": "code",
   "execution_count": 209,
   "id": "8bd4238c-c145-434f-a40b-f05e44773473",
   "metadata": {
    "slideshow": {
     "slide_type": "skip"
    }
   },
   "outputs": [
    {
     "data": {
      "text/plain": [
       "[3, 33, 21, 33, 60, 120]"
      ]
     },
     "execution_count": 209,
     "metadata": {},
     "output_type": "execute_result"
    }
   ],
   "source": [
    "#(11) 다음 리스트가 가진 값들 중 3의 배수만 가지는 리스트를 만드시오. (리스트 컴프리헨션 이용)\n",
    "lst2 = [ 3, 20, 33, 21, 33, 8, 11, 10, 7, 17, 60, 120, 2]\n",
    "[v for v in lst2 if v % 3 == 0]"
   ]
  },
  {
   "cell_type": "code",
   "execution_count": 213,
   "id": "ffd28d5b-c151-46b0-a033-d4164abf7249",
   "metadata": {
    "slideshow": {
     "slide_type": "skip"
    }
   },
   "outputs": [
    {
     "data": {
      "text/plain": [
       "['a.exe', 'function.exe', 'b.exe', 'run.exe']"
      ]
     },
     "execution_count": 213,
     "metadata": {},
     "output_type": "execute_result"
    }
   ],
   "source": [
    "#(12) 다음 파일이름들을 담은 리스트에서 확장자가 exe인 파일만 골라서 새로운 리스트에 담으시오.(string의 endswith()함수 이용)\n",
    "file_names=[\"test.txt\", \"a.exe\", \"jupyter.bat\", \"function.exe\", \"b.exe\", \"cat.jpg\", \"dog.png\", \"run.exe\", \"i.dll\"]\n",
    "[file_name for file_name in file_names if file_name.endswith(\".exe\")]"
   ]
  },
  {
   "cell_type": "code",
   "execution_count": 214,
   "id": "e8faceb0-0510-4205-b544-2239f47b6a07",
   "metadata": {
    "slideshow": {
     "slide_type": "skip"
    }
   },
   "outputs": [
    {
     "data": {
      "text/plain": [
       "['mystroy.txt', 'jupyter.bat', 'function.exe']"
      ]
     },
     "execution_count": 214,
     "metadata": {},
     "output_type": "execute_result"
    }
   ],
   "source": [
    "#(13) 다음 중 10글자 이상인 파일명(확장자포함)만 가지는 리스트를 만드시오.\n",
    "file_names=[\"mystroy.txt\", \"a.exe\", \"jupyter.bat\", \"function.exe\", \"b.exe\", \"cat.jpg\", \"dog.png\", \"run.exe\", \"i.dll\"]\n",
    "[file_name for file_name in file_names if len(file_name) >= 10]"
   ]
  },
  {
   "cell_type": "code",
   "execution_count": 215,
   "id": "0dc952de-50e2-4b33-9348-5d6b50d69dc1",
   "metadata": {
    "collapsed": true,
    "jupyter": {
     "outputs_hidden": true
    },
    "scrolled": true
   },
   "outputs": [
    {
     "data": {
      "text/plain": [
       "{'mystroy.txt': 11,\n",
       " 'a.exe': 5,\n",
       " 'jupyter.bat': 11,\n",
       " 'function.exe': 12,\n",
       " 'b.exe': 5,\n",
       " 'cat.jpg': 7,\n",
       " 'dog.png': 7,\n",
       " 'run.exe': 7,\n",
       " 'i.dll': 5}"
      ]
     },
     "execution_count": 215,
     "metadata": {},
     "output_type": "execute_result"
    }
   ],
   "source": [
    "# 파일명:글자수\n",
    "{file_name : len(file_name) for file_name in file_names}"
   ]
  },
  {
   "cell_type": "code",
   "execution_count": 217,
   "id": "b0c62cde-5f60-48a2-89de-833723bffae4",
   "metadata": {
    "scrolled": true,
    "slideshow": {
     "slide_type": "skip"
    }
   },
   "outputs": [
    {
     "data": {
      "text/plain": [
       "['c', 'g', 'h', 'k']"
      ]
     },
     "execution_count": 217,
     "metadata": {},
     "output_type": "execute_result"
    }
   ],
   "source": [
    "#(14) 다음 리스트에서 소문자만 가지는 새로운 리스트를 만드시오.\n",
    "str_list = [\"A\", \"B\", \"c\", \"D\", \"E\", \"F\", \"g\", \"h\", \"I\", \"J\", \"k\"]\n",
    "[v for v in str_list if v.islower()]"
   ]
  },
  {
   "cell_type": "code",
   "execution_count": 223,
   "id": "197e9a42-dbea-4ba0-8ae4-5ba736a31a54",
   "metadata": {},
   "outputs": [
    {
     "data": {
      "text/plain": [
       "('AAAA', 'aaaa', True, False)"
      ]
     },
     "execution_count": 223,
     "metadata": {},
     "output_type": "execute_result"
    }
   ],
   "source": [
    "\"aaaa\".upper(), \"AAAA\".lower(), \"aaaa\".islower(), \"AAAA\".isupper()"
   ]
  },
  {
   "cell_type": "code",
   "execution_count": null,
   "id": "e25d6e2d-e588-4ab3-a2a7-74bd85dedfd3",
   "metadata": {},
   "outputs": [],
   "source": []
  }
 ],
 "metadata": {
  "kernelspec": {
   "display_name": "Python 3 (ipykernel)",
   "language": "python",
   "name": "python3"
  },
  "language_info": {
   "codemirror_mode": {
    "name": "ipython",
    "version": 3
   },
   "file_extension": ".py",
   "mimetype": "text/x-python",
   "name": "python",
   "nbconvert_exporter": "python",
   "pygments_lexer": "ipython3",
   "version": "3.12.5"
  },
  "toc": {
   "base_numbering": 1,
   "nav_menu": {},
   "number_sections": true,
   "sideBar": true,
   "skip_h1_title": false,
   "title_cell": "Table of Contents",
   "title_sidebar": "Contents",
   "toc_cell": false,
   "toc_position": {},
   "toc_section_display": true,
   "toc_window_display": false
  },
  "varInspector": {
   "cols": {
    "lenName": 16,
    "lenType": 16,
    "lenVar": 40
   },
   "kernels_config": {
    "python": {
     "delete_cmd_postfix": "",
     "delete_cmd_prefix": "del ",
     "library": "var_list.py",
     "varRefreshCmd": "print(var_dic_list())"
    },
    "r": {
     "delete_cmd_postfix": ") ",
     "delete_cmd_prefix": "rm(",
     "library": "var_list.r",
     "varRefreshCmd": "cat(var_dic_list()) "
    }
   },
   "types_to_exclude": [
    "module",
    "function",
    "builtin_function_or_method",
    "instance",
    "_Feature"
   ],
   "window_display": false
  }
 },
 "nbformat": 4,
 "nbformat_minor": 5
}
