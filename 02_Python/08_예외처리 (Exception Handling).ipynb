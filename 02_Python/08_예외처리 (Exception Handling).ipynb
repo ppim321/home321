{
 "cells": [
  {
   "cell_type": "code",
   "execution_count": 7,
   "metadata": {},
   "outputs": [
    {
     "name": "stdout",
     "output_type": "stream",
     "text": [
      "시작\n"
     ]
    },
    {
     "ename": "ValueError",
     "evalue": "invalid literal for int() with base 10: '안녕'",
     "output_type": "error",
     "traceback": [
      "\u001b[1;31m---------------------------------------------------------------------------\u001b[0m",
      "\u001b[1;31mValueError\u001b[0m                                Traceback (most recent call last)",
      "Cell \u001b[1;32mIn[7], line 2\u001b[0m\n\u001b[0;32m      1\u001b[0m \u001b[38;5;28mprint\u001b[39m(\u001b[38;5;124m\"\u001b[39m\u001b[38;5;124m시작\u001b[39m\u001b[38;5;124m\"\u001b[39m)\n\u001b[1;32m----> 2\u001b[0m a \u001b[38;5;241m=\u001b[39m \u001b[38;5;28;43mint\u001b[39;49m\u001b[43m(\u001b[49m\u001b[38;5;124;43m\"\u001b[39;49m\u001b[38;5;124;43m안녕\u001b[39;49m\u001b[38;5;124;43m\"\u001b[39;49m\u001b[43m)\u001b[49m\n\u001b[0;32m      3\u001b[0m r \u001b[38;5;241m=\u001b[39m a \u001b[38;5;241m+\u001b[39m \u001b[38;5;241m10\u001b[39m\n\u001b[0;32m      4\u001b[0m \u001b[38;5;28mprint\u001b[39m(r)\n",
      "\u001b[1;31mValueError\u001b[0m: invalid literal for int() with base 10: '안녕'"
     ]
    }
   ],
   "source": [
    "print(\"시작\")\n",
    "a = int(\"안녕\")\n",
    "r = a + 10\n",
    "print(r)"
   ]
  },
  {
   "cell_type": "markdown",
   "metadata": {
    "slideshow": {
     "slide_type": "slide"
    }
   },
   "source": [
    "# 오류\n",
    "\n",
    "- 함수나 메소드가 처리 도중 다음 명령문을 실행할 수 없는 상황\n",
    "- 오류 중 처리가능한 것을 Exception(예외) 라고 한다. 그리고 그 예외를 처리하는 것을 Exception Handling 이라고 한다.\n",
    "\n",
    "![개요](images/ch08_01.png)\n"
   ]
  },
  {
   "cell_type": "markdown",
   "metadata": {
    "slideshow": {
     "slide_type": "slide"
    }
   },
   "source": [
    "## 오류의 종류\n",
    "- **파이썬 문법을 어겨서 발생하는 오류**\n",
    "    - 코드 상 100% 발생하는 오류\n",
    "    - 코드를 수정해야한다.\n",
    "    - 보통 이런 오류는 컴파일 방식 언어의 경우 컴파일 때 에러를 내서 수정하도록 한다.\n",
    "- **실행 환경의 문제로 발생하는 오류**\n",
    "    - 코드상에서는 Exception의 발생여부를 확신할 수 없다.\n",
    "    - 만약 발생할 경우 어떻게 처리할지를 구현해야 한다."
   ]
  },
  {
   "cell_type": "markdown",
   "metadata": {
    "slideshow": {
     "slide_type": "slide"
    }
   },
   "source": [
    "## Exception handling\n",
    "Exception이 발생되어 프로그램이 더 이상 실행될 수 없는 상황을 처리(handling)해서 정상화 시키는 작업을 말한다.  \n",
    "try - except 구문을 이용해 처리한다."
   ]
  },
  {
   "cell_type": "markdown",
   "metadata": {
    "slideshow": {
     "slide_type": "fragment"
    }
   },
   "source": [
    "###  try, except 구문\n",
    "\n",
    "```python\n",
    "try:\n",
    "    Exception 발생가능한 정상처리 코드 블록\n",
    "except [Exception클래스 이름 [as 변수]] :\n",
    "    처리 코드   \n",
    "```"
   ]
  },
  {
   "cell_type": "markdown",
   "metadata": {
    "slideshow": {
     "slide_type": "fragment"
    }
   },
   "source": [
    "- **try block**\n",
    "    - Exception 발생 가능성 있는 코드와 그 코드와 연결된 코드들을 블록으로 묶는다.\n",
    "        - 연결된 코드란 Exception이 발생 안해야만 실행되는 코드를 말한다.\n",
    "- **except block**\n",
    "    - 발생한 Exception을 처리하는 코드 블록을 작성한다.\n",
    "        - try block의 코드를 실행하다 exception이 발생하면 except block이 실행된다. Exception이 발생하지 않으면 실행되지 않는다.\n",
    "    - try block에서 발생한 모든 Exception을 처리하는 경우 `except:` 로 선언한다.\n",
    "    - try block에서 발생한 특정 Exception만 따로 처리할 경우 `except Exception클래스 이름` 을 선언한다.\n",
    "        - 모든 Exception들은 클래스로 정의 되어 있다. 그 클래스 이름을 적어준다.\n",
    "        - **Exception 들 별로 각각 처리할 수 있으면 이 경우 except 구문(처리구문)을 연속해서 작성하면 된다.**\n",
    "    - try block에서 발생한 특정 Exception만 따로 처리하고 그 Exception이 왜 발생했는지 등의 정보를 사용할 경우 `except Exception 클래스 이름 as 변수명` 으로 선언하고 변수명을 이용해 정보를 조회한다.\n",
    "        "
   ]
  },
  {
   "cell_type": "code",
   "execution_count": 13,
   "metadata": {},
   "outputs": [],
   "source": [
    "del num"
   ]
  },
  {
   "cell_type": "code",
   "execution_count": 17,
   "metadata": {},
   "outputs": [
    {
     "name": "stdout",
     "output_type": "stream",
     "text": [
      "시작\n"
     ]
    },
    {
     "name": "stdin",
     "output_type": "stream",
     "text": [
      "정수: ㅁㅇㅁㄴㅇㄹㄴㅁㅇ\n"
     ]
    },
    {
     "name": "stdout",
     "output_type": "stream",
     "text": [
      "처리도중 예외가 발생했습니다.\n",
      "종료\n"
     ]
    }
   ],
   "source": [
    "print(\"시작\")              # 1 번째 할 일\n",
    "#----------------------\n",
    "try:\n",
    "    num_tmp = input(\"정수:\") # 2\n",
    "    num = int(num_tmp)       # 3\n",
    "    result = num ** 2        # 4\n",
    "    print(\"결과:\", result)   # 5\n",
    "except:\n",
    "    print(\"처리도중 예외가 발생했습니다.\") # e-1\n",
    "#----------------------\n",
    "print(\"종료\")            # 6\n",
    "\n",
    "# 3번째 작업에서 예외가 발생할 가능성이 있다.\n",
    "## 예외가 발생하지 않았을때 실행 순서 : 1 -> 2-> 3 -> 4-> 5 -> 6\n",
    "## 예외가 발생한 경우 : 1 -> 2 -> 3(X) -> e-1 -> 6"
   ]
  },
  {
   "cell_type": "code",
   "execution_count": 29,
   "metadata": {
    "collapsed": true,
    "jupyter": {
     "outputs_hidden": true
    }
   },
   "outputs": [
    {
     "name": "stdout",
     "output_type": "stream",
     "text": [
      "시작\n"
     ]
    },
    {
     "name": "stdin",
     "output_type": "stream",
     "text": [
      "정수: 10\n"
     ]
    },
    {
     "name": "stdout",
     "output_type": "stream",
     "text": [
      "결과: 1\n"
     ]
    },
    {
     "ename": "NameError",
     "evalue": "name 'result1000' is not defined",
     "output_type": "error",
     "traceback": [
      "\u001b[1;31m---------------------------------------------------------------------------\u001b[0m",
      "\u001b[1;31mNameError\u001b[0m                                 Traceback (most recent call last)",
      "Cell \u001b[1;32mIn[29], line 8\u001b[0m\n\u001b[0;32m      6\u001b[0m     result \u001b[38;5;241m=\u001b[39m \u001b[38;5;241m10\u001b[39m \u001b[38;5;241m/\u001b[39m\u001b[38;5;241m/\u001b[39m num       \u001b[38;5;66;03m# 4  ZeroDivisionError 발생 가능성\u001b[39;00m\n\u001b[0;32m      7\u001b[0m     \u001b[38;5;28mprint\u001b[39m(\u001b[38;5;124m\"\u001b[39m\u001b[38;5;124m결과:\u001b[39m\u001b[38;5;124m\"\u001b[39m, result)   \u001b[38;5;66;03m# 5\u001b[39;00m\n\u001b[1;32m----> 8\u001b[0m     \u001b[38;5;28mprint\u001b[39m(\u001b[43mresult1000\u001b[49m)  \u001b[38;5;66;03m#없는 변수 -> # 6 NameError\u001b[39;00m\n\u001b[0;32m      9\u001b[0m \u001b[38;5;66;03m# 발생한 Exception에 따라 처리를 다르게 할 경우.\u001b[39;00m\n\u001b[0;32m     10\u001b[0m \u001b[38;5;28;01mexcept\u001b[39;00m \u001b[38;5;167;01mValueError\u001b[39;00m: \u001b[38;5;66;03m# ValueError를 처리\u001b[39;00m\n",
      "\u001b[1;31mNameError\u001b[0m: name 'result1000' is not defined"
     ]
    }
   ],
   "source": [
    "print(\"시작\")              # 1 번째 할 일\n",
    "#----------------------\n",
    "try:\n",
    "    num_tmp = input(\"정수:\") # 2\n",
    "    num = int(num_tmp)       # 3  ValueError 발생 가능성\n",
    "    result = 10 // num       # 4  ZeroDivisionError 발생 가능성\n",
    "    print(\"결과:\", result)   # 5\n",
    "    print(result1000)  #없는 변수 -> # 6 NameError\n",
    "# 발생한 Exception에 따라 처리를 다르게 할 경우.\n",
    "except ValueError: # ValueError를 처리\n",
    "    print(\"ValueError를 처리.\") # e-1\n",
    "except ZeroDivisionError:\n",
    "    print(\"ZeroDivisionError 처리\") # e-2\n",
    "except: # 모든 예외를 다 처리한다.\n",
    "    # exception타입을 명시하는 코드와 명시하지 않는 except: 블록을 작성할 경우 \n",
    "    #      명시하지 않는 except블록을 마지막에 작성한다.\n",
    "    print(\"ValueError, ZeroDivisionError를 제외한 나머지 Exception을 처리.\") # e-3\n",
    "   \n",
    "#----------------------\n",
    "print(\"종료\")            # 7\n",
    "# 정상흐름: 1->2->3->4->5->6->7\n",
    "# ValueError(3): 1->2-> 3(X) -> e-1 -> 7\n",
    "# ZeroDivisionError(4): 1 -> 2 -> 3 -> e-2 -> 7\n",
    "# NameError(위 둘을 제외한 Exception - 6) 1 -> 2 -> 3 -> 4 -> 5 -> 6(X) -> e-3 -> 7"
   ]
  },
  {
   "cell_type": "markdown",
   "metadata": {
    "slideshow": {
     "slide_type": "subslide"
    }
   },
   "source": [
    "### finally 구문\n",
    "\n",
    "- 예외 발생여부, 처리 여부와 관계없이 무조건 실행되는 코드블록\n",
    "    - try 구문에 **반드시 실행되야 하는 코드블록을 작성할때 사용한다.**\n",
    "    - 보통 프로그램이 외부자원과 연결해서 데이터를 주고 받는 작업을 할때 마지막 연결을 종료하는 작업을 finally 블록에 넣는다.\n",
    "- finally 는 except 보다 먼저 올 수 없다.\n",
    "    - 구문순서\n",
    "        1. try - except - finally\n",
    "        1. try - except\n",
    "        1. try - finally"
   ]
  },
  {
   "cell_type": "code",
   "execution_count": 32,
   "metadata": {},
   "outputs": [
    {
     "name": "stdout",
     "output_type": "stream",
     "text": [
      "시작\n",
      "1\n",
      "예외 처리함.\n",
      "Finally Block 실행\n",
      "============종료\n"
     ]
    }
   ],
   "source": [
    "print(\"시작\")\n",
    "try:\n",
    "    print(1)\n",
    "    # print(10 / 2) # 정상처리(Exception 발생안함.)\n",
    "    # print(10 / 0)   # Exception 발생 -> 처리 안함.\n",
    "    print(aaaaaaaaa) # Exception 발생 -> 처리함.\n",
    "except NameError:\n",
    "    print(\"예외 처리함.\")\n",
    "finally:\n",
    "    print('Finally Block 실행') # 외부자원 연결을 해제(끊는)하는 코드 (자원반납)\n",
    "print(\"============종료\")"
   ]
  },
  {
   "cell_type": "code",
   "execution_count": null,
   "metadata": {},
   "outputs": [],
   "source": []
  },
  {
   "cell_type": "code",
   "execution_count": null,
   "metadata": {
    "slideshow": {
     "slide_type": "fragment"
    }
   },
   "outputs": [],
   "source": []
  },
  {
   "cell_type": "markdown",
   "metadata": {
    "slideshow": {
     "slide_type": "slide"
    }
   },
   "source": [
    "## Exception 발생 시키기\n",
    "\n",
    "### 사용자 정의 Exception 클래스 구현\n",
    "\n",
    "- 파이썬은 Exception 상황을 클래스로 정의해 사용한다.\n",
    "    - Exception이 발생하는 상황과 관련된 attribute들과 메소드들을 정의한 클래스\n",
    "    \n",
    "- 구현\n",
    "    - `Exception` 클래스를 **상속받는다.**\n",
    "    - 클래스 이름은 Exception 상황을 설명할 수 있는 이름을 준다.\n",
    "    "
   ]
  },
  {
   "cell_type": "code",
   "execution_count": null,
   "metadata": {},
   "outputs": [],
   "source": [
    "class int:\n",
    "    def __truedivide__(self, other):\n",
    "        if other == 0:\n",
    "            raise ZeroDivisionError(\"division by zero\")"
   ]
  },
  {
   "cell_type": "code",
   "execution_count": 84,
   "metadata": {},
   "outputs": [
    {
     "name": "stdout",
     "output_type": "stream",
     "text": [
      "ddddd\n"
     ]
    }
   ],
   "source": [
    "print(10 / 0 )"
   ]
  },
  {
   "cell_type": "code",
   "execution_count": 70,
   "metadata": {},
   "outputs": [],
   "source": [
    "# 잘못된 월을 처리할 때 발생시킬 Exception 클래스를 정의\n",
    "class InvalidMonthException(Exception):\n",
    "\n",
    "    def __init__(self, invalid_month):\n",
    "        self.invalid_month = invalid_month\n",
    "\n",
    "    def __str__(self):\n",
    "        return f\"{self.invalid_month}는 월로 사용할 수 없는 값입니다.\"\n",
    "        "
   ]
  },
  {
   "cell_type": "code",
   "execution_count": 80,
   "metadata": {},
   "outputs": [],
   "source": [
    "# 월을 받아서 저장하는 함수.\n",
    "def save_month(month):\n",
    "    # month가 1 ~ 12 사이의 정수일 때만 저장 작업을 해야한다.\n",
    "    if month < 1 or month > 12:\n",
    "        # Exception을 발생.\n",
    "        raise InvalidMonthException(month)\n",
    "    print(f\"{month}월을 데이터베이스에 저장했습니다.\")\n",
    "\n",
    "def save_day(day):\n",
    "    print(f\"{day}일을 데이터베이스에 저장했습니다.\")\n",
    "\n",
    "def save_date(month, day):\n",
    "    try:\n",
    "        save_month(month)\n",
    "        save_day(day)\n",
    "        print(\"날짜 저장완료\")\n",
    "    # except:\n",
    "    except InvalidMonthException as e: #Exception타입 as 변수: 변수에 발생한 Exception  instance가 대입된다.\n",
    "        print(\"날짜 저장 실패\")\n",
    "        print(\"실패이유:\", e)  # str(e)"
   ]
  },
  {
   "cell_type": "code",
   "execution_count": 81,
   "metadata": {},
   "outputs": [
    {
     "name": "stdout",
     "output_type": "stream",
     "text": [
      "날짜 저장 실패\n",
      "실패이유: -10는 월로 사용할 수 없는 값입니다.\n"
     ]
    }
   ],
   "source": [
    "save_date(-10, 2)"
   ]
  },
  {
   "cell_type": "code",
   "execution_count": 78,
   "metadata": {},
   "outputs": [
    {
     "name": "stdout",
     "output_type": "stream",
     "text": [
      "10월을 데이터베이스에 저장했습니다.\n",
      "2일을 데이터베이스에 저장했습니다.\n",
      "날짜 저장완료\n"
     ]
    }
   ],
   "source": [
    "save_date(10, 2)"
   ]
  },
  {
   "cell_type": "code",
   "execution_count": null,
   "metadata": {},
   "outputs": [],
   "source": []
  },
  {
   "cell_type": "code",
   "execution_count": null,
   "metadata": {},
   "outputs": [],
   "source": []
  },
  {
   "cell_type": "markdown",
   "metadata": {
    "slideshow": {
     "slide_type": "slide"
    }
   },
   "source": [
    "### Exception 발생시키기\n",
    "- 함수나 메소드가 더이상 작업을 진행 할 수 없는 조건이 되면 Exception을 강제로 발생시킨다.\n",
    "- **Call Stack Mechanism**\n",
    "    - 발생한 Exception은 처리를 하지 않으면 caller에게 전달된다.\n",
    "        - 발생한 Exception에 대한 처리가 모든 caller에서 안되면 결국 파이썬 실행환경까지 전달되어 프로그램은 비정상적으로 종료 되게 된다."
   ]
  },
  {
   "cell_type": "code",
   "execution_count": null,
   "metadata": {},
   "outputs": [],
   "source": []
  },
  {
   "cell_type": "code",
   "execution_count": null,
   "metadata": {
    "slideshow": {
     "slide_type": "fragment"
    }
   },
   "outputs": [],
   "source": []
  },
  {
   "cell_type": "markdown",
   "metadata": {
    "slideshow": {
     "slide_type": "subslide"
    }
   },
   "source": [
    "### raise 구문\n",
    "- Exception을 강제로 발생시킨다.\n",
    "    - 업무 규칙을 어겼거나 다음 명령문을 실행할 수 없는 조건이 되면 진행을 멈추고 caller로 요청에게 작업을 처리 못했음을 알리며 돌아가도록 할때 exception을 발생시킨다.\n",
    "    - 구문\n",
    "    ```python\n",
    "        raise Exception객체\n",
    "    ```\n",
    "- **raise와 return**\n",
    "    - 함수나 메소드에서 return과 raise 구문이 실행되면 모두 caller로 돌아간다.\n",
    "    - return은 정상적으로 끝나서 돌아가는 의미이다. 그래서 처리결과가 있으면 그 값을 가지고 돌아간다.\n",
    "        - caller는 그 다음작업을 이어서 하면 된다.\n",
    "    - raise는 실행도중 문제(Exception)가 생겨 비정상적으로 끝나서 돌아가는 의미이다. 그래서 비정상적인 상황 정보를 가지는 Exception객체를 반환값으로 가지고 돌아간다.\n",
    "        - caller는 try - except구문으로 발생한 exception을 처리하여 프로그램을 정상화 하거나 자신도 caller에게 exception을 발생시키는 처리를 한다.\n",
    "        "
   ]
  },
  {
   "cell_type": "code",
   "execution_count": null,
   "metadata": {},
   "outputs": [],
   "source": []
  },
  {
   "cell_type": "code",
   "execution_count": 55,
   "metadata": {
    "slideshow": {
     "slide_type": "fragment"
    }
   },
   "outputs": [],
   "source": [
    "def div(n1, n2):\n",
    "    \"\"\"\n",
    "    함수 설명\n",
    "    parameter:\n",
    "        n1: int - 설명\n",
    "        n2: int - 설명\n",
    "    return:\n",
    "        int - n1과 n2를 나눈 결과\n",
    "    raise:\n",
    "        ValueError - n2가 0일경우 발생.\n",
    "    \"\"\"\n",
    "    if n2 == 0: # 예외상황\n",
    "        # print(\"n2는 숫자만 가능\")\n",
    "        # return None\n",
    "        raise  ValueError(\"n2는 숫자만 가능\")  #raise Exception객체(무슨오류인지의 값) : 오류가 발생해서 호출한 곳으로 돌아간다.\n",
    "    else:\n",
    "        return n1 / n2    # return [처리결과]: 정상적으로 끝나서 호출한 곳으로 돌아간다."
   ]
  },
  {
   "cell_type": "code",
   "execution_count": 56,
   "metadata": {},
   "outputs": [
    {
     "data": {
      "text/plain": [
       "\u001b[1;31mSignature:\u001b[0m \u001b[0mdiv\u001b[0m\u001b[1;33m(\u001b[0m\u001b[0mn1\u001b[0m\u001b[1;33m,\u001b[0m \u001b[0mn2\u001b[0m\u001b[1;33m)\u001b[0m\u001b[1;33m\u001b[0m\u001b[1;33m\u001b[0m\u001b[0m\n",
       "\u001b[1;31mDocstring:\u001b[0m\n",
       "함수 설명\n",
       "parameter:\n",
       "    n1: int - 설명\n",
       "    n2: int - 설명\n",
       "return:\n",
       "    int - n1과 n2를 나눈 결과\n",
       "raise:\n",
       "    ValueError - n2가 0일경우 발생.\n",
       "\u001b[1;31mFile:\u001b[0m      c:\\users\\playdata\\appdata\\local\\temp\\ipykernel_8144\\2013549073.py\n",
       "\u001b[1;31mType:\u001b[0m      function"
      ]
     },
     "metadata": {},
     "output_type": "display_data"
    }
   ],
   "source": [
    "div?"
   ]
  },
  {
   "cell_type": "code",
   "execution_count": 52,
   "metadata": {},
   "outputs": [
    {
     "name": "stdout",
     "output_type": "stream",
     "text": [
      "5.0\n"
     ]
    }
   ],
   "source": [
    "try:\n",
    "    print(div(10, 2))\n",
    "except:\n",
    "    pass"
   ]
  },
  {
   "cell_type": "code",
   "execution_count": 53,
   "metadata": {},
   "outputs": [
    {
     "name": "stdout",
     "output_type": "stream",
     "text": [
      "error\n"
     ]
    }
   ],
   "source": [
    "try:\n",
    "    r1 = div(10, 0) # None\n",
    "    r2 = r1 ** 2    # None ** 2 \n",
    "    print(r1, r2)\n",
    "except:\n",
    "    print(\"error\")"
   ]
  },
  {
   "cell_type": "code",
   "execution_count": null,
   "metadata": {},
   "outputs": [],
   "source": []
  },
  {
   "cell_type": "code",
   "execution_count": null,
   "metadata": {},
   "outputs": [],
   "source": []
  },
  {
   "cell_type": "code",
   "execution_count": 86,
   "metadata": {},
   "outputs": [],
   "source": [
    "d = {\"이름\":\"이순신\", \"나이\":20}"
   ]
  },
  {
   "cell_type": "code",
   "execution_count": 92,
   "metadata": {},
   "outputs": [
    {
     "ename": "KeyError",
     "evalue": "'name'",
     "output_type": "error",
     "traceback": [
      "\u001b[1;31m---------------------------------------------------------------------------\u001b[0m",
      "\u001b[1;31mKeyError\u001b[0m                                  Traceback (most recent call last)",
      "Cell \u001b[1;32mIn[92], line 1\u001b[0m\n\u001b[1;32m----> 1\u001b[0m \u001b[43md\u001b[49m\u001b[43m[\u001b[49m\u001b[38;5;124;43m'\u001b[39;49m\u001b[38;5;124;43mname\u001b[39;49m\u001b[38;5;124;43m'\u001b[39;49m\u001b[43m]\u001b[49m\n",
      "\u001b[1;31mKeyError\u001b[0m: 'name'"
     ]
    }
   ],
   "source": [
    "d['name']"
   ]
  },
  {
   "cell_type": "code",
   "execution_count": 90,
   "metadata": {},
   "outputs": [
    {
     "name": "stdout",
     "output_type": "stream",
     "text": [
      "이순신 --------\n"
     ]
    }
   ],
   "source": [
    "try:\n",
    "    print(d['name'])\n",
    "except:\n",
    "    print(d['이름'], \"--------\")"
   ]
  },
  {
   "cell_type": "code",
   "execution_count": 91,
   "metadata": {},
   "outputs": [
    {
     "ename": "KeyError",
     "evalue": "'name'",
     "output_type": "error",
     "traceback": [
      "\u001b[1;31m---------------------------------------------------------------------------\u001b[0m",
      "\u001b[1;31mKeyError\u001b[0m                                  Traceback (most recent call last)",
      "Cell \u001b[1;32mIn[91], line 1\u001b[0m\n\u001b[1;32m----> 1\u001b[0m \u001b[43md\u001b[49m\u001b[43m[\u001b[49m\u001b[38;5;124;43m'\u001b[39;49m\u001b[38;5;124;43mname\u001b[39;49m\u001b[38;5;124;43m'\u001b[39;49m\u001b[43m]\u001b[49m\n",
      "\u001b[1;31mKeyError\u001b[0m: 'name'"
     ]
    }
   ],
   "source": [
    "d['name']  # raise KeyError()"
   ]
  },
  {
   "cell_type": "code",
   "execution_count": null,
   "metadata": {},
   "outputs": [],
   "source": []
  }
 ],
 "metadata": {
  "kernelspec": {
   "display_name": "Python 3 (ipykernel)",
   "language": "python",
   "name": "python3"
  },
  "language_info": {
   "codemirror_mode": {
    "name": "ipython",
    "version": 3
   },
   "file_extension": ".py",
   "mimetype": "text/x-python",
   "name": "python",
   "nbconvert_exporter": "python",
   "pygments_lexer": "ipython3",
   "version": "3.12.5"
  },
  "toc": {
   "base_numbering": 1,
   "nav_menu": {},
   "number_sections": true,
   "sideBar": true,
   "skip_h1_title": false,
   "title_cell": "Table of Contents",
   "title_sidebar": "Contents",
   "toc_cell": false,
   "toc_position": {},
   "toc_section_display": true,
   "toc_window_display": false
  },
  "varInspector": {
   "cols": {
    "lenName": 16,
    "lenType": 16,
    "lenVar": 40
   },
   "kernels_config": {
    "python": {
     "delete_cmd_postfix": "",
     "delete_cmd_prefix": "del ",
     "library": "var_list.py",
     "varRefreshCmd": "print(var_dic_list())"
    },
    "r": {
     "delete_cmd_postfix": ") ",
     "delete_cmd_prefix": "rm(",
     "library": "var_list.r",
     "varRefreshCmd": "cat(var_dic_list()) "
    }
   },
   "types_to_exclude": [
    "module",
    "function",
    "builtin_function_or_method",
    "instance",
    "_Feature"
   ],
   "window_display": false
  }
 },
 "nbformat": 4,
 "nbformat_minor": 4
}
