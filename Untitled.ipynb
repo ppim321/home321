{
 "cells": [
  {
   "cell_type": "code",
   "execution_count": 1,
   "id": "282bfab9-5529-4aa6-bfff-41a41d97b999",
   "metadata": {},
   "outputs": [
    {
     "name": "stdout",
     "output_type": "stream",
     "text": [
      "Collecting python-telegram-bot\n",
      "  Downloading python_telegram_bot-21.7-py3-none-any.whl.metadata (17 kB)\n",
      "Requirement already satisfied: httpx~=0.27 in c:\\users\\playdata\\appdata\\local\\miniconda3\\envs\\ml\\lib\\site-packages (from python-telegram-bot) (0.27.2)\n",
      "Requirement already satisfied: anyio in c:\\users\\playdata\\appdata\\local\\miniconda3\\envs\\ml\\lib\\site-packages (from httpx~=0.27->python-telegram-bot) (4.6.2.post1)\n",
      "Requirement already satisfied: certifi in c:\\users\\playdata\\appdata\\local\\miniconda3\\envs\\ml\\lib\\site-packages (from httpx~=0.27->python-telegram-bot) (2024.8.30)\n",
      "Requirement already satisfied: httpcore==1.* in c:\\users\\playdata\\appdata\\local\\miniconda3\\envs\\ml\\lib\\site-packages (from httpx~=0.27->python-telegram-bot) (1.0.6)\n",
      "Requirement already satisfied: idna in c:\\users\\playdata\\appdata\\local\\miniconda3\\envs\\ml\\lib\\site-packages (from httpx~=0.27->python-telegram-bot) (3.10)\n",
      "Requirement already satisfied: sniffio in c:\\users\\playdata\\appdata\\local\\miniconda3\\envs\\ml\\lib\\site-packages (from httpx~=0.27->python-telegram-bot) (1.3.1)\n",
      "Requirement already satisfied: h11<0.15,>=0.13 in c:\\users\\playdata\\appdata\\local\\miniconda3\\envs\\ml\\lib\\site-packages (from httpcore==1.*->httpx~=0.27->python-telegram-bot) (0.14.0)\n",
      "Downloading python_telegram_bot-21.7-py3-none-any.whl (654 kB)\n",
      "   ---------------------------------------- 0.0/654.9 kB ? eta -:--:--\n",
      "   --------------------------------------- 654.9/654.9 kB 24.5 MB/s eta 0:00:00\n",
      "Installing collected packages: python-telegram-bot\n",
      "Successfully installed python-telegram-bot-21.7\n",
      "Note: you may need to restart the kernel to use updated packages.\n"
     ]
    }
   ],
   "source": [
    "pip install python-telegram-bot"
   ]
  },
  {
   "cell_type": "code",
   "execution_count": 3,
   "id": "43e7a54f",
   "metadata": {},
   "outputs": [
    {
     "ename": "TypeError",
     "evalue": "'coroutine' object is not subscriptable",
     "output_type": "error",
     "traceback": [
      "\u001b[1;31m---------------------------------------------------------------------------\u001b[0m",
      "\u001b[1;31mTypeError\u001b[0m                                 Traceback (most recent call last)",
      "Cell \u001b[1;32mIn[3], line 7\u001b[0m\n\u001b[0;32m      4\u001b[0m bot \u001b[38;5;241m=\u001b[39m telegram\u001b[38;5;241m.\u001b[39mBot(token)\n\u001b[0;32m      5\u001b[0m updates \u001b[38;5;241m=\u001b[39m bot\u001b[38;5;241m.\u001b[39mgetUpdates()\n\u001b[1;32m----> 7\u001b[0m \u001b[38;5;28mprint\u001b[39m(\u001b[43mupdates\u001b[49m\u001b[43m[\u001b[49m\u001b[38;5;241;43m-\u001b[39;49m\u001b[38;5;241;43m1\u001b[39;49m\u001b[43m]\u001b[49m\u001b[38;5;241m.\u001b[39mmessage\u001b[38;5;241m.\u001b[39mchat\u001b[38;5;241m.\u001b[39mid)\n",
      "\u001b[1;31mTypeError\u001b[0m: 'coroutine' object is not subscriptable"
     ]
    }
   ],
   "source": [
    "import telegram\n",
    "\n",
    "token = \"7766664393:AAHGxrh6nJekIQ_nKk0OU94-9cElxlEQ2TU\"\n",
    "bot = telegram.Bot(token)\n",
    "updates = bot.getUpdates()\n",
    "\n",
    "print(updates[-1].message.chat.id)"
   ]
  },
  {
   "cell_type": "code",
   "execution_count": null,
   "id": "21af9650",
   "metadata": {},
   "outputs": [],
   "source": []
  },
  {
   "cell_type": "code",
   "execution_count": null,
   "id": "f3958e2a",
   "metadata": {},
   "outputs": [],
   "source": []
  }
 ],
 "metadata": {
  "kernelspec": {
   "display_name": "ml",
   "language": "python",
   "name": "python3"
  },
  "language_info": {
   "codemirror_mode": {
    "name": "ipython",
    "version": 3
   },
   "file_extension": ".py",
   "mimetype": "text/x-python",
   "name": "python",
   "nbconvert_exporter": "python",
   "pygments_lexer": "ipython3",
   "version": "3.12.7"
  }
 },
 "nbformat": 4,
 "nbformat_minor": 5
}
