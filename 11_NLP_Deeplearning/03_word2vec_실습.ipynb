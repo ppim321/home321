{
 "cells": [
  {
   "cell_type": "markdown",
   "id": "d3fa1505-5df4-415a-b490-73573300ae62",
   "metadata": {},
   "source": [
    "# Gensim 패키지\n",
    "- Python으로 작성된 오픈 소스 라이브러리로, 자연어 처리와 관련된 다양한 기능을 제공한다.\n",
    "- 주요 기능\n",
    "    - **Word Embeddings**\n",
    "        - word2vec, fastext, doc2vec 등 다양한 word embedding 모델을 제공\n",
    "    - **토픽 모델링 (Topic Modeling)**\n",
    "        - LDA등 문장의 주제를 파악하는 모델 제공\n",
    "    - **텍스트/word 유사도 계산**\n",
    "    - **문서 군집화**\n",
    "        - 비슷한 주제의 문서들을 군집화.\n",
    "    - 다양한 dataset과 pretrained model 제공\n",
    "        - https://github.com/piskvorky/gensim-data\n",
    "- https://radimrehurek.com/gensim/"
   ]
  },
  {
   "cell_type": "markdown",
   "id": "928dc02e",
   "metadata": {},
   "source": [
    "# Gensim 패키지\n",
    "- Python으로 작성된 오픈 소스 라이브러리로, 자연어 처리와 관련된 다양한 기능을 제공한다.\n",
    "- 주요 기능\n",
    "    - **Word Embeddings**\n",
    "        - word2vec, fastext, doc2vec 등 다양한 word embedding 모델을 제공\n",
    "    - **토픽 모델링 (Topic Modeling)**\n",
    "        - LDA등 문장의 주제를 파악하는 모델 제공\n",
    "    - **텍스트/word 유사도 계산**\n",
    "    - **문서 군집화**\n",
    "        - 비슷한 주제의 문서들을 군집화.\n",
    "    - 다양한 dataset과 pretrained model 제공\n",
    "        - https://github.com/piskvorky/gensim-data\n",
    "- https://radimrehurek.com/gensim/"
   ]
  },
  {
   "cell_type": "code",
   "execution_count": 1,
   "id": "a5d7ffed",
   "metadata": {},
   "outputs": [
    {
     "name": "stdout",
     "output_type": "stream",
     "text": [
      "Collecting gensim\n",
      "  Downloading gensim-4.3.3-cp312-cp312-win_amd64.whl.metadata (8.2 kB)\n",
      "Collecting numpy<2.0,>=1.18.5 (from gensim)\n",
      "  Downloading numpy-1.26.4-cp312-cp312-win_amd64.whl.metadata (61 kB)\n",
      "Collecting scipy<1.14.0,>=1.7.0 (from gensim)\n",
      "  Downloading scipy-1.13.1-cp312-cp312-win_amd64.whl.metadata (60 kB)\n",
      "Collecting smart-open>=1.8.1 (from gensim)\n",
      "  Downloading smart_open-7.0.5-py3-none-any.whl.metadata (24 kB)\n",
      "Requirement already satisfied: wrapt in c:\\users\\playdata\\appdata\\local\\miniconda3\\envs\\ml\\lib\\site-packages (from smart-open>=1.8.1->gensim) (1.16.0)\n",
      "Downloading gensim-4.3.3-cp312-cp312-win_amd64.whl (24.0 MB)\n",
      "   ---------------------------------------- 0.0/24.0 MB ? eta -:--:--\n",
      "   ----------------- ---------------------- 10.2/24.0 MB 49.1 MB/s eta 0:00:01\n",
      "   ---------------------------------------- 24.0/24.0 MB 63.3 MB/s eta 0:00:00\n",
      "Downloading numpy-1.26.4-cp312-cp312-win_amd64.whl (15.5 MB)\n",
      "   ---------------------------------------- 0.0/15.5 MB ? eta -:--:--\n",
      "   ---------------------------------------- 15.5/15.5 MB 81.6 MB/s eta 0:00:00\n",
      "Downloading scipy-1.13.1-cp312-cp312-win_amd64.whl (45.9 MB)\n",
      "   ---------------------------------------- 0.0/45.9 MB ? eta -:--:--\n",
      "   --------------- ------------------------ 17.3/45.9 MB 83.9 MB/s eta 0:00:01\n",
      "   ------------------------------ --------- 35.1/45.9 MB 82.6 MB/s eta 0:00:01\n",
      "   --------------------------------- ------ 38.8/45.9 MB 79.5 MB/s eta 0:00:01\n",
      "   -------------------------------------- - 44.0/45.9 MB 58.4 MB/s eta 0:00:01\n",
      "   ---------------------------------------- 45.9/45.9 MB 44.9 MB/s eta 0:00:00\n",
      "Downloading smart_open-7.0.5-py3-none-any.whl (61 kB)\n",
      "Installing collected packages: smart-open, numpy, scipy, gensim\n",
      "  Attempting uninstall: numpy\n",
      "    Found existing installation: numpy 2.0.2\n",
      "    Uninstalling numpy-2.0.2:\n",
      "      Successfully uninstalled numpy-2.0.2\n",
      "  Attempting uninstall: scipy\n",
      "    Found existing installation: scipy 1.14.1\n",
      "    Uninstalling scipy-1.14.1:\n",
      "      Successfully uninstalled scipy-1.14.1\n",
      "Successfully installed gensim-4.3.3 numpy-1.26.4 scipy-1.13.1 smart-open-7.0.5\n",
      "Note: you may need to restart the kernel to use updated packages.\n"
     ]
    },
    {
     "name": "stderr",
     "output_type": "stream",
     "text": [
      "  WARNING: Failed to remove contents in a temporary directory 'C:\\Users\\Playdata\\AppData\\Local\\miniconda3\\envs\\ml\\Lib\\site-packages\\~-mpy.libs'.\n",
      "  You can safely remove it manually.\n",
      "  WARNING: Failed to remove contents in a temporary directory 'C:\\Users\\Playdata\\AppData\\Local\\miniconda3\\envs\\ml\\Lib\\site-packages\\~-mpy'.\n",
      "  You can safely remove it manually.\n",
      "  WARNING: Failed to remove contents in a temporary directory 'C:\\Users\\Playdata\\AppData\\Local\\miniconda3\\envs\\ml\\Lib\\site-packages\\~cipy.libs'.\n",
      "  You can safely remove it manually.\n",
      "  WARNING: Failed to remove contents in a temporary directory 'C:\\Users\\Playdata\\AppData\\Local\\miniconda3\\envs\\ml\\Lib\\site-packages\\~cipy'.\n",
      "  You can safely remove it manually.\n"
     ]
    }
   ],
   "source": [
    "pip install gensim"
   ]
  },
  {
   "cell_type": "markdown",
   "id": "4fb22fe8-39a2-493b-90d1-6eb59884bfbe",
   "metadata": {},
   "source": [
    "## 설치\n",
    "- `pip install gensim`"
   ]
  },
  {
   "cell_type": "code",
   "execution_count": 2,
   "id": "2e1baa38",
   "metadata": {},
   "outputs": [],
   "source": [
    "import gensim"
   ]
  },
  {
   "cell_type": "code",
   "execution_count": null,
   "id": "fbdd194a",
   "metadata": {},
   "outputs": [],
   "source": []
  },
  {
   "cell_type": "markdown",
   "id": "f22013f4-94ed-4cba-8d86-31836ba16af1",
   "metadata": {},
   "source": [
    "# Word2Vec 학습\n",
    "\n",
    "- gensim.models.Word2Vec\n",
    "- 주요 파라미터\n",
    "    - sentences\n",
    "        -  학습에 사용할 문장의 리스트. 각 문장의 단어들을 리스트는다. 문장들을 리스트로 묶어 입력한다.\n",
    "        - 예시: \\[\\['word1', 'word2', 'word3'], \\['word4', 'word5']]\n",
    "    - vector_size\n",
    "        -  embedding vector 크기. 기본값: 100\n",
    "    - window\n",
    "        -  context window 크기. 중심단어를 기준으로 좌우 몇개의 단어를 확인하는지 크기. 기본값: 5\n",
    "    - min_count\n",
    "        - 이 설정보다 낮은 빈도로 등장하는 단어는 무시한다. 데이터 노이즈를 줄이는데 도움이된다. 기본값: 5\n",
    "    - sg\n",
    "        - 모델 아키텍처 결정.\n",
    "        - `0`: CBOW, `1`: Skip-gram. 기본값: 0\n",
    "    - epochs\n",
    "        - epochs 수 설정. 기본값: 5\n",
    "    - alpha\n",
    "        - initial leaning rate. 기본값: 0.025\n",
    "    - min_alpha\n",
    "        - 최소 learning rate. 기본값: 0.0001\n",
    "        - epoch 마다 learning rate를 alpha 에서 min_alpha 까지 선형적으로 줄여나간다.\n",
    "    - workers\n",
    "        -  사용 Thread 수. 기본값: 3"
   ]
  },
  {
   "cell_type": "markdown",
   "id": "3f350467-b0c2-46fa-b1f7-e2c57a4bf439",
   "metadata": {},
   "source": [
    "## 학습(Train)\n",
    "1. Word2Vec 의 initializer에 sentences를 넣어 한번에 학습한다.\n",
    "2. Word2Vec 클래스에 학습 설정을 하고 `train()` 메소드를 이용해 학습한다.\n",
    "    - epoch 단위로 작업을 할 경우 사용"
   ]
  },
  {
   "cell_type": "code",
   "execution_count": 1,
   "id": "7a02a4e9-2d24-4ede-8395-0482661809a3",
   "metadata": {},
   "outputs": [],
   "source": [
    "# 샘플 텍스트 데이터\n",
    "sentences = [\n",
    "    \"Natural language processing is an exciting field of study\",\n",
    "    \"Word embeddings are a type of word representation\",\n",
    "    \"Gensim is a powerful library for text processing\",\n",
    "    \"Word2Vec creates vector representations of words\", \n",
    "    \"Gensim runs on Linux, Windows and OS X, as well as any other platform that supports Python and NumPy.\"\n",
    "    \"All Gensim source code is hosted on Github under the GNU LGPL license, maintained by its open source community.\",\n",
    "    \"For commercial arrangements, see Business Support.\",\n",
    "    \"Gensim can process arbitrarily large corpora, using data-streamed algorithms.\",\n",
    "    \"There are no \\\"dataset must fit in RAM\\\" limitations.\"\n",
    "]"
   ]
  },
  {
   "cell_type": "code",
   "execution_count": 4,
   "id": "5b455f3f-def9-487e-a3a4-f9563562e26a",
   "metadata": {},
   "outputs": [],
   "source": [
    "from gensim.models import Word2Vec\n",
    "from nltk.tokenize import word_tokenize\n",
    "import os "
   ]
  },
  {
   "cell_type": "code",
   "execution_count": 5,
   "id": "0f3a73dc-943f-4baa-a072-c9b30ea482e8",
   "metadata": {},
   "outputs": [],
   "source": [
    "import re\n",
    "def tokenizer(docs):\n",
    "    # 1. 모두 소문자로 변환.\n",
    "    # 2. 소문자, 숫자, _ (\\w)와 공백문자(공백, 엔터, tab)을 제외한 나머지는 모두 제거.\n",
    "    # 3. 단어 단위로 토큰화함.\n",
    "    sent = [word_tokenize(re.sub(r\"[^\\w\\s]\", \"\", sentence.lower())) for sentence in docs]\n",
    "\n",
    "    return sent"
   ]
  },
  {
   "cell_type": "code",
   "execution_count": 6,
   "id": "c33d8473-e106-4d7e-b115-b0072833efbd",
   "metadata": {},
   "outputs": [
    {
     "data": {
      "text/plain": [
       "8"
      ]
     },
     "execution_count": 6,
     "metadata": {},
     "output_type": "execute_result"
    }
   ],
   "source": [
    "tokens = tokenizer(sentences)\n",
    "len(tokens)"
   ]
  },
  {
   "cell_type": "code",
   "execution_count": null,
   "id": "4d8dbbe0",
   "metadata": {},
   "outputs": [
    {
     "data": {
      "text/plain": [
       "1449.962646484375"
      ]
     },
     "execution_count": 8,
     "metadata": {},
     "output_type": "execute_result"
    }
   ],
   "source": [
    "## 학습1 - 객체 생성하면서 학습데이터를 넣어주면, 학습된 객체를 반환한다.\n",
    "#                                (객체를 생성하며 동시에 학습한다.)\n",
    "model1 = Word2Vec(\n",
    "    sentences=tokens,  # 학습 데이터\n",
    "    vector_size=10,    # embedding vector 차원.(한개 단어를 몇개 숫자-feature로 표현)\n",
    "    window=2,          # 중심 단어 기준 몇개 주변단어를 정할지 개수(2->좌우 2개)\n",
    "    min_count=1,       # 최소 출현 빈도수, ㅈㅣ정한 빈도수 보다 적게 나오면 vocab에서 넣지 않는다.?\n",
    "    epochs=10,\n",
    "    workers=os.cpu_count(), # 병렬처리시 사용할 thread(cpu) 개수.\n",
    "    compute_loss=True\n",
    "\n",
    ")\n",
    "model1.get_latest_training_loss()"
   ]
  },
  {
   "cell_type": "code",
   "execution_count": 7,
   "id": "e9c001ab",
   "metadata": {},
   "outputs": [
    {
     "data": {
      "text/plain": [
       "16"
      ]
     },
     "execution_count": 7,
     "metadata": {},
     "output_type": "execute_result"
    }
   ],
   "source": [
    "os.cpu_count()"
   ]
  },
  {
   "cell_type": "code",
   "execution_count": null,
   "id": "c631dc40",
   "metadata": {},
   "outputs": [
    {
     "name": "stdout",
     "output_type": "stream",
     "text": [
      "1 에폭의 loss는 \n",
      "2 에폭의 loss는 \n",
      "3 에폭의 loss는 \n",
      "4 에폭의 loss는 \n",
      "5 에폭의 loss는 \n",
      "6 에폭의 loss는 \n",
      "7 에폭의 loss는 \n",
      "8 에폭의 loss는 \n",
      "9 에폭의 loss는 \n",
      "10 에폭의 loss는 \n"
     ]
    }
   ],
   "source": [
    "### 학습 2 -> train() method를 사용하는 방식.\n",
    "## 학습 관련 설정만 settinf (학습데이터 없이 객체 생성.)\n",
    "model2 = Word2Vec(vector_size=10, window=2, min_count=1, workers=os.cpu_count())\n",
    "\n",
    "# 학습 데이터를 넣어서 어휘사전(vocab)을 모델에 생성.(학습전에 처리)\n",
    "model2.build_vocab(tokens)\n",
    "# 학습 처리\n",
    "epochs = 10\n",
    "for epoch in range(epochs):                 # 1 epoch 학습\n",
    "    model2.train(\n",
    "        tokens,                             # 학습데이터\n",
    "        total_examples=model2.corpus_count, # 학습데이터(문서) 개수\n",
    "        epochs=1,\n",
    "        compute_loss=True                   # 학습이 끝나면 loss를 계산.\n",
    "    )\n",
    "    # loss(오차)를 조회\n",
    "    loss = model2.get_latest_training_loss()\n",
    "    # compute_loss=True 이면 학습이 끝나고, 누적 loss를 반환함.\n",
    "    print(f\"{epoch+1} 에폭의 loss는 \")\n"
   ]
  },
  {
   "cell_type": "code",
   "execution_count": null,
   "id": "4f5a76f1",
   "metadata": {},
   "outputs": [],
   "source": []
  },
  {
   "cell_type": "code",
   "execution_count": null,
   "id": "395fd7bb-3e14-49c2-9abe-5f3663f481a0",
   "metadata": {},
   "outputs": [],
   "source": []
  },
  {
   "cell_type": "markdown",
   "id": "ad7fe805-022b-4e1a-b0ea-8e5bc692fa75",
   "metadata": {},
   "source": [
    "## 학습 후 결과 조회\n",
    "\n",
    "- **KeyedVectors 조회**\n",
    "    - KeyedVectors는 단어와 vector를 매핑한 객체로 embedding vector를 이용한 다양한 조회를 지원한다.\n",
    "    - model.wv 로 조회해서 사용.\n",
    "- **Embedding Vector 조회**\n",
    "  - model.wv.vectors\n",
    "- **단어 목록 조회**\n",
    "    - model.wv.index_to_key, model.wv.key_to_index\n",
    "- **단어 벡터 조회**\n",
    "    - model.wv[word]: 특정 단어의 vector반환\n",
    "- **Vocab에 대상 단어가 있는지 확인**\n",
    "    - model.wv.\\_\\_contains\\_\\_(word)\n",
    "- **유사단어들 찾기**\n",
    "    - model.wv.most_similar(word)\n",
    "- **단어간 유사도 비교**\n",
    "    - model.wv.similarity(word1, word2)\n",
    "- 유사도를 계산할 때 **코사인 유사도(Cosine Similarity)** 를 사용한다."
   ]
  },
  {
   "cell_type": "markdown",
   "id": "ba473d91",
   "metadata": {},
   "source": [
    "> # 코사인 유사도\n",
    "> - 두 벡터 간의 유사성을 측정하는 중요한 방법 중 하나.\n",
    "> - 코사인 유사도는 두 벡터 간의 코사인 각도를 이용하여 유사도를 계산한다. 이때 벡터의 크기는 결과에 영향을 미치지 않고, 오직 방향만이 중요하다.\n",
    "> ## 공식\n",
    "> \n",
    "> $$ similarity = cos(\\theta) = \\frac{A⋅B}{||A||\\ ||B||} = \\frac{\\sum_{i=1}^{n}{A_i×B_i}}{\\sqrt{\\sum_{i=1}^{n}(A_i)^2}×\\sqrt{\\sum_{i=1}^{n}(B_i)^2}} $$\n",
    "> \n",
    "> ## 결과 해석\n",
    "> \n",
    "> - **값의 범위**: -1에서 1 사이의 값을 가집니다\n",
    ">   - 1: 두 벡터가 완전히 동일한 방향 (0도의 cosine 값)\n",
    ">   - 0: 두 벡터가 직교 (90도의 cosine 값)\n",
    ">   - -1: 두 벡터가 정반대 방향 (180도의 cosine 값)\n",
    "> \n",
    "> ![cosine_similarity](figures/gensim_consin_sim.png)\n",
    ">\n",
    "> ## Python 코사인 유사도 계산\n",
    "> ```python\n",
    "> from numpy import dot\n",
    "> from numpy.linalg import norm\n",
    "> \n",
    "> def cosine_similarity(A, B):\n",
    ">     return dot(A, B)/(norm(A)*norm(B))\n",
    "> ```\n",
    "\n"
   ]
  },
  {
   "cell_type": "code",
   "execution_count": 9,
   "id": "36df1892-1804-4f23-a396-b52f82238d99",
   "metadata": {},
   "outputs": [
    {
     "data": {
      "text/plain": [
       "<gensim.models.keyedvectors.KeyedVectors at 0x28996004ef0>"
      ]
     },
     "execution_count": 9,
     "metadata": {},
     "output_type": "execute_result"
    }
   ],
   "source": [
    "model1.wv"
   ]
  },
  {
   "cell_type": "code",
   "execution_count": null,
   "id": "9607cc94-67cf-4a87-8a42-ab88683cd514",
   "metadata": {},
   "outputs": [
    {
     "data": {
      "text/plain": [
       "['gensim',\n",
       " 'is',\n",
       " 'of',\n",
       " 'for',\n",
       " 'processing',\n",
       " 'source',\n",
       " 'as',\n",
       " 'on',\n",
       " 'word',\n",
       " 'are',\n",
       " 'a',\n",
       " 'and',\n",
       " 'words',\n",
       " 'runs',\n",
       " 'linux',\n",
       " 'os',\n",
       " 'windows',\n",
       " 'vector',\n",
       " 'x',\n",
       " 'well',\n",
       " 'any',\n",
       " 'representations',\n",
       " 'limitations',\n",
       " 'creates',\n",
       " 'word2vec',\n",
       " 'text',\n",
       " 'platform',\n",
       " 'library',\n",
       " 'powerful',\n",
       " 'representation',\n",
       " 'type',\n",
       " 'embeddings',\n",
       " 'study',\n",
       " 'field',\n",
       " 'exciting',\n",
       " 'an',\n",
       " 'language',\n",
       " 'other',\n",
       " 'that',\n",
       " 'ram',\n",
       " 'see',\n",
       " 'support',\n",
       " 'can',\n",
       " 'process',\n",
       " 'arbitrarily',\n",
       " 'large',\n",
       " 'corpora',\n",
       " 'using',\n",
       " 'datastreamed',\n",
       " 'algorithms',\n",
       " 'there',\n",
       " 'no',\n",
       " 'dataset',\n",
       " 'must',\n",
       " 'fit',\n",
       " 'in',\n",
       " 'business',\n",
       " 'arrangements',\n",
       " 'supports',\n",
       " 'commercial',\n",
       " 'python',\n",
       " 'numpyall',\n",
       " 'code',\n",
       " 'hosted',\n",
       " 'github',\n",
       " 'under',\n",
       " 'the',\n",
       " 'gnu',\n",
       " 'lgpl',\n",
       " 'license',\n",
       " 'maintained',\n",
       " 'by',\n",
       " 'its',\n",
       " 'open',\n",
       " 'community',\n",
       " 'natural']"
      ]
     },
     "execution_count": 11,
     "metadata": {},
     "output_type": "execute_result"
    }
   ],
   "source": [
    "model1.wv.index_to_key  # vocab : index -> word"
   ]
  },
  {
   "cell_type": "code",
   "execution_count": 12,
   "id": "1c3c06ac-5bb3-4a2f-b0ac-d1aa0c747f80",
   "metadata": {},
   "outputs": [
    {
     "data": {
      "text/plain": [
       "{'gensim': 0,\n",
       " 'is': 1,\n",
       " 'of': 2,\n",
       " 'for': 3,\n",
       " 'processing': 4,\n",
       " 'source': 5,\n",
       " 'as': 6,\n",
       " 'on': 7,\n",
       " 'word': 8,\n",
       " 'are': 9,\n",
       " 'a': 10,\n",
       " 'and': 11,\n",
       " 'words': 12,\n",
       " 'runs': 13,\n",
       " 'linux': 14,\n",
       " 'os': 15,\n",
       " 'windows': 16,\n",
       " 'vector': 17,\n",
       " 'x': 18,\n",
       " 'well': 19,\n",
       " 'any': 20,\n",
       " 'representations': 21,\n",
       " 'limitations': 22,\n",
       " 'creates': 23,\n",
       " 'word2vec': 24,\n",
       " 'text': 25,\n",
       " 'platform': 26,\n",
       " 'library': 27,\n",
       " 'powerful': 28,\n",
       " 'representation': 29,\n",
       " 'type': 30,\n",
       " 'embeddings': 31,\n",
       " 'study': 32,\n",
       " 'field': 33,\n",
       " 'exciting': 34,\n",
       " 'an': 35,\n",
       " 'language': 36,\n",
       " 'other': 37,\n",
       " 'that': 38,\n",
       " 'ram': 39,\n",
       " 'see': 40,\n",
       " 'support': 41,\n",
       " 'can': 42,\n",
       " 'process': 43,\n",
       " 'arbitrarily': 44,\n",
       " 'large': 45,\n",
       " 'corpora': 46,\n",
       " 'using': 47,\n",
       " 'datastreamed': 48,\n",
       " 'algorithms': 49,\n",
       " 'there': 50,\n",
       " 'no': 51,\n",
       " 'dataset': 52,\n",
       " 'must': 53,\n",
       " 'fit': 54,\n",
       " 'in': 55,\n",
       " 'business': 56,\n",
       " 'arrangements': 57,\n",
       " 'supports': 58,\n",
       " 'commercial': 59,\n",
       " 'python': 60,\n",
       " 'numpyall': 61,\n",
       " 'code': 62,\n",
       " 'hosted': 63,\n",
       " 'github': 64,\n",
       " 'under': 65,\n",
       " 'the': 66,\n",
       " 'gnu': 67,\n",
       " 'lgpl': 68,\n",
       " 'license': 69,\n",
       " 'maintained': 70,\n",
       " 'by': 71,\n",
       " 'its': 72,\n",
       " 'open': 73,\n",
       " 'community': 74,\n",
       " 'natural': 75}"
      ]
     },
     "execution_count": 12,
     "metadata": {},
     "output_type": "execute_result"
    }
   ],
   "source": [
    "model1.wv.key_to_index  # vocab: word -> index"
   ]
  },
  {
   "cell_type": "code",
   "execution_count": 15,
   "id": "d911b0d6",
   "metadata": {},
   "outputs": [
    {
     "name": "stdout",
     "output_type": "stream",
     "text": [
      "(10,)\n"
     ]
    },
    {
     "data": {
      "text/plain": [
       "array([-0.00530078,  0.00215998,  0.0511257 ,  0.08994552, -0.0929675 ,\n",
       "       -0.07124555,  0.06510045,  0.08978292, -0.05092729, -0.0380263 ],\n",
       "      dtype=float32)"
      ]
     },
     "execution_count": 15,
     "metadata": {},
     "output_type": "execute_result"
    }
   ],
   "source": [
    "# 특정 단어의 embedding vector조회\n",
    "\n",
    "v = model1.wv[\"gensim\"]\n",
    "print(v.shape)\n",
    "v"
   ]
  },
  {
   "cell_type": "code",
   "execution_count": null,
   "id": "dc7a5d1e",
   "metadata": {},
   "outputs": [],
   "source": [
    "model1.wv['.']  # 없는 단어는 key Error 발생."
   ]
  },
  {
   "cell_type": "code",
   "execution_count": null,
   "id": "bcd9c805",
   "metadata": {},
   "outputs": [
    {
     "data": {
      "text/plain": [
       "(True, False)"
      ]
     },
     "execution_count": 17,
     "metadata": {},
     "output_type": "execute_result"
    }
   ],
   "source": [
    "# vocab에 특정 단어가 있는지 여부.\n",
    "model1.wv.__contains__('gensim'), model1.wv.__contains__('.')"
   ]
  },
  {
   "cell_type": "code",
   "execution_count": 19,
   "id": "95cb9490",
   "metadata": {},
   "outputs": [
    {
     "name": "stdout",
     "output_type": "stream",
     "text": [
      "[-0.00530078  0.00215998  0.0511257   0.08994552 -0.0929675  -0.07124555\n",
      "  0.06510045  0.08978292 -0.05092729 -0.0380263 ]\n"
     ]
    }
   ],
   "source": [
    "word = '.'\n",
    "word = 'gensim'\n",
    "if model1.wv.__contains__(word):\n",
    "    print(model1.wv[word])\n",
    "else:\n",
    "    print(word, \"는 없는 단어\")"
   ]
  },
  {
   "cell_type": "markdown",
   "id": "e58833a2",
   "metadata": {},
   "source": [
    "## 유사도 관련 메소드"
   ]
  },
  {
   "cell_type": "code",
   "execution_count": null,
   "id": "7f687245",
   "metadata": {},
   "outputs": [
    {
     "data": {
      "text/plain": [
       "[('numpyall', 0.7189714908599854),\n",
       " ('study', 0.713896632194519),\n",
       " ('that', 0.6710396409034729),\n",
       " ('can', 0.641579270362854),\n",
       " ('datastreamed', 0.5988761782646179),\n",
       " ('is', 0.5452057123184204),\n",
       " ('other', 0.5355265140533447),\n",
       " ('maintained', 0.5195193886756897),\n",
       " ('representations', 0.5130788087844849),\n",
       " ('in', 0.5079874396324158)]"
      ]
     },
     "execution_count": 20,
     "metadata": {},
     "output_type": "execute_result"
    }
   ],
   "source": [
    "# 유사도 계산 - 코사인 유사도.\n",
    "\n",
    "model1.wv.most_similar(\"gensim\")   # vocab에서  조회 단어와 유사도가 높은 10개의 단어를 반환함."
   ]
  },
  {
   "cell_type": "code",
   "execution_count": null,
   "id": "e26c07cf",
   "metadata": {},
   "outputs": [
    {
     "data": {
      "text/plain": [
       "[('numpyall', 0.7189714908599854),\n",
       " ('study', 0.713896632194519),\n",
       " ('that', 0.6710396409034729)]"
      ]
     },
     "execution_count": 21,
     "metadata": {},
     "output_type": "execute_result"
    }
   ],
   "source": [
    "model1.wv.most_similar(\"gensim\", topn=3)  # topn : 상위 N개 (default : 10)"
   ]
  },
  {
   "cell_type": "code",
   "execution_count": 22,
   "id": "a8e15562",
   "metadata": {},
   "outputs": [
    {
     "data": {
      "text/plain": [
       "[('in', 0.8884729146957397),\n",
       " ('can', 0.6601169109344482),\n",
       " ('is', 0.646406888961792)]"
      ]
     },
     "execution_count": 22,
     "metadata": {},
     "output_type": "execute_result"
    }
   ],
   "source": [
    "model1.wv.most_similar(\"maintained\", topn=3) "
   ]
  },
  {
   "cell_type": "code",
   "execution_count": 23,
   "id": "6d82c9bb",
   "metadata": {},
   "outputs": [
    {
     "data": {
      "text/plain": [
       "-0.22607413"
      ]
     },
     "execution_count": 23,
     "metadata": {},
     "output_type": "execute_result"
    }
   ],
   "source": [
    "# 단어간의 유사도\n",
    "model1.wv.similarity(\"gensim\", \"processing\")"
   ]
  },
  {
   "cell_type": "code",
   "execution_count": 24,
   "id": "ba473dab",
   "metadata": {},
   "outputs": [
    {
     "data": {
      "text/plain": [
       "array([[-5.30078216e-03,  2.15998176e-03,  5.11256978e-02,\n",
       "         8.99455249e-02, -9.29674953e-02, -7.12455511e-02,\n",
       "         6.51004538e-02,  8.97829160e-02, -5.09272851e-02,\n",
       "        -3.80263031e-02],\n",
       "       [ 7.39076957e-02, -1.54466406e-02, -4.53684442e-02,\n",
       "         6.55177534e-02, -4.86253649e-02, -1.80424210e-02,\n",
       "         2.90737022e-02,  9.82502103e-03, -8.31743106e-02,\n",
       "        -9.47242603e-02],\n",
       "       [ 7.32511505e-02,  5.05392328e-02,  6.75722361e-02,\n",
       "         7.46826502e-03,  6.35220706e-02, -3.40774544e-02,\n",
       "        -9.01477318e-03,  5.78403622e-02, -7.59721324e-02,\n",
       "        -3.98136228e-02],\n",
       "       [-7.50671700e-02, -9.38217156e-03,  9.54507515e-02,\n",
       "        -7.31930435e-02, -2.33855415e-02, -1.93917714e-02,\n",
       "         8.09578523e-02, -5.92647381e-02,  1.99908551e-04,\n",
       "        -4.77067195e-02],\n",
       "       [-9.59166065e-02,  5.00562377e-02, -8.76059458e-02,\n",
       "        -4.38948721e-02, -3.71427013e-04, -2.90183281e-03,\n",
       "        -7.63971284e-02,  9.61731896e-02,  4.95607182e-02,\n",
       "         9.21386629e-02],\n",
       "       [-8.13346058e-02,  4.47341092e-02, -4.14355285e-02,\n",
       "         8.17656424e-03,  8.49846080e-02, -4.46517132e-02,\n",
       "         4.55312245e-02, -6.78139478e-02, -3.61127481e-02,\n",
       "         9.36696827e-02],\n",
       "       [-1.56398714e-02,  2.80617597e-03, -4.12799753e-02,\n",
       "        -7.70188943e-02, -1.51294284e-02,  2.47949231e-02,\n",
       "        -7.81020522e-03,  5.53883724e-02, -2.87030637e-02,\n",
       "         2.20368057e-02],\n",
       "       [ 5.47518432e-02,  8.32301974e-02, -1.46114081e-02,\n",
       "        -9.22215804e-02,  4.37107831e-02,  5.67224063e-03,\n",
       "         7.48642534e-02, -8.03526212e-03, -2.69545745e-02,\n",
       "        -8.78918990e-02],\n",
       "       [-8.56678095e-03,  2.82510128e-02,  5.39501347e-02,\n",
       "         7.04928190e-02, -5.70268333e-02,  1.86130479e-02,\n",
       "         6.09453805e-02, -4.80060205e-02, -3.10749654e-02,\n",
       "         6.79509565e-02],\n",
       "       [ 1.63095780e-02,  1.84400799e-03,  3.47074121e-02,\n",
       "         2.17136554e-03,  9.62361544e-02,  5.06098047e-02,\n",
       "        -8.90390798e-02, -7.03264847e-02,  8.90026987e-03,\n",
       "         6.37814775e-02],\n",
       "       [-8.61395970e-02,  3.66705731e-02,  5.19791059e-02,\n",
       "         5.73870689e-02,  7.47892186e-02, -6.17038496e-02,\n",
       "         1.12817092e-02,  6.05943389e-02, -2.87508927e-02,\n",
       "        -6.19919188e-02],\n",
       "       [-4.05794801e-03, -8.37293714e-02, -5.59874028e-02,\n",
       "         7.09380135e-02,  3.35383266e-02,  7.22237527e-02,\n",
       "         6.81404248e-02,  7.54186884e-02, -3.81295942e-02,\n",
       "        -5.71849570e-03],\n",
       "       [ 2.35319752e-02, -4.51967455e-02,  8.39038715e-02,\n",
       "        -9.86373574e-02,  6.77078441e-02,  2.91421860e-02,\n",
       "        -4.92752902e-02,  4.40478027e-02, -1.74920876e-02,\n",
       "         6.70180395e-02],\n",
       "       [ 9.96083841e-02, -4.36226986e-02, -5.95854456e-03,\n",
       "        -5.69359362e-02,  3.85821313e-02,  2.79083326e-02,\n",
       "         6.90203682e-02,  6.10741526e-02,  9.50850770e-02,\n",
       "         9.27151665e-02],\n",
       "       [ 7.91309401e-02, -6.99915215e-02, -9.16127115e-02,\n",
       "        -3.57907871e-03, -3.10495477e-02,  7.90142566e-02,\n",
       "         5.95821999e-02, -1.54726999e-02,  1.48779452e-02,\n",
       "         1.78653263e-02],\n",
       "       [ 7.83108100e-02, -9.52271670e-02, -1.97248999e-03,\n",
       "         3.45851742e-02, -9.38474759e-03,  8.38539526e-02,\n",
       "         9.05065909e-02,  6.54691830e-02, -7.75187276e-03,\n",
       "         7.68528059e-02],\n",
       "       [-8.53821412e-02,  3.19900028e-02, -4.62179929e-02,\n",
       "        -5.08643463e-02,  3.59356068e-02,  5.36628217e-02,\n",
       "         7.79412240e-02, -5.75952195e-02,  7.39358664e-02,\n",
       "         6.61500767e-02],\n",
       "       [-3.71497795e-02, -8.75355080e-02,  5.44297360e-02,\n",
       "         6.50338531e-02, -7.82304816e-03, -6.71838820e-02,\n",
       "        -7.07445070e-02, -2.49237064e-02,  5.12005724e-02,\n",
       "        -3.68103795e-02],\n",
       "       [-9.37082767e-02,  3.81641313e-02,  4.90022264e-02,\n",
       "        -6.45066276e-02,  1.22038741e-02, -2.06595827e-02,\n",
       "         8.12217186e-04, -9.86842066e-02,  2.62236670e-02,\n",
       "        -4.76370640e-02],\n",
       "       [ 1.09359184e-02, -1.58952754e-02,  2.20317785e-02,\n",
       "        -7.89076015e-02, -2.72222292e-02,  2.66311169e-02,\n",
       "         5.37984185e-02, -2.38411352e-02, -9.57799554e-02,\n",
       "         4.47875708e-02],\n",
       "       [ 1.13720843e-03,  3.04755475e-02, -6.79005384e-02,\n",
       "        -1.39201116e-02,  7.67484978e-02,  7.34348893e-02,\n",
       "        -3.62234637e-02,  2.65862998e-02, -8.40101168e-02,\n",
       "         6.16260059e-02],\n",
       "       [-4.64004874e-02, -3.16040143e-02,  9.31022316e-02,\n",
       "         8.70269444e-03,  7.49508664e-02, -6.07672594e-02,\n",
       "         5.16437255e-02,  9.92512256e-02, -8.46706033e-02,\n",
       "        -5.14679998e-02],\n",
       "       [-7.05535039e-02, -4.87639420e-02, -3.76882739e-02,\n",
       "        -8.52926522e-02,  7.95267895e-02, -4.84030657e-02,\n",
       "         8.45864713e-02,  5.26120029e-02, -6.59280196e-02,\n",
       "         3.94148901e-02],\n",
       "       [ 5.46482429e-02, -7.43338913e-02, -7.41422325e-02,\n",
       "        -2.47863494e-02, -8.62917155e-02, -1.58628188e-02,\n",
       "        -3.89706227e-03,  3.30314562e-02,  1.41514521e-02,\n",
       "        -8.94330535e-03],\n",
       "       [-5.59176989e-02,  1.72942244e-02, -8.92366562e-03,\n",
       "         6.78809136e-02,  3.98034342e-02,  4.53112386e-02,\n",
       "         1.44673716e-02, -2.69351024e-02, -4.38212119e-02,\n",
       "        -1.03633115e-02],\n",
       "       [ 1.42669883e-02, -2.64031775e-02, -7.07238838e-02,\n",
       "        -7.81132057e-02, -9.11546350e-02, -5.93572631e-02,\n",
       "        -1.83510147e-02, -4.32077013e-02, -6.48595616e-02,\n",
       "        -3.73337008e-02],\n",
       "       [ 4.30828445e-02, -3.75884473e-02,  8.37076381e-02,\n",
       "         1.52301174e-02, -7.22825900e-02,  9.44736451e-02,\n",
       "         7.67719671e-02,  5.51158227e-02, -6.92583397e-02,\n",
       "         5.79193532e-02],\n",
       "       [ 4.00897712e-02,  5.18580414e-02,  4.25738692e-02,\n",
       "         1.92679055e-02, -3.16285752e-02,  8.35417807e-02,\n",
       "         9.63865891e-02,  3.78927402e-02, -2.86407992e-02,\n",
       "        -6.03863082e-05],\n",
       "       [ 1.21911522e-02, -8.45326111e-02, -8.22093263e-02,\n",
       "        -2.32653110e-03,  1.23641510e-02, -5.74021861e-02,\n",
       "        -4.70598862e-02, -7.34490231e-02,  8.31000805e-02,\n",
       "         9.74908471e-04],\n",
       "       [-4.51077446e-02,  5.69974631e-02,  9.17464271e-02,\n",
       "        -4.10598330e-02,  7.96823800e-02,  5.37592806e-02,\n",
       "         5.89647926e-02,  5.27996430e-03,  8.20370764e-02,\n",
       "        -7.02751800e-02],\n",
       "       [-8.24497491e-02,  9.28584784e-02, -2.13636458e-03,\n",
       "        -1.98535733e-02,  4.60623056e-02, -4.09743153e-02,\n",
       "         2.77765784e-02,  6.95571825e-02,  6.03544004e-02,\n",
       "        -7.52640739e-02],\n",
       "       [ 9.38368440e-02,  4.66059260e-02,  3.96927670e-02,\n",
       "        -6.25503808e-02,  8.46935585e-02, -2.15620305e-02,\n",
       "         8.85222182e-02, -5.35106882e-02, -8.16155374e-02,\n",
       "         6.79584816e-02],\n",
       "       [ 1.67311169e-02, -2.19563358e-02,  9.51870680e-02,\n",
       "         9.48838070e-02, -9.76716429e-02,  2.50633825e-02,\n",
       "         6.15960881e-02,  3.87819111e-02,  2.01192088e-02,\n",
       "         4.24651382e-03],\n",
       "       [ 6.80130953e-03, -3.83647792e-02, -7.12623596e-02,\n",
       "        -2.09969208e-02,  3.93421687e-02,  8.80503505e-02,\n",
       "         9.28627029e-02, -5.96087687e-02, -9.46355239e-02,\n",
       "         9.72135365e-02],\n",
       "       [ 3.44848000e-02,  5.14714569e-02,  6.28565624e-02,\n",
       "        -2.82122586e-02,  7.33045489e-02,  2.81478781e-02,\n",
       "         2.89656837e-02, -2.37989947e-02, -3.18908468e-02,\n",
       "        -2.42749173e-02],\n",
       "       [ 4.28759381e-02,  6.06085930e-04, -9.58096907e-02,\n",
       "        -9.67715532e-02, -6.15165867e-02, -1.33974792e-03,\n",
       "         2.01180726e-02,  9.43404287e-02,  5.55669069e-02,\n",
       "        -4.32565287e-02],\n",
       "       [ 2.84283492e-03,  4.96324375e-02,  7.70354122e-02,\n",
       "        -1.14269322e-02,  4.33138274e-02, -5.81902191e-02,\n",
       "        -8.05541035e-03,  8.09102729e-02, -2.36445963e-02,\n",
       "        -9.67260674e-02],\n",
       "       [ 5.79847842e-02, -3.97157706e-02, -1.20468503e-02,\n",
       "         9.98801887e-02, -2.27213912e-02, -4.75082546e-02,\n",
       "        -5.24370968e-02,  6.99880049e-02, -5.80561720e-02,\n",
       "         2.07539015e-02],\n",
       "       [-5.24330102e-02,  6.08853288e-02,  4.35588062e-02,\n",
       "         2.59698592e-02, -1.50840357e-02, -2.73009911e-02,\n",
       "         9.05605629e-02,  5.21855615e-02, -2.22288985e-02,\n",
       "        -9.49072763e-02],\n",
       "       [-7.43568242e-02, -1.08863832e-02, -7.87970703e-03,\n",
       "        -2.57509649e-02,  9.70701426e-02, -4.51120967e-03,\n",
       "         5.91442063e-02, -7.44439811e-02, -2.55151708e-02,\n",
       "        -5.57516403e-02],\n",
       "       [-7.13362321e-02,  1.23346867e-02, -7.17776492e-02,\n",
       "        -2.24581398e-02,  3.71448770e-02,  5.83167784e-02,\n",
       "         1.21360365e-02,  2.10353378e-02, -4.13070023e-02,\n",
       "         7.21025839e-02],\n",
       "       [-6.30107000e-02,  4.63976040e-02, -8.22791085e-02,\n",
       "         2.02531144e-02, -4.96764742e-02, -4.24446836e-02,\n",
       "        -3.10430024e-02,  5.64276204e-02,  5.77982068e-02,\n",
       "        -4.99678254e-02],\n",
       "       [ 7.77873909e-03, -8.50774348e-02,  7.82775581e-02,\n",
       "         9.24581885e-02, -2.72344816e-02,  8.13602842e-03,\n",
       "         7.82130100e-03,  5.49029447e-02, -8.65585953e-02,\n",
       "         5.68158971e-03],\n",
       "       [ 6.87667802e-02,  2.21804529e-02,  1.14632612e-02,\n",
       "        -9.32924151e-02,  8.48204195e-02, -6.26386330e-02,\n",
       "        -2.96544097e-02,  3.49145159e-02, -8.15407000e-03,\n",
       "         1.39073264e-02],\n",
       "       [ 1.78856775e-02, -6.83176517e-02, -9.71357971e-02,\n",
       "         9.03526321e-02,  6.20696992e-02, -6.90997913e-02,\n",
       "         3.40839662e-02,  2.00138148e-03,  4.73006815e-02,\n",
       "        -7.12741464e-02],\n",
       "       [ 4.02912684e-02,  4.33972403e-02,  9.97043177e-02,\n",
       "        -4.47557643e-02, -1.37552470e-02, -7.32452795e-02,\n",
       "        -9.68054831e-02, -9.07186195e-02, -1.04999840e-02,\n",
       "        -6.52332976e-02],\n",
       "       [ 4.85184900e-02, -6.18505999e-02,  2.54512839e-02,\n",
       "         7.23150559e-03, -3.37202810e-02, -9.58775636e-03,\n",
       "         1.00464582e-01,  9.16116834e-02, -4.52429466e-02,\n",
       "         9.05423090e-02],\n",
       "       [-5.62537536e-02,  5.91441058e-02, -3.08699254e-02,\n",
       "         3.42417471e-02,  3.01525649e-02,  6.89771846e-02,\n",
       "        -2.34562643e-02,  8.78098756e-02,  7.54443705e-02,\n",
       "        -9.57062766e-02],\n",
       "       [-7.99535215e-02, -7.64938667e-02,  2.94297449e-02,\n",
       "        -2.80936509e-02, -6.91724196e-02, -8.14380273e-02,\n",
       "         8.33946615e-02,  2.00953335e-02, -9.38085616e-02,\n",
       "        -4.83440533e-02],\n",
       "       [ 3.14042829e-02, -4.71907668e-02,  5.28541468e-02,\n",
       "        -4.23543453e-02,  2.64745187e-02, -8.04332942e-02,\n",
       "         6.22341782e-02,  4.82459627e-02,  7.71504920e-03,\n",
       "         3.00272331e-02],\n",
       "       [-8.72143358e-02,  2.11900119e-02, -8.64808168e-03,\n",
       "        -9.31692347e-02, -9.42040011e-02, -1.41158467e-02,\n",
       "         4.46015149e-02,  3.70949730e-02, -6.52972758e-02,\n",
       "        -6.89126924e-02],\n",
       "       [-4.98493128e-02, -2.31468771e-02, -7.23401457e-02,\n",
       "        -9.61924344e-02, -2.73918305e-02, -8.35226700e-02,\n",
       "        -6.00838028e-02, -5.66646270e-02, -2.39191446e-02,\n",
       "        -1.73575189e-02],\n",
       "       [-8.94624442e-02, -7.49279279e-03,  8.15060809e-02,\n",
       "         7.68685490e-02, -7.20872656e-02, -3.66325378e-02,\n",
       "         3.14060561e-02, -9.56329629e-02,  1.44800739e-02,\n",
       "         6.49958998e-02],\n",
       "       [ 5.73660955e-02, -8.76299143e-02, -4.51802202e-02,\n",
       "        -8.14172998e-02,  6.03919267e-04,  9.26979184e-02,\n",
       "         5.99919222e-02,  5.06947115e-02,  5.04128374e-02,\n",
       "        -3.26576196e-02],\n",
       "       [ 9.56097245e-02, -7.37323016e-02, -7.27335885e-02,\n",
       "        -2.27729604e-02, -7.65887741e-03, -3.21769752e-02,\n",
       "        -5.60190901e-03,  7.48260468e-02, -7.46506173e-03,\n",
       "        -1.67064499e-02],\n",
       "       [ 2.75296718e-02, -8.37728828e-02,  7.86396936e-02,\n",
       "         8.53671804e-02, -9.58452523e-02,  2.44818181e-02,\n",
       "         9.93957072e-02, -7.66100660e-02, -7.00088292e-02,\n",
       "        -7.75524601e-02],\n",
       "       [ 8.39853063e-02, -6.84233662e-03,  9.15757865e-02,\n",
       "        -8.15263167e-02,  3.74527089e-02,  2.62064599e-02,\n",
       "         7.51026766e-03,  2.32832097e-02, -7.49284998e-02,\n",
       "        -9.38450918e-02],\n",
       "       [ 2.35866811e-02,  6.14720695e-02,  7.99233541e-02,\n",
       "         5.73823191e-02, -7.71478051e-03,  8.29583779e-02,\n",
       "        -9.33124498e-02,  3.40687074e-02,  2.52075726e-03,\n",
       "         3.84603851e-02],\n",
       "       [ 7.40917698e-02, -6.80048987e-02,  5.62338829e-02,\n",
       "        -9.55036804e-02, -8.07401538e-03, -8.69471952e-02,\n",
       "        -4.98744249e-02,  9.30709541e-02, -1.97156779e-02,\n",
       "         2.83970721e-02],\n",
       "       [ 9.08949599e-02,  8.92968401e-02, -8.20023790e-02,\n",
       "        -3.02166045e-02,  9.90116224e-02,  5.10327704e-02,\n",
       "        -1.57228392e-02, -8.68555754e-02,  2.93223709e-02,\n",
       "        -6.70220852e-02],\n",
       "       [ 8.15213397e-02, -4.48632501e-02, -1.05916830e-02,\n",
       "         1.00441296e-02, -1.85143354e-03,  1.14950854e-02,\n",
       "         6.17263690e-02,  6.80294688e-05, -3.32675725e-02,\n",
       "        -1.53372576e-02],\n",
       "       [ 5.89344800e-02,  1.50825130e-02, -7.18123745e-03,\n",
       "         9.33916941e-02, -4.91764061e-02, -8.35453160e-03,\n",
       "         9.18978676e-02,  6.75415546e-02,  1.48958471e-02,\n",
       "        -8.89010280e-02],\n",
       "       [ 1.15361288e-02, -2.29624175e-02,  9.37577263e-02,\n",
       "         1.21151414e-02,  1.48733668e-02,  2.40207631e-02,\n",
       "        -1.82354692e-02, -4.99846041e-02,  2.10923143e-03,\n",
       "        -2.03003865e-02],\n",
       "       [ 6.62191734e-02,  8.92114863e-02, -6.53975550e-03,\n",
       "         2.98351645e-02, -6.10897206e-02,  1.70266591e-02,\n",
       "        -6.88551515e-02, -8.69873613e-02, -5.95877990e-02,\n",
       "        -8.99133384e-02],\n",
       "       [ 7.29950368e-02, -5.79948276e-02,  8.28117430e-02,\n",
       "        -7.24902153e-02,  3.44046131e-02,  9.66955721e-02,\n",
       "        -7.74770677e-02, -9.95127782e-02, -4.38830592e-02,\n",
       "        -2.72192433e-02],\n",
       "       [-2.69527896e-03, -8.84862617e-02, -8.60437676e-02,\n",
       "         2.79385690e-02, -8.19510221e-02, -9.07961428e-02,\n",
       "        -2.31001377e-02, -8.62650722e-02, -7.09545240e-02,\n",
       "        -8.43297392e-02],\n",
       "       [-2.70221848e-03, -4.60370444e-02,  6.65479526e-02,\n",
       "         1.52854528e-02, -3.33193392e-02,  6.10214509e-02,\n",
       "        -5.94654568e-02, -4.66446131e-02, -7.28412643e-02,\n",
       "        -4.39253040e-02],\n",
       "       [-1.80707760e-02,  6.48548156e-02, -2.75880955e-02,\n",
       "         4.91742454e-02,  6.90661222e-02, -7.46957213e-02,\n",
       "         4.57965583e-02,  6.12373352e-02, -2.97132004e-02,\n",
       "         6.60132766e-02],\n",
       "       [ 6.15755878e-02, -6.46754876e-02, -6.75542727e-02,\n",
       "         2.53438875e-02, -1.61965974e-02, -6.06936403e-02,\n",
       "         9.52129513e-02, -5.12258746e-02, -6.61225840e-02,\n",
       "        -1.59549981e-03],\n",
       "       [-2.69569885e-02,  4.39423556e-03, -3.53511348e-02,\n",
       "        -4.17895149e-03, -7.02771638e-03,  8.30724463e-03,\n",
       "         8.21413696e-02, -5.74089140e-02, -1.67197213e-02,\n",
       "         5.56366146e-02],\n",
       "       [ 8.20516199e-02, -4.47120406e-02,  9.00016353e-02,\n",
       "         8.25284496e-02, -4.42279130e-02,  2.93303537e-03,\n",
       "         4.31448817e-02, -3.92611474e-02, -5.63699231e-02,\n",
       "        -6.54929131e-02],\n",
       "       [-6.65598502e-03, -2.98185530e-03,  4.46589328e-02,\n",
       "        -2.47099455e-02, -1.69650477e-03,  2.46162396e-02,\n",
       "         4.87097017e-02, -2.70043820e-04, -6.36311695e-02,\n",
       "        -9.26595628e-02],\n",
       "       [ 3.78298340e-04,  6.65047839e-02,  1.47059066e-02,\n",
       "        -8.96066204e-02, -7.93762803e-02,  6.54650554e-02,\n",
       "        -3.75978202e-02,  6.25487417e-02, -6.72011450e-02,\n",
       "         8.45352560e-02],\n",
       "       [-6.47483692e-02,  3.26477997e-02, -1.02505740e-02,\n",
       "        -6.76601157e-02, -3.28751169e-02, -1.16597926e-02,\n",
       "        -5.44475317e-02, -1.20036583e-02, -7.64648542e-02,\n",
       "         2.61775348e-02],\n",
       "       [ 9.08519849e-02, -2.38494948e-02, -9.69682634e-03,\n",
       "         3.52722406e-02,  8.67575333e-02, -5.93099892e-02,\n",
       "        -6.87720925e-02, -2.92734038e-02,  9.11127999e-02,\n",
       "         8.44299793e-03],\n",
       "       [-8.66828710e-02, -1.45327663e-02,  9.47657749e-02,\n",
       "        -7.55153820e-02, -5.36507443e-02,  9.31230113e-02,\n",
       "        -8.95992517e-02,  3.82800214e-02,  6.42770063e-03,\n",
       "         6.63884282e-02]], dtype=float32)"
      ]
     },
     "execution_count": 24,
     "metadata": {},
     "output_type": "execute_result"
    }
   ],
   "source": [
    "# 모든 embedding vector 조회.\n",
    "model1.wv.vectors"
   ]
  },
  {
   "cell_type": "markdown",
   "id": "52de32ef-2dc7-49a6-b829-68b14f797267",
   "metadata": {},
   "source": [
    "## 모델 저장 및 로딩\n",
    "\n",
    "### 모델 저장, 로딩\n",
    "- `model.save('저장파일 경로')`\n",
    "  - gensim 자체 포맷으로 저장된다.\n",
    "- `gensim.models.Word2Vec.load('저장파일 경로')`\n",
    "  - `model.save()`로 저장된 모델을 Loading한다."
   ]
  },
  {
   "cell_type": "code",
   "execution_count": 21,
   "id": "6b9517b7-ee62-4313-a78e-42d5240cb276",
   "metadata": {},
   "outputs": [],
   "source": [
    "os.makedirs(\"saved_model/word2vec\", exist_ok=True)\n",
    "model1.save(\"saved_model/word2vec/sample_w2v.model\")"
   ]
  },
  {
   "cell_type": "code",
   "execution_count": 22,
   "id": "b1f55800-3dd3-4054-9c07-d48961518099",
   "metadata": {},
   "outputs": [
    {
     "data": {
      "text/plain": [
       "[('numpyall', 0.7189714908599854),\n",
       " ('study', 0.713896632194519),\n",
       " ('that', 0.6710396409034729),\n",
       " ('can', 0.641579270362854),\n",
       " ('datastreamed', 0.5988761782646179),\n",
       " ('is', 0.5452057123184204),\n",
       " ('other', 0.5355265140533447),\n",
       " ('maintained', 0.5195193886756897),\n",
       " ('representations', 0.5130788087844849),\n",
       " ('in', 0.5079874396324158)]"
      ]
     },
     "execution_count": 22,
     "metadata": {},
     "output_type": "execute_result"
    }
   ],
   "source": [
    "load_model = Word2Vec.load(\"saved_model/word2vec/sample_w2v.model\")\n",
    "load_model.wv.most_similar(\"gensim\")"
   ]
  },
  {
   "cell_type": "markdown",
   "id": "34742583-58b5-40c8-b3ab-a641147cdd07",
   "metadata": {},
   "source": [
    "### Word Embedding Vector만 저장 및 로드\n",
    "- `KeyedVectors` 를 이용해 저장한다.\n",
    "    - `model.wv.save_word2vec_format('저장경로', binary=True|False)`\n",
    "        - binary=True: binary 파일로 저장한다. 용량이 작은 대신 내용확인이 안된다.\n",
    "        - binary=False: csv(공백구분자) 형식 text로 저장한다. 내용을 확인할 수있지만 파일용량이 크다.\n",
    "- `KeyedVectors.load_word2vec_format(\"저장경로\", binary=True|False)`\n",
    "    - 저장시 binary에 맞춰 읽는다."
   ]
  },
  {
   "cell_type": "code",
   "execution_count": 23,
   "id": "a9dfab01-5ed0-4749-a585-fb26ba817495",
   "metadata": {},
   "outputs": [],
   "source": [
    "model1.wv.save_word2vec_format(\"saved_model/word2vec/sample_wv.bin\", binary=True)\n",
    "model1.wv.save_word2vec_format(\"saved_model/word2vec/sample_wv.csv\", binary=False)\n",
    "# binary = True : binary 파일로 저장, binary=False:  text 로 저장"
   ]
  },
  {
   "cell_type": "code",
   "execution_count": 26,
   "id": "114fe1da-cf7d-411d-a46a-8d69045df1ce",
   "metadata": {},
   "outputs": [],
   "source": [
    "from gensim.models import KeyedVectors\n",
    "load_wv1 = KeyedVectors.load_word2vec_format(\"saved_model/word2vec/sample_wv.bin\", binary=True)\n",
    "load_wv2 = KeyedVectors.load_word2vec_format(\"saved_model/word2vec/sample_wv.csv\", binary=False)"
   ]
  },
  {
   "cell_type": "code",
   "execution_count": 27,
   "id": "a72063a1-afa5-4c69-b271-982d1f185843",
   "metadata": {},
   "outputs": [
    {
     "data": {
      "text/plain": [
       "[('numpyall', 0.7189714908599854),\n",
       " ('study', 0.713896632194519),\n",
       " ('that', 0.6710396409034729),\n",
       " ('can', 0.641579270362854),\n",
       " ('datastreamed', 0.5988761782646179),\n",
       " ('is', 0.5452057123184204),\n",
       " ('other', 0.5355265140533447),\n",
       " ('maintained', 0.5195193886756897),\n",
       " ('representations', 0.5130788087844849),\n",
       " ('in', 0.5079874396324158)]"
      ]
     },
     "execution_count": 27,
     "metadata": {},
     "output_type": "execute_result"
    }
   ],
   "source": [
    "load_wv1.most_similar('gensim')\n",
    "load_wv2.most_similar('gensim')"
   ]
  },
  {
   "cell_type": "markdown",
   "id": "d66b7152-2745-4e30-bc6f-5e417ab25f00",
   "metadata": {},
   "source": [
    "## Pretrained 모델 사용하기\n",
    "- https://github.com/Kyubyong/wordvectors"
   ]
  },
  {
   "cell_type": "code",
   "execution_count": 28,
   "id": "bc4f7b0a-8620-4c34-b463-3c186a70c107",
   "metadata": {},
   "outputs": [],
   "source": [
    "from zipfile import ZipFile\n",
    "with ZipFile(\"ko_new.zip\") as zf:\n",
    "    zf.extractall(\"saved_model/word2vec\")"
   ]
  },
  {
   "cell_type": "code",
   "execution_count": 30,
   "id": "52eab43d-4df0-44b6-a531-83f66c427996",
   "metadata": {},
   "outputs": [],
   "source": [
    "ko_wv = KeyedVectors.load_word2vec_format(\n",
    "    \"saved_model/word2vec/ko_new.txt\",\n",
    "    binary=False,\n",
    "    encoding='utf-8'\n",
    ")"
   ]
  },
  {
   "cell_type": "code",
   "execution_count": 33,
   "id": "e2cfa552",
   "metadata": {},
   "outputs": [
    {
     "name": "stdout",
     "output_type": "stream",
     "text": [
      "(200,)\n",
      "[('아침', 0.8432561755180359), ('밤', 0.7863156199455261), ('새벽', 0.7520349025726318), ('점심', 0.7118877172470093), ('그날', 0.7105917930603027)]\n"
     ]
    }
   ],
   "source": [
    "word = \"저녁\"\n",
    "vec = ko_wv[word]\n",
    "print(vec.shape)\n",
    "print(ko_wv.most_similar(word, topn=5))"
   ]
  },
  {
   "cell_type": "code",
   "execution_count": null,
   "id": "01ad9285",
   "metadata": {},
   "outputs": [],
   "source": []
  },
  {
   "cell_type": "code",
   "execution_count": null,
   "id": "d9776ac3",
   "metadata": {},
   "outputs": [],
   "source": []
  },
  {
   "cell_type": "code",
   "execution_count": null,
   "id": "7907d09e-8fd1-4462-9679-ca182617e1c6",
   "metadata": {},
   "outputs": [],
   "source": []
  },
  {
   "cell_type": "markdown",
   "id": "ecb37baa",
   "metadata": {},
   "source": [
    "# 빅카인즈 뉴스 데이터를 이용한 Word2Vec 학습\n",
    "- 빅카인즈\n",
    "    - 한국언론진흥재단에서 운영하는 뉴스빅데이터 분석 서비스 사이트\n",
    "- 빅카인즈에서 특정 분야의 기사들을 수집해서 학습시킨다.\n",
    "    - https://www.bigkinds.or.kr/\n",
    "    - 회원가입 (구글, 네이버, 카카오 계정으로 가입 가능) 후 로그인\n",
    "    - 뉴스분석 > 뉴스검색$\\cdot$분석 클릭\n",
    "    ![word2vec_bigkinds1.png](figures/word2vec_bigkinds1.png)\n",
    "    - 기간, 언론사, 분류, 상세검색 등 검색 조건입력 후 조회\n",
    "    ![word2vec_bigkinds1.png](figures/word2vec_bigkinds2.png)\n",
    "    - 결과 다운로드\n",
    "        - step3 분석결과및 시각화 -> 맨 아래 `엑셀다운로드` 클릭 \n",
    "    ![word2vec_bigkinds1.png](figures/word2vec_bigkinds3.png)"
   ]
  },
  {
   "cell_type": "code",
   "execution_count": 34,
   "id": "c3d0d2c6",
   "metadata": {},
   "outputs": [
    {
     "name": "stderr",
     "output_type": "stream",
     "text": [
      "c:\\Users\\Playdata\\AppData\\Local\\miniconda3\\envs\\ml\\Lib\\site-packages\\openpyxl\\styles\\stylesheet.py:237: UserWarning: Workbook contains no default style, apply openpyxl's default\n",
      "  warn(\"Workbook contains no default style, apply openpyxl's default\")\n"
     ]
    }
   ],
   "source": [
    "import pandas as pd\n",
    "\n",
    "df = pd.read_excel(\"dataset/NewsResult_20240820-20241120.xlsx\")"
   ]
  },
  {
   "cell_type": "code",
   "execution_count": 35,
   "id": "4771754d",
   "metadata": {},
   "outputs": [
    {
     "name": "stdout",
     "output_type": "stream",
     "text": [
      "<class 'pandas.core.frame.DataFrame'>\n",
      "RangeIndex: 17710 entries, 0 to 17709\n",
      "Data columns (total 19 columns):\n",
      " #   Column             Non-Null Count  Dtype  \n",
      "---  ------             --------------  -----  \n",
      " 0   뉴스 식별자             17710 non-null  float64\n",
      " 1   일자                 17710 non-null  int64  \n",
      " 2   언론사                17710 non-null  object \n",
      " 3   기고자                16847 non-null  object \n",
      " 4   제목                 17710 non-null  object \n",
      " 5   통합 분류1             17710 non-null  object \n",
      " 6   통합 분류2             14064 non-null  object \n",
      " 7   통합 분류3             11997 non-null  object \n",
      " 8   사건/사고 분류1          17710 non-null  object \n",
      " 9   사건/사고 분류2          5677 non-null   object \n",
      " 10  사건/사고 분류3          1815 non-null   object \n",
      " 11  인물                 8264 non-null   object \n",
      " 12  위치                 17254 non-null  object \n",
      " 13  기관                 17186 non-null  object \n",
      " 14  키워드                17710 non-null  object \n",
      " 15  특성추출(가중치순 상위 50개)  17710 non-null  object \n",
      " 16  본문                 17710 non-null  object \n",
      " 17  URL                16155 non-null  object \n",
      " 18  분석제외 여부            906 non-null    object \n",
      "dtypes: float64(1), int64(1), object(17)\n",
      "memory usage: 2.6+ MB\n"
     ]
    }
   ],
   "source": [
    "df.info()"
   ]
  },
  {
   "cell_type": "code",
   "execution_count": 36,
   "id": "d2040e9c",
   "metadata": {},
   "outputs": [
    {
     "name": "stdout",
     "output_type": "stream",
     "text": [
      "<class 'pandas.core.frame.DataFrame'>\n",
      "RangeIndex: 17710 entries, 0 to 17709\n",
      "Data columns (total 2 columns):\n",
      " #   Column  Non-Null Count  Dtype \n",
      "---  ------  --------------  ----- \n",
      " 0   제목      17710 non-null  object\n",
      " 1   본문      17710 non-null  object\n",
      "dtypes: object(2)\n",
      "memory usage: 276.8+ KB\n"
     ]
    }
   ],
   "source": [
    "# 본문, 제목\n",
    "\n",
    "df = df[['제목', '본문']]\n",
    "df.info()"
   ]
  },
  {
   "cell_type": "code",
   "execution_count": 37,
   "id": "63f4ddd1",
   "metadata": {},
   "outputs": [
    {
     "data": {
      "text/html": [
       "<div>\n",
       "<style scoped>\n",
       "    .dataframe tbody tr th:only-of-type {\n",
       "        vertical-align: middle;\n",
       "    }\n",
       "\n",
       "    .dataframe tbody tr th {\n",
       "        vertical-align: top;\n",
       "    }\n",
       "\n",
       "    .dataframe thead th {\n",
       "        text-align: right;\n",
       "    }\n",
       "</style>\n",
       "<table border=\"1\" class=\"dataframe\">\n",
       "  <thead>\n",
       "    <tr style=\"text-align: right;\">\n",
       "      <th></th>\n",
       "      <th>제목</th>\n",
       "      <th>본문</th>\n",
       "    </tr>\n",
       "  </thead>\n",
       "  <tbody>\n",
       "    <tr>\n",
       "      <th>0</th>\n",
       "      <td>KT에스테이트, ‘둔산 엘리프 더센트럴’ 20일 1순위 청약</td>\n",
       "      <td>KT에스테이트가 시행하고 계룡건설이 시공을 맡은 '둔산 엘리프 더센트럴'이 20일 ...</td>\n",
       "    </tr>\n",
       "    <tr>\n",
       "      <th>1</th>\n",
       "      <td>한국남부발전 하동빛드림본부, 유류 누출 화재 복합 재난 대응훈련 실시</td>\n",
       "      <td>사진/한국남부발전 한국남부발전 하동빛드림본부는 '유관 기관 합동 대규모 재난대응훈련...</td>\n",
       "    </tr>\n",
       "    <tr>\n",
       "      <th>2</th>\n",
       "      <td>둔산 엘리프 더센트럴, 20일 1순위 청약 접수</td>\n",
       "      <td>KT에스테이트와 계룡건설이 공급하는 ‘둔산 엘리프 더센트럴’이 오늘(20일) 1순위...</td>\n",
       "    </tr>\n",
       "    <tr>\n",
       "      <th>3</th>\n",
       "      <td>[자막뉴스] 필리핀, '한국 물 관리' 배운다...기술 전수 나선 韓</td>\n",
       "      <td>태풍이 한 달 동안 필리핀을 6차례나 강타했습니다.\\n\\n인명 피해가 속출했고, 도...</td>\n",
       "    </tr>\n",
       "    <tr>\n",
       "      <th>4</th>\n",
       "      <td>국방부, 한국환경공단과 함께 백령도 군부대서 환경컨설팅</td>\n",
       "      <td>[사진=국방부] \\n   국방부는 환경부 산하 공공기관인 한국환경공단의 전문가가 함...</td>\n",
       "    </tr>\n",
       "  </tbody>\n",
       "</table>\n",
       "</div>"
      ],
      "text/plain": [
       "                                       제목  \\\n",
       "0       KT에스테이트, ‘둔산 엘리프 더센트럴’ 20일 1순위 청약   \n",
       "1  한국남부발전 하동빛드림본부, 유류 누출 화재 복합 재난 대응훈련 실시   \n",
       "2              둔산 엘리프 더센트럴, 20일 1순위 청약 접수   \n",
       "3  [자막뉴스] 필리핀, '한국 물 관리' 배운다...기술 전수 나선 韓   \n",
       "4          국방부, 한국환경공단과 함께 백령도 군부대서 환경컨설팅   \n",
       "\n",
       "                                                  본문  \n",
       "0  KT에스테이트가 시행하고 계룡건설이 시공을 맡은 '둔산 엘리프 더센트럴'이 20일 ...  \n",
       "1  사진/한국남부발전 한국남부발전 하동빛드림본부는 '유관 기관 합동 대규모 재난대응훈련...  \n",
       "2  KT에스테이트와 계룡건설이 공급하는 ‘둔산 엘리프 더센트럴’이 오늘(20일) 1순위...  \n",
       "3  태풍이 한 달 동안 필리핀을 6차례나 강타했습니다.\\n\\n인명 피해가 속출했고, 도...  \n",
       "4  [사진=국방부] \\n   국방부는 환경부 산하 공공기관인 한국환경공단의 전문가가 함...  "
      ]
     },
     "execution_count": 37,
     "metadata": {},
     "output_type": "execute_result"
    }
   ],
   "source": [
    "df.head()"
   ]
  },
  {
   "cell_type": "code",
   "execution_count": 38,
   "id": "79ef44e0",
   "metadata": {},
   "outputs": [
    {
     "data": {
      "text/html": [
       "<div>\n",
       "<style scoped>\n",
       "    .dataframe tbody tr th:only-of-type {\n",
       "        vertical-align: middle;\n",
       "    }\n",
       "\n",
       "    .dataframe tbody tr th {\n",
       "        vertical-align: top;\n",
       "    }\n",
       "\n",
       "    .dataframe thead th {\n",
       "        text-align: right;\n",
       "    }\n",
       "</style>\n",
       "<table border=\"1\" class=\"dataframe\">\n",
       "  <thead>\n",
       "    <tr style=\"text-align: right;\">\n",
       "      <th></th>\n",
       "      <th>제목</th>\n",
       "      <th>본문</th>\n",
       "    </tr>\n",
       "  </thead>\n",
       "  <tbody>\n",
       "    <tr>\n",
       "      <th>17705</th>\n",
       "      <td>배추 한 포기에 7000원 육박 金채소에 추석상 초라해질라</td>\n",
       "      <td>배추 6888원 50일 만에 81% 폭등 \\n시금치 216% 무 57% 가격 치솟아...</td>\n",
       "    </tr>\n",
       "    <tr>\n",
       "      <th>17706</th>\n",
       "      <td>“수돗물에서 흙비린내 나요” 팔당호 녹조 증식에 민원 빗발</td>\n",
       "      <td>수도권 최대 식수원인 팔당호에 녹조가 발생하면서 경기지역 일부 수돗물에서 악취가 발...</td>\n",
       "    </tr>\n",
       "    <tr>\n",
       "      <th>17707</th>\n",
       "      <td>[투고] 폭염예방 안전수칙을 지키자</td>\n",
       "      <td>최근 폭염이 날로 더 기승을 부리면서 일상생활에서의 건강과 안전이 위협받고 있다. ...</td>\n",
       "    </tr>\n",
       "    <tr>\n",
       "      <th>17708</th>\n",
       "      <td>제9호 태풍 ‘종다리’ 북상 전국 곳곳에 비, 전북 20일 오후부터 영향권</td>\n",
       "      <td>태풍 종다리 예상 이동경로/사진=기상청 제9호 태풍 '종다리'가 우리나라를 향해 북...</td>\n",
       "    </tr>\n",
       "    <tr>\n",
       "      <th>17709</th>\n",
       "      <td>“희망의 물길 연다” 한국수자원공사, 위기 처한 지역과 상생 추구</td>\n",
       "      <td>‘상생’은 서로 더불어 사는 것을 의미한다. 사람과 사람, 도시와 도시, 국가와 국...</td>\n",
       "    </tr>\n",
       "  </tbody>\n",
       "</table>\n",
       "</div>"
      ],
      "text/plain": [
       "                                              제목  \\\n",
       "17705           배추 한 포기에 7000원 육박 金채소에 추석상 초라해질라   \n",
       "17706           “수돗물에서 흙비린내 나요” 팔당호 녹조 증식에 민원 빗발   \n",
       "17707                        [투고] 폭염예방 안전수칙을 지키자   \n",
       "17708  제9호 태풍 ‘종다리’ 북상 전국 곳곳에 비, 전북 20일 오후부터 영향권   \n",
       "17709       “희망의 물길 연다” 한국수자원공사, 위기 처한 지역과 상생 추구   \n",
       "\n",
       "                                                      본문  \n",
       "17705  배추 6888원 50일 만에 81% 폭등 \\n시금치 216% 무 57% 가격 치솟아...  \n",
       "17706  수도권 최대 식수원인 팔당호에 녹조가 발생하면서 경기지역 일부 수돗물에서 악취가 발...  \n",
       "17707  최근 폭염이 날로 더 기승을 부리면서 일상생활에서의 건강과 안전이 위협받고 있다. ...  \n",
       "17708  태풍 종다리 예상 이동경로/사진=기상청 제9호 태풍 '종다리'가 우리나라를 향해 북...  \n",
       "17709  ‘상생’은 서로 더불어 사는 것을 의미한다. 사람과 사람, 도시와 도시, 국가와 국...  "
      ]
     },
     "execution_count": 38,
     "metadata": {},
     "output_type": "execute_result"
    }
   ],
   "source": [
    "df.tail()"
   ]
  },
  {
   "cell_type": "code",
   "execution_count": 39,
   "id": "b5e2afe2",
   "metadata": {},
   "outputs": [],
   "source": [
    "# 전처리 + 토큰화\n",
    "import re\n",
    "from konlpy.tag import Okt\n",
    "\n",
    "okt = Okt()\n",
    "def tokenizer(text):\n",
    "    text = re.sub(r\"[^\\w\\s]\", ' ', text)\n",
    "\n",
    "    # 형용사, 명사 , 동사만 추출 + 글자수가 2글자 이상인 것.\n",
    "    tokens = [word for word, pos in okt.pos(text) if pos in [\"Adjective\", \"Noun\", \"Verb\"] and len(word) > 1]\n",
    "\n",
    "    # 불용어 (stopword) 제거 등 전처리를 추가\n",
    "    return tokens"
   ]
  },
  {
   "cell_type": "code",
   "execution_count": 40,
   "id": "32cb9526",
   "metadata": {},
   "outputs": [
    {
     "data": {
      "text/plain": [
       "['형용사', '명사', '동사', '추출', '글자', '수가', '글자', '이상인']"
      ]
     },
     "execution_count": 40,
     "metadata": {},
     "output_type": "execute_result"
    }
   ],
   "source": [
    "tokenizer(\" 형용사, 명사 , 동사만 추출 + 글자수가 2글자 이상인 것.\")"
   ]
  },
  {
   "cell_type": "code",
   "execution_count": null,
   "id": "95b9851c",
   "metadata": {},
   "outputs": [],
   "source": [
    "# from konlpy.tag import Okt\n",
    "# okt = Okt()\n",
    "# okt.pos(\"안녕하세요. 반갑습니다.\")"
   ]
  },
  {
   "cell_type": "code",
   "execution_count": null,
   "id": "ceff192c",
   "metadata": {},
   "outputs": [],
   "source": [
    "# Dataset 생성\n",
    "\n",
    "token_list = []\n",
    "for idx, row in df.iterrows():  # DF의 한행씩 제공 (행 index, 행데이터-Series)\n",
    "    row_token = tokenizer(row['제목']+\" \"+row['본문'])\n",
    "    token_list.append(row_token)\n",
    "\n",
    "\n",
    "\n",
    "# [\n",
    "#     [토큰 들] => 한개의 기사\n",
    "#     [      ]\n",
    "# ]\n"
   ]
  },
  {
   "cell_type": "code",
   "execution_count": 42,
   "id": "4ac96671",
   "metadata": {},
   "outputs": [
    {
     "data": {
      "text/plain": [
       "17710"
      ]
     },
     "execution_count": 42,
     "metadata": {},
     "output_type": "execute_result"
    }
   ],
   "source": [
    "len(token_list)"
   ]
  },
  {
   "cell_type": "code",
   "execution_count": null,
   "id": "624bfcee",
   "metadata": {},
   "outputs": [],
   "source": [
    "# for a in df.iterrows():   # DF의 한행씩 제공 (행 index, 행데이터-Series)\n",
    "#     print(a)\n",
    "#     break"
   ]
  },
  {
   "cell_type": "code",
   "execution_count": 43,
   "id": "4ddb3279",
   "metadata": {},
   "outputs": [
    {
     "data": {
      "text/plain": [
       "['에스테',\n",
       " '둔산',\n",
       " '리프',\n",
       " '센트럴',\n",
       " '순위',\n",
       " '청약',\n",
       " '에스테',\n",
       " '시행',\n",
       " '계룡',\n",
       " '건설',\n",
       " '시공',\n",
       " '맡은',\n",
       " '둔산',\n",
       " '리프',\n",
       " '센트럴',\n",
       " '순위',\n",
       " '청약',\n",
       " '접수',\n",
       " '진행',\n",
       " '한다',\n",
       " '청약',\n",
       " '접수',\n",
       " '한국',\n",
       " '부동산',\n",
       " '청약',\n",
       " '오전',\n",
       " '오후',\n",
       " '사이',\n",
       " '진행',\n",
       " '된다',\n",
       " '당첨',\n",
       " '발표',\n",
       " '정당',\n",
       " '계약',\n",
       " '사흘',\n",
       " '진행',\n",
       " '된다',\n",
       " '청약',\n",
       " '대전광역시',\n",
       " '세종',\n",
       " '특별자치시',\n",
       " '충청남도',\n",
       " '거주',\n",
       " '하는']"
      ]
     },
     "execution_count": 43,
     "metadata": {},
     "output_type": "execute_result"
    }
   ],
   "source": [
    "token_list[0]"
   ]
  },
  {
   "cell_type": "code",
   "execution_count": 45,
   "id": "f4041811",
   "metadata": {},
   "outputs": [
    {
     "name": "stdout",
     "output_type": "stream",
     "text": [
      ">>>>>>0에서 모델 저장\n",
      "[0/1000] loss: 630939.5\n",
      ">>>>>>2에서 모델 저장\n",
      ">>>>>>3에서 모델 저장\n",
      ">>>>>>4에서 모델 저장\n",
      ">>>>>>5에서 모델 저장\n",
      ">>>>>>6에서 모델 저장\n",
      ">>>>>>7에서 모델 저장\n",
      ">>>>>>8에서 모델 저장\n",
      ">>>>>>15에서 모델 저장\n",
      ">>>>>>16에서 모델 저장\n",
      ">>>>>>26에서 모델 저장\n",
      ">>>>>>44에서 모델 저장\n",
      ">>>>>>48에서 모델 저장\n",
      "[50/1000] loss: 520399.1875\n",
      ">>>>>>53에서 모델 저장\n",
      ">>>>>>66에서 모델 저장\n",
      "[100/1000] loss: 502906.46875\n",
      ">>>>>>113에서 모델 저장\n",
      ">>>>>>134에서 모델 저장\n",
      ">>>>>>135에서 모델 저장\n",
      "[150/1000] loss: 505421.25\n",
      "[200/1000] loss: 503785.90625\n",
      ">>>>>>206에서 모델 저장\n",
      ">>>>>>221에서 모델 저장\n",
      "[250/1000] loss: 423466.03125\n",
      "[300/1000] loss: 495732.34375\n",
      ">>>>>>333에서 모델 저장\n",
      "[350/1000] loss: 510515.71875\n",
      "[400/1000] loss: 481274.90625\n",
      "[450/1000] loss: 488106.21875\n",
      "[500/1000] loss: 497348.78125\n",
      "[550/1000] loss: 502154.75\n",
      "[600/1000] loss: 485680.3125\n",
      "[650/1000] loss: 500492.96875\n",
      ">>>>>>656에서 모델 저장\n",
      "[700/1000] loss: 483436.96875\n",
      "[750/1000] loss: 494500.46875\n",
      "[800/1000] loss: 491663.96875\n",
      "[850/1000] loss: 419733.25\n",
      "[900/1000] loss: 501973.40625\n",
      "[950/1000] loss: 494782.03125\n",
      "[999/1000] loss: 416204.9375\n"
     ]
    }
   ],
   "source": [
    "from gensim.models import Word2Vec\n",
    "\n",
    "model = Word2Vec(\n",
    "    vector_size=100,        # embedding vector 차원수`\n",
    "    window=5,\n",
    "    sg=1,                   # 0 (default): CBOW, 1: Skip-gram\n",
    "    workers=os.cpu_count()\n",
    ")\n",
    "\n",
    "# Vocab 생성\n",
    "model.build_vocab(token_list)\n",
    "loss_list = []\n",
    "best_score = float('inf')  # 무한값.\n",
    "save_path = \"saved_model/word2vec/bigkinds.model\"\n",
    "for epoch in range(1000):\n",
    "    model.train(\n",
    "        token_list,\n",
    "        total_examples=model.corpus_count,\n",
    "        epochs=1,\n",
    "        compute_loss=True\n",
    "    )\n",
    "    loss = model.get_latest_training_loss()\n",
    "    if best_score > loss:  # 성능이 개선되었으면\n",
    "        model.save(save_path)\n",
    "        print(f\">>>>>>{epoch}에서 모델 저장\")\n",
    "        best_score = loss\n",
    "    loss_list.append(loss)\n",
    "    if epoch % 50 ==0 or (epoch+1) == 1000:\n",
    "        print(f\"[{epoch}/1000] loss: {loss}\")"
   ]
  },
  {
   "cell_type": "code",
   "execution_count": 46,
   "id": "57c4db49",
   "metadata": {},
   "outputs": [],
   "source": [
    "# 저장된 모델 loading\n",
    "load_model = Word2Vec.load(save_path)"
   ]
  },
  {
   "cell_type": "code",
   "execution_count": 47,
   "id": "a18db6b7",
   "metadata": {},
   "outputs": [
    {
     "data": {
      "text/plain": [
       "12628"
      ]
     },
     "execution_count": 47,
     "metadata": {},
     "output_type": "execute_result"
    }
   ],
   "source": [
    "# Vocab 크기\n",
    "wv = load_model.wv\n",
    "len(wv.key_to_index)"
   ]
  },
  {
   "cell_type": "code",
   "execution_count": null,
   "id": "90698082",
   "metadata": {},
   "outputs": [],
   "source": []
  },
  {
   "cell_type": "code",
   "execution_count": 56,
   "id": "3ada9d52",
   "metadata": {},
   "outputs": [
    {
     "name": "stdout",
     "output_type": "stream",
     "text": [
      "[('진앙', 0.5711700916290283), ('용림', 0.5479910373687744), ('길주', 0.540039598941803), ('북동쪽', 0.537863552570343), ('평안남도', 0.5339024662971497), ('북위', 0.5321610569953918), ('없을', 0.5313072800636292), ('동경', 0.526822566986084), ('지진해일', 0.5258076786994934), ('깊이', 0.523917019367218)]\n"
     ]
    }
   ],
   "source": [
    "# 유사도 조회\n",
    "word = \"폭염\"\n",
    "word = \"산사태\"\n",
    "word = \"지진\"\n",
    "\n",
    "\n",
    "try:\n",
    "    result = wv.most_similar(word)\n",
    "    print(result)\n",
    "except:\n",
    "    print(\"없는 단어\")"
   ]
  },
  {
   "cell_type": "code",
   "execution_count": null,
   "id": "2c41e7b0",
   "metadata": {},
   "outputs": [],
   "source": []
  },
  {
   "cell_type": "code",
   "execution_count": null,
   "id": "b0009f53",
   "metadata": {},
   "outputs": [],
   "source": []
  },
  {
   "cell_type": "code",
   "execution_count": null,
   "id": "cb144875",
   "metadata": {},
   "outputs": [],
   "source": []
  }
 ],
 "metadata": {
  "kernelspec": {
   "display_name": "ml",
   "language": "python",
   "name": "python3"
  },
  "language_info": {
   "codemirror_mode": {
    "name": "ipython",
    "version": 3
   },
   "file_extension": ".py",
   "mimetype": "text/x-python",
   "name": "python",
   "nbconvert_exporter": "python",
   "pygments_lexer": "ipython3",
   "version": "3.12.7"
  }
 },
 "nbformat": 4,
 "nbformat_minor": 5
}
