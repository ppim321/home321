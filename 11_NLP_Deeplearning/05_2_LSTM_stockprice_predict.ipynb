{
 "cells": [
  {
   "cell_type": "markdown",
   "id": "92933e86-724b-4568-a2ea-8951db5fee6e",
   "metadata": {},
   "source": [
    "# 삼성전자 주가 데이터 다운로드\n",
    "- Yahoo Finance 에서 주가 데이터 다운로드 (https://finance.yahoo.com/)\n",
    "    - 검색 키워드 '005930.KS' 입력\n",
    "- 검색 후 Historical Data 선택\n",
    "\n",
    "![yahoo finance](figures/rnn/21_yahoo_stock1.png)"
   ]
  },
  {
   "cell_type": "markdown",
   "id": "59ac250f-e525-49b6-93bd-a1e361d27224",
   "metadata": {},
   "source": [
    "- `Start Date: 2000년 1월 4일 End Date: 오늘날짜` 선택\n",
    "- **Apply 버튼** 클릭 후 다운로드\n",
    "  \n",
    "![yahoo finance](figures/rnn/22_yahoo_stock2.png)"
   ]
  },
  {
   "cell_type": "code",
   "execution_count": 1,
   "id": "e8862e3a-6cb1-44f0-a7c0-fd62fd73352b",
   "metadata": {},
   "outputs": [
    {
     "data": {
      "text/plain": [
       "'cpu'"
      ]
     },
     "execution_count": 1,
     "metadata": {},
     "output_type": "execute_result"
    }
   ],
   "source": [
    "import os\n",
    "import time\n",
    "\n",
    "import numpy as np\n",
    "import pandas as pd\n",
    "import matplotlib.pyplot as plt\n",
    "\n",
    "import torch\n",
    "import torch.nn as nn\n",
    "from torch.utils.data import TensorDataset, DataLoader\n",
    "import torchinfo\n",
    "\n",
    "from sklearn.preprocessing import MinMaxScaler, StandardScaler\n",
    "from sklearn.model_selection import train_test_split  \n",
    "\n",
    "device = 'cuda' if torch.cuda.is_available() else 'cpu'\n",
    "device"
   ]
  },
  {
   "cell_type": "markdown",
   "id": "f0e09c6c-fea4-4baa-9c22-a4c28a2b8d1f",
   "metadata": {},
   "source": [
    "# DataLoading"
   ]
  },
  {
   "cell_type": "code",
   "execution_count": 2,
   "id": "b669887d-c907-4a0b-97cb-e9f9ad551c88",
   "metadata": {},
   "outputs": [
    {
     "data": {
      "text/plain": [
       "(6122, 7)"
      ]
     },
     "execution_count": 2,
     "metadata": {},
     "output_type": "execute_result"
    }
   ],
   "source": [
    "df = pd.read_csv(\"dataset/005930.KS.csv\")\n",
    "df.shape"
   ]
  },
  {
   "cell_type": "code",
   "execution_count": 3,
   "id": "09b882c5-3d1b-4dec-8df4-ad2d2ca59d49",
   "metadata": {
    "scrolled": true
   },
   "outputs": [
    {
     "name": "stdout",
     "output_type": "stream",
     "text": [
      "<class 'pandas.core.frame.DataFrame'>\n",
      "RangeIndex: 6122 entries, 0 to 6121\n",
      "Data columns (total 7 columns):\n",
      " #   Column     Non-Null Count  Dtype  \n",
      "---  ------     --------------  -----  \n",
      " 0   Date       6122 non-null   object \n",
      " 1   Open       6122 non-null   float64\n",
      " 2   High       6122 non-null   float64\n",
      " 3   Low        6122 non-null   float64\n",
      " 4   Close      6122 non-null   float64\n",
      " 5   Adj Close  6122 non-null   float64\n",
      " 6   Volume     6122 non-null   int64  \n",
      "dtypes: float64(5), int64(1), object(1)\n",
      "memory usage: 334.9+ KB\n"
     ]
    }
   ],
   "source": [
    "df.info()"
   ]
  },
  {
   "cell_type": "code",
   "execution_count": 4,
   "id": "7f5d3bd8-5308-4d13-99a9-cd72e9329fe4",
   "metadata": {},
   "outputs": [
    {
     "data": {
      "text/html": [
       "<div>\n",
       "<style scoped>\n",
       "    .dataframe tbody tr th:only-of-type {\n",
       "        vertical-align: middle;\n",
       "    }\n",
       "\n",
       "    .dataframe tbody tr th {\n",
       "        vertical-align: top;\n",
       "    }\n",
       "\n",
       "    .dataframe thead th {\n",
       "        text-align: right;\n",
       "    }\n",
       "</style>\n",
       "<table border=\"1\" class=\"dataframe\">\n",
       "  <thead>\n",
       "    <tr style=\"text-align: right;\">\n",
       "      <th></th>\n",
       "      <th>Open</th>\n",
       "      <th>High</th>\n",
       "      <th>Low</th>\n",
       "      <th>Close</th>\n",
       "      <th>Adj Close</th>\n",
       "      <th>Volume</th>\n",
       "    </tr>\n",
       "    <tr>\n",
       "      <th>Date</th>\n",
       "      <th></th>\n",
       "      <th></th>\n",
       "      <th></th>\n",
       "      <th></th>\n",
       "      <th></th>\n",
       "      <th></th>\n",
       "    </tr>\n",
       "  </thead>\n",
       "  <tbody>\n",
       "    <tr>\n",
       "      <th>2000-01-04</th>\n",
       "      <td>6000.0</td>\n",
       "      <td>6110.0</td>\n",
       "      <td>5660.0</td>\n",
       "      <td>6110.0</td>\n",
       "      <td>4449.711426</td>\n",
       "      <td>74195000</td>\n",
       "    </tr>\n",
       "    <tr>\n",
       "      <th>2000-01-05</th>\n",
       "      <td>5800.0</td>\n",
       "      <td>6060.0</td>\n",
       "      <td>5520.0</td>\n",
       "      <td>5580.0</td>\n",
       "      <td>4063.728760</td>\n",
       "      <td>74680000</td>\n",
       "    </tr>\n",
       "    <tr>\n",
       "      <th>2000-01-06</th>\n",
       "      <td>5750.0</td>\n",
       "      <td>5780.0</td>\n",
       "      <td>5580.0</td>\n",
       "      <td>5620.0</td>\n",
       "      <td>4092.860107</td>\n",
       "      <td>54390000</td>\n",
       "    </tr>\n",
       "    <tr>\n",
       "      <th>2000-01-07</th>\n",
       "      <td>5560.0</td>\n",
       "      <td>5670.0</td>\n",
       "      <td>5360.0</td>\n",
       "      <td>5540.0</td>\n",
       "      <td>4034.597656</td>\n",
       "      <td>40305000</td>\n",
       "    </tr>\n",
       "    <tr>\n",
       "      <th>2000-01-10</th>\n",
       "      <td>5600.0</td>\n",
       "      <td>5770.0</td>\n",
       "      <td>5580.0</td>\n",
       "      <td>5770.0</td>\n",
       "      <td>4202.100586</td>\n",
       "      <td>46880000</td>\n",
       "    </tr>\n",
       "  </tbody>\n",
       "</table>\n",
       "</div>"
      ],
      "text/plain": [
       "              Open    High     Low   Close    Adj Close    Volume\n",
       "Date                                                             \n",
       "2000-01-04  6000.0  6110.0  5660.0  6110.0  4449.711426  74195000\n",
       "2000-01-05  5800.0  6060.0  5520.0  5580.0  4063.728760  74680000\n",
       "2000-01-06  5750.0  5780.0  5580.0  5620.0  4092.860107  54390000\n",
       "2000-01-07  5560.0  5670.0  5360.0  5540.0  4034.597656  40305000\n",
       "2000-01-10  5600.0  5770.0  5580.0  5770.0  4202.100586  46880000"
      ]
     },
     "execution_count": 4,
     "metadata": {},
     "output_type": "execute_result"
    }
   ],
   "source": [
    "# Date 를 index 로 변환\n",
    "df = df.set_index('Date')\n",
    "df.head()"
   ]
  },
  {
   "cell_type": "code",
   "execution_count": 6,
   "id": "508a168c-8db5-4aa2-bcc7-0ce1e26cdee8",
   "metadata": {},
   "outputs": [],
   "source": [
    "df.drop(columns='Adj Close', inplace=True)"
   ]
  },
  {
   "cell_type": "code",
   "execution_count": 7,
   "id": "6d4c922a-df53-4535-805a-583fe328432d",
   "metadata": {},
   "outputs": [
    {
     "data": {
      "text/html": [
       "<div>\n",
       "<style scoped>\n",
       "    .dataframe tbody tr th:only-of-type {\n",
       "        vertical-align: middle;\n",
       "    }\n",
       "\n",
       "    .dataframe tbody tr th {\n",
       "        vertical-align: top;\n",
       "    }\n",
       "\n",
       "    .dataframe thead th {\n",
       "        text-align: right;\n",
       "    }\n",
       "</style>\n",
       "<table border=\"1\" class=\"dataframe\">\n",
       "  <thead>\n",
       "    <tr style=\"text-align: right;\">\n",
       "      <th></th>\n",
       "      <th>Open</th>\n",
       "      <th>High</th>\n",
       "      <th>Low</th>\n",
       "      <th>Close</th>\n",
       "      <th>Volume</th>\n",
       "    </tr>\n",
       "    <tr>\n",
       "      <th>Date</th>\n",
       "      <th></th>\n",
       "      <th></th>\n",
       "      <th></th>\n",
       "      <th></th>\n",
       "      <th></th>\n",
       "    </tr>\n",
       "  </thead>\n",
       "  <tbody>\n",
       "    <tr>\n",
       "      <th>2000-01-04</th>\n",
       "      <td>6000.0</td>\n",
       "      <td>6110.0</td>\n",
       "      <td>5660.0</td>\n",
       "      <td>6110.0</td>\n",
       "      <td>74195000</td>\n",
       "    </tr>\n",
       "    <tr>\n",
       "      <th>2000-01-05</th>\n",
       "      <td>5800.0</td>\n",
       "      <td>6060.0</td>\n",
       "      <td>5520.0</td>\n",
       "      <td>5580.0</td>\n",
       "      <td>74680000</td>\n",
       "    </tr>\n",
       "    <tr>\n",
       "      <th>2000-01-06</th>\n",
       "      <td>5750.0</td>\n",
       "      <td>5780.0</td>\n",
       "      <td>5580.0</td>\n",
       "      <td>5620.0</td>\n",
       "      <td>54390000</td>\n",
       "    </tr>\n",
       "    <tr>\n",
       "      <th>2000-01-07</th>\n",
       "      <td>5560.0</td>\n",
       "      <td>5670.0</td>\n",
       "      <td>5360.0</td>\n",
       "      <td>5540.0</td>\n",
       "      <td>40305000</td>\n",
       "    </tr>\n",
       "    <tr>\n",
       "      <th>2000-01-10</th>\n",
       "      <td>5600.0</td>\n",
       "      <td>5770.0</td>\n",
       "      <td>5580.0</td>\n",
       "      <td>5770.0</td>\n",
       "      <td>46880000</td>\n",
       "    </tr>\n",
       "  </tbody>\n",
       "</table>\n",
       "</div>"
      ],
      "text/plain": [
       "              Open    High     Low   Close    Volume\n",
       "Date                                                \n",
       "2000-01-04  6000.0  6110.0  5660.0  6110.0  74195000\n",
       "2000-01-05  5800.0  6060.0  5520.0  5580.0  74680000\n",
       "2000-01-06  5750.0  5780.0  5580.0  5620.0  54390000\n",
       "2000-01-07  5560.0  5670.0  5360.0  5540.0  40305000\n",
       "2000-01-10  5600.0  5770.0  5580.0  5770.0  46880000"
      ]
     },
     "execution_count": 7,
     "metadata": {},
     "output_type": "execute_result"
    }
   ],
   "source": [
    "df.head()"
   ]
  },
  {
   "cell_type": "markdown",
   "id": "b01d69fb",
   "metadata": {},
   "source": [
    "# Dataset 구성\n",
    "## input, output data\n",
    "- input (X)) feature 구성: \\[Open, High, Low, Close, Volumn  (Adj Close 제외)\\] 50일치\n",
    "- output (y) : Close - input 다음날 Close가격"
   ]
  },
  {
   "cell_type": "code",
   "execution_count": 9,
   "id": "baef8cb4-7212-41d4-92c4-d391e164f0e6",
   "metadata": {},
   "outputs": [
    {
     "name": "stdout",
     "output_type": "stream",
     "text": [
      "(6122, 5) (6122, 1)\n"
     ]
    }
   ],
   "source": [
    "df_y = df['Close'].to_frame() \n",
    "df_X = df\n",
    "print(df_X.shape, df_y.shape)"
   ]
  },
  {
   "cell_type": "markdown",
   "id": "e9cddb41",
   "metadata": {},
   "source": [
    "## 전처리\n",
    "- feature scaling\n",
    "    - feature 간의 scaling(단위)을 맞추는 작업.\n",
    "- X: Standard Scaling (평균: 0, 표준편차: 1)\n",
    "- y: MinMax Scaling (최소: 0, 최대: 1)  => X의 scale과 비슷한 값으로 변환."
   ]
  },
  {
   "cell_type": "code",
   "execution_count": 17,
   "id": "07e15f90-da90-4933-ab41-2dab88f33bf5",
   "metadata": {},
   "outputs": [
    {
     "name": "stdout",
     "output_type": "stream",
     "text": [
      "(6122, 5) (6122, 1)\n"
     ]
    }
   ],
   "source": [
    "X_scaler = StandardScaler()\n",
    "y_scaler = MinMaxScaler()\n",
    "X = X_scaler.fit_transform(df_X)\n",
    "y = y_scaler.fit_transform(df_y)\n",
    "print(X.shape, y.shape)"
   ]
  },
  {
   "cell_type": "code",
   "execution_count": 18,
   "id": "4675a56f-0003-441c-8858-526b3177a4c7",
   "metadata": {},
   "outputs": [
    {
     "data": {
      "text/plain": [
       "array([[-0.99007851, -0.98965518, -1.00112858, -0.98571511,  3.51992614],\n",
       "       [-0.99894601, -0.99185497, -1.00738983, -1.00923676,  3.55212512],\n",
       "       [-1.00116289, -1.00417382, -1.00470644, -1.00746154,  2.20507915],\n",
       "       [-1.00958702, -1.00901336, -1.01454554, -1.01101197,  1.26998095],\n",
       "       [-1.00781352, -1.00461378, -1.00470644, -1.00080447,  1.70649289]])"
      ]
     },
     "execution_count": 18,
     "metadata": {},
     "output_type": "execute_result"
    }
   ],
   "source": [
    "X[:5]"
   ]
  },
  {
   "cell_type": "code",
   "execution_count": 19,
   "id": "ca62c66b-b4ec-4075-a332-e0c712716170",
   "metadata": {},
   "outputs": [
    {
     "data": {
      "text/plain": [
       "array([[0.03829161],\n",
       "       [0.0322873 ],\n",
       "       [0.03274046],\n",
       "       [0.03183415],\n",
       "       [0.03443979]])"
      ]
     },
     "execution_count": 19,
     "metadata": {},
     "output_type": "execute_result"
    }
   ],
   "source": [
    "y[:5]"
   ]
  },
  {
   "cell_type": "markdown",
   "id": "7ae6a470-fc85-43c4-aa31-ffa22f3eb94c",
   "metadata": {},
   "source": [
    "## Input Sequential Data 구성\n",
    "- X: 50일치 데이터(ex:1일 ~ 50일), y: 51일째 주가. (ex: 51일)\n",
    "    - 50일의 연속된 주식데이터를 학습하여 51일째 주가를 예측한다.\n",
    "    - X의 한개의 데이터가 50일치 주가데이터가 된다."
   ]
  },
  {
   "cell_type": "markdown",
   "id": "d0f7da27-56d2-464f-b1ce-ae0a26259caf",
   "metadata": {},
   "source": [
    "![img](figures/rnn/20_stock_dataset.png)\n",
    "\n",
    "[연속된 날짜가 5인 경우]"
   ]
  },
  {
   "cell_type": "code",
   "execution_count": 20,
   "id": "05ce4ece-43cc-4002-9dab-37561807f86e",
   "metadata": {},
   "outputs": [],
   "source": [
    "time_steps = 50 # seq_length (몇일치 주가를 하나의 데이터로 묶을 지.)\n",
    "data_X = [] # input data들 모을 리스트. X 1개 shape: (50(time_stemps), 5)\n",
    "data_y = [] # output data를 모을 리스트.\n",
    "\n",
    "for idx in range(0, y.size-time_steps): # 데이터를 구성할 수있는 51개 행이 남을때 까지 반복.\n",
    "    # idx: 0  X: 0 ~ 49,   y: 50\n",
    "    # idx: 1  X: 1 ~ 50,   y: 51\n",
    "    _X = X[idx:time_steps+idx] \n",
    "    _y = y[time_steps+idx]\n",
    "    data_X.append(_X)\n",
    "    data_y.append(_y)"
   ]
  },
  {
   "cell_type": "code",
   "execution_count": 25,
   "id": "68c0c103-1167-45cb-9de5-198e3bd9361c",
   "metadata": {},
   "outputs": [
    {
     "data": {
      "text/plain": [
       "(6072, 50, 5)"
      ]
     },
     "execution_count": 25,
     "metadata": {},
     "output_type": "execute_result"
    }
   ],
   "source": [
    "np.shape(data_X) # (6072:batch, 50:seq_len, 5:개별 seq의 feature수)"
   ]
  },
  {
   "cell_type": "code",
   "execution_count": 26,
   "id": "7e3767fc-165d-4f95-955d-a9b05e27aa96",
   "metadata": {},
   "outputs": [
    {
     "data": {
      "text/plain": [
       "(6072, 1)"
      ]
     },
     "execution_count": 26,
     "metadata": {},
     "output_type": "execute_result"
    }
   ],
   "source": [
    "np.shape(data_y)"
   ]
  },
  {
   "cell_type": "markdown",
   "id": "2e862a63-bc02-4137-bee0-f83a5edfe462",
   "metadata": {},
   "source": [
    "## Train / test set 분리"
   ]
  },
  {
   "cell_type": "code",
   "execution_count": 27,
   "id": "fe326baa-2ced-4c94-aec1-34b7b3d9c579",
   "metadata": {},
   "outputs": [],
   "source": [
    "X_train, X_test, y_train, y_test = train_test_split(data_X, data_y, test_size=0.2)"
   ]
  },
  {
   "cell_type": "code",
   "execution_count": 28,
   "id": "1295557f-f8db-42ea-9d6f-817c137b577a",
   "metadata": {},
   "outputs": [
    {
     "data": {
      "text/plain": [
       "((4857, 50, 5), (1215, 50, 5))"
      ]
     },
     "execution_count": 28,
     "metadata": {},
     "output_type": "execute_result"
    }
   ],
   "source": [
    "np.shape(X_train), np.shape(X_test)"
   ]
  },
  {
   "cell_type": "code",
   "execution_count": 41,
   "id": "298efdab-a0bc-4a72-aad7-d361b42a7b86",
   "metadata": {},
   "outputs": [],
   "source": [
    "# list -> ndarray 변환 (List를 넣어서 Tensor를 생성하면 속도가 느림. )\n",
    "X_train, X_test, y_train, y_test = (np.array(X_train, dtype=\"float32\"), \n",
    "                                    np.array(X_test, dtype=\"float32\"), \n",
    "                                    np.array(y_train, dtype=\"float32\"), \n",
    "                                    np.array(y_test, dtype=\"float32\")\n",
    "                                   )"
   ]
  },
  {
   "cell_type": "code",
   "execution_count": 42,
   "id": "642b08bd-6087-40c3-8fc3-e61ced189734",
   "metadata": {},
   "outputs": [
    {
     "data": {
      "text/plain": [
       "dtype('float32')"
      ]
     },
     "execution_count": 42,
     "metadata": {},
     "output_type": "execute_result"
    }
   ],
   "source": [
    "X_train.dtype"
   ]
  },
  {
   "cell_type": "markdown",
   "id": "de4fb806-4921-4bed-82ca-6aa1dfb4270a",
   "metadata": {},
   "source": [
    "## Dataset, DataLoader 구성"
   ]
  },
  {
   "cell_type": "code",
   "execution_count": 45,
   "id": "9ec8de07-6b8a-4566-9421-72ab9391e848",
   "metadata": {},
   "outputs": [
    {
     "data": {
      "text/plain": [
       "(200, 1215)"
      ]
     },
     "execution_count": 45,
     "metadata": {},
     "output_type": "execute_result"
    }
   ],
   "source": [
    "# Dataset\n",
    "## 메모리에 있는 tensor가  raw data일 때 TensorDataset으로 생성.\n",
    "train_set = TensorDataset(torch.tensor(X_train), torch.tensor(y_train))\n",
    "test_set = TensorDataset(torch.tensor(X_test), torch.tensor(y_test))\n",
    "\n",
    "len(train_set), len(test_set)"
   ]
  },
  {
   "cell_type": "code",
   "execution_count": 46,
   "id": "b8af3b32-f57f-4ea8-a90d-2c524043f37e",
   "metadata": {},
   "outputs": [
    {
     "data": {
      "text/plain": [
       "(1, 7)"
      ]
     },
     "execution_count": 46,
     "metadata": {},
     "output_type": "execute_result"
    }
   ],
   "source": [
    "train_loader = DataLoader(train_set, batch_size=200, shuffle=True, drop_last=True)\n",
    "test_loader = DataLoader(test_set, batch_size=200)\n",
    "\n",
    "len(train_loader), len(test_loader)"
   ]
  },
  {
   "cell_type": "markdown",
   "id": "7a3e6cbc-3787-4afd-b670-5ceebef5d207",
   "metadata": {},
   "source": [
    "# 모델 정의"
   ]
  },
  {
   "cell_type": "code",
   "execution_count": 67,
   "id": "fcf80d55-aae9-412b-a7b5-a17c0d08bb6a",
   "metadata": {},
   "outputs": [],
   "source": [
    "class StockPriceModel(nn.Module):\n",
    "\n",
    "    def __init__(self, input_size, hidden_size, num_layers, bidirectional=True, dropout_rate=0.3):\n",
    "        super().__init__()\n",
    "        # X -> LSTM -(마지막hidden)->Dropout->Linear -> y\n",
    "        self.lstm = nn.LSTM(\n",
    "            input_size=input_size, # 개별 seq(하루치 X)의 feature수\n",
    "            hidden_size=hidden_size,\n",
    "            num_layers=num_layers,\n",
    "            bidirectional=bidirectional,\n",
    "            dropout=dropout_rate\n",
    "        )\n",
    "        self.dropout = nn.Dropout(dropout_rate)\n",
    "        i_features = hidden_size * 2 if bidirectional else hidden_size\n",
    "        self.lr = nn.Linear(i_features,  1)  # 출력: 가격 1개.\n",
    "        self.sigmoid = nn.Sigmoid()  # y: 0 ~ 1 범위이므로 sigmoid사용해서 범위를 맞춘다.\n",
    "\n",
    "    def forward(self, X):\n",
    "        # input X: (batch, seq_len, input_size): (200, 50, 5)\n",
    "        \n",
    "        X = X.transpose(1, 0)\n",
    "        # X: (seq_len, batch, input_size) : (50, 200, 5)\n",
    "        \n",
    "        out, _ = self.lstm(X)   # _ : (hidden_state, cell_state)\n",
    "        # out: [seq_len, batch, hidden_size( * 2)]  \n",
    "        \n",
    "        last_out = self.dropout(out[-1]) \n",
    "        #last_out: [batch, hidden( * 2)]\n",
    "\n",
    "        last_out = self.lr(last_out)\n",
    "        # last_out: 1\n",
    "        return self.sigmoid(last_out)"
   ]
  },
  {
   "cell_type": "code",
   "execution_count": 68,
   "id": "5e78e85d-c5b8-4913-977c-4d44ddd1068f",
   "metadata": {},
   "outputs": [
    {
     "name": "stderr",
     "output_type": "stream",
     "text": [
      "C:\\Users\\Playdata\\miniconda3\\envs\\ml\\Lib\\site-packages\\torch\\nn\\modules\\rnn.py:123: UserWarning: dropout option adds dropout after all but last recurrent layer, so non-zero dropout expects num_layers greater than 1, but got dropout=0.3 and num_layers=1\n",
      "  warnings.warn(\n"
     ]
    }
   ],
   "source": [
    "model = StockPriceModel(\n",
    "    input_size=5,\n",
    "    hidden_size=32,\n",
    "    num_layers=1,\n",
    "    bidirectional=True,\n",
    "    dropout_rate=0.3\n",
    ")\n",
    "model = model.to(device)"
   ]
  },
  {
   "cell_type": "code",
   "execution_count": 69,
   "id": "7ce130af-7005-43e4-a3a2-87e760bd0942",
   "metadata": {},
   "outputs": [
    {
     "name": "stdout",
     "output_type": "stream",
     "text": [
      "StockPriceModel(\n",
      "  (lstm): LSTM(5, 32, dropout=0.3, bidirectional=True)\n",
      "  (dropout): Dropout(p=0.3, inplace=False)\n",
      "  (lr): Linear(in_features=64, out_features=1, bias=True)\n",
      "  (sigmoid): Sigmoid()\n",
      ")\n"
     ]
    }
   ],
   "source": [
    "print(model)"
   ]
  },
  {
   "cell_type": "code",
   "execution_count": 70,
   "id": "3d688135-8555-40b9-9b7c-353df2c69d46",
   "metadata": {},
   "outputs": [
    {
     "data": {
      "text/plain": [
       "==========================================================================================\n",
       "Layer (type:depth-idx)                   Output Shape              Param #\n",
       "==========================================================================================\n",
       "StockPriceModel                          [200, 1]                  --\n",
       "├─LSTM: 1-1                              [50, 200, 64]             9,984\n",
       "├─Dropout: 1-2                           [200, 64]                 --\n",
       "├─Linear: 1-3                            [200, 1]                  65\n",
       "├─Sigmoid: 1-4                           [200, 1]                  --\n",
       "==========================================================================================\n",
       "Total params: 10,049\n",
       "Trainable params: 10,049\n",
       "Non-trainable params: 0\n",
       "Total mult-adds (Units.MEGABYTES): 99.85\n",
       "==========================================================================================\n",
       "Input size (MB): 0.20\n",
       "Forward/backward pass size (MB): 5.12\n",
       "Params size (MB): 0.04\n",
       "Estimated Total Size (MB): 5.36\n",
       "=========================================================================================="
      ]
     },
     "execution_count": 70,
     "metadata": {},
     "output_type": "execute_result"
    }
   ],
   "source": [
    "from torchinfo import summary\n",
    "summary(model, (200, 50, 5), device=device)"
   ]
  },
  {
   "cell_type": "markdown",
   "id": "0d160366-9d68-4adc-89cd-841bbb84ce2f",
   "metadata": {},
   "source": [
    "### train"
   ]
  },
  {
   "cell_type": "code",
   "execution_count": 71,
   "id": "a0df784a-a5b8-4f35-9336-04f8291079fc",
   "metadata": {},
   "outputs": [],
   "source": [
    "optimizer = torch.optim.Adam(model.parameters(), lr=0.01)\n",
    "loss_fn = nn.MSELoss()"
   ]
  },
  {
   "cell_type": "code",
   "execution_count": 72,
   "id": "26ce9ebc-ab06-430b-9a19-88a7c2622e8b",
   "metadata": {},
   "outputs": [
    {
     "name": "stdout",
     "output_type": "stream",
     "text": [
      "[0/100] train loss: 0.12562040984630585, val loss: 0.6869580745697021\n",
      "[10/100] train loss: 0.01130972895771265, val loss: 0.07302884990349412\n",
      "[20/100] train loss: 0.0035113063640892506, val loss: 0.024475148413330317\n",
      "[30/100] train loss: 0.002653619972988963, val loss: 0.01719502080231905\n",
      "[40/100] train loss: 0.002014587167650461, val loss: 0.0091248934622854\n",
      "[50/100] train loss: 0.0010806102072820067, val loss: 0.0058864926104433835\n",
      "[60/100] train loss: 0.0009441461879760027, val loss: 0.004288599302526563\n",
      "[70/100] train loss: 0.0007890447741374373, val loss: 0.0035365409567020833\n",
      "[80/100] train loss: 0.0006822530995123088, val loss: 0.0033081964938901365\n",
      "[90/100] train loss: 0.0006169585976749659, val loss: 0.0030144036863930523\n",
      "[99/100] train loss: 0.0005771225551143289, val loss: 0.0028457721637096256\n"
     ]
    }
   ],
   "source": [
    "train_loss_list = []\n",
    "test_loss_list = []\n",
    "\n",
    "for epoch in range(100):\n",
    "    model.train()\n",
    "    train_loss = 0.0\n",
    "    for X_train, y_train in train_loader:\n",
    "        X_train, y_train = X_train.to(device), y_train.to(device)\n",
    "        pred = model(X_train)\n",
    "        loss = loss_fn(pred, y_train)\n",
    "        loss.backward()\n",
    "        optimizer.step()\n",
    "        optimizer.zero_grad()\n",
    "        train_loss += loss.item()\n",
    "    train_loss_list.append(train_loss/len(train_loader))\n",
    "\n",
    "    model.eval()\n",
    "    test_loss = 0.0\n",
    "    with torch.no_grad():\n",
    "        for X_test, y_test in test_loader:\n",
    "            X_test, y_test = X_test.to(device), y_test.to(device)\n",
    "            pred_test = model(X_test)\n",
    "            test_loss += loss_fn(pred_test, y_test).item()\n",
    "        test_loss_list.append(test_loss/len(test_loader))\n",
    "    if epoch % 10 == 0 or epoch == (100-1):\n",
    "        print(f\"[{epoch}/100] train loss: {train_loss}, val loss: {test_loss}\")"
   ]
  },
  {
   "cell_type": "code",
   "execution_count": 58,
   "id": "26a77261-50d2-4903-ac87-3a0200102cbd",
   "metadata": {},
   "outputs": [
    {
     "data": {
      "text/plain": [
       "(6072, 50, 5)"
      ]
     },
     "execution_count": 58,
     "metadata": {},
     "output_type": "execute_result"
    }
   ],
   "source": [
    "### 마지막 Sequence로 가격 추론."
   ]
  },
  {
   "cell_type": "code",
   "execution_count": 60,
   "id": "06fc1205-3524-418d-9164-2b4ac7f5b97f",
   "metadata": {},
   "outputs": [
    {
     "data": {
      "text/html": [
       "<div>\n",
       "<style scoped>\n",
       "    .dataframe tbody tr th:only-of-type {\n",
       "        vertical-align: middle;\n",
       "    }\n",
       "\n",
       "    .dataframe tbody tr th {\n",
       "        vertical-align: top;\n",
       "    }\n",
       "\n",
       "    .dataframe thead th {\n",
       "        text-align: right;\n",
       "    }\n",
       "</style>\n",
       "<table border=\"1\" class=\"dataframe\">\n",
       "  <thead>\n",
       "    <tr style=\"text-align: right;\">\n",
       "      <th></th>\n",
       "      <th>Open</th>\n",
       "      <th>High</th>\n",
       "      <th>Low</th>\n",
       "      <th>Close</th>\n",
       "      <th>Volume</th>\n",
       "    </tr>\n",
       "    <tr>\n",
       "      <th>Date</th>\n",
       "      <th></th>\n",
       "      <th></th>\n",
       "      <th></th>\n",
       "      <th></th>\n",
       "      <th></th>\n",
       "    </tr>\n",
       "  </thead>\n",
       "  <tbody>\n",
       "    <tr>\n",
       "      <th>2024-03-22</th>\n",
       "      <td>79600.0</td>\n",
       "      <td>79900.0</td>\n",
       "      <td>77800.0</td>\n",
       "      <td>78900.0</td>\n",
       "      <td>26724761</td>\n",
       "    </tr>\n",
       "    <tr>\n",
       "      <th>2024-03-25</th>\n",
       "      <td>79600.0</td>\n",
       "      <td>79800.0</td>\n",
       "      <td>77800.0</td>\n",
       "      <td>78200.0</td>\n",
       "      <td>18703996</td>\n",
       "    </tr>\n",
       "    <tr>\n",
       "      <th>2024-03-26</th>\n",
       "      <td>79700.0</td>\n",
       "      <td>80100.0</td>\n",
       "      <td>79200.0</td>\n",
       "      <td>79900.0</td>\n",
       "      <td>30551494</td>\n",
       "    </tr>\n",
       "    <tr>\n",
       "      <th>2024-03-27</th>\n",
       "      <td>79200.0</td>\n",
       "      <td>80000.0</td>\n",
       "      <td>79200.0</td>\n",
       "      <td>79800.0</td>\n",
       "      <td>17424595</td>\n",
       "    </tr>\n",
       "    <tr>\n",
       "      <th>2024-03-28</th>\n",
       "      <td>79400.0</td>\n",
       "      <td>81000.0</td>\n",
       "      <td>79200.0</td>\n",
       "      <td>80800.0</td>\n",
       "      <td>25084812</td>\n",
       "    </tr>\n",
       "    <tr>\n",
       "      <th>2024-03-29</th>\n",
       "      <td>81200.0</td>\n",
       "      <td>82500.0</td>\n",
       "      <td>80900.0</td>\n",
       "      <td>82400.0</td>\n",
       "      <td>27126366</td>\n",
       "    </tr>\n",
       "    <tr>\n",
       "      <th>2024-04-01</th>\n",
       "      <td>83200.0</td>\n",
       "      <td>83300.0</td>\n",
       "      <td>82000.0</td>\n",
       "      <td>82000.0</td>\n",
       "      <td>20116513</td>\n",
       "    </tr>\n",
       "    <tr>\n",
       "      <th>2024-04-02</th>\n",
       "      <td>82900.0</td>\n",
       "      <td>85000.0</td>\n",
       "      <td>82900.0</td>\n",
       "      <td>85000.0</td>\n",
       "      <td>37077944</td>\n",
       "    </tr>\n",
       "    <tr>\n",
       "      <th>2024-04-03</th>\n",
       "      <td>84300.0</td>\n",
       "      <td>85000.0</td>\n",
       "      <td>83500.0</td>\n",
       "      <td>84100.0</td>\n",
       "      <td>30493347</td>\n",
       "    </tr>\n",
       "    <tr>\n",
       "      <th>2024-04-04</th>\n",
       "      <td>85200.0</td>\n",
       "      <td>85500.0</td>\n",
       "      <td>84300.0</td>\n",
       "      <td>85300.0</td>\n",
       "      <td>25248934</td>\n",
       "    </tr>\n",
       "    <tr>\n",
       "      <th>2024-04-05</th>\n",
       "      <td>84500.0</td>\n",
       "      <td>85000.0</td>\n",
       "      <td>83800.0</td>\n",
       "      <td>84500.0</td>\n",
       "      <td>18883752</td>\n",
       "    </tr>\n",
       "    <tr>\n",
       "      <th>2024-04-08</th>\n",
       "      <td>85200.0</td>\n",
       "      <td>86000.0</td>\n",
       "      <td>84500.0</td>\n",
       "      <td>84500.0</td>\n",
       "      <td>18953232</td>\n",
       "    </tr>\n",
       "    <tr>\n",
       "      <th>2024-04-09</th>\n",
       "      <td>84500.0</td>\n",
       "      <td>84900.0</td>\n",
       "      <td>83100.0</td>\n",
       "      <td>83600.0</td>\n",
       "      <td>23725956</td>\n",
       "    </tr>\n",
       "    <tr>\n",
       "      <th>2024-04-11</th>\n",
       "      <td>83200.0</td>\n",
       "      <td>84700.0</td>\n",
       "      <td>82500.0</td>\n",
       "      <td>84100.0</td>\n",
       "      <td>25538009</td>\n",
       "    </tr>\n",
       "    <tr>\n",
       "      <th>2024-04-12</th>\n",
       "      <td>84700.0</td>\n",
       "      <td>84900.0</td>\n",
       "      <td>83200.0</td>\n",
       "      <td>83700.0</td>\n",
       "      <td>17061770</td>\n",
       "    </tr>\n",
       "    <tr>\n",
       "      <th>2024-04-15</th>\n",
       "      <td>82900.0</td>\n",
       "      <td>83200.0</td>\n",
       "      <td>81200.0</td>\n",
       "      <td>82200.0</td>\n",
       "      <td>26663772</td>\n",
       "    </tr>\n",
       "    <tr>\n",
       "      <th>2024-04-16</th>\n",
       "      <td>81200.0</td>\n",
       "      <td>81300.0</td>\n",
       "      <td>79400.0</td>\n",
       "      <td>80000.0</td>\n",
       "      <td>31949845</td>\n",
       "    </tr>\n",
       "    <tr>\n",
       "      <th>2024-04-17</th>\n",
       "      <td>80700.0</td>\n",
       "      <td>80800.0</td>\n",
       "      <td>78900.0</td>\n",
       "      <td>78900.0</td>\n",
       "      <td>22611631</td>\n",
       "    </tr>\n",
       "    <tr>\n",
       "      <th>2024-04-18</th>\n",
       "      <td>78800.0</td>\n",
       "      <td>80100.0</td>\n",
       "      <td>78300.0</td>\n",
       "      <td>79600.0</td>\n",
       "      <td>21370190</td>\n",
       "    </tr>\n",
       "    <tr>\n",
       "      <th>2024-04-19</th>\n",
       "      <td>78300.0</td>\n",
       "      <td>78700.0</td>\n",
       "      <td>76300.0</td>\n",
       "      <td>77600.0</td>\n",
       "      <td>31317563</td>\n",
       "    </tr>\n",
       "    <tr>\n",
       "      <th>2024-04-22</th>\n",
       "      <td>77400.0</td>\n",
       "      <td>77500.0</td>\n",
       "      <td>75100.0</td>\n",
       "      <td>76100.0</td>\n",
       "      <td>30469477</td>\n",
       "    </tr>\n",
       "    <tr>\n",
       "      <th>2024-04-23</th>\n",
       "      <td>76400.0</td>\n",
       "      <td>76800.0</td>\n",
       "      <td>75500.0</td>\n",
       "      <td>75500.0</td>\n",
       "      <td>18717699</td>\n",
       "    </tr>\n",
       "    <tr>\n",
       "      <th>2024-04-24</th>\n",
       "      <td>77500.0</td>\n",
       "      <td>78800.0</td>\n",
       "      <td>77200.0</td>\n",
       "      <td>78600.0</td>\n",
       "      <td>22166150</td>\n",
       "    </tr>\n",
       "    <tr>\n",
       "      <th>2024-04-25</th>\n",
       "      <td>77300.0</td>\n",
       "      <td>77500.0</td>\n",
       "      <td>76300.0</td>\n",
       "      <td>76300.0</td>\n",
       "      <td>15549134</td>\n",
       "    </tr>\n",
       "    <tr>\n",
       "      <th>2024-04-26</th>\n",
       "      <td>77800.0</td>\n",
       "      <td>77900.0</td>\n",
       "      <td>76500.0</td>\n",
       "      <td>76700.0</td>\n",
       "      <td>12755629</td>\n",
       "    </tr>\n",
       "    <tr>\n",
       "      <th>2024-04-29</th>\n",
       "      <td>77400.0</td>\n",
       "      <td>77600.0</td>\n",
       "      <td>76200.0</td>\n",
       "      <td>76700.0</td>\n",
       "      <td>14664474</td>\n",
       "    </tr>\n",
       "    <tr>\n",
       "      <th>2024-04-30</th>\n",
       "      <td>77000.0</td>\n",
       "      <td>78500.0</td>\n",
       "      <td>76600.0</td>\n",
       "      <td>77500.0</td>\n",
       "      <td>19007007</td>\n",
       "    </tr>\n",
       "    <tr>\n",
       "      <th>2024-05-02</th>\n",
       "      <td>77600.0</td>\n",
       "      <td>78600.0</td>\n",
       "      <td>77300.0</td>\n",
       "      <td>78000.0</td>\n",
       "      <td>18900640</td>\n",
       "    </tr>\n",
       "    <tr>\n",
       "      <th>2024-05-03</th>\n",
       "      <td>79000.0</td>\n",
       "      <td>79000.0</td>\n",
       "      <td>77500.0</td>\n",
       "      <td>77600.0</td>\n",
       "      <td>13151889</td>\n",
       "    </tr>\n",
       "    <tr>\n",
       "      <th>2024-05-07</th>\n",
       "      <td>79600.0</td>\n",
       "      <td>81300.0</td>\n",
       "      <td>79400.0</td>\n",
       "      <td>81300.0</td>\n",
       "      <td>26238868</td>\n",
       "    </tr>\n",
       "    <tr>\n",
       "      <th>2024-05-08</th>\n",
       "      <td>80800.0</td>\n",
       "      <td>81400.0</td>\n",
       "      <td>80500.0</td>\n",
       "      <td>81300.0</td>\n",
       "      <td>13089576</td>\n",
       "    </tr>\n",
       "    <tr>\n",
       "      <th>2024-05-09</th>\n",
       "      <td>81100.0</td>\n",
       "      <td>81500.0</td>\n",
       "      <td>79700.0</td>\n",
       "      <td>79700.0</td>\n",
       "      <td>18759935</td>\n",
       "    </tr>\n",
       "    <tr>\n",
       "      <th>2024-05-10</th>\n",
       "      <td>80400.0</td>\n",
       "      <td>81100.0</td>\n",
       "      <td>78900.0</td>\n",
       "      <td>79200.0</td>\n",
       "      <td>16976124</td>\n",
       "    </tr>\n",
       "    <tr>\n",
       "      <th>2024-05-13</th>\n",
       "      <td>79400.0</td>\n",
       "      <td>79900.0</td>\n",
       "      <td>77600.0</td>\n",
       "      <td>78400.0</td>\n",
       "      <td>18652344</td>\n",
       "    </tr>\n",
       "    <tr>\n",
       "      <th>2024-05-14</th>\n",
       "      <td>78600.0</td>\n",
       "      <td>78800.0</td>\n",
       "      <td>77900.0</td>\n",
       "      <td>78300.0</td>\n",
       "      <td>11763992</td>\n",
       "    </tr>\n",
       "    <tr>\n",
       "      <th>2024-05-16</th>\n",
       "      <td>80200.0</td>\n",
       "      <td>80300.0</td>\n",
       "      <td>78100.0</td>\n",
       "      <td>78200.0</td>\n",
       "      <td>20989778</td>\n",
       "    </tr>\n",
       "    <tr>\n",
       "      <th>2024-05-17</th>\n",
       "      <td>78600.0</td>\n",
       "      <td>78800.0</td>\n",
       "      <td>77200.0</td>\n",
       "      <td>77400.0</td>\n",
       "      <td>15918201</td>\n",
       "    </tr>\n",
       "    <tr>\n",
       "      <th>2024-05-20</th>\n",
       "      <td>78100.0</td>\n",
       "      <td>79100.0</td>\n",
       "      <td>77900.0</td>\n",
       "      <td>78900.0</td>\n",
       "      <td>19456783</td>\n",
       "    </tr>\n",
       "    <tr>\n",
       "      <th>2024-05-21</th>\n",
       "      <td>78500.0</td>\n",
       "      <td>79000.0</td>\n",
       "      <td>78200.0</td>\n",
       "      <td>78400.0</td>\n",
       "      <td>13690583</td>\n",
       "    </tr>\n",
       "    <tr>\n",
       "      <th>2024-05-22</th>\n",
       "      <td>78100.0</td>\n",
       "      <td>78700.0</td>\n",
       "      <td>77300.0</td>\n",
       "      <td>77700.0</td>\n",
       "      <td>19521506</td>\n",
       "    </tr>\n",
       "    <tr>\n",
       "      <th>2024-05-23</th>\n",
       "      <td>77700.0</td>\n",
       "      <td>79100.0</td>\n",
       "      <td>77100.0</td>\n",
       "      <td>78300.0</td>\n",
       "      <td>18728087</td>\n",
       "    </tr>\n",
       "    <tr>\n",
       "      <th>2024-05-24</th>\n",
       "      <td>76800.0</td>\n",
       "      <td>77000.0</td>\n",
       "      <td>75700.0</td>\n",
       "      <td>75900.0</td>\n",
       "      <td>27891278</td>\n",
       "    </tr>\n",
       "    <tr>\n",
       "      <th>2024-05-27</th>\n",
       "      <td>75300.0</td>\n",
       "      <td>78200.0</td>\n",
       "      <td>74000.0</td>\n",
       "      <td>77200.0</td>\n",
       "      <td>43825202</td>\n",
       "    </tr>\n",
       "    <tr>\n",
       "      <th>2024-05-28</th>\n",
       "      <td>76500.0</td>\n",
       "      <td>78000.0</td>\n",
       "      <td>76200.0</td>\n",
       "      <td>77600.0</td>\n",
       "      <td>18539072</td>\n",
       "    </tr>\n",
       "    <tr>\n",
       "      <th>2024-05-29</th>\n",
       "      <td>77700.0</td>\n",
       "      <td>78200.0</td>\n",
       "      <td>75200.0</td>\n",
       "      <td>75200.0</td>\n",
       "      <td>30244875</td>\n",
       "    </tr>\n",
       "    <tr>\n",
       "      <th>2024-05-30</th>\n",
       "      <td>74800.0</td>\n",
       "      <td>75200.0</td>\n",
       "      <td>73500.0</td>\n",
       "      <td>73500.0</td>\n",
       "      <td>28551273</td>\n",
       "    </tr>\n",
       "    <tr>\n",
       "      <th>2024-05-31</th>\n",
       "      <td>74500.0</td>\n",
       "      <td>74700.0</td>\n",
       "      <td>73500.0</td>\n",
       "      <td>73500.0</td>\n",
       "      <td>26198776</td>\n",
       "    </tr>\n",
       "    <tr>\n",
       "      <th>2024-06-03</th>\n",
       "      <td>74400.0</td>\n",
       "      <td>76400.0</td>\n",
       "      <td>74200.0</td>\n",
       "      <td>75700.0</td>\n",
       "      <td>15706268</td>\n",
       "    </tr>\n",
       "    <tr>\n",
       "      <th>2024-06-04</th>\n",
       "      <td>74900.0</td>\n",
       "      <td>76100.0</td>\n",
       "      <td>74900.0</td>\n",
       "      <td>75300.0</td>\n",
       "      <td>14098053</td>\n",
       "    </tr>\n",
       "    <tr>\n",
       "      <th>2024-06-05</th>\n",
       "      <td>78000.0</td>\n",
       "      <td>78000.0</td>\n",
       "      <td>76800.0</td>\n",
       "      <td>77400.0</td>\n",
       "      <td>23177968</td>\n",
       "    </tr>\n",
       "  </tbody>\n",
       "</table>\n",
       "</div>"
      ],
      "text/plain": [
       "               Open     High      Low    Close    Volume\n",
       "Date                                                    \n",
       "2024-03-22  79600.0  79900.0  77800.0  78900.0  26724761\n",
       "2024-03-25  79600.0  79800.0  77800.0  78200.0  18703996\n",
       "2024-03-26  79700.0  80100.0  79200.0  79900.0  30551494\n",
       "2024-03-27  79200.0  80000.0  79200.0  79800.0  17424595\n",
       "2024-03-28  79400.0  81000.0  79200.0  80800.0  25084812\n",
       "2024-03-29  81200.0  82500.0  80900.0  82400.0  27126366\n",
       "2024-04-01  83200.0  83300.0  82000.0  82000.0  20116513\n",
       "2024-04-02  82900.0  85000.0  82900.0  85000.0  37077944\n",
       "2024-04-03  84300.0  85000.0  83500.0  84100.0  30493347\n",
       "2024-04-04  85200.0  85500.0  84300.0  85300.0  25248934\n",
       "2024-04-05  84500.0  85000.0  83800.0  84500.0  18883752\n",
       "2024-04-08  85200.0  86000.0  84500.0  84500.0  18953232\n",
       "2024-04-09  84500.0  84900.0  83100.0  83600.0  23725956\n",
       "2024-04-11  83200.0  84700.0  82500.0  84100.0  25538009\n",
       "2024-04-12  84700.0  84900.0  83200.0  83700.0  17061770\n",
       "2024-04-15  82900.0  83200.0  81200.0  82200.0  26663772\n",
       "2024-04-16  81200.0  81300.0  79400.0  80000.0  31949845\n",
       "2024-04-17  80700.0  80800.0  78900.0  78900.0  22611631\n",
       "2024-04-18  78800.0  80100.0  78300.0  79600.0  21370190\n",
       "2024-04-19  78300.0  78700.0  76300.0  77600.0  31317563\n",
       "2024-04-22  77400.0  77500.0  75100.0  76100.0  30469477\n",
       "2024-04-23  76400.0  76800.0  75500.0  75500.0  18717699\n",
       "2024-04-24  77500.0  78800.0  77200.0  78600.0  22166150\n",
       "2024-04-25  77300.0  77500.0  76300.0  76300.0  15549134\n",
       "2024-04-26  77800.0  77900.0  76500.0  76700.0  12755629\n",
       "2024-04-29  77400.0  77600.0  76200.0  76700.0  14664474\n",
       "2024-04-30  77000.0  78500.0  76600.0  77500.0  19007007\n",
       "2024-05-02  77600.0  78600.0  77300.0  78000.0  18900640\n",
       "2024-05-03  79000.0  79000.0  77500.0  77600.0  13151889\n",
       "2024-05-07  79600.0  81300.0  79400.0  81300.0  26238868\n",
       "2024-05-08  80800.0  81400.0  80500.0  81300.0  13089576\n",
       "2024-05-09  81100.0  81500.0  79700.0  79700.0  18759935\n",
       "2024-05-10  80400.0  81100.0  78900.0  79200.0  16976124\n",
       "2024-05-13  79400.0  79900.0  77600.0  78400.0  18652344\n",
       "2024-05-14  78600.0  78800.0  77900.0  78300.0  11763992\n",
       "2024-05-16  80200.0  80300.0  78100.0  78200.0  20989778\n",
       "2024-05-17  78600.0  78800.0  77200.0  77400.0  15918201\n",
       "2024-05-20  78100.0  79100.0  77900.0  78900.0  19456783\n",
       "2024-05-21  78500.0  79000.0  78200.0  78400.0  13690583\n",
       "2024-05-22  78100.0  78700.0  77300.0  77700.0  19521506\n",
       "2024-05-23  77700.0  79100.0  77100.0  78300.0  18728087\n",
       "2024-05-24  76800.0  77000.0  75700.0  75900.0  27891278\n",
       "2024-05-27  75300.0  78200.0  74000.0  77200.0  43825202\n",
       "2024-05-28  76500.0  78000.0  76200.0  77600.0  18539072\n",
       "2024-05-29  77700.0  78200.0  75200.0  75200.0  30244875\n",
       "2024-05-30  74800.0  75200.0  73500.0  73500.0  28551273\n",
       "2024-05-31  74500.0  74700.0  73500.0  73500.0  26198776\n",
       "2024-06-03  74400.0  76400.0  74200.0  75700.0  15706268\n",
       "2024-06-04  74900.0  76100.0  74900.0  75300.0  14098053\n",
       "2024-06-05  78000.0  78000.0  76800.0  77400.0  23177968"
      ]
     },
     "execution_count": 60,
     "metadata": {},
     "output_type": "execute_result"
    }
   ],
   "source": [
    "df_X.tail(50)"
   ]
  },
  {
   "cell_type": "code",
   "execution_count": 61,
   "id": "30b350f2-ebe1-4f9f-892a-7c9c2970903e",
   "metadata": {},
   "outputs": [
    {
     "name": "stdout",
     "output_type": "stream",
     "text": [
      "(50, 5)\n"
     ]
    }
   ],
   "source": [
    "new_data = df_X.tail(50)\n",
    "new_X = X_scaler.transform(new_data)\n",
    "print(new_X.shape)"
   ]
  },
  {
   "cell_type": "code",
   "execution_count": 63,
   "id": "d399a379-7da0-4138-bdd3-36df72752d17",
   "metadata": {},
   "outputs": [
    {
     "data": {
      "text/plain": [
       "torch.Size([1, 50, 5])"
      ]
     },
     "execution_count": 63,
     "metadata": {},
     "output_type": "execute_result"
    }
   ],
   "source": [
    "new_X = torch.tensor(new_X, dtype=torch.float32).unsqueeze(0)\n",
    "new_X.shape"
   ]
  },
  {
   "cell_type": "code",
   "execution_count": 73,
   "id": "e5341037-56fc-41fe-bcbf-b766c1a9146a",
   "metadata": {},
   "outputs": [],
   "source": [
    "model.eval()\n",
    "with torch.no_grad():\n",
    "    pred = model(new_X)"
   ]
  },
  {
   "cell_type": "code",
   "execution_count": 74,
   "id": "d36a83f0-cf47-4cca-80a9-3cc7d50a94fe",
   "metadata": {},
   "outputs": [
    {
     "data": {
      "text/plain": [
       "tensor([[0.8063]])"
      ]
     },
     "execution_count": 74,
     "metadata": {},
     "output_type": "execute_result"
    }
   ],
   "source": [
    "pred"
   ]
  },
  {
   "cell_type": "code",
   "execution_count": 75,
   "id": "91ac841c-a2ac-4783-ab4b-4ce869aa29ae",
   "metadata": {},
   "outputs": [
    {
     "data": {
      "text/plain": [
       "array([[73903.77798319]])"
      ]
     },
     "execution_count": 75,
     "metadata": {},
     "output_type": "execute_result"
    }
   ],
   "source": [
    "y_scaler.inverse_transform(pred)"
   ]
  },
  {
   "cell_type": "code",
   "execution_count": null,
   "id": "a784e897-c655-4c37-ab2d-40db1030e36d",
   "metadata": {},
   "outputs": [],
   "source": []
  },
  {
   "cell_type": "code",
   "execution_count": null,
   "id": "55541a1c-933c-46e8-aa2e-ce74a2966eb4",
   "metadata": {},
   "outputs": [],
   "source": []
  },
  {
   "cell_type": "code",
   "execution_count": null,
   "id": "0b9ced6c-2409-487f-9758-2e411f4f3203",
   "metadata": {},
   "outputs": [],
   "source": []
  },
  {
   "cell_type": "code",
   "execution_count": null,
   "id": "dfcc6b15-1b3f-4f17-ac4d-627858b4ba88",
   "metadata": {},
   "outputs": [],
   "source": []
  }
 ],
 "metadata": {
  "kernelspec": {
   "display_name": "Python 3 (ipykernel)",
   "language": "python",
   "name": "python3"
  },
  "language_info": {
   "codemirror_mode": {
    "name": "ipython",
    "version": 3
   },
   "file_extension": ".py",
   "mimetype": "text/x-python",
   "name": "python",
   "nbconvert_exporter": "python",
   "pygments_lexer": "ipython3",
   "version": "3.12.7"
  }
 },
 "nbformat": 4,
 "nbformat_minor": 5
}
