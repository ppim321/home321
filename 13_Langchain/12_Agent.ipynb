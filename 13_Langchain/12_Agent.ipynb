{
 "cells": [
  {
   "cell_type": "markdown",
   "metadata": {},
   "source": [
    "# Agent 개요\n",
    "\n",
    "- Agent 대형 언어 모델(LLM)과 다양한 도구(Tool)를 결합하여 복잡한 작업을 처리할 수 있도록 설계된 사용자 요청 처리 인공지능 시스템이다.\n",
    "    - Agent는 주어진 목표를 달성하기 위해 환경(toolkit)과 상호작용하며 의사 결정을 내리고 행동을 취하는 자율적인 개체이다.\n",
    "    - Agent의 자율적인 의사 결정은 LLM 이 담당하여 사람의 개입이 최소화 된다.\n",
    "\n",
    "## Agent의 주요 특징\n",
    "- **자율성**: 사전 정의된 규칙 없이도 스스로 결정을 내리고 행동할 수 있다.\n",
    "- **목표 지향성**: 특정 목표나 작업을 달성하기 위해 설계되어 있다.\n",
    "- **도구 활용**: 다양한 도구나 API를 활용하여 작업을 수행한다.\n",
    "\n",
    "## Agent 기본 동작 원리\n",
    "\n",
    "![agent_concept](figures/agent_concept.png)\n",
    "\n",
    "### ReAct\n",
    "- Reasoning and Acting의 약자로, 에이전트가 문제를 해결할 때 추론과 행동을 결합하는 방식이다.\n",
    "\n",
    "#### 동작 단계\n",
    "- **사용자 입력 수신**: \n",
    "    - 에이전트는 사용자가 입력한 질문이나 명령을 받는다.\n",
    "- **추론(Reasoning)**\n",
    "    - 입력된 내용을 분석하여 문제를 이해하고, 해결 방안을 계획합니다. \n",
    "- **행동 결정 및 도구 실행(Action)**: \n",
    "    - 계획에 따라 어떤 도구를 사용할지 결정하고 그 도구를 호출하여 작업을 수행한다.\n",
    "- **결과 평가 및 추가 행동 결정**: \n",
    "    - 도구 실행 결과를 바탕으로 추가로 도구를 사용할지, 아니면 최종 답변을 생성할지를 결정한다.\n",
    "    - 추가로 도구를 사용하기로 결정한 경우 도구를 실행한다.\n",
    "- **최종 답변 반환**: \n",
    "    - 최종 결과를 사용자에게 제공한다."
   ]
  },
  {
   "cell_type": "markdown",
   "metadata": {},
   "source": [
    "# TOOL\n",
    "# Tool Calling 개요\n",
    "- LLM이 외부 도구나 API를 활용하여 작업을 수행할 수 있게 하는 기능이다.\n",
    "\t- 예) LLM이 수학 계산을 수행해야 할 때, 직접 계산하는 대신 미리 정의된 '계산' 도구를 호출하여 정확한 결과를 얻을 수 있다.\n",
    "\t- 예) LLM에 최신 정보를 요청하는 질문이 들어왔을 때 '검색' 도구나 'Database 연동' 도구를 사용해 최신 뉴스를 검색하거나, 특정 데이터베이스에서 정보를 조회하는 등의 작업을 수행할 수 있다.\n",
    "- LLM은 도구를 이용해 자체 지식의 한계를 넘어서는 정보를 제공할 수 있습니다.\n",
    "- Tool calling은 OpenAI, Anthropic 등 여러 LLM 제공업체에서 지원한다.\n",
    "- LangChain은 이러한 다양한 모델들의 도구 호출 방식을 표준화하여 일관된 인터페이스로 제공한다. 이를 통해 개발자들은 다양한 모델과 도구들을 쉽게 통합할 수있다.\n",
    "- Tool Calling Concept: https://python.langchain.com/docs/concepts/tool_calling/\n",
    "- Langchain 지원 tools (Builtin Tool)\n",
    "    -  https://python.langchain.com/docs/integrations/tools/#search\n",
    "- **Agent:**\n",
    "\t- LLM 모델이 목표한 결과를 얻기 위해 적절한 도구를 선택하고, 이를 활용하여 작업을 수행하는 시스템을 **Agent**라고 한다."
   ]
  },
  {
   "cell_type": "markdown",
   "metadata": {},
   "source": [
    "# 랭체인 내장 도구(tools) 사용\n",
    "- Tavily 웹 검색 도구 사용해 Tool calling을 이해한다.\n",
    "\n",
    "\n",
    "## Tavily\n",
    "- 웹 검색 API.\n",
    "- https://tavily.com/\n",
    "-  LLM과 RAG 시스템에 최적화된 검색 엔진.\n",
    "   -  기존의 일반 검색 엔진들과 달리, Tavily는 AI 애플리케이션의 요구사항에 맞춰 설계되었다.\n",
    "   -  Tavily는 검색 결과에서 검색 query와 관련 콘텐츠를 추출하여 제공한다.\n",
    "   -  월 1000회 무료 사용 가능.\n",
    "### Tavily API Key 받기\n",
    "- 로그인 한다.\n",
    "- Overview 화면에서 API Key 생성\n",
    "  \n",
    "- **API Keys \\[+\\] 클릭**\n",
    "\n",
    "![apikey1](figures/travily_apikey1.png)\n",
    "\n",
    "- **Key Name을 입력하고 생성**\n",
    "\n",
    "![apikey1](figures/travily_apikey2.png)\n",
    "\n",
    "- **API Key를 복사**\n",
    "\n",
    "![apikey1](figures/travily_apikey3.png)\n",
    "\n",
    "- 환경변수에 등록한다.\n",
    "    - 변수이름: \"TAVILY_API_KEY\""
   ]
  },
  {
   "cell_type": "markdown",
   "metadata": {},
   "source": [
    "## TavilySearchResults\n",
    "- Langchain에서 제공하는 tool로 Tavily 의 검색 엔진 API를 사용해 검색을 수행한다.\n",
    "- 모듈: `langchain_community.tools` \n",
    "- https://python.langchain.com/docs/integrations/tools/tavily_search/"
   ]
  },
  {
   "cell_type": "markdown",
   "metadata": {},
   "source": [
    "#### \n",
    "    - 1. LLM Model\n",
    "    - 2. (binding) Tool (calling)\n",
    "    - 3. (insert) Agent (reasoning and acting)\n",
    "    - 4. (insert) Agent Chain (request -> reasoning -> acting)"
   ]
  },
  {
   "cell_type": "code",
   "execution_count": 13,
   "metadata": {},
   "outputs": [],
   "source": [
    "from pprint import pprint\n",
    "from dotenv import load_dotenv\n",
    "load_dotenv()\n",
    "from langchain_community.tools import TavilySearchResults"
   ]
  },
  {
   "cell_type": "code",
   "execution_count": null,
   "metadata": {},
   "outputs": [],
   "source": []
  },
  {
   "cell_type": "markdown",
   "metadata": {},
   "source": [
    "## Tool 호출"
   ]
  },
  {
   "cell_type": "code",
   "execution_count": 3,
   "metadata": {},
   "outputs": [],
   "source": [
    "tavily_search = TavilySearchResults(\n",
    "    max_results=3  # 최대 몇개 결과를 검색하여 반환할지.\n",
    ")\n",
    "\n",
    "query = \"2024년 한국시리즈 MVP선수는 누구인가요?\"\n",
    "result = tavily_search.invoke(query)  # Tool 객체들은 Runnable 타입."
   ]
  },
  {
   "cell_type": "code",
   "execution_count": 6,
   "metadata": {},
   "outputs": [
    {
     "name": "stdout",
     "output_type": "stream",
     "text": [
      "<class 'list'> 3\n",
      "<class 'dict'>\n",
      "dict_keys(['url', 'content'])\n"
     ]
    }
   ],
   "source": [
    "print(type(result), len(result)) \n",
    "print(type(result[0]))  # 응답은 JSON으로 온다. 이것을 dict로 반환.\n",
    "\n",
    "print(result[0].keys())"
   ]
  },
  {
   "cell_type": "code",
   "execution_count": 8,
   "metadata": {},
   "outputs": [
    {
     "name": "stdout",
     "output_type": "stream",
     "text": [
      "검색 URL: https://news.koreadaily.com/2024/12/11/sports/korbaseball/20241211212041699.html\n"
     ]
    }
   ],
   "source": [
    "print(\"검색 URL:\", result[0][\"url\"])"
   ]
  },
  {
   "cell_type": "code",
   "execution_count": 9,
   "metadata": {},
   "outputs": [
    {
     "name": "stdout",
     "output_type": "stream",
     "text": [
      "검색결과:\n",
      "2024년 빛낸 스타들, 13일 gg 주인공 결정된다…'mvp' 김도영, 데뷔 첫 gg 도전 ... 먼저 한국시리즈 우승을 차지한 kia는 골든글러브 후보 10명을 배출했다. lg, kt와 함께 가장 많은 선수가 후보로 선정됐다. 7년전 kia가 우승을 한 2017시즌에는 투수 양현종, 2루수\n"
     ]
    }
   ],
   "source": [
    "print(\"검색결과:\")\n",
    "print(result[0][\"content\"])"
   ]
  },
  {
   "cell_type": "code",
   "execution_count": 10,
   "metadata": {},
   "outputs": [
    {
     "name": "stdout",
     "output_type": "stream",
     "text": [
      "tool의 이름: tavily_search_results_json\n"
     ]
    }
   ],
   "source": [
    "# TOOL 의 정보 -> 이 정보들이 LLM이 도구를 선택하는 기준이 된다.\n",
    "print(\"tool의 이름:\", tavily_search.name)"
   ]
  },
  {
   "cell_type": "code",
   "execution_count": 11,
   "metadata": {},
   "outputs": [
    {
     "name": "stdout",
     "output_type": "stream",
     "text": [
      "tool에 대한 설명:\n",
      "A search engine optimized for comprehensive, accurate, and trusted results. Useful for when you need to answer questions about current events. Input should be a search query.\n"
     ]
    }
   ],
   "source": [
    "print('tool에 대한 설명:')\n",
    "print(tavily_search.description)"
   ]
  },
  {
   "cell_type": "code",
   "execution_count": 14,
   "metadata": {},
   "outputs": [
    {
     "name": "stdout",
     "output_type": "stream",
     "text": [
      "tool의 schema(전체 구조)\n",
      "{'description': 'Input for the Tavily tool.',\n",
      " 'properties': {'query': {'description': 'search query to look up',\n",
      "                          'title': 'Query',\n",
      "                          'type': 'string'}},\n",
      " 'required': ['query'],\n",
      " 'title': 'TavilyInput',\n",
      " 'type': 'object'}\n"
     ]
    }
   ],
   "source": [
    "print(\"tool의 schema(전체 구조)\")\n",
    "pprint(tavily_search.args_schema.model_json_schema())"
   ]
  },
  {
   "cell_type": "markdown",
   "metadata": {},
   "source": [
    "```bash\n",
    "{'description': 'Input for the Tavily tool.',\n",
    "# 입력 파라미터(tool이 호출될 때 전달되는 값을 받을 변수.)\n",
    "# {변수명: {변수 정보}}\n",
    " 'properties': {'query': {'description': 'search query to look up', # 변수 설명(어떤 값을 받을 지 설명)\n",
    "                          'title': 'Query',         # 이 변수의 식별값  \n",
    "                          'type': 'string'}},       # Datatype\n",
    " 'required': ['query'],     # 입력 파라미터 중 필수인 것을 지정.\n",
    " 'title': 'TavilyInput',    # tool의 이름.\n",
    " 'type': 'object'}\n",
    "```"
   ]
  },
  {
   "cell_type": "markdown",
   "metadata": {},
   "source": [
    "## LLM tool callings\n",
    "![toolcalling_concept](figures/toolcalling_concept.png)\n",
    "1. Tool 생성\n",
    "2. 생성한 Tool을 tool calling을 지원하는 LLM 모델에 연결(binding)\n",
    "   - LLM 이 사용할 수있는 tool들을 등록(bind) 한다.\n",
    "    - `Model.bind([tool_1, tool_2, ...]): RunnableBinding`\n",
    "    - Model에 tool을 bind_tools 하면 `Runnable` 타입의 `RunnableBinding` 객체가 반환된다.\n",
    "3. 질의가 들어오면 모델(LLM + tool) 은 tool calling 정보(어떤 툴을 어떤 query로 호출할지 schema 에 맞게 만든 정보)를 응답.\n",
    "    - 질의에 대해 tool 요청이 **필요하다고** 결정한 경우 tool들 중 어떤 tool을 어떤 query로 호출해야 하는지를 응답한다.\n",
    "    - 질의에 대해 tool 요청이 **필요 없다고** 결정한 경우는 LLM API를 호출한다.(모델이 직접 응답)\n",
    "5. 3에서 응답한 tool calling 정보를 이용해 tool 호출"
   ]
  },
  {
   "cell_type": "markdown",
   "metadata": {},
   "source": [
    "### LLM Model에 tool binding\n",
    "- `LLM.bind(tools=[tool_1, tool_2, ...])`"
   ]
  },
  {
   "cell_type": "code",
   "execution_count": 21,
   "metadata": {},
   "outputs": [
    {
     "name": "stdout",
     "output_type": "stream",
     "text": [
      "<class 'langchain_openai.chat_models.base.ChatOpenAI'> <class 'langchain_core.runnables.base.RunnableBinding'>\n"
     ]
    }
   ],
   "source": [
    "from langchain_openai import ChatOpenAI\n",
    "from langchain_community.tools import TavilySearchResults\n",
    "\n",
    "# 1. Tool 객체 생성\n",
    "tavily_search = TavilySearchResults(\n",
    "    max_results=3,\n",
    "    include_answer=True, \n",
    "    include_images=True,      # 검색 페이지의 이미지들 경로.\n",
    "    include_raw_content=True, # 원본 내용을 포함해서 응답.  (False: 요약내용만 반환.)\n",
    ")\n",
    "\n",
    "# 모델 생성 + tool binding\n",
    "model = ChatOpenAI(model=\"gpt-4o-mini\")  # Agent에서 사용하는 모델은 성능 좋은 것을 쓴다.\n",
    "\n",
    "tool_model = model.bind_tools(tools=[tavily_search])\n",
    "print(type(model), type(tool_model))"
   ]
  },
  {
   "cell_type": "code",
   "execution_count": 22,
   "metadata": {},
   "outputs": [
    {
     "name": "stdout",
     "output_type": "stream",
     "text": [
      "<class 'langchain_core.messages.ai.AIMessage'>\n"
     ]
    }
   ],
   "source": [
    "# 도구 호출이 필요 없는 query 전송.\n",
    "result1 = tool_model.invoke(\"안녕하세요.\")\n",
    "print(type(result1))"
   ]
  },
  {
   "cell_type": "code",
   "execution_count": 24,
   "metadata": {},
   "outputs": [
    {
     "data": {
      "text/plain": [
       "{'content': '안녕하세요! 무엇을 도와드릴까요?',\n",
       " 'additional_kwargs': {'refusal': None},\n",
       " 'response_metadata': {'token_usage': {'completion_tokens': 12,\n",
       "   'prompt_tokens': 82,\n",
       "   'total_tokens': 94,\n",
       "   'completion_tokens_details': {'accepted_prediction_tokens': 0,\n",
       "    'audio_tokens': 0,\n",
       "    'reasoning_tokens': 0,\n",
       "    'rejected_prediction_tokens': 0},\n",
       "   'prompt_tokens_details': {'audio_tokens': 0, 'cached_tokens': 0}},\n",
       "  'model_name': 'gpt-4o-mini-2024-07-18',\n",
       "  'system_fingerprint': 'fp_39a40c96a0',\n",
       "  'finish_reason': 'stop',\n",
       "  'logprobs': None},\n",
       " 'type': 'ai',\n",
       " 'name': None,\n",
       " 'id': 'run-725cbb8f-6572-4e12-8089-df880a12dfab-0',\n",
       " 'example': False,\n",
       " 'tool_calls': [],\n",
       " 'invalid_tool_calls': [],\n",
       " 'usage_metadata': {'input_tokens': 82,\n",
       "  'output_tokens': 12,\n",
       "  'total_tokens': 94,\n",
       "  'input_token_details': {'audio': 0, 'cache_read': 0},\n",
       "  'output_token_details': {'audio': 0, 'reasoning': 0}}}"
      ]
     },
     "execution_count": 24,
     "metadata": {},
     "output_type": "execute_result"
    }
   ],
   "source": [
    "dict(result1)"
   ]
  },
  {
   "cell_type": "code",
   "execution_count": 25,
   "metadata": {},
   "outputs": [
    {
     "data": {
      "text/plain": [
       "'안녕하세요! 무엇을 도와드릴까요?'"
      ]
     },
     "execution_count": 25,
     "metadata": {},
     "output_type": "execute_result"
    }
   ],
   "source": [
    "result1.content  # LLM 응답"
   ]
  },
  {
   "cell_type": "code",
   "execution_count": 26,
   "metadata": {},
   "outputs": [
    {
     "data": {
      "text/plain": [
       "[]"
      ]
     },
     "execution_count": 26,
     "metadata": {},
     "output_type": "execute_result"
    }
   ],
   "source": [
    "result1.tool_calls  # Tool 호출 정보 (비어있으면 LLM 이 최종응답을 함.)"
   ]
  },
  {
   "cell_type": "code",
   "execution_count": 27,
   "metadata": {},
   "outputs": [],
   "source": [
    "##### tool 호출이 필요한 요청.\n",
    "\n",
    "query = \"2024년 프로야구 한국 시리즈 MVP 선수는 어느 팀인지 알려줘요.\"\n",
    "result2 = tool_model.invoke(query)"
   ]
  },
  {
   "cell_type": "code",
   "execution_count": 28,
   "metadata": {},
   "outputs": [
    {
     "data": {
      "text/plain": [
       "''"
      ]
     },
     "execution_count": 28,
     "metadata": {},
     "output_type": "execute_result"
    }
   ],
   "source": [
    "result2.contentd"
   ]
  },
  {
   "cell_type": "code",
   "execution_count": 29,
   "metadata": {},
   "outputs": [
    {
     "data": {
      "text/plain": [
       "[{'name': 'tavily_search_results_json',\n",
       "  'args': {'query': '2024년 프로야구 한국 시리즈 MVP 선수'},\n",
       "  'id': 'call_mcAsVABfC5znvA94FpjtYTfF',\n",
       "  'type': 'tool_call'}]"
      ]
     },
     "execution_count": 29,
     "metadata": {},
     "output_type": "execute_result"
    }
   ],
   "source": [
    "result2.tool_calls"
   ]
  },
  {
   "cell_type": "code",
   "execution_count": 31,
   "metadata": {},
   "outputs": [
    {
     "data": {
      "text/plain": [
       "{'description': 'Input for the Tavily tool.',\n",
       " 'properties': {'query': {'description': 'search query to look up',\n",
       "   'title': 'Query',\n",
       "   'type': 'string'}},\n",
       " 'required': ['query'],\n",
       " 'title': 'TavilyInput',\n",
       " 'type': 'object'}"
      ]
     },
     "execution_count": 31,
     "metadata": {},
     "output_type": "execute_result"
    }
   ],
   "source": [
    "tavily_search.args_schema.model_json_schema()\n",
    "# tavily_search.name"
   ]
  },
  {
   "cell_type": "markdown",
   "metadata": {},
   "source": [
    "## tool_calls 를 이용해 Tool 호출\n",
    "- LLM 모델이 tool 요청을 결정한 경우 어떤 tool을 어떻게 호출할 지 tool_calls를 반환한다.\n",
    "- tool_calls를 이용해 TOOL을 호출한다.\n",
    "\n",
    "### 방법\n",
    "1. tool_calls의 query만 추출해서 호출\n",
    "   - `tool.invoke(tool_calls['args'])`\n",
    "   - **반환타입**: list[dict]\n",
    "2. tool_calls 정보를 넣어 호출\n",
    "   - **반환타입**: `ToolMessage`\n",
    "   - tool의 처리결과를 담는 Message Type 이다."
   ]
  },
  {
   "cell_type": "markdown",
   "metadata": {},
   "source": [
    "#### tool_calls의 query만 추출해서 호출"
   ]
  },
  {
   "cell_type": "code",
   "execution_count": 34,
   "metadata": {},
   "outputs": [],
   "source": [
    "query = result2.tool_calls[0]['args']['query']\n",
    "search_result = tavily_search.invoke(query)  # result2.tool_calls[0]\n"
   ]
  },
  {
   "cell_type": "code",
   "execution_count": 35,
   "metadata": {},
   "outputs": [
    {
     "name": "stdout",
     "output_type": "stream",
     "text": [
      "<class 'list'> 3 2024 프로야구 한국시리즈 최우수선수(MVP)에 오른 김선빈(KIA)이 신체적 불리함을 이겨낸 스스로에 대한 깊은 자부심을 드러냈다. 그는\n"
     ]
    }
   ],
   "source": [
    "print(type(search_result), len(search_result), search_result[0]['content'])"
   ]
  },
  {
   "cell_type": "markdown",
   "metadata": {},
   "source": [
    "#### tool_call 정보를 넣어 Tool 호출"
   ]
  },
  {
   "cell_type": "code",
   "execution_count": 37,
   "metadata": {},
   "outputs": [],
   "source": [
    "search_result2 = tavily_search.invoke(\"2024년 프로야구 한국 시리즈 MVP 선수는 어느 팀인지 알려줘요.\")"
   ]
  },
  {
   "cell_type": "code",
   "execution_count": 41,
   "metadata": {},
   "outputs": [
    {
     "data": {
      "text/plain": [
       "{'url': 'https://www.hankookilbo.com/News/Read/A2024102900290001153',\n",
       " 'content': '2024 프로야구 한국시리즈 최우수선수(MVP)에 오른 김선빈(KIA)이 신체적 불리함을 이겨낸 스스로에 대한 깊은 자부심을 드러냈다. 그는'}"
      ]
     },
     "execution_count": 41,
     "metadata": {},
     "output_type": "execute_result"
    }
   ],
   "source": [
    "dict(search_result2[0])"
   ]
  },
  {
   "cell_type": "code",
   "execution_count": 38,
   "metadata": {},
   "outputs": [
    {
     "name": "stdout",
     "output_type": "stream",
     "text": [
      "<class 'list'> 3 2024 프로야구 한국시리즈 최우수선수(MVP)에 오른 김선빈(KIA)이 신체적 불리함을 이겨낸 스스로에 대한 깊은 자부심을 드러냈다. 그는\n"
     ]
    }
   ],
   "source": [
    "print(type(search_result2), len(search_result2), search_result2[0]['content'])  "
   ]
  },
  {
   "cell_type": "markdown",
   "metadata": {},
   "source": [
    "#### tool_call 이 여러개일 경우 \n",
    "- 질의에 대해 tool을 여러번 호출 해야 하는 경우 tool_calling 정보를 여러개 반환할 수 있다.\n",
    "    - 예) 검색할 키워드가 여러개인 경우. \n",
    "- `tool.batch([tool_call1, tool_call2, ..])`"
   ]
  },
  {
   "cell_type": "code",
   "execution_count": 43,
   "metadata": {},
   "outputs": [
    {
     "data": {
      "text/plain": [
       "[ToolMessage(content='[{\"url\": \"https://www.segye.com/newsView/20241029509100\", \"content\": \"‘2024 한국시리즈 MVP’에 빛나는 KIA의 ‘작은거인’ 김선빈 “키가 작아도 얼마든지 성공할 수 있다. 그럼에도 KIA의 2009년, 2017년 한국시리즈(KS) 우승 때는 엔트리에서 제외되거나 조연 역할에 머물렀다. 8년이 지나 2017년엔 타격왕 자격으로 당당히 주전 멤버로 활약하며 그해 KS에서 타율 0.357(14타수 5안타) 1타점 3득점으로 맹활약했지만, KS 최우수선수(MVP) 투표에서는 단 1표도 얻지 못했다. 시상식 후 김태군과 함께 인터뷰실에 들어선 김선빈은 이전 두 번의 우승과 이번 KS 우승을 비교해달라는 질문에 “2009년 우승 때는 엔트리에 빠진 게 화나고 억울해서 리모컨을 집어던지기도 했다. 작은 신장 때문에 ‘작은 거인’으로 불리는 김선빈은 “입단 때부터 저를 두고 ‘키가 작아서 안 된다’, ‘한계가 있다’ 등의 안 좋은 얘기가 많았지만, 이번 KS MVP로 그 편견을 완벽하게 깬 것 같아 행복하다”라고 말했다. 김선빈은 “이제 KBO리그에 단신 선수들이 많고 다 잘 하고 있다.\"}, {\"url\": \"https://news.mt.co.kr/mtview.php?no=2024102823130786781\", \"content\": \"\\'최강 KIA\\' 37년만에 안방에서 한국시리즈 우승...역대 최다 \\'V12\\' - 머니투데이 30대 여성 \\'토막 시신\\' 떠오른 화천 북한강…용의자는 서울서 검거;) 30대 여성 \\'토막 시신\\' 떠오른 화천 북한강…용의자는 서울서 검거;) 30대 여성 \\'토막 시신\\' 떠오른 화천 북한강…용의자는 서울서 검거;) \\'최강 KIA\\' 37년만에 안방에서 한국시리즈 우승...역대 최다 \\'V12\\' \\'최강 KIA\\' 37년만에 안방에서 한국시리즈 우승...역대 최다 \\'V12\\' (광주=뉴스1) 임세영 기자 = 28일 오후 광주 기아챔피언스필드에서 열린 프로야구 \\'2024 신한 SOL 뱅크 KBO 포스트시즌\\' 한국시리즈 5차전 삼성 라이온즈와 KIA 타이거즈의 경기에서 우승을 차기한 기아 타이거즈 이범호 감독 및 선수들이 환호하고 있다. /사진=(광주=뉴스1) 임세영 기자KIA 타이거즈가 삼성 라이온즈를 누르고 7년 만에 통합 우승을 하며 통산 12번째 한국시리즈 정상에 섰다. 시리즈 최우수선수(MVP)는 5경기 타율 0.588을 기록한 김선빈이 차지했다.KIA는 28일 오후 광주 기아챔피언스필드에서 열린 2024 신한 SOL뱅크 KBO 포스트시즌 한국시리즈(7전 4선승제) 5차전 삼성 라이온즈와의 경기에서 7대5로 이겼다.\"}, {\"url\": \"https://www.etoday.co.kr/news/view/2413852\", \"content\": \"KIA 타이거즈 선수들이 28일 광주 기아챔피언스필드에서 열린 \\'2024 프로야구 한국시리즈\\'에서 우승을 차지한 뒤 환호하고 있다. (연합뉴스)KIA 타이\"}]', name='tavily_search_results_json', tool_call_id='call_mcAsVABfC5znvA94FpjtYTfF', artifact={'query': '2024년 프로야구 한국 시리즈 MVP 선수', 'follow_up_questions': None, 'answer': '김선빈은 2024년 프로야구 한국 시리즈 MVP 선수로 뽑혔습니다. KIA 타이거즈가 7년 만에 우승을 차지하며 삼성 라이온즈를 이겼고, 김선빈은 시리즈 최우수선수(MVP)로 선정되었습니다.', 'images': ['https://i.ytimg.com/vi/1COwh877oNs/maxresdefault.jpg', 'https://img2.yna.co.kr/photo/yna/YH/2022/11/08/PYH2022110823750001300_P4.jpg', 'https://img0.yna.co.kr/photo/old/data10/orign_img/2005/10/19/_19/2051019v5134718_P4.jpg', 'https://scsgozneamae10236445.cdn.ntruss.com/data2/content/image/2022/11/08/.cache/512/20221108580232.jpg', 'https://cdn.namdonews.com/news/photo/202211/701443_360701_4159.png'], 'results': [{'title': '\\'2024 한국시리즈 Mvp\\'에 빛나는 Kia의 \\'작은거인\\' 김선빈 \"키가 작아도 얼마든지 성공할 수 있다. 단신 선수를 향한 ...', 'url': 'https://www.segye.com/newsView/20241029509100', 'content': '‘2024 한국시리즈 MVP’에 빛나는 KIA의 ‘작은거인’ 김선빈 “키가 작아도 얼마든지 성공할 수 있다. 그럼에도 KIA의 2009년, 2017년 한국시리즈(KS) 우승 때는 엔트리에서 제외되거나 조연 역할에 머물렀다. 8년이 지나 2017년엔 타격왕 자격으로 당당히 주전 멤버로 활약하며 그해 KS에서 타율 0.357(14타수 5안타) 1타점 3득점으로 맹활약했지만, KS 최우수선수(MVP) 투표에서는 단 1표도 얻지 못했다. 시상식 후 김태군과 함께 인터뷰실에 들어선 김선빈은 이전 두 번의 우승과 이번 KS 우승을 비교해달라는 질문에 “2009년 우승 때는 엔트리에 빠진 게 화나고 억울해서 리모컨을 집어던지기도 했다. 작은 신장 때문에 ‘작은 거인’으로 불리는 김선빈은 “입단 때부터 저를 두고 ‘키가 작아서 안 된다’, ‘한계가 있다’ 등의 안 좋은 얘기가 많았지만, 이번 KS MVP로 그 편견을 완벽하게 깬 것 같아 행복하다”라고 말했다. 김선빈은 “이제 KBO리그에 단신 선수들이 많고 다 잘 하고 있다.', 'score': 0.999089, 'raw_content': '세계일보\\n스포츠\\n‘2024 한국시리즈 MVP’에 빛나는 KIA의 ‘작은거인’ 김선빈 “키가 작아도 얼마든지 성공할 수 있다. 단신 선수를 향한 편견 깨서 행복해”\\n 관련이슈 디지털기획 \\n입력 : 2024-10-29 13:13:19 수정 : 2024-10-29 13:13:18\\n 인쇄 메일 글씨 크기 선택  가장 작은 크기 글자 한 단계 작은 크기 글자 기본 크기 글자 한 단계 큰 크기 글자 가장 큰 크기 글자  \\n프로야구 KIA의 내야수 김선빈(35)는 화순고 재학 시절 야구 천재로 불렸다. 고교 2학년 때는 유일하게 2학년 중 청소년대표팀에 뽑힐 정도로 타격과 수비에 걸쳐 잠재력을 인정받았다. 그럼에도 2008년 신인 드래프트에서는 2차 6라운드, 전체 43순위로 KIA의 지명을 받았다. 고교 시절 보여준 재능과 기량에도 불구하고 지명 순번이 늦었던 이유는 딱 하나, 신장이 165cm에 불과했기 때문이다. 작은 키로 인해 프로에서는 통할지는 미지수라는 평가를 받아야 했다.\\n이러한 평가절하와 곱지 않은 시선을 김선빈은 오로지 실력 하나로 잠재웠다. 최정상급의 컨택 능력을 앞세운 정교한 타격은 KBO리그에소 손꼽힐 정도다. 2017년에는 0.370(476타수 176안타)의 고타율로 타격왕에 오르기도 했다. 프로 17시즌 통산 타율이 0.305(5391타수 1645안타)에 달한다. 여기에 빠른 발를 앞세운 넓은 수비 범위와 고교 시절엔 투수를 소화했을 정도로 강한 어깨를 앞세워 KIA의 주전 유격수로 도약했고, 2020시즌 이후에는 2루수로 변신했다. 키스톤 콤비 두 자리를 모두 잘 해내는 김선빈이다.\\n\\xa0\\n그럼에도 KIA의 2009년, 2017년 한국시리즈(KS) 우승 때는 엔트리에서 제외되거나 조연 역할에 머물렀다. 2년차 신예였던 2009년엔 뜬공 처리 불안으로 인해 KS 엔트리에서 탈락했다. 8년이 지나 2017년엔 타격왕 자격으로 당당히 주전 멤버로 활약하며 그해 KS에서 타율 0.357(14타수 5안타) 1타점 3득점으로 맹활약했지만, KS 최우수선수(MVP) 투표에서는 단 1표도 얻지 못했다.\\n2017년 타격왕과 그해 유격수 부문 골든글러브가 유일한 수상 경력이었던 김선빈에게 드디어 모든 프로야구 선수들이 선망하는 상 하나가 추가됐다. 2024 KS에서 무려 타율 0.588(17타수 10안타)에 2타점 3득점으로 공수 연결고리와 첨병 역할을 동시에 해내며 기자단 투표 99표 중 46표를 받아 45표를 받은 1989년생 동갑내기 안방마님인 김태군을 딱 1표차로 제치고 시리즈 MVP에 선정됐다.\\n\\xa0\\n이번 시리즈의 분수령이었던 4차전 1회 첫 타석에서 삼성 선발 원태인을 상대로 10구까지 가는 끈질긴 승부 끝에 2루타를 뺏어내며 원태인의 멘탈을 무너뜨린 것은 김선빈이 왜 홈런포 하나 없이도 MVP에 오를 수 있었는지를 잘 보여주는 명장면으로 꼽힌다.\\n시상식 후 김태군과 함께 인터뷰실에 들어선 김선빈은 이전 두 번의 우승과 이번 KS 우승을 비교해달라는 질문에 “2009년 우승 때는 엔트리에 빠진 게 화나고 억울해서 리모컨을 집어던지기도 했다. 2017년에는 어렸다면 지금은 고참급 선수가 됐기 때문에 올해 우승이 더 감동적이고 울컥했다”라고 말했다. 이어 “광주 토박이라서 그런가 1987년 이후 처음으로 광주 홈팬들 앞에서, KIA챔피언스필드에서 우승할 수 있어 더욱 행복하다”라고 덧붙였다.\\n\\xa0\\n작은 신장 때문에 ‘작은 거인’으로 불리는 김선빈은 “입단 때부터 저를 두고 ‘키가 작아서 안 된다’, ‘한계가 있다’ 등의 안 좋은 얘기가 많았지만, 이번 KS MVP로 그 편견을 완벽하게 깬 것 같아 행복하다”라고 말했다.\\n\\xa0\\n김선빈이 KBO리그의 주전급 선수로 활약한 이후 단신 선수들이 늘어나고 있다. 삼성의 리드오프 중견수 김지찬도 163cm의 작은 신장이지만, 올 시즌 타율 0.316(453타수 143안타) 3홈런 36타점 42도루를 기록하며 정상급 선수로 거듭났다. 김선빈은 “이제 KBO리그에 단신 선수들이 많고 다 잘 하고 있다. 야구가 신체조건이 중요하지만, 불리한 신체조건으로도 얼마든지 프로에서 성공할 수 있다는 것을 보여준 게 지금 초중고에서 야구를 하는 학생들에게 큰 용기가 됐을 것이라 생각한다. 다들 힘내길 바란다”고 응원의 메시지를 보냈다.\\n2024시즌이 KIA가 정규시즌, KS를 석권하는 통합우승으로 마무리되면서 이제 야구팬들의 관심은 과연 KIA가 2연패, 3연패를 달성하며 ‘왕조’를 건설할 수 있을지에 쏠린다. 김선빈은 “내년 시즌에도 우승이 목표다. 우리 선수들이 부상만 조심한다면 장기집권도 얼마든지 가능하다고 생각한다. 내년 시즌에도 몸 관리를 잘 해서 좋은 모습을 보여드리도록 노력하겠다”라고 각오를 다졌다.\\n[ⓒ 세계일보 & Segye.com, 무단전재 및 재배포 금지]\\n오피니언\\nHOT뉴스\\n제호 : 세계일보\\n서울특별시 용산구 서빙고로 17\\n등록번호 : 서울, 아03959\\n등록일(발행일) : 2015년 11월 2일\\n발행인 : 정희택\\n편집인 : 황정미\\n전화번호 : 02-2000-1234\\n청소년보호 책임자 : 임인섭\\nCopyright ⓒ 세계일보 All rights reserved.\\n'}, {'title': \"'최강 Kia' 37년만에 안방에서 한국시리즈 우승...역대 최다 'V12'\", 'url': 'https://news.mt.co.kr/mtview.php?no=2024102823130786781', 'content': \"'최강 KIA' 37년만에 안방에서 한국시리즈 우승...역대 최다 'V12' - 머니투데이 30대 여성 '토막 시신' 떠오른 화천 북한강…용의자는 서울서 검거;) 30대 여성 '토막 시신' 떠오른 화천 북한강…용의자는 서울서 검거;) 30대 여성 '토막 시신' 떠오른 화천 북한강…용의자는 서울서 검거;) '최강 KIA' 37년만에 안방에서 한국시리즈 우승...역대 최다 'V12' '최강 KIA' 37년만에 안방에서 한국시리즈 우승...역대 최다 'V12' (광주=뉴스1) 임세영 기자 = 28일 오후 광주 기아챔피언스필드에서 열린 프로야구 '2024 신한 SOL 뱅크 KBO 포스트시즌' 한국시리즈 5차전 삼성 라이온즈와 KIA 타이거즈의 경기에서 우승을 차기한 기아 타이거즈 이범호 감독 및 선수들이 환호하고 있다. /사진=(광주=뉴스1) 임세영 기자KIA 타이거즈가 삼성 라이온즈를 누르고 7년 만에 통합 우승을 하며 통산 12번째 한국시리즈 정상에 섰다. 시리즈 최우수선수(MVP)는 5경기 타율 0.588을 기록한 김선빈이 차지했다.KIA는 28일 오후 광주 기아챔피언스필드에서 열린 2024 신한 SOL뱅크 KBO 포스트시즌 한국시리즈(7전 4선승제) 5차전 삼성 라이온즈와의 경기에서 7대5로 이겼다.\", 'score': 0.9982248, 'raw_content': '\\'최강 KIA\\' 37년만에 안방에서 한국시리즈 우승...역대 최다 \\'V12\\' - 머니투데이\\n본문영역 바로가기\\n로그인\\n\\n전체\\n\\n뉴스\\n경제정책\\n증권\\n정치\\n부동산\\n국제경제\\n사회\\n산업\\nIT\\n금융\\n벤처·스타트업\\n블록체인\\n문화\\n포토\\n포토\\n더차트\\n더그래픽\\n\\n\\n영상\\nMT 영상\\n더영상\\n\\n\\n전체기사\\n\\n\\n증권\\n뉴스\\n시세/공시\\n코스피\\n코스닥\\n코넥스\\n상승/하락\\n상하한가\\n시가총액\\n거래량상위\\n신규상장\\n주요공시\\n\\n\\n포인트&전략\\n펀드\\n펀드IR\\n국내펀드\\n해외펀드\\n유형종합\\n\\n\\n종목대해부\\n베스트리포트\\nMY스톡\\n\\n\\n정치\\n법률\\n유니콘팩토리\\n헬스·바이오\\n최신기사\\n\\n\\n칼럼\\n데스크칼럼\\n사내칼럼\\n현장리포트\\n사외칼럼\\nSUCCESS\\n\\n\\n연예\\n연예\\n스포츠\\n\\n\\n이슈\\n핫이슈\\n전체핫이슈\\n이슈키워드\\n뉴스 속 오늘\\n연중기획\\n\\n\\n실시간급상승\\n베스트클릭\\n사람&\\n피플\\nMT초대석\\n인터뷰\\n대표선배\\n인사\\n부고\\n\\n\\n\\n\\n\\nMT리포트\\n\\n\\n뉴스\\n\\n경제정책\\n증권\\n정치\\n부동산\\n국제경제\\n사회\\n산업\\nIT\\n금융\\n벤처·스타트업\\n블록체인\\n문화\\n포토\\n영상\\n전체기사\\n\\n\\n\\n증권\\n뉴스\\n시세/공시\\n포인트&전략\\n펀드\\n종목대해부\\n베스트리포트\\nMY스톡\\n\\n\\n헬스·바이오\\n최신기사\\n\\n\\n칼럼\\n데스크칼럼\\n사내칼럼\\n현장리포트\\n사외칼럼\\nSUCCESS\\n\\n\\n연예\\n연예\\n스포츠\\n\\n\\n이슈\\n핫이슈\\n실시간급상승\\n베스트클릭\\n사람&\\n\\n\\nMT리포트\\n\\n\\nVIP\\nVIP Only\\nVIP Story\\nT.O.M\\n투자디렉터\\n런치리포트\\nthe L\\nICT & Tech\\nCulture\\nFULL TEXT\\n초판/e-신문보기\\n서비스 신청\\n\\n\\n정치\\n\\n벤처·스타트업\\n기술·트렌드·혁신\\n법률\\n패션·연예\\n국제시사·문예\\n매거진\\n\\n전체보기 닫기\\n속보\\n\\n\"난 동성애자야\" 클로이 모레츠, 깜짝 커밍아웃…해리스 지지한 이유;)\\n장윤정, 42억 빌딩 또 샀다…120억 빌라 \\'현금 매입\\' 두 달만;)\\n사유리 \"바람기 대대로 유전…아버지, 바람피운 오빠 혼내더니 본인도\";)\\n서울서 만나는 \\'남쪽바다\\'…부울경 관광 팝업스토어 오픈;)\\n북한강 30대 여성 \\'토막 시신\\' 용의자 잡았다…\"현역 군인, 범행 인정\";)\\n아반떼에 받힌 \\'4억 람보르기니\\' 차주 직접 등판…\"걱정 말아라\";)\\n\"아내, 24시간 홈캠으로 감시…외도 의심해\" 고백한 개그맨 누구;)\\n30대 여성 \\'토막 시신\\' 떠오른 화천 북한강…용의자는 서울서 검거;)\\n모발 세포 최대 23% 증식…\\'양자점-OLED 패치\\' 세계 최초 개발;)\\n서울TP-로봇융합, 중소기업 로봇·AI 전문성 강화 기술컨설팅;)\\n\"난 동성애자야\" 클로이 모레츠, 깜짝 커밍아웃…해리스 지지한 이유;)\\n장윤정, 42억 빌딩 또 샀다…120억 빌라 \\'현금 매입\\' 두 달만;)\\n사유리 \"바람기 대대로 유전…아버지, 바람피운 오빠 혼내더니 본인도\";)\\n서울서 만나는 \\'남쪽바다\\'…부울경 관광 팝업스토어 오픈;)\\n북한강 30대 여성 \\'토막 시신\\' 용의자 잡았다…\"현역 군인, 범행 인정\";)\\n아반떼에 받힌 \\'4억 람보르기니\\' 차주 직접 등판…\"걱정 말아라\";)\\n\"아내, 24시간 홈캠으로 감시…외도 의심해\" 고백한 개그맨 누구;)\\n30대 여성 \\'토막 시신\\' 떠오른 화천 북한강…용의자는 서울서 검거;)\\n모발 세포 최대 23% 증식…\\'양자점-OLED 패치\\' 세계 최초 개발;)\\n서울TP-로봇융합, 중소기업 로봇·AI 전문성 강화 기술컨설팅;)\\n\\n\"난 동성애자야\" 클로이 모레츠, 깜짝 커밍아웃…해리스 지지한 이유;)\\n\\n\\n장윤정, 42억 빌딩 또 샀다…120억 빌라 \\'현금 매입\\' 두 달만;)\\n\\n사유리 \"바람기 대대로 유전…아버지, 바람피운 오빠 혼내더니 본인도\";)\\n서울서 만나는 \\'남쪽바다\\'…부울경 관광 팝업스토어 오픈;)\\n북한강 30대 여성 \\'토막 시신\\' 용의자 잡았다…\"현역 군인, 범행 인정\";)\\n아반떼에 받힌 \\'4억 람보르기니\\' 차주 직접 등판…\"걱정 말아라\";)\\n\"아내, 24시간 홈캠으로 감시…외도 의심해\" 고백한 개그맨 누구;)\\n30대 여성 \\'토막 시신\\' 떠오른 화천 북한강…용의자는 서울서 검거;)\\n모발 세포 최대 23% 증식…\\'양자점-OLED 패치\\' 세계 최초 개발;)\\n서울TP-로봇융합, 중소기업 로봇·AI 전문성 강화 기술컨설팅;)\\n\"난 동성애자야\" 클로이 모레츠, 깜짝 커밍아웃…해리스 지지한 이유;)\\n\\n\\n검색창 열기\\n통합검색 검색  닫기\\n\\n전체\\n\\n\\n뉴스\\n\\n경제정책\\n증권\\n정치\\n부동산\\n국제경제\\n사회\\n산업\\nIT\\n금융\\n벤처·스타트업\\n블록체인\\n문화\\n포토\\n영상\\n전체기사\\n\\n\\n\\n증권\\n뉴스\\n시세/공시\\n포인트&전략\\n펀드\\n종목대해부\\n베스트리포트\\nMY스톡\\n\\n\\n헬스·바이오\\n최신기사\\n\\n\\n칼럼\\n데스크칼럼\\n사내칼럼\\n현장리포트\\n사외칼럼\\nSUCCESS\\n\\n\\n연예\\n연예\\n스포츠\\n\\n\\n이슈\\n핫이슈\\n실시간급상승\\n베스트클릭\\n사람&\\n\\n\\nMT리포트\\n\\n\\nVIP\\nVIP Only\\nVIP Story\\nT.O.M\\n투자디렉터\\n런치리포트\\nthe L\\nICT & Tech\\nCulture\\nFULL TEXT\\n초판/e-신문보기\\n서비스 신청\\n\\n\\n정치\\n\\n벤처·스타트업\\n기술·트렌드·혁신\\n법률\\n패션·연예\\n국제시사·문예\\n매거진\\n\\n전체보기 닫기\\n\\'최강 KIA\\' 37년만에 안방에서 한국시리즈 우승...역대 최다 \\'V12\\'\\n\\n;)\\n;)\\n;)\\n;)\\n;)\\n;)\\n\\n\\nsns공유 더보기\\n\\'최강 KIA\\' 37년만에 안방에서 한국시리즈 우승...역대 최다 \\'V12\\'\\n머니투데이\\n\\n정진우 기자\\n\\n기자 더보기\\n\\n;)\\n;)\\n;)\\n;)\\n;)\\n;)\\n\\n\\nsns공유 더보기\\n\\n\\n2024.10.28 23:21\\n\\n\\n문서\\n\\n프린트\\n\\n글자크기\\n글자크기조절\\n\\n가나다라마\\n가나다라마\\n가나다라마\\n가나다라마\\n가나다라마\\n\\n\\n\\n(광주=뉴스1) 임세영 기자 = 28일 오후 광주 기아챔피언스필드에서 열린 프로야구 \\'2024 신한 SOL 뱅크 KBO 포스트시즌\\' 한국시리즈 5차전 삼성 라이온즈와 KIA 타이거즈의 경기에서 우승을 차기한 기아 타이거즈 이범호 감독 및 선수들이 환호하고 있다. 2024.10.28/뉴스1 Copyright (C) 뉴스1. All rights reserved. 무단 전재 및 재배포, AI학습 이용 금지. /사진=(광주=뉴스1) 임세영 기자KIA 타이거즈가 삼성 라이온즈를 누르고 7년 만에 통합 우승을 하며 통산 12번째 한국시리즈 정상에 섰다. 시리즈 최우수선수(MVP)는 5경기 타율 0.588을 기록한 김선빈이 차지했다.KIA는 28일 오후 광주 기아챔피언스필드에서 열린 2024 신한 SOL뱅크 KBO 포스트시즌 한국시리즈(7전 4선승제) 5차전 삼성 라이온즈와의 경기에서 7대5로 이겼다.'}, {'title': 'Kia, 삼성에 짜릿한 역전승으로 통산 12번째 우승…김선빈, 한국시리즈 Mvp - 이투데이', 'url': 'https://www.etoday.co.kr/news/view/2413852', 'content': \"KIA 타이거즈 선수들이 28일 광주 기아챔피언스필드에서 열린 '2024 프로야구 한국시리즈'에서 우승을 차지한 뒤 환호하고 있다. (연합뉴스)KIA 타이\", 'score': 0.9938548, 'raw_content': \"KIA, 삼성에 짜릿한 역전승으로 통산 12번째 우승…김선빈, 한국시리즈 MVP\\n가장작게\\n작게\\n기본\\n크게\\n가장크게\\n▲KIA 타이거즈 선수들이 28일 광주 기아챔피언스필드에서 열린 '2024 프로야구 한국시리즈'에서 우승을 차지한 뒤 환호하고 있다. (연합뉴스)\\nKIA 타이거즈가 삼성 라이온즈를 꺾고 7년 만이자 팀 통산 12번째 한국시리즈(KS) 우승을 차지했다.\\nKIA는 28일 광주 기아챔피언스필드에서 열린 '2024 신한 SOL뱅크 프로야구(KBO) KS 5차전'에서 삼성을 상대로 1-5로 뒤지다 7-5로 짜릿한 역전승을 거뒀다.\\n이날 승리로 KS 4승 1패를 기록한 KIA는 2017년 이후 7년 만에 정규리그와 KS 통합 우승을 기록했다. 특히 12번째 우승으로 팀 통산 KBO리그 최다 우승을 재차 경신했다.\\n애초 이날 경기는 삼성이 1회 초부터 앞서가면서 승기를 잡는 듯했다. 삼성은 1회 초 2사 1루 상황에서 르윈 디아즈가 양현종을 상대로 6구째 시속 133km 슬라이더를 받아쳐 우측 담장을 넘기는 투런포를 쏘아올렸다. 이어 후속 타자 김영웅은 양현종의 3구째 슬라이더를 공략해 우월 솔로 홈런을 쳐냈다.\\n삼성은 KIA에 1회 말 1점을 내줬지만, 3회 초 다시 반격에 나섰다. 1사 주자 없는 상황에서 류지혁이 안타를 쳐 진루했고, 후속 타자 김헌곤은 삼진으로 돌아섰다. 2사 1루 상황에서 타석에 들어선 디아즈는 양현종의 2구째 시속 143km 직구를 받아쳐 우측 담장을 넘기는 투런 홈런을 기록했다.\\n점수가 크게 벌어졌지만 KIA의 추격이 3회부터 꾸준히 시작됐다. KIA는 3회 말 김도영과 나성범의 연속 안타가 터진데 이어 소크라테스의 땅볼이 터져 1사 주자 1, 3루가 됐다. 이어 최형우의 적시타가 터져 김도영이 홈을 밟으면서 1점을 뽑아냈다.\\n2-5로 뒤진 채 5회 말을 맞이한 KIA는 선두 타자로 나선 최형우가 상대 투수 김태훈의 5구째 시속 140km 직구를 받아쳐 우월 담장을 넘기는 솔로 홈런을 쳐냈다. 최형우의 이날 홈런은 만 40세 10개월 12일에 기록한 것으로, 포스트시즌 최고령 홈런 기록을 갈아치운 것이다. 종전 기록은 김강민(은퇴)이 2022년에 세운 만 40세 1개월 25일이었다.\\n3-5까지 추격한 KIA의 공세는 이어졌다. 이우성이 삼진으로 물러났지만, 김태군과 이창진이 연속 볼넷으로 출루했다. 이어 박찬호의 유격수 앞 땅볼이 나온 사이 주자가 1, 3루가 됐다. 이후 김선빈이 볼넷으로 출루하며 2사 만루가 됐고, 타석에 김도영이 들어섰다.\\n김도영은 김윤수를 상대로 풀카운트 승부 끝에 밀어내기 볼넷을 얻어냈다. 특히 마지막 공이 폭투로 이어졌고, 그 사이 3루 주자 박찬호와 2루 주자 김태군이 홈까지 파고들면서 추가 득점을 뽑아냈다.\\nKIA는 6회 말 선두 타자 소크라테스가 우익수 앞 안타로 진루했고, 최형우가 땅볼을 친 사이 3루까지 밟았다. 이어 변우혁은 볼넷으로 1사 1, 3루가 됐고, 김태군의 적시타가 터지며 소크라테스가 홈을 밟았다. 이날 KIA의 첫 역전이다.\\nKIA는 8회 말 1사 후 이창진이 우전안타로 출루한 뒤 박찬호가 2루타를 쳐내 점수를 7-5로 벌렸다.\\n승기를 잡은 KIA는 9회 초 정해영이 마운드에 올라 삼성의 마지막 타자 김성윤을 삼진으로 잡아내며 포효했다.\\n이번 KIA의 KS 우승에 기여한 김선빈은 최우수선수(MVP)로 선정됐다. 김선빈은 KS에서 17타수 10안타, 타율 0.588의 맹타를 휘두르며 KIA 우승의 선봉장에 섰다. 김선빈은 기자단 투표에서 총 99표 중 46표를 득표했다. 4차전 만루 홈런과 5차전에서 적시타로 KIA의 역전을 이끈 김태군은 45표를 득표하며 아쉽게 1표 차로 MVP를 놓쳤다.\\n한편, 올 시즌을 앞두고 KIA 사령탑에 오른 이범호 감독은 선동열(42세 9개월 9일) 감독에 이어 역대 두 번째 최연소(42세 11개월 3일) 감독이 됐다.\\n관련 뉴스\\n주요 뉴스\\n많이 본 뉴스\\n최신 영상\\n문화·라이프 최신 뉴스\\n뉴스발전소\\n한 컷\\n마켓 뉴스\\n오늘의 상승종목\\n실시간 암호화폐 시세\\n(주)이투데이 (제호 : 이투데이) ㅣ 서울시 강남구 강남대로 556 이투데이빌딩 ㅣ ☎ 02) 799-2600\\n등록번호 : 서울아00197 ㅣ 등록일자 : 2006.04.27 ㅣ 발행일자 : 2006.04.27 ㅣ 발행인 : 김상우 ㅣ 편집인 : 김덕헌 ㅣ 청소년보호책임자 : 박성호\\n이투데이의 모든 콘텐츠(기사)는 저작권법의 보호를 받으며, 무단전재 및 수집, 복사, 재배포, AI학습 이용 등을 금지합니다.\\nCopyright 2006. 이투데이. All rights reserved. ㅣ 보도자료 및 기사제보 press@etoday.co.kr\\n이투데이 임직원은 모두의 의견을 모아 언론 윤리강령, 기자윤리강령, 임직원 윤리강령 및 실천규정을 제정, 준수하고 있습니다.\\n한국기자협회와 인터넷신문위원회 윤리강령 및 실천요강도 준수합니다.\\n「열린보도원칙」당 매체는 독자와 취재원 등 뉴스이용자의 권리 보장을 위해 반론이나 정정 보도, 추후보도를 요청할 수 있는 창구를 열어두고 있음을 알려드립니다.\\n\"}], 'response_time': 5.02})]"
      ]
     },
     "execution_count": 43,
     "metadata": {},
     "output_type": "execute_result"
    }
   ],
   "source": [
    "tavily_search.batch(result2.tool_calls)"
   ]
  },
  {
   "cell_type": "markdown",
   "metadata": {},
   "source": [
    "## Tool 의 처리(응답) 결과를 LLM 요청시 사용\n",
    "- ToolMessage를 prompt 에 추가하여 LLM에 요청한다.\n",
    "- ToolMessage 는 Tool Calling 정보를 가진 AIMessage 다음에 들어와야 한다.\n",
    "- Prompt 순서\n",
    "    1. 일반 prompt (system, 대화 history, .., human)\n",
    "    2. AIMessage: tool calling 정보를 가진 AIMessage. (tool_model에 질의 받은 tool calling 정보가 있는 응답)\n",
    "    3. ToolMessage:  Tool의 처리 결과"
   ]
  },
  {
   "cell_type": "code",
   "execution_count": null,
   "metadata": {},
   "outputs": [],
   "source": [
    "from datetime import datetime\n",
    "datetime.now().strftime(\"%Y%m%d-%H%M%S\")\n",
    "# datetime.now().strftime(\"%Y%m%d-%H%M%S\")"
   ]
  },
  {
   "cell_type": "code",
   "execution_count": 62,
   "metadata": {},
   "outputs": [],
   "source": [
    "from datetime import datetime\n",
    "from langchain_core.runnables import chain\n",
    "from textwrap import dedent\n",
    "from langchain.prompts import ChatPromptTemplate, MessagesPlaceholder\n",
    "\n",
    "# Tool 생성\n",
    "# model 생성\n",
    "# model에 tool을 binding.\n",
    "today = datetime.now().strftime(\"%Y-%m-%d\")\n",
    "prompt_template = ChatPromptTemplate(\n",
    "    [\n",
    "        (\"system\", dedent(\"\"\"당신은 유능한 AI 비서입니다. 오늘 날짜는 {today}입니다. 답변을 할 때는 오늘 날짜와 가장 가까운 정보를 검색해서 대답해 주세요.\"\"\")),\n",
    "        (\"human\", \"{user_input}\"),  # 질문\n",
    "        MessagesPlaceholder(\"message\", optional=True)  \n",
    "        # AIMessage(tool_calls정보) - ToolMessage\n",
    "    ],\n",
    "    partial_variables={\"today\":today}\n",
    ")\n",
    "# MessagesPlaceholder(\"message\", optional=True) == (\"placeholder\", \"{message}\")\n",
    "\n",
    "\n",
    "tool_model_chain = prompt_template | tool_model   # tool_model = model + tool 이 바인딩 됨.\n",
    "\n",
    "@chain\n",
    "def web_search_chain(input):\n",
    "    # input : 사용자 질의\n",
    "    ai_message = tool_model_chain.invoke({\"user_input\":input})\n",
    "    if ai_message.tool_calls:  # Tool을 호출. -> query + Tool 결과 -> LLM 에 요청\n",
    "        tool_messages = tavily_search.batch(ai_message.tool_calls) # list[ToolMessage]\n",
    "        input_dict ={\n",
    "            \"user_input\":input,\n",
    "            \"message\":[ai_message, *tool_messages]\n",
    "        }\n",
    "        return tool_model_chain.invoke(input_dict).content\n",
    "    else:  # LLM 이 답변을 한 경우 -> 답변을 응답.\n",
    "        return ai_message.content\n"
   ]
  },
  {
   "cell_type": "code",
   "execution_count": 63,
   "metadata": {},
   "outputs": [
    {
     "data": {
      "text/plain": [
       "[10, 1, 2, 3]"
      ]
     },
     "execution_count": 63,
     "metadata": {},
     "output_type": "execute_result"
    }
   ],
   "source": [
    "a = [1,2,3]\n",
    "b = [10, *a]\n",
    "b"
   ]
  },
  {
   "cell_type": "code",
   "execution_count": 64,
   "metadata": {},
   "outputs": [],
   "source": [
    "result = web_search_chain.invoke({\"user_input\":\"한국시리즈 2024년 MVP 선수는 누구인가요?\"})  # tool_model_chain.invoke({\"user_input\":\"한국시리즈 2024년 MVP 선수는 누구인가요?\"})"
   ]
  },
  {
   "cell_type": "code",
   "execution_count": 65,
   "metadata": {},
   "outputs": [
    {
     "data": {
      "text/plain": [
       "\"2024년 한국시리즈 MVP는 KIA의 김선빈 선수입니다. 그는 4차전에서의 활약을 통해 단 1표 차로 김태군 선수를 제치고 MVP로 선정되었습니다. 김선빈은 '작은 거인'이라 불리며, 이번 수상을 통해 그동안의 편견을 극복했다고 밝혔습니다.\""
      ]
     },
     "execution_count": 65,
     "metadata": {},
     "output_type": "execute_result"
    }
   ],
   "source": [
    "result"
   ]
  },
  {
   "cell_type": "code",
   "execution_count": 56,
   "metadata": {},
   "outputs": [
    {
     "name": "stdout",
     "output_type": "stream",
     "text": [
      "\n",
      "================================\n",
      "[{'args': {'query': '2024 한국시리즈 MVP 선수'},\n",
      "  'id': 'call_5o8jt7VXPbKdxjFmTZgksHX5',\n",
      "  'name': 'tavily_search_results_json',\n",
      "  'type': 'tool_call'}]\n"
     ]
    }
   ],
   "source": [
    "print(r.content)\n",
    "print(\"================================\")\n",
    "pprint(r.tool_calls)"
   ]
  },
  {
   "cell_type": "code",
   "execution_count": 26,
   "metadata": {},
   "outputs": [],
   "source": [
    "# !pip install -U duckduckgo-search"
   ]
  },
  {
   "cell_type": "markdown",
   "metadata": {},
   "source": [
    "# 사용자 정의 Tool 구현\n",
    "\n",
    "## @tool 사용\n",
    "- 함수로 구현하고 `@tool` 데코레이터를 사용해 tool(StructuredTool)로 정의한다.\n",
    "    - `langchain_core.tools` 모듈에 있다.\n",
    "- tool name\n",
    "    - 함수의 이름이 tool의 이름이 된다.\n",
    "- parameters\n",
    "    - 함수의 파라미터가 tool의 파라미터가 된다.\n",
    "    - **type hint**를 이용해 타입을 지정한다.  \n",
    "- description\n",
    "    - doctring이 description이 된다.\n",
    "    - RunnableBinding이 tool을 잘 찾을 수 있도록 하려면 **tool의 기능을 최대한 구체적**으로 작성한다.\n",
    "- **@tool이 적용된 함수(StructuredTool)이 tool**이므로 model에 binding 한다."
   ]
  },
  {
   "cell_type": "code",
   "execution_count": null,
   "metadata": {},
   "outputs": [],
   "source": []
  },
  {
   "cell_type": "code",
   "execution_count": null,
   "metadata": {},
   "outputs": [],
   "source": []
  },
  {
   "cell_type": "code",
   "execution_count": null,
   "metadata": {},
   "outputs": [],
   "source": []
  },
  {
   "cell_type": "markdown",
   "metadata": {},
   "source": [
    "## Runnable을 tool로 정의\n",
    "- `Runnable객체.as_tool()`\n",
    "    - name, description, args_schema 파라미터를 이용해 tool의 이름, 설명, 스키마를 설정한다."
   ]
  },
  {
   "cell_type": "code",
   "execution_count": null,
   "metadata": {},
   "outputs": [],
   "source": []
  },
  {
   "cell_type": "code",
   "execution_count": null,
   "metadata": {},
   "outputs": [],
   "source": []
  },
  {
   "cell_type": "code",
   "execution_count": null,
   "metadata": {},
   "outputs": [],
   "source": []
  },
  {
   "cell_type": "markdown",
   "metadata": {},
   "source": [
    "## Vector Store(Vector 저장소) tool\n",
    "\n",
    "### text loading -> Document 생성\n",
    "- 레스토랑 메뉴를 vector store에 저장한다.\n",
    "1. 메뉴 text 를 로딩한다.\n",
    "2. 각 메뉴의 내용(음식이름, 메뉴설명, 파일명)을 넣어 Document를 생성한다."
   ]
  },
  {
   "cell_type": "code",
   "execution_count": null,
   "metadata": {},
   "outputs": [],
   "source": []
  },
  {
   "cell_type": "code",
   "execution_count": null,
   "metadata": {},
   "outputs": [],
   "source": []
  },
  {
   "cell_type": "markdown",
   "metadata": {},
   "source": [
    "### vector store(Chroma), Retriever 생성"
   ]
  },
  {
   "cell_type": "code",
   "execution_count": null,
   "metadata": {},
   "outputs": [],
   "source": []
  },
  {
   "cell_type": "code",
   "execution_count": null,
   "metadata": {},
   "outputs": [],
   "source": []
  },
  {
   "cell_type": "code",
   "execution_count": null,
   "metadata": {},
   "outputs": [],
   "source": []
  },
  {
   "cell_type": "markdown",
   "metadata": {},
   "source": [
    "### Vector Store를 Tool로 정의"
   ]
  },
  {
   "cell_type": "code",
   "execution_count": null,
   "metadata": {},
   "outputs": [],
   "source": []
  },
  {
   "cell_type": "code",
   "execution_count": null,
   "metadata": {},
   "outputs": [],
   "source": []
  },
  {
   "cell_type": "code",
   "execution_count": null,
   "metadata": {},
   "outputs": [],
   "source": []
  },
  {
   "cell_type": "markdown",
   "metadata": {},
   "source": [
    "# Agent 구현\n",
    "\n",
    "- `create_tool_calling_agent()` 를 이용해 Agent 생성\n",
    "    - 파라미터\n",
    "        - llm: 에이전트로 사용할 LLM.\n",
    "        - tools: 에이전트가 접근할 수 있는 도구들의 목록.\n",
    "        - prompt: 에이전트의 동작을 안내하는 프롬프트 템플릿.\n",
    "- AgentExecutor를 이용해 Agent 실행\n",
    "    - Agent의 동작을 관리하는 클래스.\n",
    "    - AgentExecutor는 사용자 요청을 처리할 때 까지 적절한 tool들을 호출하고 최종 결과를 생성해 반환하는 작업을 처리한다.\n",
    "    - 파라미터\n",
    "        - agent: 실행할 Agent.\n",
    "        - tools: Agent가 사용할 tool들 목록."
   ]
  },
  {
   "cell_type": "code",
   "execution_count": null,
   "metadata": {},
   "outputs": [],
   "source": []
  },
  {
   "cell_type": "code",
   "execution_count": null,
   "metadata": {},
   "outputs": [],
   "source": []
  }
 ],
 "metadata": {
  "kernelspec": {
   "display_name": "langchain",
   "language": "python",
   "name": "python3"
  },
  "language_info": {
   "codemirror_mode": {
    "name": "ipython",
    "version": 3
   },
   "file_extension": ".py",
   "mimetype": "text/x-python",
   "name": "python",
   "nbconvert_exporter": "python",
   "pygments_lexer": "ipython3",
   "version": "3.12.7"
  }
 },
 "nbformat": 4,
 "nbformat_minor": 4
}
