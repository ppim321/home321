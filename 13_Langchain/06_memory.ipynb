{
 "cells": [
  {
   "cell_type": "markdown",
   "id": "49822c20-074d-44e0-9334-7530c0ed6cc3",
   "metadata": {},
   "source": [
    "# Memory\n",
    "\n",
    "- LLM과 주고 받은 대화를 저장하는 기능을 말한다. \n",
    "  - LLM 모델은 대화의 상태를 저장하지 않는다. 그래서 질문을 하면 그것에 대한 답변을 하고 끝이다. 대화 내용에 따라 이전 대화 내용을 바탕으로 연결되는 질문을 하고 그것에 대한 답변을 받아야 할 때가 있다. 이런 경우 지금 까지의 대화 내용을 저장하는 것을 메모리(memory)라고 한다.\n",
    "- **방식**\n",
    "  - 대화 내용을 저장한 뒤 다음 질문을 할 때 저장된 이전 질문들을 합쳐서 전송한다.\n",
    "  - 이전 대화내용을 어떻게 저장하는지에 따라 다양한 방식의 memory 기능이 있다.\n",
    "    - LLM은 [입력 토큰수의 제한이](https://platform.openai.com/docs/models) 있기 때문에 대화를 무한정 저장할 수없다.\n",
    "    - Langchain은 이전 대화 내용들을 요약하거나 최신 몇개만 저장하는 방식의 다양한 memory 방식을 제공한다.\n",
    "\n",
    "![memory.png](figures/memory.png)"
   ]
  },
  {
   "cell_type": "markdown",
   "id": "76026745-6467-4c23-8816-d9cfae70854d",
   "metadata": {},
   "source": [
    "## 주요 Memory Class\n",
    "### ConversationBufferMemory\n",
    "- https://python.langchain.com/v0.1/docs/modules/memory/types/buffer/\n",
    "- **대화를 모두 그대로 저장**한다.\n",
    "- 대화가 길어질 경우 저장 양이 많아지는 문제가 있다.\n",
    "\n",
    "### ConversationBufferWindowMemory\n",
    "- **최신 대화 K개만 저장** 하고 그 이전 대화는 삭제한다. (K를 window size라고 하고 객체 생성시 설정한다.)\n",
    "  - 한개의 대화는 input(질문)-output(답변) 한 쌍을 말한다.\n",
    "    \n",
    "### ConversationTokenBufferMemory\n",
    "- https://python.langchain.com/v0.1/docs/modules/memory/types/token_buffer/\n",
    "- 지정한 **token 수를 넘지 않는 범위**에서 최신 대화들을 저장한다.\n",
    "  \n",
    "\n",
    "### ConversationSummaryMemory\n",
    "- https://python.langchain.com/v0.1/docs/modules/memory/types/summary/\n",
    "- **기존 대화들을 요약**해서 저장한다. 다만 요약은 llm이 하기 때문에 객체 생성시 llm 모델을 지정해야 한다.\n",
    "- 대화 내용이 요약되어 전송되므로 토큰 수를 줄여 요금을 절약할 수있다.\n",
    "  \n",
    "### ConversationSummaryBufferMemory\n",
    "- https://python.langchain.com/v0.1/docs/modules/memory/types/summary_buffer/\n",
    "- 대화들 자체를 메모리에 저장하다가 지정한 token을 넘어가면 **오래된 대화들 순서대로 요약**한다. \n",
    "  - 최신대화는 그대로 저장하고 오래된 대화는 요약해서 저장하는 방식.\n",
    "\n",
    "> #### ConversationSummaryMemory 토큰 비용\n",
    "> - 초기 비용은 ConversationSummaryMemory가 기존 대화를 요약하기 위해 LLM을 사용하므로 ConversationBufferMemory보다 더 많은 토큰을 사용한다. 그래서 비용이 더 많이 든다.\n",
    "> - 대화가 길어질수록 ConversationBufferMemory모든 대화 내용을 그대로 저장하므로 토큰 수가 선형적으로 증가한다. \n",
    "> - 반면 ConversationSummaryMemory는 대화가 길어질수록 요약된 형태로 기존 대화들이 저장되어 토큰 증가율이 더 낮아지게 되서 비용을 절감할 수있다.\n",
    "> - 비용과 관련해 **짧은 대화**일 경우 ConversationBufferMemory 가 효율적이고 **긴 대화일 경우** ConversationSummaryMemory가 효율적이다.\n",
    "> - **요약 비용을 절감** 하기 위해 **요약에는 저렴한 모델**을 사용할 수 있다.\n",
    "\n",
    "> #### Deprecated\n",
    "> - 위 메모리 저장 방식은 0.3.1 부터 deprecated 되었다. (1.0 버전에서 제거될 예정) \n",
    "> - 대신 RunnableWithMessageHistory 사용이 권장 된다."
   ]
  },
  {
   "cell_type": "markdown",
   "id": "20719e99-4a9c-4db8-90cb-3dd38b16745d",
   "metadata": {},
   "source": [
    "### 공통 메소드\n",
    "- **initializer**\n",
    "  - memory_key: str = \"history\"\n",
    "    - 대화내역을 dict로 저장하는데 그때 사용되는 key.\n",
    "    - default는 **\"history\"**\n",
    "    - Prompt template에서 memory의 대화내용을 저장하는 placeholder(template variable)의 이름을 이 memory_key 로 지정한다.\n",
    "  - return_message: bool\n",
    "    - True: 각 대화내용을 Message(HumanMessage, AIMessage) 객체에 저장하고 그것을 List로 묶어서 반환\n",
    "    - False: 대화내용을 문자열(str)로 반환한다.\n",
    "  - chat_memory: BaseChatMessageHistory\n",
    "    - 대화 history를 어디에 저장할 지 설정. (메모리, sql등)\n",
    "- **save_context(inputs: dict, outputs: dict)**\n",
    "  - Memory에 대화내용(Context)을 저장.\n",
    "  - 파라미터\n",
    "    - inputs: Human message\n",
    "    - outputs: AI message\n",
    "- **load_memory_variables(dict)**\n",
    "  - 저장된 대화내용(context)를 반환.\n",
    "  - argument로 빈 dict를 넣어준다.\n",
    "- **clear()**\n",
    "  - 저장된 모든 대화 비우기\n"
   ]
  },
  {
   "cell_type": "markdown",
   "id": "9e25be7a-6636-4fc6-946e-7d57e35bb14d",
   "metadata": {},
   "source": [
    "## 대화 저장"
   ]
  },
  {
   "cell_type": "code",
   "execution_count": null,
   "id": "77a85e5f-a667-4622-b237-e821a6ceabbf",
   "metadata": {},
   "outputs": [],
   "source": []
  },
  {
   "cell_type": "code",
   "execution_count": null,
   "id": "77691e85-d2ed-4706-9ec5-1e71d66acd3c",
   "metadata": {},
   "outputs": [],
   "source": []
  },
  {
   "cell_type": "code",
   "execution_count": null,
   "id": "d5f4ea74-86c0-4fe4-9e19-472d0d06e0f1",
   "metadata": {},
   "outputs": [],
   "source": []
  },
  {
   "cell_type": "markdown",
   "id": "16202258-7635-4055-b43b-d17d5cb13446",
   "metadata": {},
   "source": [
    "# 주요 메모리 클래스 예제\n",
    "\n",
    "## ConversationBufferMemory\n",
    "메모리에 대화를 모두 저장한다."
   ]
  },
  {
   "cell_type": "code",
   "execution_count": null,
   "id": "e10e48ff-7210-45ce-96c8-dd56dbe35fc4",
   "metadata": {},
   "outputs": [],
   "source": []
  },
  {
   "cell_type": "code",
   "execution_count": null,
   "id": "9871296e-070b-4989-833a-4ea1ebcf7cbd",
   "metadata": {},
   "outputs": [],
   "source": []
  },
  {
   "cell_type": "markdown",
   "id": "c62ab200-4ac3-4d9e-8982-3e26e91d9db6",
   "metadata": {},
   "source": [
    "## ConversationBufferWindowMemory\n",
    "최신 대화 K개만 저장 한다."
   ]
  },
  {
   "cell_type": "code",
   "execution_count": null,
   "id": "bff1d534-9362-4275-bfb8-e63a04eb4b7f",
   "metadata": {},
   "outputs": [],
   "source": []
  },
  {
   "cell_type": "code",
   "execution_count": null,
   "id": "2d2d4074-5632-4917-bbb4-6c517a1d1f91",
   "metadata": {},
   "outputs": [],
   "source": []
  },
  {
   "cell_type": "markdown",
   "id": "e4eba863-a009-4ddd-91bf-6ac26a05e56b",
   "metadata": {},
   "source": [
    "## ConversationTokenBufferMemory\n",
    "대화의 토큰 길이를 기준으로 최신 대화만 저장한다."
   ]
  },
  {
   "cell_type": "code",
   "execution_count": null,
   "id": "700de1e3-8d33-4f55-ae59-e370621c48f6",
   "metadata": {},
   "outputs": [],
   "source": []
  },
  {
   "cell_type": "code",
   "execution_count": null,
   "id": "7e46c3e0-bfc0-4d77-a91a-e292f1b9ea9f",
   "metadata": {},
   "outputs": [],
   "source": []
  },
  {
   "cell_type": "markdown",
   "id": "66c04e70-3d47-49d0-9dbd-70c6423da7ba",
   "metadata": {},
   "source": [
    "## ConversationSummaryMemory\n",
    "대화를 요약해서 저장한다."
   ]
  },
  {
   "cell_type": "code",
   "execution_count": null,
   "id": "a0304b3e-0607-4abb-b2f0-74cefc66ceba",
   "metadata": {},
   "outputs": [],
   "source": []
  },
  {
   "cell_type": "code",
   "execution_count": null,
   "id": "d3aff8bd-4be8-4c8c-9748-192b22367dad",
   "metadata": {},
   "outputs": [],
   "source": []
  },
  {
   "cell_type": "markdown",
   "id": "2168db8b-4a5f-4a66-aed9-e78dfdb96fe7",
   "metadata": {},
   "source": [
    "## ConversationSummaryBufferMemory\n",
    "오래된 대화는 요약하고 최신대화는 그대로 저장한다."
   ]
  },
  {
   "cell_type": "code",
   "execution_count": null,
   "id": "05a2fa84-18da-4393-be59-65d7632de3ed",
   "metadata": {},
   "outputs": [],
   "source": []
  },
  {
   "cell_type": "code",
   "execution_count": null,
   "id": "f3894e55-26ae-4487-937b-051eeb4f103d",
   "metadata": {},
   "outputs": [],
   "source": []
  },
  {
   "cell_type": "markdown",
   "id": "ee66a928-177d-4f03-9975-0e218660c021",
   "metadata": {},
   "source": [
    "# Chain\n",
    "## Off-the-shelf chains"
   ]
  },
  {
   "cell_type": "code",
   "execution_count": null,
   "id": "148ec7f6-232d-4bc8-b918-d9eed90a1b78",
   "metadata": {},
   "outputs": [],
   "source": []
  },
  {
   "cell_type": "code",
   "execution_count": null,
   "id": "8dfc933a-11de-46f8-b88e-18c20e0a25d1",
   "metadata": {},
   "outputs": [],
   "source": []
  },
  {
   "cell_type": "code",
   "execution_count": null,
   "id": "f42dfb63-bddd-486e-bf04-a7ba2ceca58b",
   "metadata": {},
   "outputs": [],
   "source": []
  },
  {
   "cell_type": "markdown",
   "id": "bd1002a4-cd88-4883-9a3e-622b693049c4",
   "metadata": {},
   "source": [
    "## LECL"
   ]
  },
  {
   "cell_type": "code",
   "execution_count": null,
   "id": "6b2da59d-8ad2-4573-9615-4fa6c831488e",
   "metadata": {},
   "outputs": [],
   "source": []
  },
  {
   "cell_type": "code",
   "execution_count": null,
   "id": "64698490-3786-4155-821c-b0626a545f27",
   "metadata": {},
   "outputs": [],
   "source": []
  },
  {
   "cell_type": "code",
   "execution_count": null,
   "id": "bd71fcd7-74bc-4b68-8ae7-856469ceb6f6",
   "metadata": {},
   "outputs": [],
   "source": []
  }
 ],
 "metadata": {
  "kernelspec": {
   "display_name": "Python 3 (ipykernel)",
   "language": "python",
   "name": "python3"
  },
  "language_info": {
   "codemirror_mode": {
    "name": "ipython",
    "version": 3
   },
   "file_extension": ".py",
   "mimetype": "text/x-python",
   "name": "python",
   "nbconvert_exporter": "python",
   "pygments_lexer": "ipython3",
   "version": "3.12.2"
  }
 },
 "nbformat": 4,
 "nbformat_minor": 5
}
