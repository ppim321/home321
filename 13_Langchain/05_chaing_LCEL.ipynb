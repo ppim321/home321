{
 "cells": [
  {
   "cell_type": "markdown",
   "id": "35ee8245-0329-4185-971d-21bf20cc780e",
   "metadata": {},
   "source": [
    "# Chain\n",
    "\n",
    "- 여러 컴포넌트들을 논리적 순서대로 연결하여 복잡한 작업을 수행하는 구조로 복잡한 AI 작업을 체계적이고 효율적으로 구현할 수 있게 해준다.\n",
    "- 기본 개념\n",
    "    - 일련의 작업을 구성하는 여러 개별 컴포넌트들을 정의된 순서대로 실행시킨다.\n",
    "    - 단일 API 호출을 넘어 여러 호출을 논리적 순서로 연결 가능하다.\n",
    "    - 복잡한 작업을 작은 단계로 분해하여 순차적으로 처리할 수 있다.\n",
    "\n",
    "- Langchain은 `off-the-shelf chains` 방식과 `LCEL(Langchain Expression Language)`  두가지 방식이 있다.\n",
    "  - off-the-shelf chains 방식\n",
    "    - 미리정의된 Chain 클래스를 사용해 체인을 구성하는 방식\n",
    "    - Langchain의 초기 방식으로 대부분의 class들이 deprecated 되었다.\n",
    "  - LECL 방식\n",
    "    - 표현식을 이용해 체인을 구성하는 방식이다.\n",
    "    - 현재 LangChain은 LCEL(LangChain Expression Language)을 중심으로 발전하고 있다\n"
   ]
  },
  {
   "cell_type": "markdown",
   "id": "52ecc9c2-1744-4beb-84f3-257faddbec60",
   "metadata": {},
   "source": [
    "# Off-the-shelf chains 예제"
   ]
  },
  {
   "cell_type": "code",
   "execution_count": 1,
   "id": "83c6e80d-36bc-449d-bc94-6e92295e66ec",
   "metadata": {},
   "outputs": [
    {
     "data": {
      "text/plain": [
       "True"
      ]
     },
     "execution_count": 1,
     "metadata": {},
     "output_type": "execute_result"
    }
   ],
   "source": [
    "from dotenv import load_dotenv\n",
    "\n",
    "load_dotenv()"
   ]
  },
  {
   "cell_type": "code",
   "execution_count": 2,
   "id": "729654ef-afc1-4ad0-9264-f6fdf57bf586",
   "metadata": {},
   "outputs": [
    {
     "name": "stdout",
     "output_type": "stream",
     "text": [
      "content='물론입니다! 스마트폰에 어울리는 이름 5개를 제안드리겠습니다.\\n\\n1. **스마트엣지** (SmartEdge)\\n2. **픽셀래스팅** (PixelLasting)\\n3. **모바일파노라마** (MobilePanorama)\\n4. **에코플렉스** (EchoPlex)\\n5. **퓨처링크** (FutureLink)\\n\\n이 이름들이 구매자의 관심을 끌 수 있기를 바랍니다!' additional_kwargs={'refusal': None} response_metadata={'token_usage': {'completion_tokens': 102, 'prompt_tokens': 22, 'total_tokens': 124, 'completion_tokens_details': {'accepted_prediction_tokens': 0, 'audio_tokens': 0, 'reasoning_tokens': 0, 'rejected_prediction_tokens': 0}, 'prompt_tokens_details': {'audio_tokens': 0, 'cached_tokens': 0}}, 'model_name': 'gpt-4o-mini-2024-07-18', 'system_fingerprint': 'fp_0705bf87c0', 'finish_reason': 'stop', 'logprobs': None} id='run-d5331775-9448-4e46-8a87-c861be2c69ca-0' usage_metadata={'input_tokens': 22, 'output_tokens': 102, 'total_tokens': 124, 'input_token_details': {'audio': 0, 'cache_read': 0}, 'output_token_details': {'audio': 0, 'reasoning': 0}}\n"
     ]
    }
   ],
   "source": [
    "from langchain import PromptTemplate\n",
    "from langchain_openai import ChatOpenAI\n",
    "from pprint import pprint\n",
    "\n",
    "prompt_template = PromptTemplate(\n",
    "    template = \"{item}에 어울리는 이름 {count}개를 만들어 주세요.\"\n",
    "    \n",
    ")\n",
    "model = ChatOpenAI(\n",
    "    model=\"gpt-4o-mini\",\n",
    "    temperature=1.0\n",
    ")\n",
    "\n",
    "# 순서\n",
    "## 1. prompt생성 -> 2. LLM 요청\n",
    "prompt = prompt_template.invoke({\"item\":\"스마트폰\", \"count\":5})\n",
    "# prompt.text\n",
    "result = model.invoke(prompt)\n",
    "print(result)"
   ]
  },
  {
   "cell_type": "code",
   "execution_count": 3,
   "id": "063db889-960f-4e7c-9b67-a83297fe2c38",
   "metadata": {},
   "outputs": [
    {
     "name": "stderr",
     "output_type": "stream",
     "text": [
      "C:\\Users\\Playdata\\AppData\\Local\\Temp\\ipykernel_11428\\2068059606.py:3: LangChainDeprecationWarning: The class `LLMChain` was deprecated in LangChain 0.1.17 and will be removed in 1.0. Use :meth:`~RunnableSequence, e.g., `prompt | llm`` instead.\n",
      "  chain = LLMChain(\n"
     ]
    }
   ],
   "source": [
    "from langchain import LLMChain\n",
    "\n",
    "chain = LLMChain(\n",
    "    prompt = prompt_template,\n",
    "    llm = model\n",
    "    # , output_parser=OutputParser객체\n",
    ")\n",
    "# 입력 : prompt_template의 전달할 값. \n",
    "# -> chain(prompt_template \n",
    "# -> LLM -> 출력 : LLM의 결과\n",
    "\n",
    "result = chain.invoke({\"item\":\"가방\", \"count\":3})\n"
   ]
  },
  {
   "cell_type": "code",
   "execution_count": 4,
   "id": "c6d97666",
   "metadata": {},
   "outputs": [
    {
     "name": "stdout",
     "output_type": "stream",
     "text": [
      "{'item': '가방', 'count': 3, 'text': '물론입니다! 가방에 어울리는 이름 세 개를 제안해 드릴게요:\\n\\n1. **스타일리쉬 캐리** (Stylish Carry) - 세련된 느낌을 주는 이름으로, 어떤 모임에서도 잘 어울릴 것 같습니다.\\n2. **모던 미니멀** (Modern Minimal) - 심플하면서도 현대적인 디자인의 가방에 잘 어울리는 이름입니다.\\n3. **어반 백팩** (Urban Backpack) - 도시 생활에 적합한 실용적인 느낌의 백팩에 적합한 이름입니다.\\n\\n도움이 되었길 바랍니다!'}\n"
     ]
    }
   ],
   "source": [
    "print(result)"
   ]
  },
  {
   "cell_type": "code",
   "execution_count": 5,
   "id": "6836228d",
   "metadata": {},
   "outputs": [],
   "source": [
    "# LCEL\n",
    "chain2 = prompt_template | model\n",
    "result2 = chain2.invoke({\"item\":\"컴퓨터\", \"count\":5})"
   ]
  },
  {
   "cell_type": "code",
   "execution_count": 6,
   "id": "ae28ff9a",
   "metadata": {},
   "outputs": [
    {
     "name": "stdout",
     "output_type": "stream",
     "text": [
      "물론입니다! 컴퓨터에 어울리는 이름 5개를 제안해 드릴게요:\n",
      "\n",
      "1. **코드마스터** (CodeMaster)\n",
      "2. **데이터나비** (DataNavi)\n",
      "3. **서지온** (Surgeon)\n",
      "4. **알고리즘아리** (AlgorithmAri)\n",
      "5. **네오컴** (NeoCom)\n",
      "\n",
      "이 이름들이 마음에 드시길 바랍니다!\n"
     ]
    }
   ],
   "source": [
    "print(result2.content)"
   ]
  },
  {
   "cell_type": "markdown",
   "id": "59ba00ec-6c7c-496e-b31f-f3978b74bdba",
   "metadata": {},
   "source": [
    "# LCEL (LangChain Expression Language)\n",
    "- LCEL은 LangChain의 핵심 기능인 **체인(Chain)을 더욱 효율적으로 구현하기 위해 도입된 **선언적 방식의 체인(chain) 구성 언어**이다.\n",
    "- `|` 연산자를 이용해 선언적 방법으로 Chain을 만든다.\n",
    "- [Runnable](https://api.python.langchain.com/en/latest/runnables/langchain_core.runnables.base.Runnable.html) type의 component들이 chain에 포함될 수있다.\n",
    "    - `|` 연산자를 이용해 Runnable들을 연결한다.\n",
    "    - chain이 실행되면 각 Runnable의 invoke() 메소드가 실행된다. 그리고 invoke()의 리턴값을 다음 Runnable의 invoke()에 전달해서 실행시킨다.\n",
    "    - [Runnable 컴포넌트별 입출력 타입](https://python.langchain.com/docs/expression_language/interface)\n",
    "        - 각 컴포넌트의 input과 output 타입에 맞춰 값이 전달되도록 한다.\n",
    "- https://python.langchain.com/v0.2/docs/concepts/#langchain-expression-language-lcel"
   ]
  },
  {
   "cell_type": "markdown",
   "id": "b3f0d52c-23da-4ec6-87cc-925e3d6259ea",
   "metadata": {},
   "source": [
    "## Runnable\n",
    "- LangChain의 Runnable은 실행 가능한 작업 단위를 캡슐화한 개념으로, 데이터 흐름의 각 단계를 정의하고 체인(chain) 형태로 연결하여 복잡한 작업을 수행할 수 있게 한다.\n",
    "- Chain을 구성하는 class들은 Runnable의 하위 클래스로 구현한다.\n",
    "\n",
    "### 주요 특징\n",
    "- 작업 단위의 캡슐화:\n",
    "    - Runnable은 특정 작업(예: 프롬프트 생성, LLM 요청)을 수행하는 독립적인 컴포넌트이다.\n",
    "    - LangChain의 다양한 컴포넌트(PromptTemplate, LLM, OutputParser 등)들이 Runnable을# Runnable\n",
    "- LangChain의 Runnable은 실행 가능한 작업 단위를 캡슐화한 개념으로, 데이터 흐름의 각 단계를 정의하고 체인(chain) 형태로 연결하여 복잡한 작업을 수행할 수 있게 한다.\n",
    "- Chain을 구성하는 class들은 Runnable의 하위 클래스로 구현한다.\n",
    "\n",
    "### 주요 특징\n",
    "- 작업 단위의 캡슐화:\n",
    "    - Runnable은 특정 작업(예: 프롬프트 생성, LLM 요청)을 수행하는 독립적인 컴포넌트이다.\n",
    "    - LangChain의 다양한 컴포넌트(PromptTemplate, LLM, OutputParser 등)들이 Runnable을 상속받아 구현된다.\n",
    "- 체인 연결 및 작업 흐름 관리:\n",
    "    - Runnable은 파이프라인처럼 체인(순차적으로 실행되는 작업들을 연결한 것)을 구성할 수 있으며, `|` 연산자를 사용해 간단히 연결 가능하다.\n",
    "    - 입력과 출력 형식을 통일해서 컴포넌트를 매끄럽게 연결한다\n",
    "- 모듈화 및 디버깅 용이성:\n",
    "    - 각 단계가 명확히 분리되어 디버깅 및 유지보수가 용이하다.\n",
    "    - 복잡한 작업을 작은 단위로 나누어 관리할 수 있다.\n",
    "### Runnable의 표준 메소드\n",
    "- 모든 Runnable이 구현하는 공통 메소드\n",
    "- `invoke()`: 입력 데이터를 처리하여 결과를 반환.\n",
    "- `batch()`: 여러 입력 데이터들을 한 번에 처리.\n",
    "- `stream()`: 스트리밍 방식으로 응답 반환.\n",
    "- `ainvoke()`: 비동기 호출 지원.\n",
    "\n",
    "### Runnable의 주요 구현체\n",
    "- **`RunnablePassThrough`**\n",
    "    - 입력데이터를 다음 chain으로 그대로 전달하거나, 필요에 따라 추가적인 key-value 쌍을 더해서 전달한다. \n",
    "- **`RunnableParallel`**\n",
    "    - 여러 Runnable을 병렬로 실행하고 결과들을 합쳐서 다음 chain으로 전달한다.`**\n",
    "- **`RunnableLambda`**\n",
    "    - 일반 함수나 lambda 함수를 Runnable로 만들 때 사용."
   ]
  },
  {
   "cell_type": "code",
   "execution_count": null,
   "id": "c9491b0c-b9ec-4e12-a59c-ef6f04904b47",
   "metadata": {},
   "outputs": [],
   "source": []
  },
  {
   "cell_type": "code",
   "execution_count": null,
   "id": "afd2c247-a4e3-4b1b-a494-400b077eba54",
   "metadata": {},
   "outputs": [],
   "source": []
  },
  {
   "cell_type": "code",
   "execution_count": null,
   "id": "cdbb04b1-00c3-4534-9bed-45ac5064caa8",
   "metadata": {},
   "outputs": [],
   "source": []
  },
  {
   "cell_type": "code",
   "execution_count": null,
   "id": "f3c81a4b-17aa-4649-b2c8-f6d3c5787c77",
   "metadata": {},
   "outputs": [],
   "source": []
  },
  {
   "cell_type": "code",
   "execution_count": null,
   "id": "52b2551e-9fc3-440b-8280-bc0d3ea0f91d",
   "metadata": {},
   "outputs": [],
   "source": []
  },
  {
   "cell_type": "markdown",
   "id": "01456936-8643-4dbc-8771-46678243d46f",
   "metadata": {},
   "source": [
    "## 사용자 함수를 chain으로 정의\n",
    "- 임의의 함수를 Runnable로 정의 할 수있다.\n",
    "    - LangChain 에서 제공하지 않는 기능을 Chain으로 만들 때 유용한다.\n",
    "- LangChain에서는 Runnable로 사용되는 사용자 정의 함수를 **Runnable Lambda** 라고 한다.\n",
    "- 함수를 Runnable 로 명시하는데는 다음 두가지 방법이 있다.\n",
    "1. `RunnableLambda` 이용\n",
    "   - `RunnableLambda(함수)`\n",
    "3. `@chain` 데코레이터 이용\n",
    "   - ```python\n",
    "     @chain\n",
    "     def func():\n",
    "         ...\n",
    "    ```\n",
    "### Runnable 로 정의 하는 함수 정의\n",
    "- 이전 Chain의 출력을 입력 받는 파라미터를 한개 선언한다.\n",
    "- 만약 함수가 여러개의 인자를 받는 경우 단일 입력을 받아들이고 이를 여러 인수로 풀어내는 래퍼 함수를 작성하여 Runnable로 만든다.\n",
    "```python\n",
    "def plus(num1, num2):\n",
    "    ...\n",
    "\n",
    "def wrapper_plus(nums:dict|list):\n",
    "    return plus(nums['num1'], nums['num2'])\n",
    "```\n",
    "- Chain의 실행결과를 return 한다."
   ]
  },
  {
   "cell_type": "code",
   "execution_count": null,
   "id": "8f2616e7-27df-4012-8d54-e1d7cdaae11b",
   "metadata": {},
   "outputs": [],
   "source": []
  },
  {
   "cell_type": "code",
   "execution_count": null,
   "id": "26c3436c-dc85-432b-8355-1a144af4577e",
   "metadata": {},
   "outputs": [],
   "source": []
  },
  {
   "cell_type": "code",
   "execution_count": null,
   "id": "28dd2ad7-ea19-44a4-93b8-a74c80e3b96b",
   "metadata": {},
   "outputs": [],
   "source": []
  },
  {
   "cell_type": "markdown",
   "id": "70cfbc5c-6c03-48fc-9e4d-ddf8f34893f5",
   "metadata": {},
   "source": [
    "## Chain 간의 연결"
   ]
  },
  {
   "cell_type": "code",
   "execution_count": null,
   "id": "98e306d3-430f-4bfa-982c-a806e1910f23",
   "metadata": {},
   "outputs": [],
   "source": []
  },
  {
   "cell_type": "code",
   "execution_count": null,
   "id": "7d1ab4d0-0f9f-4227-a821-5d9751d49942",
   "metadata": {},
   "outputs": [],
   "source": []
  },
  {
   "cell_type": "code",
   "execution_count": null,
   "id": "1806283d-0f8f-45e4-a68a-0207c90ad7c7",
   "metadata": {},
   "outputs": [],
   "source": []
  },
  {
   "cell_type": "markdown",
   "id": "1c8b48ae-b4b2-412f-a7b5-17e9c1ebc1a4",
   "metadata": {},
   "source": [
    "# Cache\n",
    "\n",
    "- 응답 결과를 저장해서 같은 질문이 들어오면 LLM에 요청하지 않고 저장된 결과를 보여주도록 한다.\n",
    "    - 처리속도와 비용을 절감할 수 있다.\n",
    "    - 특히 chatbot같이 비슷한 질문을 하는 경우 유용하다.\n",
    "- 저장 방식은 `메모리`, `sqlite` 등 다양한 방식을 지원한다.\n",
    "    - https://python.langchain.com/docs/integrations/llms/llm_caching\n",
    "```python\n",
    "set_llm_cache(Cache객체)\n",
    "```"
   ]
  },
  {
   "cell_type": "code",
   "execution_count": null,
   "id": "3e8c002f-7f0c-4357-b3ae-efe8569f04cf",
   "metadata": {},
   "outputs": [],
   "source": []
  },
  {
   "cell_type": "code",
   "execution_count": null,
   "id": "b74a46a8-703c-452b-9d57-e80749c3f528",
   "metadata": {},
   "outputs": [],
   "source": []
  },
  {
   "cell_type": "code",
   "execution_count": null,
   "id": "520effd5-677c-46e3-9068-553e973bfea4",
   "metadata": {},
   "outputs": [],
   "source": []
  }
 ],
 "metadata": {
  "kernelspec": {
   "display_name": "langchain",
   "language": "python",
   "name": "python3"
  },
  "language_info": {
   "codemirror_mode": {
    "name": "ipython",
    "version": 3
   },
   "file_extension": ".py",
   "mimetype": "text/x-python",
   "name": "python",
   "nbconvert_exporter": "python",
   "pygments_lexer": "ipython3",
   "version": "3.12.7"
  }
 },
 "nbformat": 4,
 "nbformat_minor": 5
}
