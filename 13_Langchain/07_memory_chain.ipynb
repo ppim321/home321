{
 "cells": [
  {
   "cell_type": "markdown",
   "id": "9651606d-6aa2-424c-9b7a-f3ef725e844a",
   "metadata": {},
   "source": [
    "# RunnableWithMessageHistory\n",
    "\n",
    "**RunnableWithMessageHistory**는 대화형 애플리케이션에서 메시지 기록을 관리하고, 이를 기반으로 상태를 유지하며 대화를 이어갈 수 있도록 돕는 클래스이다. 사용자와 AI 간의 대화에서 이전 대화의 맥락을 유지해야 할 때 유용하다.\n",
    "\n",
    "## 주요 활용 사례\n",
    "\n",
    "- **대화형 챗봇**: 이전 대화 내용을 기반으로 현재 질의에 적절히 응답해야 하는 경우에 사용된다.\n",
    "- **단계적 처리**: 복잡한 데이터 처리 과정에서 여러 단계를 거쳐야 할 때, 현재 단계를 처리하기 위해 이전 단계의 결과를 참조해야 하는 경우에 활용된다.\n",
    "\n",
    "## 특징\n",
    "\n",
    "- 체인이 실행될 때마다 메시지 기록을 자동으로 업데이트하여, 개발자가 별도로 기록을 관리할 필요를 줄여준다.\n",
    "- `session_id`를 기준으로 대화를 구분하며, 동일한 `session_id`를 사용하면 이전 대화의 맥락을 이어갈 수 있고, 새로운 `session_id`를 전달하면 새로운 대화로 인식한다.\n",
    "\n",
    "## 작동 원리\n",
    "\n",
    "- `Runnable` (Chain)과 `ChatMessageHistory`(메세지 저장소 객체)를 인자로 받아 생성한다.\n",
    "- 체인이 실행되면서 생성되는 대화 메시지를 저장한다.\n",
    "\n",
    "## Initializer 파라미터\n",
    "\n",
    "- **runnable**: 체인(`Runnable`) 객체이다.\n",
    "- **get_session_history**: `session_id`를 받아 해당 ID의 `ChatMessageHistory` 객체를 반환하는 함수이다. 이는 `BaseChatMessageHistory`를 상속받아 구현한 클래스의 인스턴스여야 한다.\n",
    "- **input_messages_key**: 체인의 `invoke()` 메서드 호출 시 사용자 입력 메시지를 넣을 placeholder의 이름.\n",
    "- **history_messages_key**: 채팅 기록에 저장된 메시지를 넣을 placeholder의 이름.\n",
    "\n",
    "# 메시지 저장소 (Memory - ChatMessageHistory)\n",
    "\n",
    "- **BaseChatMessageHistory**: 메시지 기록을 저장하고 관리하는 최상위 클래스. 저장 방식에 따라 이를 상속받아 다양한 클래스가 구현되어 있다.\n",
    "- **InMemoryChatMessageHistory**: 메모리에 메시지를 저장하는 클래스이다. 빠르게 메시지를 관리할 수 있지만, 애플리케이션이 종료되면 데이터가 사라진다.\n",
    "- 다양한 3rd party 저장소 연동 ChatMessageHistory 가 있다.\n",
    "    - https://python.langchain.com/docs/integrations/memory/\n",
    "\n",
    "이러한 구조를 통해 `RunnableWithMessageHistory`는 대화형 애플리케이션에서 효율적인 메시지 기록 관리와 상태 유지를 가능하게 한다. "
   ]
  },
  {
   "cell_type": "markdown",
   "id": "55a348ca-ac59-4028-bc2c-0539880e519e",
   "metadata": {},
   "source": [
    "## ChatMessageHistory 실습"
   ]
  },
  {
   "cell_type": "code",
   "execution_count": null,
   "id": "d0d8fe59-f0bb-45e3-a540-8436e02c281b",
   "metadata": {},
   "outputs": [],
   "source": []
  },
  {
   "cell_type": "code",
   "execution_count": null,
   "id": "813912c1-9cb4-4769-ab1f-a60c7677cfd6",
   "metadata": {},
   "outputs": [],
   "source": []
  },
  {
   "cell_type": "code",
   "execution_count": null,
   "id": "dc318356-6e17-4bff-832b-451d1dc261d0",
   "metadata": {},
   "outputs": [],
   "source": []
  },
  {
   "cell_type": "code",
   "execution_count": null,
   "id": "127a5245-32e4-4ea6-80c4-a593787302a9",
   "metadata": {},
   "outputs": [],
   "source": []
  },
  {
   "cell_type": "markdown",
   "id": "71446e95-2594-44d5-bb0b-397f33336d7c",
   "metadata": {},
   "source": [
    "## RunnableWithMessageHistory를 이용해 Chain 구성"
   ]
  },
  {
   "cell_type": "code",
   "execution_count": null,
   "id": "6c25c46e-ec11-41d1-85f5-13623dca5e81",
   "metadata": {},
   "outputs": [],
   "source": []
  },
  {
   "cell_type": "code",
   "execution_count": null,
   "id": "4e9d5cc5-5fd3-47ff-be20-274395989551",
   "metadata": {},
   "outputs": [],
   "source": []
  },
  {
   "cell_type": "code",
   "execution_count": null,
   "id": "d7dee10b-99fb-4a7c-8245-0126cedb2b42",
   "metadata": {},
   "outputs": [],
   "source": []
  },
  {
   "cell_type": "markdown",
   "id": "4c6c9c6b-bd59-4f85-9203-e3ea4ce0cc94",
   "metadata": {},
   "source": [
    "# RunnableWithMessageHistory + Memory class\n",
    "\n",
    "- Memory class로 저장 방식 설정\n",
    "- BaseChatMessageHistory로 어디에 저장할 지 설정\n",
    "- RunnableWithMessageHistory로 chain 설정"
   ]
  },
  {
   "cell_type": "code",
   "execution_count": null,
   "id": "0b41f1b8-8ab8-4b4d-a3ae-ab57b102d43a",
   "metadata": {},
   "outputs": [],
   "source": []
  },
  {
   "cell_type": "code",
   "execution_count": null,
   "id": "146021f2-bd39-4781-b7db-0f381b8ebf68",
   "metadata": {},
   "outputs": [],
   "source": []
  },
  {
   "cell_type": "code",
   "execution_count": null,
   "id": "0b1bb2f5-c4c7-4b76-98ee-083cf50e5dd3",
   "metadata": {},
   "outputs": [],
   "source": []
  }
 ],
 "metadata": {
  "kernelspec": {
   "display_name": "Python 3 (ipykernel)",
   "language": "python",
   "name": "python3"
  },
  "language_info": {
   "codemirror_mode": {
    "name": "ipython",
    "version": 3
   },
   "file_extension": ".py",
   "mimetype": "text/x-python",
   "name": "python",
   "nbconvert_exporter": "python",
   "pygments_lexer": "ipython3",
   "version": "3.12.2"
  }
 },
 "nbformat": 4,
 "nbformat_minor": 5
}
