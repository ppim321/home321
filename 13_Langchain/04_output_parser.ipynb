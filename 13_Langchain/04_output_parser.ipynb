{
 "cells": [
  {
   "cell_type": "markdown",
   "metadata": {},
   "source": [
    "# Output Parser\n",
    "- Output Parser는 LLM의 출력을 처리하여 애플리케이션에서 사용할 수 있는 적절한 형식으로 변환하는 역할을 한다. \n",
    "  - LLM이 생성한 결과(Raw text)를 분석하여 **특정 정보를 추출**하거나, **원하는 형식으로 재구성**하는 데 사용된다.\n",
    "- Output parser를 통해 LLM이 응답하는 **비구조적 데이터를 구조화된 데이터로 변환**하여 후속 작업에 적합하게 만드는 데 사용된다.\n",
    "\n",
    "## 주요 Output Parser\n",
    "1. **CommaSeparatedListOutputParser**\n",
    "    - 쉼표로 구분된 텍스트를 리스트로 변환\n",
    "2. **JsonOutputParser**\n",
    "    - JSON 형태로 받은 결과를 JSON 형식으로 변환\n",
    "3. **PydanticOutputParser**\n",
    "    - JSON 형태로 받은 결과를 Pydantic 모델 객체로 변환\n",
    "4. **YamlOutputParser**\n",
    "    - YAML 형태로 받은 응답을 pydantic 모델객체로 변환.\n",
    "5. **StrOutputParser**\n",
    "    - 모델의 출력결과를 문자열로 변환\n",
    "- PydanticOutputParser, JsonOutputParser, YamlOutputParser는 Pydantic을 이용해 schema를 정의하고 이를 이용해 출력을 변환한다.\n",
    "  \n",
    "## 메소드\n",
    "- parse(text:str)\n",
    "  - LLM이 생성한 응답(text)을 받아 출력 구조에 맞게 변환하여 반환.\n",
    "- get_format_instructions(): str\n",
    "  - output parser가 입력받을 형식으로 LLM이 출력(응답) 하도록 하는 프롬프트를 반환한다.\n",
    "  - LLM에 전송하는 프롬프트에 포함되어 출력 형식을 안내한다.\n",
    "- [**Runnable**](05_chaing_LECL.ipynb#Runnable)을 상속받아 구현되어 invoke()를 이용해서 parsing 할 수있다.\n"
   ]
  },
  {
   "cell_type": "code",
   "execution_count": 2,
   "metadata": {},
   "outputs": [
    {
     "data": {
      "text/plain": [
       "True"
      ]
     },
     "execution_count": 2,
     "metadata": {},
     "output_type": "execute_result"
    }
   ],
   "source": [
    "from dotenv import load_dotenv\n",
    "\n",
    "load_dotenv()"
   ]
  },
  {
   "cell_type": "markdown",
   "metadata": {},
   "source": [
    "## StrOutputParser\n",
    "- 모델(LLM)의 출력 결과를 string으로 변환하여 반환하는 output parser.\n",
    "- Chat Model은  Message 객체에서 content 속성값을 추출하여 문자열로 반환한다."
   ]
  },
  {
   "cell_type": "code",
   "execution_count": 3,
   "metadata": {},
   "outputs": [],
   "source": [
    "from langchain.prompts import ChatPromptTemplate\n",
    "from langchain_openai import ChatOpenAI\n",
    "\n",
    "# output parser import\n",
    "from langchain_core.output_parsers import StrOutputParser\n",
    "\n",
    "prompt_template = ChatPromptTemplate.from_template(\n",
    "    \"한국의 {topic} 관련된 속담을 {count}개 알려줘. 목력형식으로 작성해줘.\"\n",
    ")\n",
    "model = ChatOpenAI(model=\"gpt-4o-mini\")\n",
    "# output parser\n",
    "parser = StrOutputParser()"
   ]
  },
  {
   "cell_type": "code",
   "execution_count": 8,
   "metadata": {},
   "outputs": [
    {
     "name": "stdout",
     "output_type": "stream",
     "text": [
      "content='1. 호랑이 굴에 가야 호랑이 새끼를 잡는다.  \\n2. 호랑이 담배 피우던 시절.  \\n3. 호랑이 없는 곳에서 여우가 왕 노릇한다.  \\n4. 호랑이와 함께 살면 호랑이처럼 된다.  \\n5. 호랑이의 눈을 피하라.  ' additional_kwargs={'refusal': None} response_metadata={'token_usage': {'completion_tokens': 81, 'prompt_tokens': 32, 'total_tokens': 113, 'completion_tokens_details': {'accepted_prediction_tokens': 0, 'audio_tokens': 0, 'reasoning_tokens': 0, 'rejected_prediction_tokens': 0}, 'prompt_tokens_details': {'audio_tokens': 0, 'cached_tokens': 0}}, 'model_name': 'gpt-4o-mini-2024-07-18', 'system_fingerprint': 'fp_3de1288069', 'finish_reason': 'stop', 'logprobs': None} id='run-e646ff5a-805e-424c-8516-cd5800c12360-0' usage_metadata={'input_tokens': 32, 'output_tokens': 81, 'total_tokens': 113, 'input_token_details': {'audio': 0, 'cache_read': 0}, 'output_token_details': {'audio': 0, 'reasoning': 0}}\n",
      "1. 호랑이 굴에 가야 호랑이 새끼를 잡는다.  \n",
      "2. 호랑이 담배 피우던 시절.  \n",
      "3. 호랑이 없는 곳에서 여우가 왕 노릇한다.  \n",
      "4. 호랑이와 함께 살면 호랑이처럼 된다.  \n",
      "5. 호랑이의 눈을 피하라.  \n"
     ]
    }
   ],
   "source": [
    "# 프롬프트 생성\n",
    "prompt = prompt_template.invoke({\"topic\":\"호랑이\", \"count\":5})\n",
    "# print(prompt.to_messages)\n",
    "\n",
    "## LLM 모델에 요청\n",
    "res = model.invoke(prompt)\n",
    "# 응답 결과를 확인.\n",
    "print(res)\n",
    "\n",
    "## parser 를 이용해서 content 만 추출\n",
    "result = parser.invoke(res)\n",
    "print(result)"
   ]
  },
  {
   "cell_type": "markdown",
   "metadata": {},
   "source": [
    "\n",
    "## CommaSeparatedListOutputParser\n",
    "\n",
    "- `,`를 구분자로 하는 항목들을 받아서 List로 반환한다.\n",
    "  - \"a,b,c\" => ['a','b','c']"
   ]
  },
  {
   "cell_type": "code",
   "execution_count": 9,
   "metadata": {},
   "outputs": [
    {
     "name": "stdout",
     "output_type": "stream",
     "text": [
      "<class 'list'>\n",
      "['이순신', '유관순', '강감찬', '안중근']\n"
     ]
    }
   ],
   "source": [
    "from langchain_core.output_parsers import CommaSeparatedListOutputParser\n",
    "parser = CommaSeparatedListOutputParser() # 객체(만) 생성\n",
    "txt = \"이순신, 유관순, 강감찬, 안중근\"\n",
    "res = parser.invoke(txt)\n",
    "print(type(res))\n",
    "print(res)"
   ]
  },
  {
   "cell_type": "code",
   "execution_count": 11,
   "metadata": {},
   "outputs": [
    {
     "name": "stdout",
     "output_type": "stream",
     "text": [
      "Your response should be a list of comma separated values, eg: `foo, bar, baz` or `foo,bar,baz`\n"
     ]
    }
   ],
   "source": [
    "# LLM 에 요구하는 응답형태의 형식을 prompt에 작성해서 전송해야함.\n",
    "## 이 output parser 가 변환할 수 있는 형식의 문자열을 받기 위한 가이드이며, 이것을 **프롬프트**에 추가한다. \n",
    "print(parser.get_format_instructions())  # prompt에 넣어야할 guide를 반환해주는 코드.code"
   ]
  },
  {
   "cell_type": "code",
   "execution_count": 15,
   "metadata": {},
   "outputs": [],
   "source": [
    "from langchain.prompts import PromptTemplate\n",
    "\n",
    "parser = CommaSeparatedListOutputParser()\n",
    "prompt_template = PromptTemplate(\n",
    "    template=\"{subject}의 이름 다섯개를 나열해 주세요.\\n{format_instruction}\",    \n",
    "    partial_variables={\"format_instruction\":parser.get_format_instructions()}\n",
    ")\n",
    "# artial_variables=dict : 템플릿 변수에 값을 prompt template을 만들면서 넣을 때 사용. (invoke)()에 넣지 않고.)\n",
    "# print(prompt_template.template)\n",
    "\n",
    "model = ChatOpenAI(model=\"gpt-4o-mini\")\n",
    "\n",
    "# prompt 생성 - {format_instruction} 변수에는 partial_variables에 설정한 값을 넣는다.\n",
    "prompt = prompt_template.invoke({\"subject\":\"과일\"})\n",
    "# print(prompt)\n",
    "# LLM 에 요청\n",
    "res = model.invoke(prompt)\n"
   ]
  },
  {
   "cell_type": "code",
   "execution_count": 16,
   "metadata": {},
   "outputs": [
    {
     "name": "stdout",
     "output_type": "stream",
     "text": [
      "사과, 바나나, 오렌지, 포도, 키위\n",
      "['사과', '바나나', '오렌지', '포도', '키위']\n"
     ]
    }
   ],
   "source": [
    "# res.content.split(', ')\n",
    "print(res.content)\n",
    "result = parser.invoke(res)\n",
    "print(result)"
   ]
  },
  {
   "cell_type": "code",
   "execution_count": 17,
   "metadata": {},
   "outputs": [
    {
     "name": "stdout",
     "output_type": "stream",
     "text": [
      "['현대 아반떼', '기아 K5', '토요타 캠리', '폭스바겐 골프', 'BMW 3시리즈']\n"
     ]
    }
   ],
   "source": [
    "# 입력 \n",
    "#   ->prompt template \n",
    "#       -> prompt 생성\n",
    "#           -> LLM 응답\n",
    "#               -> parser에 응답을 넣어줌\n",
    "#                   -> 최종 응답을 만들어줌\n",
    "\n",
    "## chain 생성 (pipeline)\n",
    "chain = prompt_template | model | parser\n",
    "\n",
    "result = chain.invoke({\"subject\":\"자동차\"})\n",
    "print(result)"
   ]
  },
  {
   "cell_type": "code",
   "execution_count": 18,
   "metadata": {},
   "outputs": [
    {
     "data": {
      "text/plain": [
       "'{\\n    \"이름\":\"\",\\n    \"나이\":,\\n    \"취미\":[\"\"]\\n\\n\\n}'"
      ]
     },
     "execution_count": 18,
     "metadata": {},
     "output_type": "execute_result"
    }
   ],
   "source": [
    "'''{\n",
    "    \"이름\":\"\",\n",
    "    \"나이\":,\n",
    "    \"취미\":[\"\",\"\",\"\"]\n",
    "\n",
    "\n",
    "}'''"
   ]
  },
  {
   "cell_type": "markdown",
   "metadata": {},
   "source": [
    "\n",
    "## JsonOutputParser\n",
    "\n",
    "- JSON 형태로 받은 응답을 dictionary로 반환\n",
    "- JSON 형식을 정하려는 경우 [Pydantic](Pydantic.ipynb)을 이용해 JSON 스키마를 정의하여 JsonOutputParser 생성시 전달한다.\n",
    "- LLM이 JSON Schema를 따르는 형태로 응답을 하게 하고 그 것을 JsonOutputParser는 Dictionary로 변환한다.\n",
    "\n"
   ]
  },
  {
   "cell_type": "code",
   "execution_count": 20,
   "metadata": {},
   "outputs": [
    {
     "name": "stdout",
     "output_type": "stream",
     "text": [
      "<class 'dict'>\n",
      "홍길동 20\n",
      "Return a JSON object.\n"
     ]
    }
   ],
   "source": [
    "from langchain_core.output_parsers import JsonOutputParser\n",
    "\n",
    "parser = JsonOutputParser()\n",
    "txt = '''{\n",
    "    \"이름\":\"홍길동\",\n",
    "    \"나이\":20,\n",
    "    \"취미\":[\"게임\",\"독서\"]\n",
    "}'''\n",
    "res = parser.invoke(txt)\n",
    "print(type(res))\n",
    "print(res['이름'], res['나이'])\n",
    "print(parser.get_format_instructions())"
   ]
  },
  {
   "cell_type": "code",
   "execution_count": 39,
   "metadata": {},
   "outputs": [],
   "source": [
    "parser = JsonOutputParser()\n",
    "prompt_template = PromptTemplate(\n",
    "    template=\"{name}에 대해서 설명해줘.\\n{format_instruction}\",\n",
    "    partial_variables={\"format_instruction\":parser.get_format_instructions()}\n",
    ")\n",
    "model = ChatOpenAI(model=\"gpt-4o-mini\")\n",
    "\n",
    "prompt = prompt_template.invoke({\"name\":\"아이폰\"})\n",
    "# print(prompt)\n",
    "res = model.invoke(prompt)"
   ]
  },
  {
   "cell_type": "code",
   "execution_count": 40,
   "metadata": {},
   "outputs": [
    {
     "name": "stdout",
     "output_type": "stream",
     "text": [
      "```json\n",
      "{\n",
      "  \"device\": {\n",
      "    \"name\": \"아이폰\",\n",
      "    \"manufacturer\": \"애플\",\n",
      "    \"first_release\": \"2007년\",\n",
      "    \"latest_model\": \"아이폰 15\",\n",
      "    \"operating_system\": \"iOS\",\n",
      "    \"features\": [\n",
      "      \"터치 스크린\",\n",
      "      \"고급 카메라 시스템\",\n",
      "      \"Face ID 및 Touch ID 보안 기능\",\n",
      "      \"App Store를 통한 다양한 애플리케이션 다운로드\",\n",
      "      \"iCloud를 통한 데이터 저장 및 동기화\",\n",
      "      \"Apple Pay를 통한 모바일 결제 기능\"\n",
      "    ],\n",
      "    \"design\": {\n",
      "      \"materials\": [\"유리\", \"알루미늄\", \"스테인리스 스틸\"],\n",
      "      \"colors\": [\"블랙\", \"화이트\", \"레드\", \"골드\", \"퍼플\"]\n",
      "    },\n",
      "    \"accessories\": [\n",
      "      \"AirPods\",\n",
      "      \"Apple Watch\",\n",
      "      \"MagSafe 충전기\",\n",
      "      \"케이스 및 스크린 보호 필름\"\n",
      "    ],\n",
      "    \"target_audience\": \"일반 소비자, 비즈니스 사용자, 학생\"\n",
      "  }\n",
      "}\n",
      "```\n",
      "====================================================================================================\n",
      "<class 'dict'>\n"
     ]
    },
    {
     "data": {
      "text/plain": [
       "{'device': {'name': '아이폰',\n",
       "  'manufacturer': '애플',\n",
       "  'first_release': '2007년',\n",
       "  'latest_model': '아이폰 15',\n",
       "  'operating_system': 'iOS',\n",
       "  'features': ['터치 스크린',\n",
       "   '고급 카메라 시스템',\n",
       "   'Face ID 및 Touch ID 보안 기능',\n",
       "   'App Store를 통한 다양한 애플리케이션 다운로드',\n",
       "   'iCloud를 통한 데이터 저장 및 동기화',\n",
       "   'Apple Pay를 통한 모바일 결제 기능'],\n",
       "  'design': {'materials': ['유리', '알루미늄', '스테인리스 스틸'],\n",
       "   'colors': ['블랙', '화이트', '레드', '골드', '퍼플']},\n",
       "  'accessories': ['AirPods', 'Apple Watch', 'MagSafe 충전기', '케이스 및 스크린 보호 필름'],\n",
       "  'target_audience': '일반 소비자, 비즈니스 사용자, 학생'}}"
      ]
     },
     "execution_count": 40,
     "metadata": {},
     "output_type": "execute_result"
    }
   ],
   "source": [
    "print(res.content)\n",
    "print(\"=\"*100)\n",
    "\n",
    "result = parser.invoke(res)\n",
    "print(type(result))\n",
    "result"
   ]
  },
  {
   "cell_type": "code",
   "execution_count": 41,
   "metadata": {},
   "outputs": [
    {
     "data": {
      "text/plain": [
       "{'name': '아이폰',\n",
       " 'manufacturer': '애플',\n",
       " 'first_release': '2007년',\n",
       " 'latest_model': '아이폰 15',\n",
       " 'operating_system': 'iOS',\n",
       " 'features': ['터치 스크린',\n",
       "  '고급 카메라 시스템',\n",
       "  'Face ID 및 Touch ID 보안 기능',\n",
       "  'App Store를 통한 다양한 애플리케이션 다운로드',\n",
       "  'iCloud를 통한 데이터 저장 및 동기화',\n",
       "  'Apple Pay를 통한 모바일 결제 기능'],\n",
       " 'design': {'materials': ['유리', '알루미늄', '스테인리스 스틸'],\n",
       "  'colors': ['블랙', '화이트', '레드', '골드', '퍼플']},\n",
       " 'accessories': ['AirPods', 'Apple Watch', 'MagSafe 충전기', '케이스 및 스크린 보호 필름'],\n",
       " 'target_audience': '일반 소비자, 비즈니스 사용자, 학생'}"
      ]
     },
     "execution_count": 41,
     "metadata": {},
     "output_type": "execute_result"
    }
   ],
   "source": [
    "result['device']"
   ]
  },
  {
   "cell_type": "code",
   "execution_count": null,
   "metadata": {},
   "outputs": [],
   "source": [
    "# JSON 문자열의 구조 (schema- 스키마)를 정의\n",
    "## 알고 싶은 정보가 무엇인지(json에 어떤 내용을 넣어야 하는지)를 설정.\n",
    "## pydantic 라이브러리를 이용해서 정의"
   ]
  },
  {
   "cell_type": "code",
   "execution_count": null,
   "metadata": {},
   "outputs": [],
   "source": [
    "# ctrl + ` : 터미널 실행\n",
    "## pip show pydantic 설치만 확인함"
   ]
  },
  {
   "cell_type": "code",
   "execution_count": 51,
   "metadata": {},
   "outputs": [
    {
     "name": "stdout",
     "output_type": "stream",
     "text": [
      "The output should be formatted as a JSON instance that conforms to the JSON schema below.\n",
      "\n",
      "As an example, for the schema {\"properties\": {\"foo\": {\"title\": \"Foo\", \"description\": \"a list of strings\", \"type\": \"array\", \"items\": {\"type\": \"string\"}}}, \"required\": [\"foo\"]}\n",
      "the object {\"foo\": [\"bar\", \"baz\"]} is a well-formatted instance of the schema. The object {\"properties\": {\"foo\": [\"bar\", \"baz\"]}} is not well-formatted.\n",
      "\n",
      "Here is the output schema:\n",
      "```\n",
      "{\"properties\": {\"name\": {\"description\": \"제품의 이름\", \"title\": \"Name\", \"type\": \"string\"}, \"info\": {\"description\": \"제품에 대한 소개 정보\", \"title\": \"Info\", \"type\": \"string\"}, \"price\": {\"description\": \"제품의 한국에서 가격\", \"title\": \"Price\", \"type\": \"integer\"}}, \"required\": [\"name\", \"info\", \"price\"]}\n",
      "```\n"
     ]
    }
   ],
   "source": [
    "# 스키마 정의\n",
    "from pydantic import BaseModel, Field\n",
    "class Item(BaseModel):\n",
    "    # 스키마 를 class 변수로 정의 - \n",
    "    # 변수명 = key 값. \n",
    "    # type hint로 dict 로 변환될때 value의 타입\n",
    "    name:str = Field(description=\"제품의 이름\")\n",
    "    info:str = Field(description=\"제품에 대한 소개 정보\")\n",
    "    price:int = Field(description=\"제품의 한국에서 가격\")\n",
    "\n",
    "parser = JsonOutputParser(pydantic_object=Item)\n",
    "print(parser.get_format_instructions())\n",
    "\n",
    "parser = JsonOutputParser()\n",
    "prompt_template = PromptTemplate(\n",
    "    template=\"{name}에 대해서 설명해줘.\\n{format_instruction}\",\n",
    "    partial_variables={\"format_instruction\":parser.get_format_instructions()}\n",
    ")\n",
    "model = ChatOpenAI(model=\"gpt-4o-mini\")\n",
    "\n",
    "prompt = prompt_template.invoke({\"name\":\"MAC mini M4\"})\n",
    "# print(prompt)\n",
    "res = model.invoke(prompt)"
   ]
  },
  {
   "cell_type": "code",
   "execution_count": 52,
   "metadata": {},
   "outputs": [
    {
     "name": "stdout",
     "output_type": "stream",
     "text": [
      "```json\n",
      "{\n",
      "  \"model\": \"Mac Mini M4\",\n",
      "  \"release_date\": \"Expected Late 2023\",\n",
      "  \"processor\": {\n",
      "    \"type\": \"Apple M4\",\n",
      "    \"architecture\": \"ARM64\",\n",
      "    \"cores\": 8,\n",
      "    \"performance_cores\": 4,\n",
      "    \"efficiency_cores\": 4,\n",
      "    \"GPU\": \"Integrated 10-core GPU\"\n",
      "  },\n",
      "  \"memory\": {\n",
      "    \"options\": [\n",
      "      {\n",
      "        \"type\": \"LPDDR5\",\n",
      "        \"sizes\": [\"8GB\", \"16GB\", \"32GB\"]\n",
      "      }\n",
      "    ]\n",
      "  },\n",
      "  \"storage\": {\n",
      "    \"options\": [\n",
      "      {\n",
      "        \"type\": \"SSD\",\n",
      "        \"sizes\": [\"256GB\", \"512GB\", \"1TB\", \"2TB\"]\n",
      "      }\n",
      "    ]\n",
      "  },\n",
      "  \"connectivity\": {\n",
      "    \"ports\": [\n",
      "      \"2 x Thunderbolt 4\",\n",
      "      \"2 x USB-A\",\n",
      "      \"HDMI 2.0\",\n",
      "      \"Ethernet\",\n",
      "      \"3.5mm audio jack\"\n",
      "    ],\n",
      "    \"wireless\": [\n",
      "      \"Wi-Fi 6E\",\n",
      "      \"Bluetooth 5.3\"\n",
      "    ]\n",
      "  },\n",
      "  \"operating_system\": \"macOS Ventura\",\n",
      "  \"dimensions\": {\n",
      "    \"width\": \"7.7 inches\",\n",
      "    \"depth\": \"7.7 inches\",\n",
      "    \"height\": \"1.4 inches\",\n",
      "    \"weight\": \"3.0 pounds\"\n",
      "  },\n",
      "  \"features\": [\n",
      "    \"Compact design\",\n",
      "    \"Energy-efficient performance\",\n",
      "    \"Support for external displays\",\n",
      "    \"Advanced thermal management\"\n",
      "  ],\n",
      "  \"target_audience\": [\n",
      "    \"Home users\",\n",
      "    \"Students\",\n",
      "    \"Creative professionals\",\n",
      "    \"Developers\"\n",
      "  ]\n",
      "}\n",
      "```\n",
      "{'model': 'Mac Mini M4', 'release_date': 'Expected Late 2023', 'processor': {'type': 'Apple M4', 'architecture': 'ARM64', 'cores': 8, 'performance_cores': 4, 'efficiency_cores': 4, 'GPU': 'Integrated 10-core GPU'}, 'memory': {'options': [{'type': 'LPDDR5', 'sizes': ['8GB', '16GB', '32GB']}]}, 'storage': {'options': [{'type': 'SSD', 'sizes': ['256GB', '512GB', '1TB', '2TB']}]}, 'connectivity': {'ports': ['2 x Thunderbolt 4', '2 x USB-A', 'HDMI 2.0', 'Ethernet', '3.5mm audio jack'], 'wireless': ['Wi-Fi 6E', 'Bluetooth 5.3']}, 'operating_system': 'macOS Ventura', 'dimensions': {'width': '7.7 inches', 'depth': '7.7 inches', 'height': '1.4 inches', 'weight': '3.0 pounds'}, 'features': ['Compact design', 'Energy-efficient performance', 'Support for external displays', 'Advanced thermal management'], 'target_audience': ['Home users', 'Students', 'Creative professionals', 'Developers']}\n"
     ]
    }
   ],
   "source": [
    "print(res.content)\n",
    "result = parser.invoke(res)\n",
    "\n",
    "print(result)"
   ]
  },
  {
   "cell_type": "markdown",
   "metadata": {},
   "source": [
    "## PydanticOutputParser\n",
    "\n",
    "- JSON 형태로 받은 응답을 Pydantic 모델로 변환하여 반환한다.\n",
    "- 구현은 JsonOutputParser와 동일한데 parsing 결과를 pydantic 모델로 반환한다."
   ]
  },
  {
   "cell_type": "code",
   "execution_count": 59,
   "metadata": {},
   "outputs": [
    {
     "name": "stdout",
     "output_type": "stream",
     "text": [
      "The output should be formatted as a JSON instance that conforms to the JSON schema below.\n",
      "\n",
      "As an example, for the schema {\"properties\": {\"foo\": {\"title\": \"Foo\", \"description\": \"a list of strings\", \"type\": \"array\", \"items\": {\"type\": \"string\"}}}, \"required\": [\"foo\"]}\n",
      "the object {\"foo\": [\"bar\", \"baz\"]} is a well-formatted instance of the schema. The object {\"properties\": {\"foo\": [\"bar\", \"baz\"]}} is not well-formatted.\n",
      "\n",
      "Here is the output schema:\n",
      "```\n",
      "{\"properties\": {\"name\": {\"description\": \"사람의 이름\", \"title\": \"Name\", \"type\": \"string\"}, \"yob\": {\"description\": \"name의 사람이 사망한 년도\", \"title\": \"Yob\", \"type\": \"integer\"}, \"profile\": {\"description\": \"name의 사람에 대한 정보(profile)\", \"title\": \"Profile\", \"type\": \"string\"}}, \"required\": [\"name\", \"yob\", \"profile\"]}\n",
      "```\n"
     ]
    }
   ],
   "source": [
    "from langchain_core.output_parsers import PydanticOutputParser\n",
    "class Person(BaseModel):\n",
    "    name: str = Field(description=\"사람의 이름\")\n",
    "    yob: int = Field(description=\"name의 사람이 태어난 년도\")\n",
    "    yob: int = Field(description=\"name의 사람이 사망한 년도\")\n",
    "    profile: str = Field(description=\"name의 사람에 대한 정보(profile)\")\n",
    "\n",
    "parser = PydanticOutputParser(pydantic_object=Person)\n",
    "print(parser.get_format_instructions())         \n",
    "# JsonoutputParser와 동일한 guide. JSON 으로 응답 -> Pydantic Model 객체로 변환.\n",
    "\n",
    "prompt_template = PromptTemplate(\n",
    "    template=\"{name}에 대해서 설명해주세요. \\n{format_instruction}\",\n",
    "    partial_variables={\"format_instruction\": parser.get_format_instructions()}\n",
    ")\n",
    "\n",
    "prompt = prompt_template.invoke({\"name\":\"유관순\"})\n",
    "res = model.invoke(prompt)"
   ]
  },
  {
   "cell_type": "code",
   "execution_count": 60,
   "metadata": {},
   "outputs": [
    {
     "name": "stdout",
     "output_type": "stream",
     "text": [
      "```json\n",
      "{\n",
      "  \"name\": \"유관순\",\n",
      "  \"yob\": 1920,\n",
      "  \"profile\": \"유관순은 대한민국의 독립운동가로, 1919년 3.1 운동에 참여하여 독립을 위해 싸운 인물입니다. 그녀는 특히 3.1 운동 당시의 만세 시위에서 주도적인 역할을 하였으며, 이후 일본 경찰에 체포되어 투옥되었습니다. 유관순은 독립운동의 상징적인 인물로, 그의 희생과 용기는 한국 역사에서 중요한 의미를 가지며, 현재도 많은 사람들에게 기억되고 있습니다.\"\n",
      "}\n",
      "```\n",
      "<class '__main__.Person'>\n",
      "name='유관순' yob=1920 profile='유관순은 대한민국의 독립운동가로, 1919년 3.1 운동에 참여하여 독립을 위해 싸운 인물입니다. 그녀는 특히 3.1 운동 당시의 만세 시위에서 주도적인 역할을 하였으며, 이후 일본 경찰에 체포되어 투옥되었습니다. 유관순은 독립운동의 상징적인 인물로, 그의 희생과 용기는 한국 역사에서 중요한 의미를 가지며, 현재도 많은 사람들에게 기억되고 있습니다.'\n"
     ]
    }
   ],
   "source": [
    "print(res.content)\n",
    "result = parser.invoke(res)\n",
    "print(type(result))\n",
    "print(result)"
   ]
  },
  {
   "cell_type": "markdown",
   "metadata": {},
   "source": [
    "## YamlOutputParser\n",
    "- YAML 형태로 받은 응답을 pydantic Model 객체로 반환한다."
   ]
  },
  {
   "cell_type": "code",
   "execution_count": 65,
   "metadata": {},
   "outputs": [
    {
     "name": "stdout",
     "output_type": "stream",
     "text": [
      "The output should be formatted as a YAML instance that conforms to the given JSON schema below.\n",
      "\n",
      "# Examples\n",
      "## Schema\n",
      "```\n",
      "{\"title\": \"Players\", \"description\": \"A list of players\", \"type\": \"array\", \"items\": {\"$ref\": \"#/definitions/Player\"}, \"definitions\": {\"Player\": {\"title\": \"Player\", \"type\": \"object\", \"properties\": {\"name\": {\"title\": \"Name\", \"description\": \"Player name\", \"type\": \"string\"}, \"avg\": {\"title\": \"Avg\", \"description\": \"Batting average\", \"type\": \"number\"}}, \"required\": [\"name\", \"avg\"]}}}\n",
      "```\n",
      "## Well formatted instance\n",
      "```\n",
      "- name: John Doe\n",
      "  avg: 0.3\n",
      "- name: Jane Maxfield\n",
      "  avg: 1.4\n",
      "```\n",
      "\n",
      "## Schema\n",
      "```\n",
      "{\"properties\": {\"habit\": { \"description\": \"A common daily habit\", \"type\": \"string\" }, \"sustainable_alternative\": { \"description\": \"An environmentally friendly alternative to the habit\", \"type\": \"string\"}}, \"required\": [\"habit\", \"sustainable_alternative\"]}\n",
      "```\n",
      "## Well formatted instance\n",
      "```\n",
      "habit: Using disposable water bottles for daily hydration.\n",
      "sustainable_alternative: Switch to a reusable water bottle to reduce plastic waste and decrease your environmental footprint.\n",
      "``` \n",
      "\n",
      "Please follow the standard YAML formatting conventions with an indent of 2 spaces and make sure that the data types adhere strictly to the following JSON schema: \n",
      "```\n",
      "{\"properties\": {\"name\": {\"description\": \"\\uc0ac\\ub78c\\uc758 \\uc774\\ub984\", \"title\": \"Name\", \"type\": \"string\"}, \"yod\": {\"description\": \"name\\uc758 \\uc0ac\\ub78c\\uc774 \\uc0ac\\ub9dd\\ud55c \\ub144\\ub3c4\", \"title\": \"Yod\", \"type\": \"integer\"}, \"profile\": {\"description\": \"name\\uc758 \\uc0ac\\ub78c\\uc5d0 \\ub300\\ud55c \\uc815\\ubcf4(profile)\", \"title\": \"Profile\", \"type\": \"string\"}}, \"required\": [\"name\", \"yod\", \"profile\"]}\n",
      "```\n",
      "\n",
      "Make sure to always enclose the YAML output in triple backticks (```). Please do not add anything other than valid YAML output!\n"
     ]
    }
   ],
   "source": [
    "from langchain.output_parsers import YamlOutputParser\n",
    "\n",
    "\n",
    "# pydantic으로 JSON schema 를 정의\n",
    "class Person(BaseModel):\n",
    "    name: str = Field(description=\"사람의 이름\")\n",
    "    yod: int = Field(description=\"name의 사람이 태어난 년도\")\n",
    "    yod: int = Field(description=\"name의 사람이 사망한 년도\")\n",
    "    profile: str = Field(description=\"name의 사람에 대한 정보(profile)\")\n",
    "\n",
    "parser = YamlOutputParser(pydantic_object=Person)\n",
    "print(parser.get_format_instructions())         \n",
    "# JsonoutputParser와 동일한 guide. JSON 으로 응답 -> Pydantic Model 객체로 변환.\n",
    "\n",
    "prompt_template = PromptTemplate(\n",
    "    template=\"{name}에 대해서 설명해주세요. \\n{format_instruction}\",\n",
    "    partial_variables={\"format_instruction\": parser.get_format_instructions()}\n",
    ")\n",
    "\n",
    "prompt = prompt_template.invoke({\"name\":\"이순신\"})\n",
    "res = model.invoke(prompt)"
   ]
  },
  {
   "cell_type": "code",
   "execution_count": 66,
   "metadata": {},
   "outputs": [
    {
     "name": "stdout",
     "output_type": "stream",
     "text": [
      "```\n",
      "name: 이순신\n",
      "yod: 1545\n",
      "profile: 조선 중기의 무신이자 뛰어난 해군 전략가로, 임진왜란 동안 일본과의 전투에서 수많은 승리를 이끌어냈습니다.\n",
      "```\n"
     ]
    }
   ],
   "source": [
    "print(res.content)"
   ]
  },
  {
   "cell_type": "code",
   "execution_count": 67,
   "metadata": {},
   "outputs": [
    {
     "name": "stdout",
     "output_type": "stream",
     "text": [
      "<class '__main__.Person'>\n"
     ]
    },
    {
     "data": {
      "text/plain": [
       "Person(name='이순신', yod=1545, profile='조선 중기의 무신이자 뛰어난 해군 전략가로, 임진왜란 동안 일본과의 전투에서 수많은 승리를 이끌어냈습니다.')"
      ]
     },
     "execution_count": 67,
     "metadata": {},
     "output_type": "execute_result"
    }
   ],
   "source": [
    "result = parser.invoke(res)\n",
    "\n",
    "print(type(result))\n",
    "result\n",
    "# pydantic Model 객체로 반환됨"
   ]
  },
  {
   "cell_type": "code",
   "execution_count": 68,
   "metadata": {},
   "outputs": [
    {
     "data": {
      "text/plain": [
       "('이순신', 1545)"
      ]
     },
     "execution_count": 68,
     "metadata": {},
     "output_type": "execute_result"
    }
   ],
   "source": [
    "result.name, result.yod "
   ]
  },
  {
   "cell_type": "code",
   "execution_count": null,
   "metadata": {},
   "outputs": [],
   "source": []
  }
 ],
 "metadata": {
  "kernelspec": {
   "display_name": "langchain",
   "language": "python",
   "name": "python3"
  },
  "language_info": {
   "codemirror_mode": {
    "name": "ipython",
    "version": 3
   },
   "file_extension": ".py",
   "mimetype": "text/x-python",
   "name": "python",
   "nbconvert_exporter": "python",
   "pygments_lexer": "ipython3",
   "version": "3.12.7"
  }
 },
 "nbformat": 4,
 "nbformat_minor": 4
}
